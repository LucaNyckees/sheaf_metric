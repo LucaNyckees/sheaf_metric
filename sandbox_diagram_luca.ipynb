{
 "cells": [
  {
   "cell_type": "code",
   "execution_count": null,
   "metadata": {},
   "outputs": [],
   "source": [
    "import gudhi\n",
    "import pickle\n",
    "import numpy as np\n",
    "import gudhi as gd\n",
    "from LISM_simplicial import *\n"
   ]
  },
  {
   "cell_type": "markdown",
   "metadata": {},
   "source": [
    "## Load data"
   ]
  },
  {
   "cell_type": "code",
   "execution_count": null,
   "metadata": {},
   "outputs": [],
   "source": [
    "with open('activation_data_mnist/simplexTree.pickle', 'rb') as handle:\n",
    "    simplex_list = pickle.load(handle)\n",
    "\n",
    "ST = gd.SimplexTree()\n",
    "initial_value = -1e10\n",
    "\n",
    "for simplex in simplex_list:\n",
    "    ST.insert(simplex, initial_value)\n"
   ]
  },
  {
   "cell_type": "markdown",
   "metadata": {},
   "source": [
    "convention label : 0 normal, 1 fgsm, 2 fgsm noise, 3 cw, 4 cw noise"
   ]
  },
  {
   "cell_type": "code",
   "execution_count": null,
   "metadata": {},
   "outputs": [],
   "source": [
    "fgsm = np.load('activation_data_mnist/fgsm.npy')\n",
    "fgsm_noise = np.load('activation_data_mnist/fgsm_noise.npy')\n",
    "normal = np.load('activation_data_mnist/normal.npy')\n",
    "cw = np.load('activation_data_mnist/cw.npy')\n",
    "cw_noise = np.load('activation_data_mnist/cw_noise.npy')"
   ]
  },
  {
   "cell_type": "markdown",
   "metadata": {},
   "source": [
    "## Compute distance matrix with possible data leakage"
   ]
  },
  {
   "cell_type": "code",
   "execution_count": null,
   "metadata": {},
   "outputs": [],
   "source": [
    "n_inputs = 20\n",
    "features = [0,1]\n",
    "data = np.zeros((n_inputs * 5, 260, 2))\n",
    "labels = []\n",
    "for i in range(5):\n",
    "    labels += [i]*n_inputs\n"
   ]
  },
  {
   "cell_type": "code",
   "execution_count": null,
   "metadata": {},
   "outputs": [],
   "source": [
    "data[0:n_inputs, : ,: ] = fgsm[0:n_inputs, : , features ]\n",
    "data[n_inputs:2*n_inputs, : ,: ] = fgsm_noise[0:n_inputs, : , features ]\n",
    "data[2*n_inputs:3*n_inputs, : ,: ] = normal[0:n_inputs, : , features ]\n",
    "data[3*n_inputs:4*n_inputs, : ,: ] = cw[0:n_inputs, : , features ]\n",
    "data[4*n_inputs:5*n_inputs, : ,: ] = cw_noise[0:n_inputs, : , features ]\n"
   ]
  },
  {
   "cell_type": "code",
   "execution_count": null,
   "metadata": {},
   "outputs": [],
   "source": [
    "data.shape"
   ]
  },
  {
   "cell_type": "code",
   "execution_count": null,
   "metadata": {},
   "outputs": [],
   "source": [
    "distance_matrix = adversarial_pipeline(simplex_list, data)"
   ]
  },
  {
   "cell_type": "code",
   "execution_count": null,
   "metadata": {},
   "outputs": [],
   "source": []
  },
  {
   "cell_type": "code",
   "execution_count": null,
   "metadata": {},
   "outputs": [],
   "source": []
  }
 ],
 "metadata": {
  "interpreter": {
   "hash": "31f2aee4e71d21fbe5cf8b01ff0e069b9275f58929596ceb00d14d90e3e16cd6"
  },
  "kernelspec": {
   "display_name": "Python 3.9.2 64-bit",
   "language": "python",
   "name": "python3"
  },
  "language_info": {
   "codemirror_mode": {
    "name": "ipython",
    "version": 3
   },
   "file_extension": ".py",
   "mimetype": "text/x-python",
   "name": "python",
   "nbconvert_exporter": "python",
   "pygments_lexer": "ipython3",
   "version": "3.9.2"
  },
  "orig_nbformat": 4
 },
 "nbformat": 4,
 "nbformat_minor": 2
}
