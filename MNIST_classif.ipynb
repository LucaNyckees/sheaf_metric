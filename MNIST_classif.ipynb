{
 "cells": [
  {
   "cell_type": "markdown",
   "metadata": {},
   "source": [
    "# Linear Integral Sheaf Metric for MNIST classification\n",
    "\n",
    "In this notebook, we implement the RG(B) image analysis experiment, where we classify images by feeding a $k$-NN clustering algorithm with an input distance matrix that results from computing pairwise linear integral sheaf distances between image filtrations, as well as linear integral sheaf amplitudes of image filtrations."
   ]
  },
  {
   "cell_type": "code",
   "execution_count": 7,
   "metadata": {},
   "outputs": [],
   "source": [
    "%matplotlib notebook\n",
    "%load_ext autoreload\n",
    "%autoreload 2"
   ]
  },
  {
   "cell_type": "code",
   "execution_count": 8,
   "metadata": {},
   "outputs": [],
   "source": [
    "import numpy                 as np\n",
    "from gtda.images import RadialFiltration\n",
    "from gtda.images import HeightFiltration\n",
    "\n",
    "from difftda                              import *\n",
    "from gudhi.wasserstein                    import wasserstein_distance\n",
    "from sklearn.cluster                      import KMeans\n",
    "from tqdm import tqdm\n",
    "import numpy as np\n",
    "from keras.datasets import mnist\n",
    "import plotly.express as px\n",
    "import plotly.graph_objects as go\n",
    "from plotly.subplots import make_subplots"
   ]
  },
  {
   "cell_type": "code",
   "execution_count": 9,
   "metadata": {},
   "outputs": [],
   "source": [
    "from helpers import *\n",
    "from LISM import pipeline"
   ]
  },
  {
   "cell_type": "markdown",
   "metadata": {},
   "source": [
    "## Loading the data"
   ]
  },
  {
   "cell_type": "markdown",
   "metadata": {},
   "source": [
    "First, we load the data - these are hand-written $28\\times 28$ digits of zeros and fours."
   ]
  },
  {
   "cell_type": "code",
   "execution_count": 72,
   "metadata": {},
   "outputs": [],
   "source": [
    "# loading the data\n",
    "(train_X, train_y), (test_X, test_y) = mnist.load_data()\n",
    "\n",
    "# we look at digits '0' and '8' only\n",
    "train_filter = np.where((train_y == 6) | (train_y == 9))\n",
    "test_filter = np.where((test_y == 0) | (test_y == 8))\n",
    "train_X, train_y = train_X[train_filter]/255, train_y[train_filter]\n",
    "test_X, test_y = test_X[test_filter]/255, test_y[test_filter]\n",
    "\n",
    "# parameters\n",
    "N = 50\n",
    "\n",
    "# pick the first N images\n",
    "images = train_X[:N]\n",
    "labels = train_y[:N]"
   ]
  },
  {
   "cell_type": "markdown",
   "metadata": {},
   "source": [
    "In a topological data analysis pipeline for MNIST data, it is common to binarize an image $I$ and assign a filtration $I_\\mathrm{filt}$ to the binarized version $I_\\mathrm{bin}$. There are various types of filtrations, each one bringing new information. We will look at *radial* and the *height* filtrations. To a given filtration $I_\\mathrm{filt}$, one can associate a Wasserstein amplitude $A_W(I_\\mathrm{filt})$. "
   ]
  },
  {
   "cell_type": "markdown",
   "metadata": {},
   "source": [
    "## Optimization visual summary \n",
    "\n",
    "We visualize the optimization process for the computation of a single LISM."
   ]
  },
  {
   "cell_type": "code",
   "execution_count": 442,
   "metadata": {},
   "outputs": [],
   "source": [
    "filtrations = [RadialFiltration(center=np.array([13,0])),\n",
    "               HeightFiltration(direction=np.array([0,1])),\n",
    "               HeightFiltration(direction=np.array([1,0]))]"
   ]
  },
  {
   "cell_type": "code",
   "execution_count": 443,
   "metadata": {},
   "outputs": [],
   "source": [
    "I = multifiltration(images[0],filtrations)\n",
    "J = multifiltration(images[1],filtrations)"
   ]
  },
  {
   "cell_type": "code",
   "execution_count": 444,
   "metadata": {},
   "outputs": [
    {
     "name": "stderr",
     "output_type": "stream",
     "text": [
      " 12%|█▏        | 6/51 [00:14<01:46,  2.36s/it]\n"
     ]
    }
   ],
   "source": [
    "data = np.array([I, J])\n",
    "\n",
    "meta_data = [data]\n",
    "\n",
    "pipe = pipeline(1, meta_data, 392, dims=[1])\n",
    "\n",
    "opt = pipe.single_distance(1)"
   ]
  },
  {
   "cell_type": "code",
   "execution_count": 357,
   "metadata": {},
   "outputs": [],
   "source": [
    "#plot_optim_filtration(opt, I, J)"
   ]
  },
  {
   "cell_type": "code",
   "execution_count": 445,
   "metadata": {},
   "outputs": [
    {
     "data": {
      "application/vnd.plotly.v1+json": {
       "config": {
        "plotlyServerURL": "https://plot.ly"
       },
       "data": [
        {
         "marker": {
          "color": "skyblue"
         },
         "mode": "lines",
         "name": "loss",
         "type": "scatter",
         "x": [
          0,
          1,
          2,
          3,
          4,
          5,
          6
         ],
         "xaxis": "x",
         "y": [
          -0.48756837844848633,
          -0.5145288705825806,
          -0.5256050825119019,
          -0.5437161326408386,
          -0.5503071546554565,
          -0.5514674782752991,
          -0.5355551838874817
         ],
         "yaxis": "y"
        },
        {
         "marker": {
          "color": "rgb(160, 32, 255)"
         },
         "mode": "lines",
         "name": "amplitude",
         "type": "scatter",
         "x": [
          0,
          1,
          2,
          3,
          4,
          5,
          6
         ],
         "xaxis": "x",
         "y": [
          0.48756837844848633,
          0.5300126075744629,
          0.5400254726409912,
          0.5594662427902222,
          0.5663992762565613,
          0.5673226118087769,
          0.5355551838874817
         ],
         "yaxis": "y"
        },
        {
         "marker": {
          "color": "blue",
          "size": 1
         },
         "mode": "markers",
         "scene": "scene",
         "showlegend": false,
         "type": "scatter3d",
         "x": [
          1
         ],
         "y": [
          0
         ],
         "z": [
          0
         ]
        },
        {
         "marker": {
          "color": "blue",
          "size": 1
         },
         "mode": "markers",
         "scene": "scene",
         "showlegend": false,
         "type": "scatter3d",
         "x": [
          1
         ],
         "y": [
          0
         ],
         "z": [
          0
         ]
        },
        {
         "marker": {
          "color": "blue",
          "size": 1
         },
         "mode": "markers",
         "scene": "scene",
         "showlegend": false,
         "type": "scatter3d",
         "x": [
          1
         ],
         "y": [
          0
         ],
         "z": [
          0
         ]
        },
        {
         "marker": {
          "color": "blue",
          "size": 1
         },
         "mode": "markers",
         "scene": "scene",
         "showlegend": false,
         "type": "scatter3d",
         "x": [
          1
         ],
         "y": [
          0
         ],
         "z": [
          0
         ]
        },
        {
         "marker": {
          "color": "blue",
          "size": 1
         },
         "mode": "markers",
         "scene": "scene",
         "showlegend": false,
         "type": "scatter3d",
         "x": [
          1
         ],
         "y": [
          0
         ],
         "z": [
          0
         ]
        },
        {
         "marker": {
          "color": "blue",
          "size": 1
         },
         "mode": "markers",
         "scene": "scene",
         "showlegend": false,
         "type": "scatter3d",
         "x": [
          1
         ],
         "y": [
          0
         ],
         "z": [
          0
         ]
        },
        {
         "marker": {
          "color": "blue",
          "size": 1
         },
         "mode": "markers",
         "scene": "scene",
         "showlegend": false,
         "type": "scatter3d",
         "x": [
          1
         ],
         "y": [
          0
         ],
         "z": [
          0
         ]
        },
        {
         "marker": {
          "color": "blue",
          "size": 1
         },
         "mode": "markers",
         "scene": "scene",
         "showlegend": false,
         "type": "scatter3d",
         "x": [
          1
         ],
         "y": [
          0
         ],
         "z": [
          0
         ]
        },
        {
         "marker": {
          "color": "blue",
          "size": 1
         },
         "mode": "markers",
         "scene": "scene",
         "showlegend": false,
         "type": "scatter3d",
         "x": [
          1
         ],
         "y": [
          0
         ],
         "z": [
          0
         ]
        },
        {
         "marker": {
          "color": "blue",
          "size": 1
         },
         "mode": "markers",
         "scene": "scene",
         "showlegend": false,
         "type": "scatter3d",
         "x": [
          1
         ],
         "y": [
          0
         ],
         "z": [
          0
         ]
        },
        {
         "marker": {
          "color": "blue",
          "size": 1
         },
         "mode": "markers",
         "scene": "scene",
         "showlegend": false,
         "type": "scatter3d",
         "x": [
          1
         ],
         "y": [
          0
         ],
         "z": [
          0
         ]
        },
        {
         "marker": {
          "color": "blue",
          "size": 1
         },
         "mode": "markers",
         "scene": "scene",
         "showlegend": false,
         "type": "scatter3d",
         "x": [
          1
         ],
         "y": [
          0
         ],
         "z": [
          0
         ]
        },
        {
         "marker": {
          "color": "blue",
          "size": 1
         },
         "mode": "markers",
         "scene": "scene",
         "showlegend": false,
         "type": "scatter3d",
         "x": [
          1
         ],
         "y": [
          0
         ],
         "z": [
          0
         ]
        },
        {
         "marker": {
          "color": "blue",
          "size": 1
         },
         "mode": "markers",
         "scene": "scene",
         "showlegend": false,
         "type": "scatter3d",
         "x": [
          1
         ],
         "y": [
          0
         ],
         "z": [
          0
         ]
        },
        {
         "marker": {
          "color": "blue",
          "size": 1
         },
         "mode": "markers",
         "scene": "scene",
         "showlegend": false,
         "type": "scatter3d",
         "x": [
          1
         ],
         "y": [
          0
         ],
         "z": [
          0
         ]
        },
        {
         "marker": {
          "color": "blue",
          "size": 1
         },
         "mode": "markers",
         "scene": "scene",
         "showlegend": false,
         "type": "scatter3d",
         "x": [
          1
         ],
         "y": [
          0
         ],
         "z": [
          0
         ]
        },
        {
         "marker": {
          "color": "blue",
          "size": 1
         },
         "mode": "markers",
         "scene": "scene",
         "showlegend": false,
         "type": "scatter3d",
         "x": [
          0.995004
         ],
         "y": [
          0.099833
         ],
         "z": [
          0
         ]
        },
        {
         "marker": {
          "color": "blue",
          "size": 1
         },
         "mode": "markers",
         "scene": "scene",
         "showlegend": false,
         "type": "scatter3d",
         "x": [
          0.995004
         ],
         "y": [
          0.099335
         ],
         "z": [
          0.009967
         ]
        },
        {
         "marker": {
          "color": "blue",
          "size": 1
         },
         "mode": "markers",
         "scene": "scene",
         "showlegend": false,
         "type": "scatter3d",
         "x": [
          0.995004
         ],
         "y": [
          0.097843
         ],
         "z": [
          0.019834
         ]
        },
        {
         "marker": {
          "color": "blue",
          "size": 1
         },
         "mode": "markers",
         "scene": "scene",
         "showlegend": false,
         "type": "scatter3d",
         "x": [
          0.995004
         ],
         "y": [
          0.095375
         ],
         "z": [
          0.029503
         ]
        },
        {
         "marker": {
          "color": "blue",
          "size": 1
         },
         "mode": "markers",
         "scene": "scene",
         "showlegend": false,
         "type": "scatter3d",
         "x": [
          0.995004
         ],
         "y": [
          0.091953
         ],
         "z": [
          0.038877
         ]
        },
        {
         "marker": {
          "color": "blue",
          "size": 1
         },
         "mode": "markers",
         "scene": "scene",
         "showlegend": false,
         "type": "scatter3d",
         "x": [
          0.995004
         ],
         "y": [
          0.087612
         ],
         "z": [
          0.047863
         ]
        },
        {
         "marker": {
          "color": "blue",
          "size": 1
         },
         "mode": "markers",
         "scene": "scene",
         "showlegend": false,
         "type": "scatter3d",
         "x": [
          0.995004
         ],
         "y": [
          0.082396
         ],
         "z": [
          0.05637
         ]
        },
        {
         "marker": {
          "color": "blue",
          "size": 1
         },
         "mode": "markers",
         "scene": "scene",
         "showlegend": false,
         "type": "scatter3d",
         "x": [
          0.995004
         ],
         "y": [
          0.076357
         ],
         "z": [
          0.064314
         ]
        },
        {
         "marker": {
          "color": "blue",
          "size": 1
         },
         "mode": "markers",
         "scene": "scene",
         "showlegend": false,
         "type": "scatter3d",
         "x": [
          0.995004
         ],
         "y": [
          0.069555
         ],
         "z": [
          0.071616
         ]
        },
        {
         "marker": {
          "color": "blue",
          "size": 1
         },
         "mode": "markers",
         "scene": "scene",
         "showlegend": false,
         "type": "scatter3d",
         "x": [
          0.995004
         ],
         "y": [
          0.062057
         ],
         "z": [
          0.078202
         ]
        },
        {
         "marker": {
          "color": "blue",
          "size": 1
         },
         "mode": "markers",
         "scene": "scene",
         "showlegend": false,
         "type": "scatter3d",
         "x": [
          0.995004
         ],
         "y": [
          0.05394
         ],
         "z": [
          0.084007
         ]
        },
        {
         "marker": {
          "color": "blue",
          "size": 1
         },
         "mode": "markers",
         "scene": "scene",
         "showlegend": false,
         "type": "scatter3d",
         "x": [
          0.995004
         ],
         "y": [
          0.045284
         ],
         "z": [
          0.088972
         ]
        },
        {
         "marker": {
          "color": "blue",
          "size": 1
         },
         "mode": "markers",
         "scene": "scene",
         "showlegend": false,
         "type": "scatter3d",
         "x": [
          0.995004
         ],
         "y": [
          0.036175
         ],
         "z": [
          0.093049
         ]
        },
        {
         "marker": {
          "color": "blue",
          "size": 1
         },
         "mode": "markers",
         "scene": "scene",
         "showlegend": false,
         "type": "scatter3d",
         "x": [
          0.995004
         ],
         "y": [
          0.026705
         ],
         "z": [
          0.096195
         ]
        },
        {
         "marker": {
          "color": "blue",
          "size": 1
         },
         "mode": "markers",
         "scene": "scene",
         "showlegend": false,
         "type": "scatter3d",
         "x": [
          0.995004
         ],
         "y": [
          0.016968
         ],
         "z": [
          0.098381
         ]
        },
        {
         "marker": {
          "color": "blue",
          "size": 1
         },
         "mode": "markers",
         "scene": "scene",
         "showlegend": false,
         "type": "scatter3d",
         "x": [
          0.995004
         ],
         "y": [
          0.007062
         ],
         "z": [
          0.099583
         ]
        },
        {
         "marker": {
          "color": "blue",
          "size": 1
         },
         "mode": "markers",
         "scene": "scene",
         "showlegend": false,
         "type": "scatter3d",
         "x": [
          0.980067
         ],
         "y": [
          0.198669
         ],
         "z": [
          0
         ]
        },
        {
         "marker": {
          "color": "blue",
          "size": 1
         },
         "mode": "markers",
         "scene": "scene",
         "showlegend": false,
         "type": "scatter3d",
         "x": [
          0.980067
         ],
         "y": [
          0.197677
         ],
         "z": [
          0.019834
         ]
        },
        {
         "marker": {
          "color": "blue",
          "size": 1
         },
         "mode": "markers",
         "scene": "scene",
         "showlegend": false,
         "type": "scatter3d",
         "x": [
          0.980067
         ],
         "y": [
          0.194709
         ],
         "z": [
          0.03947
         ]
        },
        {
         "marker": {
          "color": "blue",
          "size": 1
         },
         "mode": "markers",
         "scene": "scene",
         "showlegend": false,
         "type": "scatter3d",
         "x": [
          0.980067
         ],
         "y": [
          0.189796
         ],
         "z": [
          0.058711
         ]
        },
        {
         "marker": {
          "color": "blue",
          "size": 1
         },
         "mode": "markers",
         "scene": "scene",
         "showlegend": false,
         "type": "scatter3d",
         "x": [
          0.980067
         ],
         "y": [
          0.182987
         ],
         "z": [
          0.077365
         ]
        },
        {
         "marker": {
          "color": "blue",
          "size": 1
         },
         "mode": "markers",
         "scene": "scene",
         "showlegend": false,
         "type": "scatter3d",
         "x": [
          0.980067
         ],
         "y": [
          0.174349
         ],
         "z": [
          0.095247
         ]
        },
        {
         "marker": {
          "color": "blue",
          "size": 1
         },
         "mode": "markers",
         "scene": "scene",
         "showlegend": false,
         "type": "scatter3d",
         "x": [
          0.980067
         ],
         "y": [
          0.163969
         ],
         "z": [
          0.112177
         ]
        },
        {
         "marker": {
          "color": "blue",
          "size": 1
         },
         "mode": "markers",
         "scene": "scene",
         "showlegend": false,
         "type": "scatter3d",
         "x": [
          0.980067
         ],
         "y": [
          0.151951
         ],
         "z": [
          0.127986
         ]
        },
        {
         "marker": {
          "color": "blue",
          "size": 1
         },
         "mode": "markers",
         "scene": "scene",
         "showlegend": false,
         "type": "scatter3d",
         "x": [
          0.980067
         ],
         "y": [
          0.138414
         ],
         "z": [
          0.142517
         ]
        },
        {
         "marker": {
          "color": "blue",
          "size": 1
         },
         "mode": "markers",
         "scene": "scene",
         "showlegend": false,
         "type": "scatter3d",
         "x": [
          0.980067
         ],
         "y": [
          0.123495
         ],
         "z": [
          0.155623
         ]
        },
        {
         "marker": {
          "color": "blue",
          "size": 1
         },
         "mode": "markers",
         "scene": "scene",
         "showlegend": false,
         "type": "scatter3d",
         "x": [
          0.980067
         ],
         "y": [
          0.107341
         ],
         "z": [
          0.167174
         ]
        },
        {
         "marker": {
          "color": "blue",
          "size": 1
         },
         "mode": "markers",
         "scene": "scene",
         "showlegend": false,
         "type": "scatter3d",
         "x": [
          0.980067
         ],
         "y": [
          0.090116
         ],
         "z": [
          0.177056
         ]
        },
        {
         "marker": {
          "color": "blue",
          "size": 1
         },
         "mode": "markers",
         "scene": "scene",
         "showlegend": false,
         "type": "scatter3d",
         "x": [
          0.980067
         ],
         "y": [
          0.071989
         ],
         "z": [
          0.185168
         ]
        },
        {
         "marker": {
          "color": "blue",
          "size": 1
         },
         "mode": "markers",
         "scene": "scene",
         "showlegend": false,
         "type": "scatter3d",
         "x": [
          0.980067
         ],
         "y": [
          0.053144
         ],
         "z": [
          0.191429
         ]
        },
        {
         "marker": {
          "color": "blue",
          "size": 1
         },
         "mode": "markers",
         "scene": "scene",
         "showlegend": false,
         "type": "scatter3d",
         "x": [
          0.980067
         ],
         "y": [
          0.033767
         ],
         "z": [
          0.195779
         ]
        },
        {
         "marker": {
          "color": "blue",
          "size": 1
         },
         "mode": "markers",
         "scene": "scene",
         "showlegend": false,
         "type": "scatter3d",
         "x": [
          0.980067
         ],
         "y": [
          0.014053
         ],
         "z": [
          0.198172
         ]
        },
        {
         "marker": {
          "color": "blue",
          "size": 1
         },
         "mode": "markers",
         "scene": "scene",
         "showlegend": false,
         "type": "scatter3d",
         "x": [
          0.955336
         ],
         "y": [
          0.29552
         ],
         "z": [
          0
         ]
        },
        {
         "marker": {
          "color": "blue",
          "size": 1
         },
         "mode": "markers",
         "scene": "scene",
         "showlegend": false,
         "type": "scatter3d",
         "x": [
          0.955336
         ],
         "y": [
          0.294044
         ],
         "z": [
          0.029503
         ]
        },
        {
         "marker": {
          "color": "blue",
          "size": 1
         },
         "mode": "markers",
         "scene": "scene",
         "showlegend": false,
         "type": "scatter3d",
         "x": [
          0.955336
         ],
         "y": [
          0.289629
         ],
         "z": [
          0.058711
         ]
        },
        {
         "marker": {
          "color": "blue",
          "size": 1
         },
         "mode": "markers",
         "scene": "scene",
         "showlegend": false,
         "type": "scatter3d",
         "x": [
          0.955336
         ],
         "y": [
          0.282321
         ],
         "z": [
          0.087332
         ]
        },
        {
         "marker": {
          "color": "blue",
          "size": 1
         },
         "mode": "markers",
         "scene": "scene",
         "showlegend": false,
         "type": "scatter3d",
         "x": [
          0.955336
         ],
         "y": [
          0.272192
         ],
         "z": [
          0.115081
         ]
        },
        {
         "marker": {
          "color": "blue",
          "size": 1
         },
         "mode": "markers",
         "scene": "scene",
         "showlegend": false,
         "type": "scatter3d",
         "x": [
          0.955336
         ],
         "y": [
          0.259343
         ],
         "z": [
          0.14168
         ]
        },
        {
         "marker": {
          "color": "blue",
          "size": 1
         },
         "mode": "markers",
         "scene": "scene",
         "showlegend": false,
         "type": "scatter3d",
         "x": [
          0.955336
         ],
         "y": [
          0.243903
         ],
         "z": [
          0.166863
         ]
        },
        {
         "marker": {
          "color": "blue",
          "size": 1
         },
         "mode": "markers",
         "scene": "scene",
         "showlegend": false,
         "type": "scatter3d",
         "x": [
          0.955336
         ],
         "y": [
          0.226026
         ],
         "z": [
          0.190379
         ]
        },
        {
         "marker": {
          "color": "blue",
          "size": 1
         },
         "mode": "markers",
         "scene": "scene",
         "showlegend": false,
         "type": "scatter3d",
         "x": [
          0.955336
         ],
         "y": [
          0.205891
         ],
         "z": [
          0.211993
         ]
        },
        {
         "marker": {
          "color": "blue",
          "size": 1
         },
         "mode": "markers",
         "scene": "scene",
         "showlegend": false,
         "type": "scatter3d",
         "x": [
          0.955336
         ],
         "y": [
          0.183698
         ],
         "z": [
          0.231489
         ]
        },
        {
         "marker": {
          "color": "blue",
          "size": 1
         },
         "mode": "markers",
         "scene": "scene",
         "showlegend": false,
         "type": "scatter3d",
         "x": [
          0.955336
         ],
         "y": [
          0.15967
         ],
         "z": [
          0.248672
         ]
        },
        {
         "marker": {
          "color": "blue",
          "size": 1
         },
         "mode": "markers",
         "scene": "scene",
         "showlegend": false,
         "type": "scatter3d",
         "x": [
          0.955336
         ],
         "y": [
          0.134047
         ],
         "z": [
          0.26337
         ]
        },
        {
         "marker": {
          "color": "blue",
          "size": 1
         },
         "mode": "markers",
         "scene": "scene",
         "showlegend": false,
         "type": "scatter3d",
         "x": [
          0.955336
         ],
         "y": [
          0.107084
         ],
         "z": [
          0.275436
         ]
        },
        {
         "marker": {
          "color": "blue",
          "size": 1
         },
         "mode": "markers",
         "scene": "scene",
         "showlegend": false,
         "type": "scatter3d",
         "x": [
          0.955336
         ],
         "y": [
          0.079051
         ],
         "z": [
          0.284751
         ]
        },
        {
         "marker": {
          "color": "blue",
          "size": 1
         },
         "mode": "markers",
         "scene": "scene",
         "showlegend": false,
         "type": "scatter3d",
         "x": [
          0.955336
         ],
         "y": [
          0.050229
         ],
         "z": [
          0.29122
         ]
        },
        {
         "marker": {
          "color": "blue",
          "size": 1
         },
         "mode": "markers",
         "scene": "scene",
         "showlegend": false,
         "type": "scatter3d",
         "x": [
          0.955336
         ],
         "y": [
          0.020904
         ],
         "z": [
          0.29478
         ]
        },
        {
         "marker": {
          "color": "blue",
          "size": 1
         },
         "mode": "markers",
         "scene": "scene",
         "showlegend": false,
         "type": "scatter3d",
         "x": [
          0.921061
         ],
         "y": [
          0.389418
         ],
         "z": [
          0
         ]
        },
        {
         "marker": {
          "color": "blue",
          "size": 1
         },
         "mode": "markers",
         "scene": "scene",
         "showlegend": false,
         "type": "scatter3d",
         "x": [
          0.921061
         ],
         "y": [
          0.387473
         ],
         "z": [
          0.038877
         ]
        },
        {
         "marker": {
          "color": "blue",
          "size": 1
         },
         "mode": "markers",
         "scene": "scene",
         "showlegend": false,
         "type": "scatter3d",
         "x": [
          0.921061
         ],
         "y": [
          0.381656
         ],
         "z": [
          0.077365
         ]
        },
        {
         "marker": {
          "color": "blue",
          "size": 1
         },
         "mode": "markers",
         "scene": "scene",
         "showlegend": false,
         "type": "scatter3d",
         "x": [
          0.921061
         ],
         "y": [
          0.372026
         ],
         "z": [
          0.115081
         ]
        },
        {
         "marker": {
          "color": "blue",
          "size": 1
         },
         "mode": "markers",
         "scene": "scene",
         "showlegend": false,
         "type": "scatter3d",
         "x": [
          0.921061
         ],
         "y": [
          0.358678
         ],
         "z": [
          0.151647
         ]
        },
        {
         "marker": {
          "color": "blue",
          "size": 1
         },
         "mode": "markers",
         "scene": "scene",
         "showlegend": false,
         "type": "scatter3d",
         "x": [
          0.921061
         ],
         "y": [
          0.341747
         ],
         "z": [
          0.186697
         ]
        },
        {
         "marker": {
          "color": "blue",
          "size": 1
         },
         "mode": "markers",
         "scene": "scene",
         "showlegend": false,
         "type": "scatter3d",
         "x": [
          0.921061
         ],
         "y": [
          0.321401
         ],
         "z": [
          0.219882
         ]
        },
        {
         "marker": {
          "color": "blue",
          "size": 1
         },
         "mode": "markers",
         "scene": "scene",
         "showlegend": false,
         "type": "scatter3d",
         "x": [
          0.921061
         ],
         "y": [
          0.297844
         ],
         "z": [
          0.25087
         ]
        },
        {
         "marker": {
          "color": "blue",
          "size": 1
         },
         "mode": "markers",
         "scene": "scene",
         "showlegend": false,
         "type": "scatter3d",
         "x": [
          0.921061
         ],
         "y": [
          0.27131
         ],
         "z": [
          0.279352
         ]
        },
        {
         "marker": {
          "color": "blue",
          "size": 1
         },
         "mode": "markers",
         "scene": "scene",
         "showlegend": false,
         "type": "scatter3d",
         "x": [
          0.921061
         ],
         "y": [
          0.242066
         ],
         "z": [
          0.305042
         ]
        },
        {
         "marker": {
          "color": "blue",
          "size": 1
         },
         "mode": "markers",
         "scene": "scene",
         "showlegend": false,
         "type": "scatter3d",
         "x": [
          0.921061
         ],
         "y": [
          0.210404
         ],
         "z": [
          0.327684
         ]
        },
        {
         "marker": {
          "color": "blue",
          "size": 1
         },
         "mode": "markers",
         "scene": "scene",
         "showlegend": false,
         "type": "scatter3d",
         "x": [
          0.921061
         ],
         "y": [
          0.176639
         ],
         "z": [
          0.347052
         ]
        },
        {
         "marker": {
          "color": "blue",
          "size": 1
         },
         "mode": "markers",
         "scene": "scene",
         "showlegend": false,
         "type": "scatter3d",
         "x": [
          0.921061
         ],
         "y": [
          0.141109
         ],
         "z": [
          0.362953
         ]
        },
        {
         "marker": {
          "color": "blue",
          "size": 1
         },
         "mode": "markers",
         "scene": "scene",
         "showlegend": false,
         "type": "scatter3d",
         "x": [
          0.921061
         ],
         "y": [
          0.104169
         ],
         "z": [
          0.375227
         ]
        },
        {
         "marker": {
          "color": "blue",
          "size": 1
         },
         "mode": "markers",
         "scene": "scene",
         "showlegend": false,
         "type": "scatter3d",
         "x": [
          0.921061
         ],
         "y": [
          0.066188
         ],
         "z": [
          0.383752
         ]
        },
        {
         "marker": {
          "color": "blue",
          "size": 1
         },
         "mode": "markers",
         "scene": "scene",
         "showlegend": false,
         "type": "scatter3d",
         "x": [
          0.921061
         ],
         "y": [
          0.027546
         ],
         "z": [
          0.388443
         ]
        },
        {
         "marker": {
          "color": "blue",
          "size": 1
         },
         "mode": "markers",
         "scene": "scene",
         "showlegend": false,
         "type": "scatter3d",
         "x": [
          0.877583
         ],
         "y": [
          0.479426
         ],
         "z": [
          0
         ]
        },
        {
         "marker": {
          "color": "blue",
          "size": 1
         },
         "mode": "markers",
         "scene": "scene",
         "showlegend": false,
         "type": "scatter3d",
         "x": [
          0.877583
         ],
         "y": [
          0.47703
         ],
         "z": [
          0.047863
         ]
        },
        {
         "marker": {
          "color": "blue",
          "size": 1
         },
         "mode": "markers",
         "scene": "scene",
         "showlegend": false,
         "type": "scatter3d",
         "x": [
          0.877583
         ],
         "y": [
          0.469869
         ],
         "z": [
          0.095247
         ]
        },
        {
         "marker": {
          "color": "blue",
          "size": 1
         },
         "mode": "markers",
         "scene": "scene",
         "showlegend": false,
         "type": "scatter3d",
         "x": [
          0.877583
         ],
         "y": [
          0.458013
         ],
         "z": [
          0.14168
         ]
        },
        {
         "marker": {
          "color": "blue",
          "size": 1
         },
         "mode": "markers",
         "scene": "scene",
         "showlegend": false,
         "type": "scatter3d",
         "x": [
          0.877583
         ],
         "y": [
          0.44158
         ],
         "z": [
          0.186697
         ]
        },
        {
         "marker": {
          "color": "blue",
          "size": 1
         },
         "mode": "markers",
         "scene": "scene",
         "showlegend": false,
         "type": "scatter3d",
         "x": [
          0.877583
         ],
         "y": [
          0.420735
         ],
         "z": [
          0.229849
         ]
        },
        {
         "marker": {
          "color": "blue",
          "size": 1
         },
         "mode": "markers",
         "scene": "scene",
         "showlegend": false,
         "type": "scatter3d",
         "x": [
          0.877583
         ],
         "y": [
          0.395687
         ],
         "z": [
          0.270704
         ]
        },
        {
         "marker": {
          "color": "blue",
          "size": 1
         },
         "mode": "markers",
         "scene": "scene",
         "showlegend": false,
         "type": "scatter3d",
         "x": [
          0.877583
         ],
         "y": [
          0.366685
         ],
         "z": [
          0.308854
         ]
        },
        {
         "marker": {
          "color": "blue",
          "size": 1
         },
         "mode": "markers",
         "scene": "scene",
         "showlegend": false,
         "type": "scatter3d",
         "x": [
          0.877583
         ],
         "y": [
          0.334019
         ],
         "z": [
          0.343919
         ]
        },
        {
         "marker": {
          "color": "blue",
          "size": 1
         },
         "mode": "markers",
         "scene": "scene",
         "showlegend": false,
         "type": "scatter3d",
         "x": [
          0.877583
         ],
         "y": [
          0.298016
         ],
         "z": [
          0.375547
         ]
        },
        {
         "marker": {
          "color": "blue",
          "size": 1
         },
         "mode": "markers",
         "scene": "scene",
         "showlegend": false,
         "type": "scatter3d",
         "x": [
          0.877583
         ],
         "y": [
          0.259035
         ],
         "z": [
          0.403423
         ]
        },
        {
         "marker": {
          "color": "blue",
          "size": 1
         },
         "mode": "markers",
         "scene": "scene",
         "showlegend": false,
         "type": "scatter3d",
         "x": [
          0.877583
         ],
         "y": [
          0.217466
         ],
         "z": [
          0.427268
         ]
        },
        {
         "marker": {
          "color": "blue",
          "size": 1
         },
         "mode": "markers",
         "scene": "scene",
         "showlegend": false,
         "type": "scatter3d",
         "x": [
          0.877583
         ],
         "y": [
          0.173724
         ],
         "z": [
          0.446843
         ]
        },
        {
         "marker": {
          "color": "blue",
          "size": 1
         },
         "mode": "markers",
         "scene": "scene",
         "showlegend": false,
         "type": "scatter3d",
         "x": [
          0.877583
         ],
         "y": [
          0.128246
         ],
         "z": [
          0.461954
         ]
        },
        {
         "marker": {
          "color": "blue",
          "size": 1
         },
         "mode": "markers",
         "scene": "scene",
         "showlegend": false,
         "type": "scatter3d",
         "x": [
          0.877583
         ],
         "y": [
          0.081487
         ],
         "z": [
          0.47245
         ]
        },
        {
         "marker": {
          "color": "blue",
          "size": 1
         },
         "mode": "markers",
         "scene": "scene",
         "showlegend": false,
         "type": "scatter3d",
         "x": [
          0.877583
         ],
         "y": [
          0.033913
         ],
         "z": [
          0.478225
         ]
        },
        {
         "marker": {
          "color": "blue",
          "size": 1
         },
         "mode": "markers",
         "scene": "scene",
         "showlegend": false,
         "type": "scatter3d",
         "x": [
          0.825336
         ],
         "y": [
          0.564642
         ],
         "z": [
          0
         ]
        },
        {
         "marker": {
          "color": "blue",
          "size": 1
         },
         "mode": "markers",
         "scene": "scene",
         "showlegend": false,
         "type": "scatter3d",
         "x": [
          0.825336
         ],
         "y": [
          0.561822
         ],
         "z": [
          0.05637
         ]
        },
        {
         "marker": {
          "color": "blue",
          "size": 1
         },
         "mode": "markers",
         "scene": "scene",
         "showlegend": false,
         "type": "scatter3d",
         "x": [
          0.825336
         ],
         "y": [
          0.553387
         ],
         "z": [
          0.112177
         ]
        },
        {
         "marker": {
          "color": "blue",
          "size": 1
         },
         "mode": "markers",
         "scene": "scene",
         "showlegend": false,
         "type": "scatter3d",
         "x": [
          0.825336
         ],
         "y": [
          0.539424
         ],
         "z": [
          0.166863
         ]
        },
        {
         "marker": {
          "color": "blue",
          "size": 1
         },
         "mode": "markers",
         "scene": "scene",
         "showlegend": false,
         "type": "scatter3d",
         "x": [
          0.825336
         ],
         "y": [
          0.52007
         ],
         "z": [
          0.219882
         ]
        },
        {
         "marker": {
          "color": "blue",
          "size": 1
         },
         "mode": "markers",
         "scene": "scene",
         "showlegend": false,
         "type": "scatter3d",
         "x": [
          0.825336
         ],
         "y": [
          0.49552
         ],
         "z": [
          0.270704
         ]
        },
        {
         "marker": {
          "color": "blue",
          "size": 1
         },
         "mode": "markers",
         "scene": "scene",
         "showlegend": false,
         "type": "scatter3d",
         "x": [
          0.825336
         ],
         "y": [
          0.46602
         ],
         "z": [
          0.318821
         ]
        },
        {
         "marker": {
          "color": "blue",
          "size": 1
         },
         "mode": "markers",
         "scene": "scene",
         "showlegend": false,
         "type": "scatter3d",
         "x": [
          0.825336
         ],
         "y": [
          0.431862
         ],
         "z": [
          0.363753
         ]
        },
        {
         "marker": {
          "color": "blue",
          "size": 1
         },
         "mode": "markers",
         "scene": "scene",
         "showlegend": false,
         "type": "scatter3d",
         "x": [
          0.825336
         ],
         "y": [
          0.39339
         ],
         "z": [
          0.40505
         ]
        },
        {
         "marker": {
          "color": "blue",
          "size": 1
         },
         "mode": "markers",
         "scene": "scene",
         "showlegend": false,
         "type": "scatter3d",
         "x": [
          0.825336
         ],
         "y": [
          0.350987
         ],
         "z": [
          0.4423
         ]
        },
        {
         "marker": {
          "color": "blue",
          "size": 1
         },
         "mode": "markers",
         "scene": "scene",
         "showlegend": false,
         "type": "scatter3d",
         "x": [
          0.825336
         ],
         "y": [
          0.305078
         ],
         "z": [
          0.47513
         ]
        },
        {
         "marker": {
          "color": "blue",
          "size": 1
         },
         "mode": "markers",
         "scene": "scene",
         "showlegend": false,
         "type": "scatter3d",
         "x": [
          0.825336
         ],
         "y": [
          0.25612
         ],
         "z": [
          0.503214
         ]
        },
        {
         "marker": {
          "color": "blue",
          "size": 1
         },
         "mode": "markers",
         "scene": "scene",
         "showlegend": false,
         "type": "scatter3d",
         "x": [
          0.825336
         ],
         "y": [
          0.204603
         ],
         "z": [
          0.526269
         ]
        },
        {
         "marker": {
          "color": "blue",
          "size": 1
         },
         "mode": "markers",
         "scene": "scene",
         "showlegend": false,
         "type": "scatter3d",
         "x": [
          0.825336
         ],
         "y": [
          0.151041
         ],
         "z": [
          0.544066
         ]
        },
        {
         "marker": {
          "color": "blue",
          "size": 1
         },
         "mode": "markers",
         "scene": "scene",
         "showlegend": false,
         "type": "scatter3d",
         "x": [
          0.825336
         ],
         "y": [
          0.095971
         ],
         "z": [
          0.556427
         ]
        },
        {
         "marker": {
          "color": "blue",
          "size": 1
         },
         "mode": "markers",
         "scene": "scene",
         "showlegend": false,
         "type": "scatter3d",
         "x": [
          0.825336
         ],
         "y": [
          0.039941
         ],
         "z": [
          0.563228
         ]
        },
        {
         "marker": {
          "color": "blue",
          "size": 1
         },
         "mode": "markers",
         "scene": "scene",
         "showlegend": false,
         "type": "scatter3d",
         "x": [
          0.764842
         ],
         "y": [
          0.644218
         ],
         "z": [
          0
         ]
        },
        {
         "marker": {
          "color": "blue",
          "size": 1
         },
         "mode": "markers",
         "scene": "scene",
         "showlegend": false,
         "type": "scatter3d",
         "x": [
          0.764842
         ],
         "y": [
          0.640999
         ],
         "z": [
          0.064314
         ]
        },
        {
         "marker": {
          "color": "blue",
          "size": 1
         },
         "mode": "markers",
         "scene": "scene",
         "showlegend": false,
         "type": "scatter3d",
         "x": [
          0.764842
         ],
         "y": [
          0.631376
         ],
         "z": [
          0.127986
         ]
        },
        {
         "marker": {
          "color": "blue",
          "size": 1
         },
         "mode": "markers",
         "scene": "scene",
         "showlegend": false,
         "type": "scatter3d",
         "x": [
          0.764842
         ],
         "y": [
          0.615445
         ],
         "z": [
          0.190379
         ]
        },
        {
         "marker": {
          "color": "blue",
          "size": 1
         },
         "mode": "markers",
         "scene": "scene",
         "showlegend": false,
         "type": "scatter3d",
         "x": [
          0.764842
         ],
         "y": [
          0.593364
         ],
         "z": [
          0.25087
         ]
        },
        {
         "marker": {
          "color": "blue",
          "size": 1
         },
         "mode": "markers",
         "scene": "scene",
         "showlegend": false,
         "type": "scatter3d",
         "x": [
          0.764842
         ],
         "y": [
          0.565354
         ],
         "z": [
          0.308854
         ]
        },
        {
         "marker": {
          "color": "blue",
          "size": 1
         },
         "mode": "markers",
         "scene": "scene",
         "showlegend": false,
         "type": "scatter3d",
         "x": [
          0.764842
         ],
         "y": [
          0.531696
         ],
         "z": [
          0.363753
         ]
        },
        {
         "marker": {
          "color": "blue",
          "size": 1
         },
         "mode": "markers",
         "scene": "scene",
         "showlegend": false,
         "type": "scatter3d",
         "x": [
          0.764842
         ],
         "y": [
          0.492725
         ],
         "z": [
          0.415016
         ]
        },
        {
         "marker": {
          "color": "blue",
          "size": 1
         },
         "mode": "markers",
         "scene": "scene",
         "showlegend": false,
         "type": "scatter3d",
         "x": [
          0.764842
         ],
         "y": [
          0.448831
         ],
         "z": [
          0.462133
         ]
        },
        {
         "marker": {
          "color": "blue",
          "size": 1
         },
         "mode": "markers",
         "scene": "scene",
         "showlegend": false,
         "type": "scatter3d",
         "x": [
          0.764842
         ],
         "y": [
          0.400452
         ],
         "z": [
          0.504633
         ]
        },
        {
         "marker": {
          "color": "blue",
          "size": 1
         },
         "mode": "markers",
         "scene": "scene",
         "showlegend": false,
         "type": "scatter3d",
         "x": [
          0.764842
         ],
         "y": [
          0.348072
         ],
         "z": [
          0.54209
         ]
        },
        {
         "marker": {
          "color": "blue",
          "size": 1
         },
         "mode": "markers",
         "scene": "scene",
         "showlegend": false,
         "type": "scatter3d",
         "x": [
          0.764842
         ],
         "y": [
          0.292215
         ],
         "z": [
          0.574132
         ]
        },
        {
         "marker": {
          "color": "blue",
          "size": 1
         },
         "mode": "markers",
         "scene": "scene",
         "showlegend": false,
         "type": "scatter3d",
         "x": [
          0.764842
         ],
         "y": [
          0.233437
         ],
         "z": [
          0.600436
         ]
        },
        {
         "marker": {
          "color": "blue",
          "size": 1
         },
         "mode": "markers",
         "scene": "scene",
         "showlegend": false,
         "type": "scatter3d",
         "x": [
          0.764842
         ],
         "y": [
          0.172327
         ],
         "z": [
          0.620741
         ]
        },
        {
         "marker": {
          "color": "blue",
          "size": 1
         },
         "mode": "markers",
         "scene": "scene",
         "showlegend": false,
         "type": "scatter3d",
         "x": [
          0.764842
         ],
         "y": [
          0.109496
         ],
         "z": [
          0.634844
         ]
        },
        {
         "marker": {
          "color": "blue",
          "size": 1
         },
         "mode": "markers",
         "scene": "scene",
         "showlegend": false,
         "type": "scatter3d",
         "x": [
          0.764842
         ],
         "y": [
          0.04557
         ],
         "z": [
          0.642604
         ]
        },
        {
         "marker": {
          "color": "blue",
          "size": 1
         },
         "mode": "markers",
         "scene": "scene",
         "showlegend": false,
         "type": "scatter3d",
         "x": [
          0.696707
         ],
         "y": [
          0.717356
         ],
         "z": [
          0
         ]
        },
        {
         "marker": {
          "color": "blue",
          "size": 1
         },
         "mode": "markers",
         "scene": "scene",
         "showlegend": false,
         "type": "scatter3d",
         "x": [
          0.696707
         ],
         "y": [
          0.713772
         ],
         "z": [
          0.071616
         ]
        },
        {
         "marker": {
          "color": "blue",
          "size": 1
         },
         "mode": "markers",
         "scene": "scene",
         "showlegend": false,
         "type": "scatter3d",
         "x": [
          0.696707
         ],
         "y": [
          0.703057
         ],
         "z": [
          0.142517
         ]
        },
        {
         "marker": {
          "color": "blue",
          "size": 1
         },
         "mode": "markers",
         "scene": "scene",
         "showlegend": false,
         "type": "scatter3d",
         "x": [
          0.696707
         ],
         "y": [
          0.685316
         ],
         "z": [
          0.211993
         ]
        },
        {
         "marker": {
          "color": "blue",
          "size": 1
         },
         "mode": "markers",
         "scene": "scene",
         "showlegend": false,
         "type": "scatter3d",
         "x": [
          0.696707
         ],
         "y": [
          0.660729
         ],
         "z": [
          0.279352
         ]
        },
        {
         "marker": {
          "color": "blue",
          "size": 1
         },
         "mode": "markers",
         "scene": "scene",
         "showlegend": false,
         "type": "scatter3d",
         "x": [
          0.696707
         ],
         "y": [
          0.629539
         ],
         "z": [
          0.343919
         ]
        },
        {
         "marker": {
          "color": "blue",
          "size": 1
         },
         "mode": "markers",
         "scene": "scene",
         "showlegend": false,
         "type": "scatter3d",
         "x": [
          0.696707
         ],
         "y": [
          0.59206
         ],
         "z": [
          0.40505
         ]
        },
        {
         "marker": {
          "color": "blue",
          "size": 1
         },
         "mode": "markers",
         "scene": "scene",
         "showlegend": false,
         "type": "scatter3d",
         "x": [
          0.696707
         ],
         "y": [
          0.548664
         ],
         "z": [
          0.462133
         ]
        },
        {
         "marker": {
          "color": "blue",
          "size": 1
         },
         "mode": "markers",
         "scene": "scene",
         "showlegend": false,
         "type": "scatter3d",
         "x": [
          0.696707
         ],
         "y": [
          0.499787
         ],
         "z": [
          0.5146
         ]
        },
        {
         "marker": {
          "color": "blue",
          "size": 1
         },
         "mode": "markers",
         "scene": "scene",
         "showlegend": false,
         "type": "scatter3d",
         "x": [
          0.696707
         ],
         "y": [
          0.445916
         ],
         "z": [
          0.561924
         ]
        },
        {
         "marker": {
          "color": "blue",
          "size": 1
         },
         "mode": "markers",
         "scene": "scene",
         "showlegend": false,
         "type": "scatter3d",
         "x": [
          0.696707
         ],
         "y": [
          0.387589
         ],
         "z": [
          0.603634
         ]
        },
        {
         "marker": {
          "color": "blue",
          "size": 1
         },
         "mode": "markers",
         "scene": "scene",
         "showlegend": false,
         "type": "scatter3d",
         "x": [
          0.696707
         ],
         "y": [
          0.32539
         ],
         "z": [
          0.639313
         ]
        },
        {
         "marker": {
          "color": "blue",
          "size": 1
         },
         "mode": "markers",
         "scene": "scene",
         "showlegend": false,
         "type": "scatter3d",
         "x": [
          0.696707
         ],
         "y": [
          0.25994
         ],
         "z": [
          0.668604
         ]
        },
        {
         "marker": {
          "color": "blue",
          "size": 1
         },
         "mode": "markers",
         "scene": "scene",
         "showlegend": false,
         "type": "scatter3d",
         "x": [
          0.696707
         ],
         "y": [
          0.191892
         ],
         "z": [
          0.691214
         ]
        },
        {
         "marker": {
          "color": "blue",
          "size": 1
         },
         "mode": "markers",
         "scene": "scene",
         "showlegend": false,
         "type": "scatter3d",
         "x": [
          0.696707
         ],
         "y": [
          0.121927
         ],
         "z": [
          0.706918
         ]
        },
        {
         "marker": {
          "color": "blue",
          "size": 1
         },
         "mode": "markers",
         "scene": "scene",
         "showlegend": false,
         "type": "scatter3d",
         "x": [
          0.696707
         ],
         "y": [
          0.050744
         ],
         "z": [
          0.715559
         ]
        },
        {
         "marker": {
          "color": "blue",
          "size": 1
         },
         "mode": "markers",
         "scene": "scene",
         "showlegend": false,
         "type": "scatter3d",
         "x": [
          0.62161
         ],
         "y": [
          0.783327
         ],
         "z": [
          0
         ]
        },
        {
         "marker": {
          "color": "blue",
          "size": 1
         },
         "mode": "markers",
         "scene": "scene",
         "showlegend": false,
         "type": "scatter3d",
         "x": [
          0.62161
         ],
         "y": [
          0.779414
         ],
         "z": [
          0.078202
         ]
        },
        {
         "marker": {
          "color": "blue",
          "size": 1
         },
         "mode": "markers",
         "scene": "scene",
         "showlegend": false,
         "type": "scatter3d",
         "x": [
          0.62161
         ],
         "y": [
          0.767713
         ],
         "z": [
          0.155623
         ]
        },
        {
         "marker": {
          "color": "blue",
          "size": 1
         },
         "mode": "markers",
         "scene": "scene",
         "showlegend": false,
         "type": "scatter3d",
         "x": [
          0.62161
         ],
         "y": [
          0.748341
         ],
         "z": [
          0.231489
         ]
        },
        {
         "marker": {
          "color": "blue",
          "size": 1
         },
         "mode": "markers",
         "scene": "scene",
         "showlegend": false,
         "type": "scatter3d",
         "x": [
          0.62161
         ],
         "y": [
          0.721492
         ],
         "z": [
          0.305042
         ]
        },
        {
         "marker": {
          "color": "blue",
          "size": 1
         },
         "mode": "markers",
         "scene": "scene",
         "showlegend": false,
         "type": "scatter3d",
         "x": [
          0.62161
         ],
         "y": [
          0.687434
         ],
         "z": [
          0.375547
         ]
        },
        {
         "marker": {
          "color": "blue",
          "size": 1
         },
         "mode": "markers",
         "scene": "scene",
         "showlegend": false,
         "type": "scatter3d",
         "x": [
          0.62161
         ],
         "y": [
          0.646508
         ],
         "z": [
          0.4423
         ]
        },
        {
         "marker": {
          "color": "blue",
          "size": 1
         },
         "mode": "markers",
         "scene": "scene",
         "showlegend": false,
         "type": "scatter3d",
         "x": [
          0.62161
         ],
         "y": [
          0.599121
         ],
         "z": [
          0.504633
         ]
        },
        {
         "marker": {
          "color": "blue",
          "size": 1
         },
         "mode": "markers",
         "scene": "scene",
         "showlegend": false,
         "type": "scatter3d",
         "x": [
          0.62161
         ],
         "y": [
          0.545749
         ],
         "z": [
          0.561924
         ]
        },
        {
         "marker": {
          "color": "blue",
          "size": 1
         },
         "mode": "markers",
         "scene": "scene",
         "showlegend": false,
         "type": "scatter3d",
         "x": [
          0.62161
         ],
         "y": [
          0.486924
         ],
         "z": [
          0.613601
         ]
        },
        {
         "marker": {
          "color": "blue",
          "size": 1
         },
         "mode": "markers",
         "scene": "scene",
         "showlegend": false,
         "type": "scatter3d",
         "x": [
          0.62161
         ],
         "y": [
          0.423233
         ],
         "z": [
          0.659147
         ]
        },
        {
         "marker": {
          "color": "blue",
          "size": 1
         },
         "mode": "markers",
         "scene": "scene",
         "showlegend": false,
         "type": "scatter3d",
         "x": [
          0.62161
         ],
         "y": [
          0.355314
         ],
         "z": [
          0.698107
         ]
        },
        {
         "marker": {
          "color": "blue",
          "size": 1
         },
         "mode": "markers",
         "scene": "scene",
         "showlegend": false,
         "type": "scatter3d",
         "x": [
          0.62161
         ],
         "y": [
          0.283845
         ],
         "z": [
          0.730091
         ]
        },
        {
         "marker": {
          "color": "blue",
          "size": 1
         },
         "mode": "markers",
         "scene": "scene",
         "showlegend": false,
         "type": "scatter3d",
         "x": [
          0.62161
         ],
         "y": [
          0.209539
         ],
         "z": [
          0.754781
         ]
        },
        {
         "marker": {
          "color": "blue",
          "size": 1
         },
         "mode": "markers",
         "scene": "scene",
         "showlegend": false,
         "type": "scatter3d",
         "x": [
          0.62161
         ],
         "y": [
          0.13314
         ],
         "z": [
          0.771929
         ]
        },
        {
         "marker": {
          "color": "blue",
          "size": 1
         },
         "mode": "markers",
         "scene": "scene",
         "showlegend": false,
         "type": "scatter3d",
         "x": [
          0.62161
         ],
         "y": [
          0.05541
         ],
         "z": [
          0.781365
         ]
        },
        {
         "marker": {
          "color": "blue",
          "size": 1
         },
         "mode": "markers",
         "scene": "scene",
         "showlegend": false,
         "type": "scatter3d",
         "x": [
          0.540302
         ],
         "y": [
          0.841471
         ],
         "z": [
          0
         ]
        },
        {
         "marker": {
          "color": "blue",
          "size": 1
         },
         "mode": "markers",
         "scene": "scene",
         "showlegend": false,
         "type": "scatter3d",
         "x": [
          0.540302
         ],
         "y": [
          0.837267
         ],
         "z": [
          0.084007
         ]
        },
        {
         "marker": {
          "color": "blue",
          "size": 1
         },
         "mode": "markers",
         "scene": "scene",
         "showlegend": false,
         "type": "scatter3d",
         "x": [
          0.540302
         ],
         "y": [
          0.824698
         ],
         "z": [
          0.167174
         ]
        },
        {
         "marker": {
          "color": "blue",
          "size": 1
         },
         "mode": "markers",
         "scene": "scene",
         "showlegend": false,
         "type": "scatter3d",
         "x": [
          0.540302
         ],
         "y": [
          0.803888
         ],
         "z": [
          0.248672
         ]
        },
        {
         "marker": {
          "color": "blue",
          "size": 1
         },
         "mode": "markers",
         "scene": "scene",
         "showlegend": false,
         "type": "scatter3d",
         "x": [
          0.540302
         ],
         "y": [
          0.775046
         ],
         "z": [
          0.327684
         ]
        },
        {
         "marker": {
          "color": "blue",
          "size": 1
         },
         "mode": "markers",
         "scene": "scene",
         "showlegend": false,
         "type": "scatter3d",
         "x": [
          0.540302
         ],
         "y": [
          0.73846
         ],
         "z": [
          0.403423
         ]
        },
        {
         "marker": {
          "color": "blue",
          "size": 1
         },
         "mode": "markers",
         "scene": "scene",
         "showlegend": false,
         "type": "scatter3d",
         "x": [
          0.540302
         ],
         "y": [
          0.694496
         ],
         "z": [
          0.47513
         ]
        },
        {
         "marker": {
          "color": "blue",
          "size": 1
         },
         "mode": "markers",
         "scene": "scene",
         "showlegend": false,
         "type": "scatter3d",
         "x": [
          0.540302
         ],
         "y": [
          0.643593
         ],
         "z": [
          0.54209
         ]
        },
        {
         "marker": {
          "color": "blue",
          "size": 1
         },
         "mode": "markers",
         "scene": "scene",
         "showlegend": false,
         "type": "scatter3d",
         "x": [
          0.540302
         ],
         "y": [
          0.586258
         ],
         "z": [
          0.603634
         ]
        },
        {
         "marker": {
          "color": "blue",
          "size": 1
         },
         "mode": "markers",
         "scene": "scene",
         "showlegend": false,
         "type": "scatter3d",
         "x": [
          0.540302
         ],
         "y": [
          0.523067
         ],
         "z": [
          0.659147
         ]
        },
        {
         "marker": {
          "color": "blue",
          "size": 1
         },
         "mode": "markers",
         "scene": "scene",
         "showlegend": false,
         "type": "scatter3d",
         "x": [
          0.540302
         ],
         "y": [
          0.454649
         ],
         "z": [
          0.708073
         ]
        },
        {
         "marker": {
          "color": "blue",
          "size": 1
         },
         "mode": "markers",
         "scene": "scene",
         "showlegend": false,
         "type": "scatter3d",
         "x": [
          0.540302
         ],
         "y": [
          0.381688
         ],
         "z": [
          0.749925
         ]
        },
        {
         "marker": {
          "color": "blue",
          "size": 1
         },
         "mode": "markers",
         "scene": "scene",
         "showlegend": false,
         "type": "scatter3d",
         "x": [
          0.540302
         ],
         "y": [
          0.304914
         ],
         "z": [
          0.784284
         ]
        },
        {
         "marker": {
          "color": "blue",
          "size": 1
         },
         "mode": "markers",
         "scene": "scene",
         "showlegend": false,
         "type": "scatter3d",
         "x": [
          0.540302
         ],
         "y": [
          0.225093
         ],
         "z": [
          0.810806
         ]
        },
        {
         "marker": {
          "color": "blue",
          "size": 1
         },
         "mode": "markers",
         "scene": "scene",
         "showlegend": false,
         "type": "scatter3d",
         "x": [
          0.540302
         ],
         "y": [
          0.143022
         ],
         "z": [
          0.829227
         ]
        },
        {
         "marker": {
          "color": "blue",
          "size": 1
         },
         "mode": "markers",
         "scene": "scene",
         "showlegend": false,
         "type": "scatter3d",
         "x": [
          0.540302
         ],
         "y": [
          0.059523
         ],
         "z": [
          0.839363
         ]
        },
        {
         "marker": {
          "color": "blue",
          "size": 1
         },
         "mode": "markers",
         "scene": "scene",
         "showlegend": false,
         "type": "scatter3d",
         "x": [
          0.453596
         ],
         "y": [
          0.891207
         ],
         "z": [
          0
         ]
        },
        {
         "marker": {
          "color": "blue",
          "size": 1
         },
         "mode": "markers",
         "scene": "scene",
         "showlegend": false,
         "type": "scatter3d",
         "x": [
          0.453596
         ],
         "y": [
          0.886755
         ],
         "z": [
          0.088972
         ]
        },
        {
         "marker": {
          "color": "blue",
          "size": 1
         },
         "mode": "markers",
         "scene": "scene",
         "showlegend": false,
         "type": "scatter3d",
         "x": [
          0.453596
         ],
         "y": [
          0.873443
         ],
         "z": [
          0.177056
         ]
        },
        {
         "marker": {
          "color": "blue",
          "size": 1
         },
         "mode": "markers",
         "scene": "scene",
         "showlegend": false,
         "type": "scatter3d",
         "x": [
          0.453596
         ],
         "y": [
          0.851403
         ],
         "z": [
          0.26337
         ]
        },
        {
         "marker": {
          "color": "blue",
          "size": 1
         },
         "mode": "markers",
         "scene": "scene",
         "showlegend": false,
         "type": "scatter3d",
         "x": [
          0.453596
         ],
         "y": [
          0.820856
         ],
         "z": [
          0.347052
         ]
        },
        {
         "marker": {
          "color": "blue",
          "size": 1
         },
         "mode": "markers",
         "scene": "scene",
         "showlegend": false,
         "type": "scatter3d",
         "x": [
          0.453596
         ],
         "y": [
          0.782108
         ],
         "z": [
          0.427268
         ]
        },
        {
         "marker": {
          "color": "blue",
          "size": 1
         },
         "mode": "markers",
         "scene": "scene",
         "showlegend": false,
         "type": "scatter3d",
         "x": [
          0.453596
         ],
         "y": [
          0.735545
         ],
         "z": [
          0.503214
         ]
        },
        {
         "marker": {
          "color": "blue",
          "size": 1
         },
         "mode": "markers",
         "scene": "scene",
         "showlegend": false,
         "type": "scatter3d",
         "x": [
          0.453596
         ],
         "y": [
          0.681633
         ],
         "z": [
          0.574132
         ]
        },
        {
         "marker": {
          "color": "blue",
          "size": 1
         },
         "mode": "markers",
         "scene": "scene",
         "showlegend": false,
         "type": "scatter3d",
         "x": [
          0.453596
         ],
         "y": [
          0.62091
         ],
         "z": [
          0.639313
         ]
        },
        {
         "marker": {
          "color": "blue",
          "size": 1
         },
         "mode": "markers",
         "scene": "scene",
         "showlegend": false,
         "type": "scatter3d",
         "x": [
          0.453596
         ],
         "y": [
          0.553983
         ],
         "z": [
          0.698107
         ]
        },
        {
         "marker": {
          "color": "blue",
          "size": 1
         },
         "mode": "markers",
         "scene": "scene",
         "showlegend": false,
         "type": "scatter3d",
         "x": [
          0.453596
         ],
         "y": [
          0.481521
         ],
         "z": [
          0.749925
         ]
        },
        {
         "marker": {
          "color": "blue",
          "size": 1
         },
         "mode": "markers",
         "scene": "scene",
         "showlegend": false,
         "type": "scatter3d",
         "x": [
          0.453596
         ],
         "y": [
          0.404248
         ],
         "z": [
          0.794251
         ]
        },
        {
         "marker": {
          "color": "blue",
          "size": 1
         },
         "mode": "markers",
         "scene": "scene",
         "showlegend": false,
         "type": "scatter3d",
         "x": [
          0.453596
         ],
         "y": [
          0.322936
         ],
         "z": [
          0.83064
         ]
        },
        {
         "marker": {
          "color": "blue",
          "size": 1
         },
         "mode": "markers",
         "scene": "scene",
         "showlegend": false,
         "type": "scatter3d",
         "x": [
          0.453596
         ],
         "y": [
          0.238397
         ],
         "z": [
          0.85873
         ]
        },
        {
         "marker": {
          "color": "blue",
          "size": 1
         },
         "mode": "markers",
         "scene": "scene",
         "showlegend": false,
         "type": "scatter3d",
         "x": [
          0.453596
         ],
         "y": [
          0.151476
         ],
         "z": [
          0.87824
         ]
        },
        {
         "marker": {
          "color": "blue",
          "size": 1
         },
         "mode": "markers",
         "scene": "scene",
         "showlegend": false,
         "type": "scatter3d",
         "x": [
          0.453596
         ],
         "y": [
          0.063042
         ],
         "z": [
          0.888975
         ]
        },
        {
         "marker": {
          "color": "blue",
          "size": 1
         },
         "mode": "markers",
         "scene": "scene",
         "showlegend": false,
         "type": "scatter3d",
         "x": [
          0.362358
         ],
         "y": [
          0.932039
         ],
         "z": [
          0
         ]
        },
        {
         "marker": {
          "color": "blue",
          "size": 1
         },
         "mode": "markers",
         "scene": "scene",
         "showlegend": false,
         "type": "scatter3d",
         "x": [
          0.362358
         ],
         "y": [
          0.927383
         ],
         "z": [
          0.093049
         ]
        },
        {
         "marker": {
          "color": "blue",
          "size": 1
         },
         "mode": "markers",
         "scene": "scene",
         "showlegend": false,
         "type": "scatter3d",
         "x": [
          0.362358
         ],
         "y": [
          0.91346
         ],
         "z": [
          0.185168
         ]
        },
        {
         "marker": {
          "color": "blue",
          "size": 1
         },
         "mode": "markers",
         "scene": "scene",
         "showlegend": false,
         "type": "scatter3d",
         "x": [
          0.362358
         ],
         "y": [
          0.890411
         ],
         "z": [
          0.275436
         ]
        },
        {
         "marker": {
          "color": "blue",
          "size": 1
         },
         "mode": "markers",
         "scene": "scene",
         "showlegend": false,
         "type": "scatter3d",
         "x": [
          0.362358
         ],
         "y": [
          0.858465
         ],
         "z": [
          0.362953
         ]
        },
        {
         "marker": {
          "color": "blue",
          "size": 1
         },
         "mode": "markers",
         "scene": "scene",
         "showlegend": false,
         "type": "scatter3d",
         "x": [
          0.362358
         ],
         "y": [
          0.817941
         ],
         "z": [
          0.446843
         ]
        },
        {
         "marker": {
          "color": "blue",
          "size": 1
         },
         "mode": "markers",
         "scene": "scene",
         "showlegend": false,
         "type": "scatter3d",
         "x": [
          0.362358
         ],
         "y": [
          0.769245
         ],
         "z": [
          0.526269
         ]
        },
        {
         "marker": {
          "color": "blue",
          "size": 1
         },
         "mode": "markers",
         "scene": "scene",
         "showlegend": false,
         "type": "scatter3d",
         "x": [
          0.362358
         ],
         "y": [
          0.712863
         ],
         "z": [
          0.600436
         ]
        },
        {
         "marker": {
          "color": "blue",
          "size": 1
         },
         "mode": "markers",
         "scene": "scene",
         "showlegend": false,
         "type": "scatter3d",
         "x": [
          0.362358
         ],
         "y": [
          0.649358
         ],
         "z": [
          0.668604
         ]
        },
        {
         "marker": {
          "color": "blue",
          "size": 1
         },
         "mode": "markers",
         "scene": "scene",
         "showlegend": false,
         "type": "scatter3d",
         "x": [
          0.362358
         ],
         "y": [
          0.579365
         ],
         "z": [
          0.730091
         ]
        },
        {
         "marker": {
          "color": "blue",
          "size": 1
         },
         "mode": "markers",
         "scene": "scene",
         "showlegend": false,
         "type": "scatter3d",
         "x": [
          0.362358
         ],
         "y": [
          0.503583
         ],
         "z": [
          0.784284
         ]
        },
        {
         "marker": {
          "color": "blue",
          "size": 1
         },
         "mode": "markers",
         "scene": "scene",
         "showlegend": false,
         "type": "scatter3d",
         "x": [
          0.362358
         ],
         "y": [
          0.422769
         ],
         "z": [
          0.83064
         ]
        },
        {
         "marker": {
          "color": "blue",
          "size": 1
         },
         "mode": "markers",
         "scene": "scene",
         "showlegend": false,
         "type": "scatter3d",
         "x": [
          0.362358
         ],
         "y": [
          0.337732
         ],
         "z": [
          0.868697
         ]
        },
        {
         "marker": {
          "color": "blue",
          "size": 1
         },
         "mode": "markers",
         "scene": "scene",
         "showlegend": false,
         "type": "scatter3d",
         "x": [
          0.362358
         ],
         "y": [
          0.249319
         ],
         "z": [
          0.898074
         ]
        },
        {
         "marker": {
          "color": "blue",
          "size": 1
         },
         "mode": "markers",
         "scene": "scene",
         "showlegend": false,
         "type": "scatter3d",
         "x": [
          0.362358
         ],
         "y": [
          0.158416
         ],
         "z": [
          0.918478
         ]
        },
        {
         "marker": {
          "color": "blue",
          "size": 1
         },
         "mode": "markers",
         "scene": "scene",
         "showlegend": false,
         "type": "scatter3d",
         "x": [
          0.362358
         ],
         "y": [
          0.06593
         ],
         "z": [
          0.929704
         ]
        },
        {
         "marker": {
          "color": "blue",
          "size": 1
         },
         "mode": "markers",
         "scene": "scene",
         "showlegend": false,
         "type": "scatter3d",
         "x": [
          0.267499
         ],
         "y": [
          0.963558
         ],
         "z": [
          0
         ]
        },
        {
         "marker": {
          "color": "blue",
          "size": 1
         },
         "mode": "markers",
         "scene": "scene",
         "showlegend": false,
         "type": "scatter3d",
         "x": [
          0.267499
         ],
         "y": [
          0.958744
         ],
         "z": [
          0.096195
         ]
        },
        {
         "marker": {
          "color": "blue",
          "size": 1
         },
         "mode": "markers",
         "scene": "scene",
         "showlegend": false,
         "type": "scatter3d",
         "x": [
          0.267499
         ],
         "y": [
          0.944351
         ],
         "z": [
          0.191429
         ]
        },
        {
         "marker": {
          "color": "blue",
          "size": 1
         },
         "mode": "markers",
         "scene": "scene",
         "showlegend": false,
         "type": "scatter3d",
         "x": [
          0.267499
         ],
         "y": [
          0.920522
         ],
         "z": [
          0.284751
         ]
        },
        {
         "marker": {
          "color": "blue",
          "size": 1
         },
         "mode": "markers",
         "scene": "scene",
         "showlegend": false,
         "type": "scatter3d",
         "x": [
          0.267499
         ],
         "y": [
          0.887496
         ],
         "z": [
          0.375227
         ]
        },
        {
         "marker": {
          "color": "blue",
          "size": 1
         },
         "mode": "markers",
         "scene": "scene",
         "showlegend": false,
         "type": "scatter3d",
         "x": [
          0.267499
         ],
         "y": [
          0.845602
         ],
         "z": [
          0.461954
         ]
        },
        {
         "marker": {
          "color": "blue",
          "size": 1
         },
         "mode": "markers",
         "scene": "scene",
         "showlegend": false,
         "type": "scatter3d",
         "x": [
          0.267499
         ],
         "y": [
          0.795259
         ],
         "z": [
          0.544066
         ]
        },
        {
         "marker": {
          "color": "blue",
          "size": 1
         },
         "mode": "markers",
         "scene": "scene",
         "showlegend": false,
         "type": "scatter3d",
         "x": [
          0.267499
         ],
         "y": [
          0.73697
         ],
         "z": [
          0.620741
         ]
        },
        {
         "marker": {
          "color": "blue",
          "size": 1
         },
         "mode": "markers",
         "scene": "scene",
         "showlegend": false,
         "type": "scatter3d",
         "x": [
          0.267499
         ],
         "y": [
          0.671317
         ],
         "z": [
          0.691214
         ]
        },
        {
         "marker": {
          "color": "blue",
          "size": 1
         },
         "mode": "markers",
         "scene": "scene",
         "showlegend": false,
         "type": "scatter3d",
         "x": [
          0.267499
         ],
         "y": [
          0.598957
         ],
         "z": [
          0.754781
         ]
        },
        {
         "marker": {
          "color": "blue",
          "size": 1
         },
         "mode": "markers",
         "scene": "scene",
         "showlegend": false,
         "type": "scatter3d",
         "x": [
          0.267499
         ],
         "y": [
          0.520613
         ],
         "z": [
          0.810806
         ]
        },
        {
         "marker": {
          "color": "blue",
          "size": 1
         },
         "mode": "markers",
         "scene": "scene",
         "showlegend": false,
         "type": "scatter3d",
         "x": [
          0.267499
         ],
         "y": [
          0.437066
         ],
         "z": [
          0.85873
         ]
        },
        {
         "marker": {
          "color": "blue",
          "size": 1
         },
         "mode": "markers",
         "scene": "scene",
         "showlegend": false,
         "type": "scatter3d",
         "x": [
          0.267499
         ],
         "y": [
          0.349153
         ],
         "z": [
          0.898074
         ]
        },
        {
         "marker": {
          "color": "blue",
          "size": 1
         },
         "mode": "markers",
         "scene": "scene",
         "showlegend": false,
         "type": "scatter3d",
         "x": [
          0.267499
         ],
         "y": [
          0.257751
         ],
         "z": [
          0.928444
         ]
        },
        {
         "marker": {
          "color": "blue",
          "size": 1
         },
         "mode": "markers",
         "scene": "scene",
         "showlegend": false,
         "type": "scatter3d",
         "x": [
          0.267499
         ],
         "y": [
          0.163773
         ],
         "z": [
          0.949538
         ]
        },
        {
         "marker": {
          "color": "blue",
          "size": 1
         },
         "mode": "markers",
         "scene": "scene",
         "showlegend": false,
         "type": "scatter3d",
         "x": [
          0.267499
         ],
         "y": [
          0.068159
         ],
         "z": [
          0.961144
         ]
        },
        {
         "marker": {
          "color": "blue",
          "size": 1
         },
         "mode": "markers",
         "scene": "scene",
         "showlegend": false,
         "type": "scatter3d",
         "x": [
          0.169967
         ],
         "y": [
          0.98545
         ],
         "z": [
          0
         ]
        },
        {
         "marker": {
          "color": "blue",
          "size": 1
         },
         "mode": "markers",
         "scene": "scene",
         "showlegend": false,
         "type": "scatter3d",
         "x": [
          0.169967
         ],
         "y": [
          0.980527
         ],
         "z": [
          0.098381
         ]
        },
        {
         "marker": {
          "color": "blue",
          "size": 1
         },
         "mode": "markers",
         "scene": "scene",
         "showlegend": false,
         "type": "scatter3d",
         "x": [
          0.169967
         ],
         "y": [
          0.965806
         ],
         "z": [
          0.195779
         ]
        },
        {
         "marker": {
          "color": "blue",
          "size": 1
         },
         "mode": "markers",
         "scene": "scene",
         "showlegend": false,
         "type": "scatter3d",
         "x": [
          0.169967
         ],
         "y": [
          0.941436
         ],
         "z": [
          0.29122
         ]
        },
        {
         "marker": {
          "color": "blue",
          "size": 1
         },
         "mode": "markers",
         "scene": "scene",
         "showlegend": false,
         "type": "scatter3d",
         "x": [
          0.169967
         ],
         "y": [
          0.907659
         ],
         "z": [
          0.383752
         ]
        },
        {
         "marker": {
          "color": "blue",
          "size": 1
         },
         "mode": "markers",
         "scene": "scene",
         "showlegend": false,
         "type": "scatter3d",
         "x": [
          0.169967
         ],
         "y": [
          0.864813
         ],
         "z": [
          0.47245
         ]
        },
        {
         "marker": {
          "color": "blue",
          "size": 1
         },
         "mode": "markers",
         "scene": "scene",
         "showlegend": false,
         "type": "scatter3d",
         "x": [
          0.169967
         ],
         "y": [
          0.813327
         ],
         "z": [
          0.556427
         ]
        },
        {
         "marker": {
          "color": "blue",
          "size": 1
         },
         "mode": "markers",
         "scene": "scene",
         "showlegend": false,
         "type": "scatter3d",
         "x": [
          0.169967
         ],
         "y": [
          0.753714
         ],
         "z": [
          0.634844
         ]
        },
        {
         "marker": {
          "color": "blue",
          "size": 1
         },
         "mode": "markers",
         "scene": "scene",
         "showlegend": false,
         "type": "scatter3d",
         "x": [
          0.169967
         ],
         "y": [
          0.686569
         ],
         "z": [
          0.706918
         ]
        },
        {
         "marker": {
          "color": "blue",
          "size": 1
         },
         "mode": "markers",
         "scene": "scene",
         "showlegend": false,
         "type": "scatter3d",
         "x": [
          0.169967
         ],
         "y": [
          0.612565
         ],
         "z": [
          0.771929
         ]
        },
        {
         "marker": {
          "color": "blue",
          "size": 1
         },
         "mode": "markers",
         "scene": "scene",
         "showlegend": false,
         "type": "scatter3d",
         "x": [
          0.169967
         ],
         "y": [
          0.532441
         ],
         "z": [
          0.829227
         ]
        },
        {
         "marker": {
          "color": "blue",
          "size": 1
         },
         "mode": "markers",
         "scene": "scene",
         "showlegend": false,
         "type": "scatter3d",
         "x": [
          0.169967
         ],
         "y": [
          0.446996
         ],
         "z": [
          0.87824
         ]
        },
        {
         "marker": {
          "color": "blue",
          "size": 1
         },
         "mode": "markers",
         "scene": "scene",
         "showlegend": false,
         "type": "scatter3d",
         "x": [
          0.169967
         ],
         "y": [
          0.357085
         ],
         "z": [
          0.918478
         ]
        },
        {
         "marker": {
          "color": "blue",
          "size": 1
         },
         "mode": "markers",
         "scene": "scene",
         "showlegend": false,
         "type": "scatter3d",
         "x": [
          0.169967
         ],
         "y": [
          0.263607
         ],
         "z": [
          0.949538
         ]
        },
        {
         "marker": {
          "color": "blue",
          "size": 1
         },
         "mode": "markers",
         "scene": "scene",
         "showlegend": false,
         "type": "scatter3d",
         "x": [
          0.169967
         ],
         "y": [
          0.167494
         ],
         "z": [
          0.971111
         ]
        },
        {
         "marker": {
          "color": "blue",
          "size": 1
         },
         "mode": "markers",
         "scene": "scene",
         "showlegend": false,
         "type": "scatter3d",
         "x": [
          0.169967
         ],
         "y": [
          0.069708
         ],
         "z": [
          0.982981
         ]
        },
        {
         "marker": {
          "color": "blue",
          "size": 1
         },
         "mode": "markers",
         "scene": "scene",
         "showlegend": false,
         "type": "scatter3d",
         "x": [
          0.070737
         ],
         "y": [
          0.997495
         ],
         "z": [
          0
         ]
        },
        {
         "marker": {
          "color": "blue",
          "size": 1
         },
         "mode": "markers",
         "scene": "scene",
         "showlegend": false,
         "type": "scatter3d",
         "x": [
          0.070737
         ],
         "y": [
          0.992512
         ],
         "z": [
          0.099583
         ]
        },
        {
         "marker": {
          "color": "blue",
          "size": 1
         },
         "mode": "markers",
         "scene": "scene",
         "showlegend": false,
         "type": "scatter3d",
         "x": [
          0.070737
         ],
         "y": [
          0.977611
         ],
         "z": [
          0.198172
         ]
        },
        {
         "marker": {
          "color": "blue",
          "size": 1
         },
         "mode": "markers",
         "scene": "scene",
         "showlegend": false,
         "type": "scatter3d",
         "x": [
          0.070737
         ],
         "y": [
          0.952943
         ],
         "z": [
          0.29478
         ]
        },
        {
         "marker": {
          "color": "blue",
          "size": 1
         },
         "mode": "markers",
         "scene": "scene",
         "showlegend": false,
         "type": "scatter3d",
         "x": [
          0.070737
         ],
         "y": [
          0.918754
         ],
         "z": [
          0.388443
         ]
        },
        {
         "marker": {
          "color": "blue",
          "size": 1
         },
         "mode": "markers",
         "scene": "scene",
         "showlegend": false,
         "type": "scatter3d",
         "x": [
          0.070737
         ],
         "y": [
          0.875384
         ],
         "z": [
          0.478225
         ]
        },
        {
         "marker": {
          "color": "blue",
          "size": 1
         },
         "mode": "markers",
         "scene": "scene",
         "showlegend": false,
         "type": "scatter3d",
         "x": [
          0.070737
         ],
         "y": [
          0.823268
         ],
         "z": [
          0.563228
         ]
        },
        {
         "marker": {
          "color": "blue",
          "size": 1
         },
         "mode": "markers",
         "scene": "scene",
         "showlegend": false,
         "type": "scatter3d",
         "x": [
          0.070737
         ],
         "y": [
          0.762926
         ],
         "z": [
          0.642604
         ]
        },
        {
         "marker": {
          "color": "blue",
          "size": 1
         },
         "mode": "markers",
         "scene": "scene",
         "showlegend": false,
         "type": "scatter3d",
         "x": [
          0.070737
         ],
         "y": [
          0.694961
         ],
         "z": [
          0.715559
         ]
        },
        {
         "marker": {
          "color": "blue",
          "size": 1
         },
         "mode": "markers",
         "scene": "scene",
         "showlegend": false,
         "type": "scatter3d",
         "x": [
          0.070737
         ],
         "y": [
          0.620053
         ],
         "z": [
          0.781365
         ]
        },
        {
         "marker": {
          "color": "blue",
          "size": 1
         },
         "mode": "markers",
         "scene": "scene",
         "showlegend": false,
         "type": "scatter3d",
         "x": [
          0.070737
         ],
         "y": [
          0.538949
         ],
         "z": [
          0.839363
         ]
        },
        {
         "marker": {
          "color": "blue",
          "size": 1
         },
         "mode": "markers",
         "scene": "scene",
         "showlegend": false,
         "type": "scatter3d",
         "x": [
          0.070737
         ],
         "y": [
          0.45246
         ],
         "z": [
          0.888975
         ]
        },
        {
         "marker": {
          "color": "blue",
          "size": 1
         },
         "mode": "markers",
         "scene": "scene",
         "showlegend": false,
         "type": "scatter3d",
         "x": [
          0.070737
         ],
         "y": [
          0.36145
         ],
         "z": [
          0.929704
         ]
        },
        {
         "marker": {
          "color": "blue",
          "size": 1
         },
         "mode": "markers",
         "scene": "scene",
         "showlegend": false,
         "type": "scatter3d",
         "x": [
          0.070737
         ],
         "y": [
          0.266829
         ],
         "z": [
          0.961144
         ]
        },
        {
         "marker": {
          "color": "blue",
          "size": 1
         },
         "mode": "markers",
         "scene": "scene",
         "showlegend": false,
         "type": "scatter3d",
         "x": [
          0.070737
         ],
         "y": [
          0.169541
         ],
         "z": [
          0.982981
         ]
        },
        {
         "marker": {
          "color": "blue",
          "size": 1
         },
         "mode": "markers",
         "scene": "scene",
         "showlegend": false,
         "type": "scatter3d",
         "x": [
          0.070737
         ],
         "y": [
          0.07056
         ],
         "z": [
          0.994996
         ]
        },
        {
         "marker": {
          "color": "rgb(80.0, 208.0, 255.0)",
          "size": 3
         },
         "mode": "markers",
         "name": "projection",
         "scene": "scene",
         "showlegend": false,
         "type": "scatter3d",
         "x": [
          0.322044081105018
         ],
         "y": [
          0.7149522051072732
         ],
         "z": [
          0.6205892028180369
         ]
        },
        {
         "marker": {
          "color": "rgb(91.42857142857143, 182.85714285714286, 255.0)",
          "size": 3
         },
         "mode": "markers",
         "name": "projection",
         "scene": "scene",
         "showlegend": false,
         "type": "scatter3d",
         "x": [
          0.3739144502802193
         ],
         "y": [
          0.7333708068745359
         ],
         "z": [
          0.5677634285873009
         ]
        },
        {
         "marker": {
          "color": "rgb(102.85714285714286, 157.71428571428572, 255.0)",
          "size": 3
         },
         "mode": "markers",
         "name": "projection",
         "scene": "scene",
         "showlegend": false,
         "type": "scatter3d",
         "x": [
          0.4146004759069702
         ],
         "y": [
          0.7452491253150026
         ],
         "z": [
          0.5222165838615217
         ]
        },
        {
         "marker": {
          "color": "rgb(114.28571428571428, 132.57142857142856, 255.0)",
          "size": 3
         },
         "mode": "markers",
         "name": "projection",
         "scene": "scene",
         "showlegend": false,
         "type": "scatter3d",
         "x": [
          0.460426730307128
         ],
         "y": [
          0.76495839111536
         ],
         "z": [
          0.4503842290734621
         ]
        },
        {
         "marker": {
          "color": "rgb(125.71428571428572, 107.42857142857143, 255.0)",
          "size": 3
         },
         "mode": "markers",
         "name": "projection",
         "scene": "scene",
         "showlegend": false,
         "type": "scatter3d",
         "x": [
          0.4963558725758227
         ],
         "y": [
          0.7777465228875894
         ],
         "z": [
          0.3856697997607679
         ]
        },
        {
         "marker": {
          "color": "rgb(137.14285714285714, 82.28571428571429, 255.0)",
          "size": 3
         },
         "mode": "markers",
         "name": "projection",
         "scene": "scene",
         "showlegend": false,
         "type": "scatter3d",
         "x": [
          0.512227156348658
         ],
         "y": [
          0.7745651664320069
         ],
         "z": [
          0.3710419816963226
         ]
        },
        {
         "marker": {
          "color": "rgb(148.57142857142856, 57.14285714285714, 255.0)",
          "size": 3
         },
         "mode": "markers",
         "name": "projection",
         "scene": "scene",
         "showlegend": false,
         "type": "scatter3d",
         "x": [
          0.5260975604332372
         ],
         "y": [
          0.7720736989896758
         ],
         "z": [
          0.356543842429632
         ]
        },
        {
         "marker": {
          "color": "rgb(160.0, 32.0, 255.0)",
          "size": 3
         },
         "mode": "markers",
         "name": "projection",
         "scene": "scene",
         "showlegend": false,
         "type": "scatter3d",
         "x": [
          0.5260975674448948
         ],
         "y": [
          0.7720737321420749
         ],
         "z": [
          0.35654386022948387
         ]
        },
        {
         "marker": {
          "color": "plum"
         },
         "mode": "lines",
         "name": "norm of p",
         "type": "scatter",
         "x": [
          0,
          1,
          2,
          3,
          4,
          5,
          6
         ],
         "xaxis": "x2",
         "y": [
          0.9999997019767761,
          1.1244336366653442,
          1.1200848817825317,
          1.1254993677139282,
          1.1268547773361206,
          1.1259171962738037,
          1.1257652044296265,
          0.9999999403953552
         ],
         "yaxis": "y2"
        },
        {
         "marker": {
          "color": "rgb(50, 129, 255)"
         },
         "mode": "lines",
         "name": "diagonal",
         "showlegend": false,
         "type": "scatter",
         "x": [
          0.9520515203475952,
          1.9709888696670532
         ],
         "xaxis": "x3",
         "y": [
          0.9520515203475952,
          1.9709888696670532
         ],
         "yaxis": "y3"
        },
        {
         "marker": {
          "color": "rgb(80.0, 208.0, 255.0)"
         },
         "mode": "markers",
         "name": "(b,d)",
         "showlegend": false,
         "type": "scatter",
         "x": [
          1.0369629859924316,
          1.6575850248336792,
          1.6575850248336792,
          1.6575850248336792,
          1.6575850248336792,
          1.6575850248336792,
          1.6575850248336792,
          1.6575850248336792,
          1.6575850248336792,
          1.6575850248336792,
          1.6575850248336792,
          1.6575850248336792,
          1.6575850248336792,
          1.6575850248336792,
          1.6575850248336792,
          1.6575850248336792,
          1.6575850248336792,
          1.6575850248336792,
          1.6575850248336792,
          1.6575850248336792,
          1.6575850248336792,
          1.6575850248336792,
          1.6575850248336792,
          1.6575850248336792,
          1.6575850248336792,
          1.6575850248336792,
          1.6575850248336792,
          1.6575850248336792,
          1.6575850248336792,
          1.6575850248336792,
          1.6575850248336792,
          1.6575850248336792,
          1.6575850248336792,
          1.6575850248336792,
          1.6575850248336792,
          1.6575850248336792,
          1.6575850248336792,
          1.6575850248336792,
          1.6575850248336792,
          1.6575850248336792,
          1.6575850248336792,
          1.6575850248336792,
          1.6575850248336792,
          1.6575850248336792,
          1.6575850248336792,
          1.6575850248336792,
          1.6575850248336792,
          1.6575850248336792,
          1.6575850248336792,
          1.6575850248336792,
          1.6575850248336792,
          1.6575850248336792,
          1.6575850248336792,
          1.6575850248336792,
          1.6575850248336792,
          1.6575850248336792,
          1.6575850248336792,
          1.6575850248336792,
          1.6575850248336792,
          1.6575850248336792,
          1.6575850248336792,
          1.6575850248336792,
          1.6575850248336792,
          1.6575850248336792,
          1.6575850248336792,
          1.6575850248336792,
          1.6575850248336792,
          1.6575850248336792,
          1.6575850248336792,
          1.6575850248336792,
          1.6575850248336792,
          1.6575850248336792,
          1.6575850248336792,
          1.6575850248336792,
          1.6575850248336792,
          1.6575850248336792,
          1.6575850248336792,
          1.6575850248336792,
          1.6575850248336792,
          1.6575850248336792,
          1.6575850248336792,
          1.6575850248336792,
          1.6575850248336792,
          1.6575850248336792,
          1.6575850248336792,
          1.6575850248336792,
          1.6575850248336792,
          1.6575850248336792,
          1.6575850248336792,
          1.6575850248336792,
          1.6575850248336792,
          1.6575850248336792,
          1.6575850248336792,
          1.6575850248336792,
          1.6575850248336792,
          1.6575850248336792,
          1.6575850248336792,
          1.6575850248336792,
          1.6575850248336792,
          1.6575850248336792,
          1.6575850248336792,
          1.6575850248336792,
          1.6575850248336792,
          1.6575850248336792,
          1.6575850248336792,
          1.6575850248336792,
          1.6575850248336792,
          1.6575850248336792,
          1.6575850248336792,
          1.6575850248336792,
          1.6575850248336792,
          1.6575850248336792,
          1.6575850248336792,
          1.6575850248336792,
          1.6575850248336792,
          1.6575850248336792,
          1.6575850248336792,
          1.6575850248336792,
          1.6575850248336792,
          1.6575850248336792,
          1.6575850248336792,
          1.6575850248336792,
          1.6575850248336792,
          1.6575850248336792,
          1.6575850248336792,
          1.6575850248336792,
          1.6575850248336792,
          1.6575850248336792,
          1.6575850248336792,
          1.6575850248336792,
          1.6575850248336792,
          1.6575850248336792,
          1.6575850248336792,
          1.6575850248336792,
          1.6575850248336792,
          1.6575850248336792,
          1.6575850248336792,
          1.6575850248336792,
          1.6575850248336792,
          1.6575850248336792,
          1.6575850248336792,
          1.6575850248336792,
          1.6575850248336792,
          1.6575850248336792,
          1.6575850248336792,
          1.6575850248336792,
          1.6575850248336792,
          1.6575850248336792,
          1.6575850248336792,
          1.6575850248336792,
          1.6575850248336792,
          1.6575850248336792,
          1.6575850248336792,
          1.6575850248336792,
          1.6575850248336792,
          1.6575850248336792,
          1.6575850248336792,
          1.6575850248336792,
          1.6575850248336792,
          1.6575850248336792,
          1.6575850248336792,
          1.6575850248336792,
          1.6575850248336792,
          1.6575850248336792,
          1.6575850248336792,
          1.6575850248336792,
          1.6575850248336792,
          1.6575850248336792,
          1.6575850248336792,
          1.6575850248336792,
          1.6575850248336792,
          1.6575850248336792,
          1.6575850248336792,
          1.6575850248336792,
          1.6575850248336792,
          1.6575850248336792,
          1.6575850248336792,
          1.6575850248336792,
          1.6575850248336792,
          1.6575850248336792,
          1.6575850248336792,
          1.6575850248336792,
          1.6575850248336792,
          1.6575850248336792,
          1.6575850248336792,
          1.6575850248336792,
          1.6575850248336792,
          1.6575850248336792,
          1.6575850248336792,
          1.6575850248336792,
          1.6575850248336792,
          1.6575850248336792,
          1.6575850248336792,
          1.6575850248336792,
          1.6575850248336792,
          1.6575850248336792,
          1.6575850248336792,
          1.6575850248336792,
          1.6575850248336792,
          1.6575850248336792,
          1.6575850248336792,
          1.6575850248336792,
          1.6575850248336792,
          1.6575850248336792,
          1.6575850248336792,
          1.6575850248336792,
          1.6575850248336792,
          1.6575850248336792,
          1.6575850248336792,
          1.6575850248336792,
          1.6575850248336792,
          1.6575850248336792,
          1.6575850248336792,
          1.6575850248336792,
          1.6575850248336792,
          1.6575850248336792,
          1.6575850248336792,
          1.6575850248336792,
          1.6575850248336792,
          1.6575850248336792,
          1.6575850248336792,
          1.6575850248336792,
          1.6575850248336792,
          1.6575850248336792,
          1.6575850248336792,
          1.6575850248336792,
          1.6575850248336792,
          1.6575850248336792,
          1.6575850248336792,
          1.6575850248336792,
          1.6575850248336792,
          1.6575850248336792,
          1.6575850248336792,
          1.6575850248336792,
          1.6575850248336792,
          1.6575850248336792,
          1.6575850248336792,
          1.6575850248336792,
          1.6575850248336792,
          1.6575850248336792,
          1.6575850248336792,
          1.6575850248336792,
          1.6575850248336792,
          1.6575850248336792,
          1.6575850248336792,
          1.6575850248336792,
          1.6575850248336792,
          1.6575850248336792,
          1.6575850248336792,
          1.6575850248336792,
          1.6575850248336792,
          1.6575850248336792,
          1.6575850248336792,
          1.6575850248336792,
          1.6575850248336792,
          1.6575850248336792,
          1.6575850248336792,
          1.6575850248336792,
          1.6575850248336792,
          1.6575850248336792,
          1.6575850248336792,
          1.6575850248336792,
          1.6575850248336792,
          1.6575850248336792,
          1.6575850248336792,
          1.6575850248336792,
          1.6575850248336792,
          1.6575850248336792,
          1.6575850248336792,
          1.6575850248336792,
          1.6575850248336792,
          1.6575850248336792,
          1.6575850248336792,
          1.6575850248336792,
          1.6575850248336792,
          1.6575850248336792,
          1.6575850248336792,
          1.6575850248336792,
          1.6575850248336792,
          1.6575850248336792,
          1.6575850248336792,
          1.6575850248336792,
          1.6575850248336792,
          1.6575850248336792,
          1.6575850248336792,
          1.6575850248336792,
          1.6575850248336792,
          1.6575850248336792,
          1.6575850248336792,
          1.6575850248336792,
          1.6575850248336792,
          1.6575850248336792,
          1.6575850248336792,
          1.6575850248336792,
          1.6575850248336792,
          1.6575850248336792,
          1.6575850248336792,
          1.6575850248336792,
          1.6575850248336792,
          1.6575850248336792,
          1.6575850248336792,
          1.6575850248336792,
          1.6575850248336792,
          1.6575850248336792,
          1.6575850248336792,
          1.6575850248336792,
          1.6575850248336792,
          1.6575850248336792,
          1.6575850248336792,
          1.6575850248336792,
          1.6575850248336792,
          1.6575850248336792,
          1.6575850248336792,
          1.6575850248336792,
          1.6575850248336792,
          1.6575850248336792,
          1.6575850248336792,
          1.6575850248336792,
          1.6575850248336792,
          1.6575850248336792,
          1.6575850248336792,
          1.6575850248336792,
          1.6575850248336792,
          1.6575850248336792,
          1.6575850248336792,
          1.6575850248336792,
          1.6575850248336792,
          1.6575850248336792,
          1.6575850248336792,
          1.6575850248336792,
          1.6575850248336792,
          1.6575850248336792,
          1.6575850248336792,
          1.6575850248336792,
          1.6575850248336792,
          1.6575850248336792,
          1.6575850248336792,
          1.6575850248336792,
          1.6575850248336792,
          1.6575850248336792,
          1.6575850248336792,
          1.6575850248336792,
          1.6575850248336792,
          1.6575850248336792,
          1.6575850248336792,
          1.6575850248336792,
          1.6575850248336792,
          1.6575850248336792,
          1.6575850248336792,
          1.6575850248336792,
          1.6575850248336792,
          1.6575850248336792,
          1.6575850248336792,
          1.6575850248336792,
          1.6575850248336792,
          1.6575850248336792,
          1.6575850248336792,
          1.6575850248336792,
          1.6575850248336792,
          1.6575850248336792,
          1.6575850248336792,
          1.6575850248336792,
          1.6575850248336792,
          1.6575850248336792,
          1.6575850248336792,
          1.6575850248336792,
          1.6575850248336792,
          1.6575850248336792,
          1.6575850248336792,
          1.6575850248336792,
          1.6575850248336792,
          1.6575850248336792,
          1.6575850248336792,
          1.6575850248336792,
          1.6575850248336792,
          1.6575850248336792,
          1.6575850248336792,
          1.6575850248336792,
          1.6575850248336792,
          1.6575850248336792,
          1.6575850248336792,
          1.6575850248336792,
          1.6575850248336792,
          1.6575850248336792,
          1.6575850248336792,
          1.6575850248336792,
          1.6575850248336792,
          1.6575850248336792,
          1.6575850248336792,
          1.6575850248336792,
          1.6575850248336792,
          1.6575850248336792
         ],
         "xaxis": "x3",
         "y": [
          1.6575850248336792,
          1.6575850248336792,
          1.6575850248336792,
          1.6575850248336792,
          1.6575850248336792,
          1.6575850248336792,
          1.6575850248336792,
          1.6575850248336792,
          1.6575850248336792,
          1.6575850248336792,
          1.6575850248336792,
          1.6575850248336792,
          1.6575850248336792,
          1.6575850248336792,
          1.6575850248336792,
          1.6575850248336792,
          1.6575850248336792,
          1.6575850248336792,
          1.6575850248336792,
          1.6575850248336792,
          1.6575850248336792,
          1.6575850248336792,
          1.6575850248336792,
          1.6575850248336792,
          1.6575850248336792,
          1.6575850248336792,
          1.6575850248336792,
          1.6575850248336792,
          1.6575850248336792,
          1.6575850248336792,
          1.6575850248336792,
          1.6575850248336792,
          1.6575850248336792,
          1.6575850248336792,
          1.6575850248336792,
          1.6575850248336792,
          1.6575850248336792,
          1.6575850248336792,
          1.6575850248336792,
          1.6575850248336792,
          1.6575850248336792,
          1.6575850248336792,
          1.6575850248336792,
          1.6575850248336792,
          1.6575850248336792,
          1.6575850248336792,
          1.6575850248336792,
          1.6575850248336792,
          1.6575850248336792,
          1.6575850248336792,
          1.6575850248336792,
          1.6575850248336792,
          1.6575850248336792,
          1.6575850248336792,
          1.6575850248336792,
          1.6575850248336792,
          1.6575850248336792,
          1.6575850248336792,
          1.6575850248336792,
          1.6575850248336792,
          1.6575850248336792,
          1.6575850248336792,
          1.6575850248336792,
          1.6575850248336792,
          1.6575850248336792,
          1.6575850248336792,
          1.6575850248336792,
          1.6575850248336792,
          1.6575850248336792,
          1.6575850248336792,
          1.6575850248336792,
          1.6575850248336792,
          1.6575850248336792,
          1.6575850248336792,
          1.6575850248336792,
          1.6575850248336792,
          1.6575850248336792,
          1.6575850248336792,
          1.6575850248336792,
          1.6575850248336792,
          1.6575850248336792,
          1.6575850248336792,
          1.6575850248336792,
          1.6575850248336792,
          1.6575850248336792,
          1.6575850248336792,
          1.6575850248336792,
          1.6575850248336792,
          1.6575850248336792,
          1.6575850248336792,
          1.6575850248336792,
          1.6575850248336792,
          1.6575850248336792,
          1.6575850248336792,
          1.6575850248336792,
          1.6575850248336792,
          1.6575850248336792,
          1.6575850248336792,
          1.6575850248336792,
          1.6575850248336792,
          1.6575850248336792,
          1.6575850248336792,
          1.6575850248336792,
          1.6575850248336792,
          1.6575850248336792,
          1.6575850248336792,
          1.6575850248336792,
          1.6575850248336792,
          1.6575850248336792,
          1.6575850248336792,
          1.6575850248336792,
          1.6575850248336792,
          1.6575850248336792,
          1.6575850248336792,
          1.6575850248336792,
          1.6575850248336792,
          1.6575850248336792,
          1.6575850248336792,
          1.6575850248336792,
          1.6575850248336792,
          1.6575850248336792,
          1.6575850248336792,
          1.6575850248336792,
          1.6575850248336792,
          1.6575850248336792,
          1.6575850248336792,
          1.6575850248336792,
          1.6575850248336792,
          1.6575850248336792,
          1.6575850248336792,
          1.6575850248336792,
          1.6575850248336792,
          1.6575850248336792,
          1.6575850248336792,
          1.6575850248336792,
          1.6575850248336792,
          1.6575850248336792,
          1.6575850248336792,
          1.6575850248336792,
          1.6575850248336792,
          1.6575850248336792,
          1.6575850248336792,
          1.6575850248336792,
          1.6575850248336792,
          1.6575850248336792,
          1.6575850248336792,
          1.6575850248336792,
          1.6575850248336792,
          1.6575850248336792,
          1.6575850248336792,
          1.6575850248336792,
          1.6575850248336792,
          1.6575850248336792,
          1.6575850248336792,
          1.6575850248336792,
          1.6575850248336792,
          1.6575850248336792,
          1.6575850248336792,
          1.6575850248336792,
          1.6575850248336792,
          1.6575850248336792,
          1.6575850248336792,
          1.6575850248336792,
          1.6575850248336792,
          1.6575850248336792,
          1.6575850248336792,
          1.6575850248336792,
          1.6575850248336792,
          1.6575850248336792,
          1.6575850248336792,
          1.6575850248336792,
          1.6575850248336792,
          1.6575850248336792,
          1.6575850248336792,
          1.6575850248336792,
          1.6575850248336792,
          1.6575850248336792,
          1.6575850248336792,
          1.6575850248336792,
          1.6575850248336792,
          1.6575850248336792,
          1.6575850248336792,
          1.6575850248336792,
          1.6575850248336792,
          1.6575850248336792,
          1.6575850248336792,
          1.6575850248336792,
          1.6575850248336792,
          1.6575850248336792,
          1.6575850248336792,
          1.6575850248336792,
          1.6575850248336792,
          1.6575850248336792,
          1.6575850248336792,
          1.6575850248336792,
          1.6575850248336792,
          1.6575850248336792,
          1.6575850248336792,
          1.6575850248336792,
          1.6575850248336792,
          1.6575850248336792,
          1.6575850248336792,
          1.6575850248336792,
          1.6575850248336792,
          1.6575850248336792,
          1.6575850248336792,
          1.6575850248336792,
          1.6575850248336792,
          1.6575850248336792,
          1.6575850248336792,
          1.6575850248336792,
          1.6575850248336792,
          1.6575850248336792,
          1.6575850248336792,
          1.6575850248336792,
          1.6575850248336792,
          1.6575850248336792,
          1.6575850248336792,
          1.6575850248336792,
          1.6575850248336792,
          1.6575850248336792,
          1.6575850248336792,
          1.6575850248336792,
          1.6575850248336792,
          1.6575850248336792,
          1.6575850248336792,
          1.6575850248336792,
          1.6575850248336792,
          1.6575850248336792,
          1.6575850248336792,
          1.6575850248336792,
          1.6575850248336792,
          1.6575850248336792,
          1.6575850248336792,
          1.6575850248336792,
          1.6575850248336792,
          1.6575850248336792,
          1.6575850248336792,
          1.6575850248336792,
          1.6575850248336792,
          1.6575850248336792,
          1.6575850248336792,
          1.6575850248336792,
          1.6575850248336792,
          1.6575850248336792,
          1.6575850248336792,
          1.6575850248336792,
          1.6575850248336792,
          1.6575850248336792,
          1.6575850248336792,
          1.6575850248336792,
          1.6575850248336792,
          1.6575850248336792,
          1.6575850248336792,
          1.6575850248336792,
          1.6575850248336792,
          1.6575850248336792,
          1.6575850248336792,
          1.6575850248336792,
          1.6575850248336792,
          1.6575850248336792,
          1.6575850248336792,
          1.6575850248336792,
          1.6575850248336792,
          1.6575850248336792,
          1.6575850248336792,
          1.6575850248336792,
          1.6575850248336792,
          1.6575850248336792,
          1.6575850248336792,
          1.6575850248336792,
          1.6575850248336792,
          1.6575850248336792,
          1.6575850248336792,
          1.6575850248336792,
          1.6575850248336792,
          1.6575850248336792,
          1.6575850248336792,
          1.6575850248336792,
          1.6575850248336792,
          1.6575850248336792,
          1.6575850248336792,
          1.6575850248336792,
          1.6575850248336792,
          1.6575850248336792,
          1.6575850248336792,
          1.6575850248336792,
          1.6575850248336792,
          1.6575850248336792,
          1.6575850248336792,
          1.6575850248336792,
          1.6575850248336792,
          1.6575850248336792,
          1.6575850248336792,
          1.6575850248336792,
          1.6575850248336792,
          1.6575850248336792,
          1.6575850248336792,
          1.6575850248336792,
          1.6575850248336792,
          1.6575850248336792,
          1.6575850248336792,
          1.6575850248336792,
          1.6575850248336792,
          1.6575850248336792,
          1.6575850248336792,
          1.6575850248336792,
          1.6575850248336792,
          1.6575850248336792,
          1.6575850248336792,
          1.6575850248336792,
          1.6575850248336792,
          1.6575850248336792,
          1.6575850248336792,
          1.6575850248336792,
          1.6575850248336792,
          1.6575850248336792,
          1.6575850248336792,
          1.6575850248336792,
          1.6575850248336792,
          1.6575850248336792,
          1.6575850248336792,
          1.6575850248336792,
          1.6575850248336792,
          1.6575850248336792,
          1.6575850248336792,
          1.6575850248336792,
          1.6575850248336792,
          1.6575850248336792,
          1.6575850248336792,
          1.6575850248336792,
          1.6575850248336792,
          1.6575850248336792,
          1.6575850248336792,
          1.6575850248336792,
          1.6575850248336792,
          1.6575850248336792,
          1.6575850248336792,
          1.6575850248336792,
          1.6575850248336792,
          1.6575850248336792,
          1.6575850248336792,
          1.6575850248336792,
          1.6575850248336792,
          1.6575850248336792,
          1.6575850248336792,
          1.6575850248336792,
          1.6575850248336792,
          1.6575850248336792,
          1.6575850248336792,
          1.6575850248336792,
          1.6575850248336792,
          1.6575850248336792,
          1.6575850248336792,
          1.6575850248336792,
          1.6575850248336792,
          1.6575850248336792,
          1.6575850248336792,
          1.6575850248336792,
          1.6575850248336792,
          1.6575850248336792,
          1.6575850248336792,
          1.6575850248336792,
          1.6575850248336792,
          1.6575850248336792,
          1.6575850248336792,
          1.6575850248336792,
          1.6575850248336792,
          1.6575850248336792,
          1.6575850248336792,
          1.6575850248336792,
          1.6575850248336792,
          1.6575850248336792,
          1.6575850248336792,
          1.6575850248336792,
          1.6575850248336792,
          1.6575850248336792,
          1.6575850248336792,
          1.6575850248336792,
          1.6575850248336792,
          1.6575850248336792,
          1.6575850248336792,
          1.6575850248336792,
          1.6575850248336792,
          1.6575850248336792,
          1.6575850248336792,
          1.6575850248336792,
          1.6575850248336792,
          1.6575850248336792,
          1.6575850248336792,
          1.6575850248336792,
          1.6575850248336792
         ],
         "yaxis": "y3"
        },
        {
         "marker": {
          "color": "rgb(93.33333333333333, 178.66666666666666, 255.0)"
         },
         "mode": "markers",
         "name": "(b,d)",
         "showlegend": false,
         "type": "scatter",
         "x": [
          1.1818212270736694,
          1.8834810256958008,
          1.8834810256958008,
          1.8834810256958008,
          1.8834810256958008,
          1.8834810256958008,
          1.8834810256958008,
          1.8834810256958008,
          1.8834810256958008,
          1.8834810256958008,
          1.8834810256958008,
          1.8834810256958008,
          1.8834810256958008,
          1.8834810256958008,
          1.8834810256958008,
          1.8834810256958008,
          1.8834810256958008,
          1.8834810256958008,
          1.8834810256958008,
          1.8834810256958008,
          1.8834810256958008,
          1.8834810256958008,
          1.8834810256958008,
          1.8834810256958008,
          1.8834810256958008,
          1.8834810256958008,
          1.8834810256958008,
          1.8834810256958008,
          1.8834810256958008,
          1.8834810256958008,
          1.8834810256958008,
          1.8834810256958008,
          1.8834810256958008,
          1.8834810256958008,
          1.8834810256958008,
          1.8834810256958008,
          1.8834810256958008,
          1.8834810256958008,
          1.8834810256958008,
          1.8834810256958008,
          1.8834810256958008,
          1.8834810256958008,
          1.8834810256958008,
          1.8834810256958008,
          1.8834810256958008,
          1.8834810256958008,
          1.8834810256958008,
          1.8834810256958008,
          1.8834810256958008,
          1.8834810256958008,
          1.8834810256958008,
          1.8834810256958008,
          1.8834810256958008,
          1.8834810256958008,
          1.8834810256958008,
          1.8834810256958008,
          1.8834810256958008,
          1.8834810256958008,
          1.8834810256958008,
          1.8834810256958008,
          1.8834810256958008,
          1.8834810256958008,
          1.8834810256958008,
          1.8834810256958008,
          1.8834810256958008,
          1.8834810256958008,
          1.8834810256958008,
          1.8834810256958008,
          1.8834810256958008,
          1.8834810256958008,
          1.8834810256958008,
          1.8834810256958008,
          1.8834810256958008,
          1.8834810256958008,
          1.8834810256958008,
          1.8834810256958008,
          1.8834810256958008,
          1.8834810256958008,
          1.8834810256958008,
          1.8834810256958008,
          1.8834810256958008,
          1.8834810256958008,
          1.8834810256958008,
          1.8834810256958008,
          1.8834810256958008,
          1.8834810256958008,
          1.8834810256958008,
          1.8834810256958008,
          1.8834810256958008,
          1.8834810256958008,
          1.8834810256958008,
          1.8834810256958008,
          1.8834810256958008,
          1.8834810256958008,
          1.8834810256958008,
          1.8834810256958008,
          1.8834810256958008,
          1.8834810256958008,
          1.8834810256958008,
          1.8834810256958008,
          1.8834810256958008,
          1.8834810256958008,
          1.8834810256958008,
          1.8834810256958008,
          1.8834810256958008,
          1.8834810256958008,
          1.8834810256958008,
          1.8834810256958008,
          1.8834810256958008,
          1.8834810256958008,
          1.8834810256958008,
          1.8834810256958008,
          1.8834810256958008,
          1.8834810256958008,
          1.8834810256958008,
          1.8834810256958008,
          1.8834810256958008,
          1.8834810256958008,
          1.8834810256958008,
          1.8834810256958008,
          1.8834810256958008,
          1.8834810256958008,
          1.8834810256958008,
          1.8834810256958008,
          1.8834810256958008,
          1.8834810256958008,
          1.8834810256958008,
          1.8834810256958008,
          1.8834810256958008,
          1.8834810256958008,
          1.8834810256958008,
          1.8834810256958008,
          1.8834810256958008,
          1.8834810256958008,
          1.8834810256958008,
          1.8834810256958008,
          1.8834810256958008,
          1.8834810256958008,
          1.8834810256958008,
          1.8834810256958008,
          1.8834810256958008,
          1.8834810256958008,
          1.8834810256958008,
          1.8834810256958008,
          1.8834810256958008,
          1.8834810256958008,
          1.8834810256958008,
          1.8834810256958008,
          1.8834810256958008,
          1.8834810256958008,
          1.8834810256958008,
          1.8834810256958008,
          1.8834810256958008,
          1.8834810256958008,
          1.8834810256958008,
          1.8834810256958008,
          1.8834810256958008,
          1.8834810256958008,
          1.8834810256958008,
          1.8834810256958008,
          1.8834810256958008,
          1.8834810256958008,
          1.8834810256958008,
          1.8834810256958008,
          1.8834810256958008,
          1.8834810256958008,
          1.8834810256958008,
          1.8834810256958008,
          1.8834810256958008,
          1.8834810256958008,
          1.8834810256958008,
          1.8834810256958008,
          1.8834810256958008,
          1.8834810256958008,
          1.8834810256958008,
          1.8834810256958008,
          1.8834810256958008,
          1.8834810256958008,
          1.8834810256958008,
          1.8834810256958008,
          1.8834810256958008,
          1.8834810256958008,
          1.8834810256958008,
          1.8834810256958008,
          1.8834810256958008,
          1.8834810256958008,
          1.8834810256958008,
          1.8834810256958008,
          1.8834810256958008,
          1.8834810256958008,
          1.8834810256958008,
          1.8834810256958008,
          1.8834810256958008,
          1.8834810256958008,
          1.8834810256958008,
          1.8834810256958008,
          1.8834810256958008,
          1.8834810256958008,
          1.8834810256958008,
          1.8834810256958008,
          1.8834810256958008,
          1.8834810256958008,
          1.8834810256958008,
          1.8834810256958008,
          1.8834810256958008,
          1.8834810256958008,
          1.8834810256958008,
          1.8834810256958008,
          1.8834810256958008,
          1.8834810256958008,
          1.8834810256958008,
          1.8834810256958008,
          1.8834810256958008,
          1.8834810256958008,
          1.8834810256958008,
          1.8834810256958008,
          1.8834810256958008,
          1.8834810256958008,
          1.8834810256958008,
          1.8834810256958008,
          1.8834810256958008,
          1.8834810256958008,
          1.8834810256958008,
          1.8834810256958008,
          1.8834810256958008,
          1.8834810256958008,
          1.8834810256958008,
          1.8834810256958008,
          1.8834810256958008,
          1.8834810256958008,
          1.8834810256958008,
          1.8834810256958008,
          1.8834810256958008,
          1.8834810256958008,
          1.8834810256958008,
          1.8834810256958008,
          1.8834810256958008,
          1.8834810256958008,
          1.8834810256958008,
          1.8834810256958008,
          1.8834810256958008,
          1.8834810256958008,
          1.8834810256958008,
          1.8834810256958008,
          1.8834810256958008,
          1.8834810256958008,
          1.8834810256958008,
          1.8834810256958008,
          1.8834810256958008,
          1.8834810256958008,
          1.8834810256958008,
          1.8834810256958008,
          1.8834810256958008,
          1.8834810256958008,
          1.8834810256958008,
          1.8834810256958008,
          1.8834810256958008,
          1.8834810256958008,
          1.8834810256958008,
          1.8834810256958008,
          1.8834810256958008,
          1.8834810256958008,
          1.8834810256958008,
          1.8834810256958008,
          1.8834810256958008,
          1.8834810256958008,
          1.8834810256958008,
          1.8834810256958008,
          1.8834810256958008,
          1.8834810256958008,
          1.8834810256958008,
          1.8834810256958008,
          1.8834810256958008,
          1.8834810256958008,
          1.8834810256958008,
          1.8834810256958008,
          1.8834810256958008,
          1.8834810256958008,
          1.8834810256958008,
          1.8834810256958008,
          1.8834810256958008,
          1.8834810256958008,
          1.8834810256958008,
          1.8834810256958008,
          1.8834810256958008,
          1.8834810256958008,
          1.8834810256958008,
          1.8834810256958008,
          1.8834810256958008,
          1.8834810256958008,
          1.8834810256958008,
          1.8834810256958008,
          1.8834810256958008,
          1.8834810256958008,
          1.8834810256958008,
          1.8834810256958008,
          1.8834810256958008,
          1.8834810256958008,
          1.8834810256958008,
          1.8834810256958008,
          1.8834810256958008,
          1.8834810256958008,
          1.8834810256958008,
          1.8834810256958008,
          1.8834810256958008,
          1.8834810256958008,
          1.8834810256958008,
          1.8834810256958008,
          1.8834810256958008,
          1.8834810256958008,
          1.8834810256958008,
          1.8834810256958008,
          1.8834810256958008,
          1.8834810256958008,
          1.8834810256958008,
          1.8834810256958008,
          1.8834810256958008,
          1.8834810256958008,
          1.8834810256958008,
          1.8834810256958008,
          1.8834810256958008,
          1.8834810256958008,
          1.8834810256958008,
          1.8834810256958008,
          1.8834810256958008,
          1.8834810256958008,
          1.8834810256958008,
          1.8834810256958008,
          1.8834810256958008,
          1.8834810256958008,
          1.8834810256958008,
          1.8834810256958008,
          1.8834810256958008,
          1.8834810256958008,
          1.8834810256958008,
          1.8834810256958008,
          1.8834810256958008,
          1.8834810256958008,
          1.8834810256958008,
          1.8834810256958008,
          1.8834810256958008,
          1.8834810256958008,
          1.8834810256958008,
          1.8834810256958008,
          1.8834810256958008,
          1.8834810256958008,
          1.8834810256958008,
          1.8834810256958008,
          1.8834810256958008,
          1.8834810256958008,
          1.8834810256958008,
          1.8834810256958008,
          1.8834810256958008,
          1.8834810256958008,
          1.8834810256958008,
          1.8834810256958008,
          1.8834810256958008,
          1.8834810256958008,
          1.8834810256958008,
          1.8834810256958008,
          1.8834810256958008,
          1.8834810256958008,
          1.8834810256958008,
          1.8834810256958008,
          1.8834810256958008,
          1.8834810256958008,
          1.8834810256958008,
          1.8834810256958008,
          1.8834810256958008,
          1.8834810256958008,
          1.8834810256958008,
          1.8834810256958008,
          1.8834810256958008,
          1.8834810256958008,
          1.8834810256958008,
          1.8834810256958008,
          1.8834810256958008,
          1.8834810256958008,
          1.8834810256958008,
          1.8834810256958008,
          1.8834810256958008,
          1.8834810256958008,
          1.8834810256958008,
          1.8834810256958008,
          1.8834810256958008,
          1.8834810256958008,
          1.8834810256958008,
          1.8834810256958008,
          1.8834810256958008,
          1.8834810256958008,
          1.8834810256958008,
          1.8834810256958008
         ],
         "xaxis": "x3",
         "y": [
          1.8834810256958008,
          1.8834810256958008,
          1.8834810256958008,
          1.8834810256958008,
          1.8834810256958008,
          1.8834810256958008,
          1.8834810256958008,
          1.8834810256958008,
          1.8834810256958008,
          1.8834810256958008,
          1.8834810256958008,
          1.8834810256958008,
          1.8834810256958008,
          1.8834810256958008,
          1.8834810256958008,
          1.8834810256958008,
          1.8834810256958008,
          1.8834810256958008,
          1.8834810256958008,
          1.8834810256958008,
          1.8834810256958008,
          1.8834810256958008,
          1.8834810256958008,
          1.8834810256958008,
          1.8834810256958008,
          1.8834810256958008,
          1.8834810256958008,
          1.8834810256958008,
          1.8834810256958008,
          1.8834810256958008,
          1.8834810256958008,
          1.8834810256958008,
          1.8834810256958008,
          1.8834810256958008,
          1.8834810256958008,
          1.8834810256958008,
          1.8834810256958008,
          1.8834810256958008,
          1.8834810256958008,
          1.8834810256958008,
          1.8834810256958008,
          1.8834810256958008,
          1.8834810256958008,
          1.8834810256958008,
          1.8834810256958008,
          1.8834810256958008,
          1.8834810256958008,
          1.8834810256958008,
          1.8834810256958008,
          1.8834810256958008,
          1.8834810256958008,
          1.8834810256958008,
          1.8834810256958008,
          1.8834810256958008,
          1.8834810256958008,
          1.8834810256958008,
          1.8834810256958008,
          1.8834810256958008,
          1.8834810256958008,
          1.8834810256958008,
          1.8834810256958008,
          1.8834810256958008,
          1.8834810256958008,
          1.8834810256958008,
          1.8834810256958008,
          1.8834810256958008,
          1.8834810256958008,
          1.8834810256958008,
          1.8834810256958008,
          1.8834810256958008,
          1.8834810256958008,
          1.8834810256958008,
          1.8834810256958008,
          1.8834810256958008,
          1.8834810256958008,
          1.8834810256958008,
          1.8834810256958008,
          1.8834810256958008,
          1.8834810256958008,
          1.8834810256958008,
          1.8834810256958008,
          1.8834810256958008,
          1.8834810256958008,
          1.8834810256958008,
          1.8834810256958008,
          1.8834810256958008,
          1.8834810256958008,
          1.8834810256958008,
          1.8834810256958008,
          1.8834810256958008,
          1.8834810256958008,
          1.8834810256958008,
          1.8834810256958008,
          1.8834810256958008,
          1.8834810256958008,
          1.8834810256958008,
          1.8834810256958008,
          1.8834810256958008,
          1.8834810256958008,
          1.8834810256958008,
          1.8834810256958008,
          1.8834810256958008,
          1.8834810256958008,
          1.8834810256958008,
          1.8834810256958008,
          1.8834810256958008,
          1.8834810256958008,
          1.8834810256958008,
          1.8834810256958008,
          1.8834810256958008,
          1.8834810256958008,
          1.8834810256958008,
          1.8834810256958008,
          1.8834810256958008,
          1.8834810256958008,
          1.8834810256958008,
          1.8834810256958008,
          1.8834810256958008,
          1.8834810256958008,
          1.8834810256958008,
          1.8834810256958008,
          1.8834810256958008,
          1.8834810256958008,
          1.8834810256958008,
          1.8834810256958008,
          1.8834810256958008,
          1.8834810256958008,
          1.8834810256958008,
          1.8834810256958008,
          1.8834810256958008,
          1.8834810256958008,
          1.8834810256958008,
          1.8834810256958008,
          1.8834810256958008,
          1.8834810256958008,
          1.8834810256958008,
          1.8834810256958008,
          1.8834810256958008,
          1.8834810256958008,
          1.8834810256958008,
          1.8834810256958008,
          1.8834810256958008,
          1.8834810256958008,
          1.8834810256958008,
          1.8834810256958008,
          1.8834810256958008,
          1.8834810256958008,
          1.8834810256958008,
          1.8834810256958008,
          1.8834810256958008,
          1.8834810256958008,
          1.8834810256958008,
          1.8834810256958008,
          1.8834810256958008,
          1.8834810256958008,
          1.8834810256958008,
          1.8834810256958008,
          1.8834810256958008,
          1.8834810256958008,
          1.8834810256958008,
          1.8834810256958008,
          1.8834810256958008,
          1.8834810256958008,
          1.8834810256958008,
          1.8834810256958008,
          1.8834810256958008,
          1.8834810256958008,
          1.8834810256958008,
          1.8834810256958008,
          1.8834810256958008,
          1.8834810256958008,
          1.8834810256958008,
          1.8834810256958008,
          1.8834810256958008,
          1.8834810256958008,
          1.8834810256958008,
          1.8834810256958008,
          1.8834810256958008,
          1.8834810256958008,
          1.8834810256958008,
          1.8834810256958008,
          1.8834810256958008,
          1.8834810256958008,
          1.8834810256958008,
          1.8834810256958008,
          1.8834810256958008,
          1.8834810256958008,
          1.8834810256958008,
          1.8834810256958008,
          1.8834810256958008,
          1.8834810256958008,
          1.8834810256958008,
          1.8834810256958008,
          1.8834810256958008,
          1.8834810256958008,
          1.8834810256958008,
          1.8834810256958008,
          1.8834810256958008,
          1.8834810256958008,
          1.8834810256958008,
          1.8834810256958008,
          1.8834810256958008,
          1.8834810256958008,
          1.8834810256958008,
          1.8834810256958008,
          1.8834810256958008,
          1.8834810256958008,
          1.8834810256958008,
          1.8834810256958008,
          1.8834810256958008,
          1.8834810256958008,
          1.8834810256958008,
          1.8834810256958008,
          1.8834810256958008,
          1.8834810256958008,
          1.8834810256958008,
          1.8834810256958008,
          1.8834810256958008,
          1.8834810256958008,
          1.8834810256958008,
          1.8834810256958008,
          1.8834810256958008,
          1.8834810256958008,
          1.8834810256958008,
          1.8834810256958008,
          1.8834810256958008,
          1.8834810256958008,
          1.8834810256958008,
          1.8834810256958008,
          1.8834810256958008,
          1.8834810256958008,
          1.8834810256958008,
          1.8834810256958008,
          1.8834810256958008,
          1.8834810256958008,
          1.8834810256958008,
          1.8834810256958008,
          1.8834810256958008,
          1.8834810256958008,
          1.8834810256958008,
          1.8834810256958008,
          1.8834810256958008,
          1.8834810256958008,
          1.8834810256958008,
          1.8834810256958008,
          1.8834810256958008,
          1.8834810256958008,
          1.8834810256958008,
          1.8834810256958008,
          1.8834810256958008,
          1.8834810256958008,
          1.8834810256958008,
          1.8834810256958008,
          1.8834810256958008,
          1.8834810256958008,
          1.8834810256958008,
          1.8834810256958008,
          1.8834810256958008,
          1.8834810256958008,
          1.8834810256958008,
          1.8834810256958008,
          1.8834810256958008,
          1.8834810256958008,
          1.8834810256958008,
          1.8834810256958008,
          1.8834810256958008,
          1.8834810256958008,
          1.8834810256958008,
          1.8834810256958008,
          1.8834810256958008,
          1.8834810256958008,
          1.8834810256958008,
          1.8834810256958008,
          1.8834810256958008,
          1.8834810256958008,
          1.8834810256958008,
          1.8834810256958008,
          1.8834810256958008,
          1.8834810256958008,
          1.8834810256958008,
          1.8834810256958008,
          1.8834810256958008,
          1.8834810256958008,
          1.8834810256958008,
          1.8834810256958008,
          1.8834810256958008,
          1.8834810256958008,
          1.8834810256958008,
          1.8834810256958008,
          1.8834810256958008,
          1.8834810256958008,
          1.8834810256958008,
          1.8834810256958008,
          1.8834810256958008,
          1.8834810256958008,
          1.8834810256958008,
          1.8834810256958008,
          1.8834810256958008,
          1.8834810256958008,
          1.8834810256958008,
          1.8834810256958008,
          1.8834810256958008,
          1.8834810256958008,
          1.8834810256958008,
          1.8834810256958008,
          1.8834810256958008,
          1.8834810256958008,
          1.8834810256958008,
          1.8834810256958008,
          1.8834810256958008,
          1.8834810256958008,
          1.8834810256958008,
          1.8834810256958008,
          1.8834810256958008,
          1.8834810256958008,
          1.8834810256958008,
          1.8834810256958008,
          1.8834810256958008,
          1.8834810256958008,
          1.8834810256958008,
          1.8834810256958008,
          1.8834810256958008,
          1.8834810256958008,
          1.8834810256958008,
          1.8834810256958008,
          1.8834810256958008,
          1.8834810256958008,
          1.8834810256958008,
          1.8834810256958008,
          1.8834810256958008,
          1.8834810256958008,
          1.8834810256958008,
          1.8834810256958008,
          1.8834810256958008,
          1.8834810256958008,
          1.8834810256958008,
          1.8834810256958008,
          1.8834810256958008,
          1.8834810256958008,
          1.8834810256958008,
          1.8834810256958008,
          1.8834810256958008,
          1.8834810256958008,
          1.8834810256958008,
          1.8834810256958008,
          1.8834810256958008,
          1.8834810256958008,
          1.8834810256958008,
          1.8834810256958008,
          1.8834810256958008,
          1.8834810256958008,
          1.8834810256958008,
          1.8834810256958008,
          1.8834810256958008,
          1.8834810256958008,
          1.8834810256958008,
          1.8834810256958008,
          1.8834810256958008,
          1.8834810256958008,
          1.8834810256958008,
          1.8834810256958008,
          1.8834810256958008,
          1.8834810256958008,
          1.8834810256958008,
          1.8834810256958008,
          1.8834810256958008,
          1.8834810256958008,
          1.8834810256958008,
          1.8834810256958008,
          1.8834810256958008,
          1.8834810256958008,
          1.8834810256958008,
          1.8834810256958008,
          1.8834810256958008,
          1.8834810256958008,
          1.8834810256958008,
          1.8834810256958008,
          1.8834810256958008,
          1.8834810256958008,
          1.8834810256958008,
          1.8834810256958008,
          1.8834810256958008,
          1.8834810256958008,
          1.8834810256958008,
          1.8834810256958008,
          1.8834810256958008,
          1.8834810256958008,
          1.8834810256958008,
          1.8834810256958008,
          1.8834810256958008,
          1.8834810256958008,
          1.8834810256958008
         ],
         "yaxis": "y3"
        },
        {
         "marker": {
          "color": "rgb(106.66666666666667, 149.33333333333334, 255.0)"
         },
         "mode": "markers",
         "name": "(b,d)",
         "showlegend": false,
         "type": "scatter",
         "x": [
          1.1875327825546265,
          1.8840571641921997,
          1.8840571641921997,
          1.8840571641921997,
          1.8840571641921997,
          1.8840571641921997,
          1.8840571641921997,
          1.8840571641921997,
          1.8840571641921997,
          1.8840571641921997,
          1.8840571641921997,
          1.8840571641921997,
          1.8840571641921997,
          1.8840571641921997,
          1.8840571641921997,
          1.8840571641921997,
          1.8840571641921997,
          1.8840571641921997,
          1.8840571641921997,
          1.8840571641921997,
          1.8840571641921997,
          1.8840571641921997,
          1.8840571641921997,
          1.8840571641921997,
          1.8840571641921997,
          1.8840571641921997,
          1.8840571641921997,
          1.8840571641921997,
          1.8840571641921997,
          1.8840571641921997,
          1.8840571641921997,
          1.8840571641921997,
          1.8840571641921997,
          1.8840571641921997,
          1.8840571641921997,
          1.8840571641921997,
          1.8840571641921997,
          1.8840571641921997,
          1.8840571641921997,
          1.8840571641921997,
          1.8840571641921997,
          1.8840571641921997,
          1.8840571641921997,
          1.8840571641921997,
          1.8840571641921997,
          1.8840571641921997,
          1.8840571641921997,
          1.8840571641921997,
          1.8840571641921997,
          1.8840571641921997,
          1.8840571641921997,
          1.8840571641921997,
          1.8840571641921997,
          1.8840571641921997,
          1.8840571641921997,
          1.8840571641921997,
          1.8840571641921997,
          1.8840571641921997,
          1.8840571641921997,
          1.8840571641921997,
          1.8840571641921997,
          1.8840571641921997,
          1.8840571641921997,
          1.8840571641921997,
          1.8840571641921997,
          1.8840571641921997,
          1.8840571641921997,
          1.8840571641921997,
          1.8840571641921997,
          1.8840571641921997,
          1.8840571641921997,
          1.8840571641921997,
          1.8840571641921997,
          1.8840571641921997,
          1.8840571641921997,
          1.8840571641921997,
          1.8840571641921997,
          1.8840571641921997,
          1.8840571641921997,
          1.8840571641921997,
          1.8840571641921997,
          1.8840571641921997,
          1.8840571641921997,
          1.8840571641921997,
          1.8840571641921997,
          1.8840571641921997,
          1.8840571641921997,
          1.8840571641921997,
          1.8840571641921997,
          1.8840571641921997,
          1.8840571641921997,
          1.8840571641921997,
          1.8840571641921997,
          1.8840571641921997,
          1.8840571641921997,
          1.8840571641921997,
          1.8840571641921997,
          1.8840571641921997,
          1.8840571641921997,
          1.8840571641921997,
          1.8840571641921997,
          1.8840571641921997,
          1.8840571641921997,
          1.8840571641921997,
          1.8840571641921997,
          1.8840571641921997,
          1.8840571641921997,
          1.8840571641921997,
          1.8840571641921997,
          1.8840571641921997,
          1.8840571641921997,
          1.8840571641921997,
          1.8840571641921997,
          1.8840571641921997,
          1.8840571641921997,
          1.8840571641921997,
          1.8840571641921997,
          1.8840571641921997,
          1.8840571641921997,
          1.8840571641921997,
          1.8840571641921997,
          1.8840571641921997,
          1.8840571641921997,
          1.8840571641921997,
          1.8840571641921997,
          1.8840571641921997,
          1.8840571641921997,
          1.8840571641921997,
          1.8840571641921997,
          1.8840571641921997,
          1.8840571641921997,
          1.8840571641921997,
          1.8840571641921997,
          1.8840571641921997,
          1.8840571641921997,
          1.8840571641921997,
          1.8840571641921997,
          1.8840571641921997,
          1.8840571641921997,
          1.8840571641921997,
          1.8840571641921997,
          1.8840571641921997,
          1.8840571641921997,
          1.8840571641921997,
          1.8840571641921997,
          1.8840571641921997,
          1.8840571641921997,
          1.8840571641921997,
          1.8840571641921997,
          1.8840571641921997,
          1.8840571641921997,
          1.8840571641921997,
          1.8840571641921997,
          1.8840571641921997,
          1.8840571641921997,
          1.8840571641921997,
          1.8840571641921997,
          1.8840571641921997,
          1.8840571641921997,
          1.8840571641921997,
          1.8840571641921997,
          1.8840571641921997,
          1.8840571641921997,
          1.8840571641921997,
          1.8840571641921997,
          1.8840571641921997,
          1.8840571641921997,
          1.8840571641921997,
          1.8840571641921997,
          1.8840571641921997,
          1.8840571641921997,
          1.8840571641921997,
          1.8840571641921997,
          1.8840571641921997,
          1.8840571641921997,
          1.8840571641921997,
          1.8840571641921997,
          1.8840571641921997,
          1.8840571641921997,
          1.8840571641921997,
          1.8840571641921997,
          1.8840571641921997,
          1.8840571641921997,
          1.8840571641921997,
          1.8840571641921997,
          1.8840571641921997,
          1.8840571641921997,
          1.8840571641921997,
          1.8840571641921997,
          1.8840571641921997,
          1.8840571641921997,
          1.8840571641921997,
          1.8840571641921997,
          1.8840571641921997,
          1.8840571641921997,
          1.8840571641921997,
          1.8840571641921997,
          1.8840571641921997,
          1.8840571641921997,
          1.8840571641921997,
          1.8840571641921997,
          1.8840571641921997,
          1.8840571641921997,
          1.8840571641921997,
          1.8840571641921997,
          1.8840571641921997,
          1.8840571641921997,
          1.8840571641921997,
          1.8840571641921997,
          1.8840571641921997,
          1.8840571641921997,
          1.8840571641921997,
          1.8840571641921997,
          1.8840571641921997,
          1.8840571641921997,
          1.8840571641921997,
          1.8840571641921997,
          1.8840571641921997,
          1.8840571641921997,
          1.8840571641921997,
          1.8840571641921997,
          1.8840571641921997,
          1.8840571641921997,
          1.8840571641921997,
          1.8840571641921997,
          1.8840571641921997,
          1.8840571641921997,
          1.8840571641921997,
          1.8840571641921997,
          1.8840571641921997,
          1.8840571641921997,
          1.8840571641921997,
          1.8840571641921997,
          1.8840571641921997,
          1.8840571641921997,
          1.8840571641921997,
          1.8840571641921997,
          1.8840571641921997,
          1.8840571641921997,
          1.8840571641921997,
          1.8840571641921997,
          1.8840571641921997,
          1.8840571641921997,
          1.8840571641921997,
          1.8840571641921997,
          1.8840571641921997,
          1.8840571641921997,
          1.8840571641921997,
          1.8840571641921997,
          1.8840571641921997,
          1.8840571641921997,
          1.8840571641921997,
          1.8840571641921997,
          1.8840571641921997,
          1.8840571641921997,
          1.8840571641921997,
          1.8840571641921997,
          1.8840571641921997,
          1.8840571641921997,
          1.8840571641921997,
          1.8840571641921997,
          1.8840571641921997,
          1.8840571641921997,
          1.8840571641921997,
          1.8840571641921997,
          1.8840571641921997,
          1.8840571641921997,
          1.8840571641921997,
          1.8840571641921997,
          1.8840571641921997,
          1.8840571641921997,
          1.8840571641921997,
          1.8840571641921997,
          1.8840571641921997,
          1.8840571641921997,
          1.8840571641921997,
          1.8840571641921997,
          1.8840571641921997,
          1.8840571641921997,
          1.8840571641921997,
          1.8840571641921997,
          1.8840571641921997,
          1.8840571641921997,
          1.8840571641921997,
          1.8840571641921997,
          1.8840571641921997,
          1.8840571641921997,
          1.8840571641921997,
          1.8840571641921997,
          1.8840571641921997,
          1.8840571641921997,
          1.8840571641921997,
          1.8840571641921997,
          1.8840571641921997,
          1.8840571641921997,
          1.8840571641921997,
          1.8840571641921997,
          1.8840571641921997,
          1.8840571641921997,
          1.8840571641921997,
          1.8840571641921997,
          1.8840571641921997,
          1.8840571641921997,
          1.8840571641921997,
          1.8840571641921997,
          1.8840571641921997,
          1.8840571641921997,
          1.8840571641921997,
          1.8840571641921997,
          1.8840571641921997,
          1.8840571641921997,
          1.8840571641921997,
          1.8840571641921997,
          1.8840571641921997,
          1.8840571641921997,
          1.8840571641921997,
          1.8840571641921997,
          1.8840571641921997,
          1.8840571641921997,
          1.8840571641921997,
          1.8840571641921997,
          1.8840571641921997,
          1.8840571641921997,
          1.8840571641921997,
          1.8840571641921997,
          1.8840571641921997,
          1.8840571641921997,
          1.8840571641921997,
          1.8840571641921997,
          1.8840571641921997,
          1.8840571641921997,
          1.8840571641921997,
          1.8840571641921997,
          1.8840571641921997,
          1.8840571641921997,
          1.8840571641921997,
          1.8840571641921997,
          1.8840571641921997,
          1.8840571641921997,
          1.8840571641921997,
          1.8840571641921997,
          1.8840571641921997,
          1.8840571641921997,
          1.8840571641921997,
          1.8840571641921997,
          1.8840571641921997,
          1.8840571641921997,
          1.8840571641921997,
          1.8840571641921997,
          1.8840571641921997,
          1.8840571641921997,
          1.8840571641921997,
          1.8840571641921997,
          1.8840571641921997,
          1.8840571641921997,
          1.8840571641921997,
          1.8840571641921997,
          1.8840571641921997,
          1.8840571641921997,
          1.8840571641921997,
          1.8840571641921997,
          1.8840571641921997,
          1.8840571641921997,
          1.8840571641921997,
          1.8840571641921997,
          1.8840571641921997,
          1.8840571641921997,
          1.8840571641921997,
          1.8840571641921997,
          1.8840571641921997,
          1.8840571641921997,
          1.8840571641921997,
          1.8840571641921997,
          1.8840571641921997,
          1.8840571641921997,
          1.8840571641921997,
          1.8840571641921997,
          1.8840571641921997,
          1.8840571641921997,
          1.8840571641921997,
          1.8840571641921997,
          1.8840571641921997,
          1.8840571641921997,
          1.8840571641921997,
          1.8840571641921997,
          1.8840571641921997,
          1.8840571641921997,
          1.8840571641921997,
          1.8840571641921997,
          1.8840571641921997,
          1.8840571641921997,
          1.8840571641921997
         ],
         "xaxis": "x3",
         "y": [
          1.8840571641921997,
          1.8840571641921997,
          1.8840571641921997,
          1.8840571641921997,
          1.8840571641921997,
          1.8840571641921997,
          1.8840571641921997,
          1.8840571641921997,
          1.8840571641921997,
          1.8840571641921997,
          1.8840571641921997,
          1.8840571641921997,
          1.8840571641921997,
          1.8840571641921997,
          1.8840571641921997,
          1.8840571641921997,
          1.8840571641921997,
          1.8840571641921997,
          1.8840571641921997,
          1.8840571641921997,
          1.8840571641921997,
          1.8840571641921997,
          1.8840571641921997,
          1.8840571641921997,
          1.8840571641921997,
          1.8840571641921997,
          1.8840571641921997,
          1.8840571641921997,
          1.8840571641921997,
          1.8840571641921997,
          1.8840571641921997,
          1.8840571641921997,
          1.8840571641921997,
          1.8840571641921997,
          1.8840571641921997,
          1.8840571641921997,
          1.8840571641921997,
          1.8840571641921997,
          1.8840571641921997,
          1.8840571641921997,
          1.8840571641921997,
          1.8840571641921997,
          1.8840571641921997,
          1.8840571641921997,
          1.8840571641921997,
          1.8840571641921997,
          1.8840571641921997,
          1.8840571641921997,
          1.8840571641921997,
          1.8840571641921997,
          1.8840571641921997,
          1.8840571641921997,
          1.8840571641921997,
          1.8840571641921997,
          1.8840571641921997,
          1.8840571641921997,
          1.8840571641921997,
          1.8840571641921997,
          1.8840571641921997,
          1.8840571641921997,
          1.8840571641921997,
          1.8840571641921997,
          1.8840571641921997,
          1.8840571641921997,
          1.8840571641921997,
          1.8840571641921997,
          1.8840571641921997,
          1.8840571641921997,
          1.8840571641921997,
          1.8840571641921997,
          1.8840571641921997,
          1.8840571641921997,
          1.8840571641921997,
          1.8840571641921997,
          1.8840571641921997,
          1.8840571641921997,
          1.8840571641921997,
          1.8840571641921997,
          1.8840571641921997,
          1.8840571641921997,
          1.8840571641921997,
          1.8840571641921997,
          1.8840571641921997,
          1.8840571641921997,
          1.8840571641921997,
          1.8840571641921997,
          1.8840571641921997,
          1.8840571641921997,
          1.8840571641921997,
          1.8840571641921997,
          1.8840571641921997,
          1.8840571641921997,
          1.8840571641921997,
          1.8840571641921997,
          1.8840571641921997,
          1.8840571641921997,
          1.8840571641921997,
          1.8840571641921997,
          1.8840571641921997,
          1.8840571641921997,
          1.8840571641921997,
          1.8840571641921997,
          1.8840571641921997,
          1.8840571641921997,
          1.8840571641921997,
          1.8840571641921997,
          1.8840571641921997,
          1.8840571641921997,
          1.8840571641921997,
          1.8840571641921997,
          1.8840571641921997,
          1.8840571641921997,
          1.8840571641921997,
          1.8840571641921997,
          1.8840571641921997,
          1.8840571641921997,
          1.8840571641921997,
          1.8840571641921997,
          1.8840571641921997,
          1.8840571641921997,
          1.8840571641921997,
          1.8840571641921997,
          1.8840571641921997,
          1.8840571641921997,
          1.8840571641921997,
          1.8840571641921997,
          1.8840571641921997,
          1.8840571641921997,
          1.8840571641921997,
          1.8840571641921997,
          1.8840571641921997,
          1.8840571641921997,
          1.8840571641921997,
          1.8840571641921997,
          1.8840571641921997,
          1.8840571641921997,
          1.8840571641921997,
          1.8840571641921997,
          1.8840571641921997,
          1.8840571641921997,
          1.8840571641921997,
          1.8840571641921997,
          1.8840571641921997,
          1.8840571641921997,
          1.8840571641921997,
          1.8840571641921997,
          1.8840571641921997,
          1.8840571641921997,
          1.8840571641921997,
          1.8840571641921997,
          1.8840571641921997,
          1.8840571641921997,
          1.8840571641921997,
          1.8840571641921997,
          1.8840571641921997,
          1.8840571641921997,
          1.8840571641921997,
          1.8840571641921997,
          1.8840571641921997,
          1.8840571641921997,
          1.8840571641921997,
          1.8840571641921997,
          1.8840571641921997,
          1.8840571641921997,
          1.8840571641921997,
          1.8840571641921997,
          1.8840571641921997,
          1.8840571641921997,
          1.8840571641921997,
          1.8840571641921997,
          1.8840571641921997,
          1.8840571641921997,
          1.8840571641921997,
          1.8840571641921997,
          1.8840571641921997,
          1.8840571641921997,
          1.8840571641921997,
          1.8840571641921997,
          1.8840571641921997,
          1.8840571641921997,
          1.8840571641921997,
          1.8840571641921997,
          1.8840571641921997,
          1.8840571641921997,
          1.8840571641921997,
          1.8840571641921997,
          1.8840571641921997,
          1.8840571641921997,
          1.8840571641921997,
          1.8840571641921997,
          1.8840571641921997,
          1.8840571641921997,
          1.8840571641921997,
          1.8840571641921997,
          1.8840571641921997,
          1.8840571641921997,
          1.8840571641921997,
          1.8840571641921997,
          1.8840571641921997,
          1.8840571641921997,
          1.8840571641921997,
          1.8840571641921997,
          1.8840571641921997,
          1.8840571641921997,
          1.8840571641921997,
          1.8840571641921997,
          1.8840571641921997,
          1.8840571641921997,
          1.8840571641921997,
          1.8840571641921997,
          1.8840571641921997,
          1.8840571641921997,
          1.8840571641921997,
          1.8840571641921997,
          1.8840571641921997,
          1.8840571641921997,
          1.8840571641921997,
          1.8840571641921997,
          1.8840571641921997,
          1.8840571641921997,
          1.8840571641921997,
          1.8840571641921997,
          1.8840571641921997,
          1.8840571641921997,
          1.8840571641921997,
          1.8840571641921997,
          1.8840571641921997,
          1.8840571641921997,
          1.8840571641921997,
          1.8840571641921997,
          1.8840571641921997,
          1.8840571641921997,
          1.8840571641921997,
          1.8840571641921997,
          1.8840571641921997,
          1.8840571641921997,
          1.8840571641921997,
          1.8840571641921997,
          1.8840571641921997,
          1.8840571641921997,
          1.8840571641921997,
          1.8840571641921997,
          1.8840571641921997,
          1.8840571641921997,
          1.8840571641921997,
          1.8840571641921997,
          1.8840571641921997,
          1.8840571641921997,
          1.8840571641921997,
          1.8840571641921997,
          1.8840571641921997,
          1.8840571641921997,
          1.8840571641921997,
          1.8840571641921997,
          1.8840571641921997,
          1.8840571641921997,
          1.8840571641921997,
          1.8840571641921997,
          1.8840571641921997,
          1.8840571641921997,
          1.8840571641921997,
          1.8840571641921997,
          1.8840571641921997,
          1.8840571641921997,
          1.8840571641921997,
          1.8840571641921997,
          1.8840571641921997,
          1.8840571641921997,
          1.8840571641921997,
          1.8840571641921997,
          1.8840571641921997,
          1.8840571641921997,
          1.8840571641921997,
          1.8840571641921997,
          1.8840571641921997,
          1.8840571641921997,
          1.8840571641921997,
          1.8840571641921997,
          1.8840571641921997,
          1.8840571641921997,
          1.8840571641921997,
          1.8840571641921997,
          1.8840571641921997,
          1.8840571641921997,
          1.8840571641921997,
          1.8840571641921997,
          1.8840571641921997,
          1.8840571641921997,
          1.8840571641921997,
          1.8840571641921997,
          1.8840571641921997,
          1.8840571641921997,
          1.8840571641921997,
          1.8840571641921997,
          1.8840571641921997,
          1.8840571641921997,
          1.8840571641921997,
          1.8840571641921997,
          1.8840571641921997,
          1.8840571641921997,
          1.8840571641921997,
          1.8840571641921997,
          1.8840571641921997,
          1.8840571641921997,
          1.8840571641921997,
          1.8840571641921997,
          1.8840571641921997,
          1.8840571641921997,
          1.8840571641921997,
          1.8840571641921997,
          1.8840571641921997,
          1.8840571641921997,
          1.8840571641921997,
          1.8840571641921997,
          1.8840571641921997,
          1.8840571641921997,
          1.8840571641921997,
          1.8840571641921997,
          1.8840571641921997,
          1.8840571641921997,
          1.8840571641921997,
          1.8840571641921997,
          1.8840571641921997,
          1.8840571641921997,
          1.8840571641921997,
          1.8840571641921997,
          1.8840571641921997,
          1.8840571641921997,
          1.8840571641921997,
          1.8840571641921997,
          1.8840571641921997,
          1.8840571641921997,
          1.8840571641921997,
          1.8840571641921997,
          1.8840571641921997,
          1.8840571641921997,
          1.8840571641921997,
          1.8840571641921997,
          1.8840571641921997,
          1.8840571641921997,
          1.8840571641921997,
          1.8840571641921997,
          1.8840571641921997,
          1.8840571641921997,
          1.8840571641921997,
          1.8840571641921997,
          1.8840571641921997,
          1.8840571641921997,
          1.8840571641921997,
          1.8840571641921997,
          1.8840571641921997,
          1.8840571641921997,
          1.8840571641921997,
          1.8840571641921997,
          1.8840571641921997,
          1.8840571641921997,
          1.8840571641921997,
          1.8840571641921997,
          1.8840571641921997,
          1.8840571641921997,
          1.8840571641921997,
          1.8840571641921997,
          1.8840571641921997,
          1.8840571641921997,
          1.8840571641921997,
          1.8840571641921997,
          1.8840571641921997,
          1.8840571641921997,
          1.8840571641921997,
          1.8840571641921997,
          1.8840571641921997,
          1.8840571641921997,
          1.8840571641921997,
          1.8840571641921997,
          1.8840571641921997,
          1.8840571641921997,
          1.8840571641921997,
          1.8840571641921997,
          1.8840571641921997,
          1.8840571641921997,
          1.8840571641921997,
          1.8840571641921997,
          1.8840571641921997,
          1.8840571641921997,
          1.8840571641921997,
          1.8840571641921997,
          1.8840571641921997,
          1.8840571641921997,
          1.8840571641921997,
          1.8840571641921997,
          1.8840571641921997,
          1.8840571641921997
         ],
         "yaxis": "y3"
        },
        {
         "marker": {
          "color": "rgb(120.0, 120.0, 255.0)"
         },
         "mode": "markers",
         "name": "(b,d)",
         "showlegend": false,
         "type": "scatter",
         "x": [
          1.2097797393798828,
          1.8860774040222168,
          1.8860774040222168,
          1.8860774040222168,
          1.8860774040222168,
          1.8860774040222168,
          1.8860774040222168,
          1.8860774040222168,
          1.8860774040222168,
          1.8860774040222168,
          1.8860774040222168,
          1.8860774040222168,
          1.8860774040222168,
          1.8860774040222168,
          1.8860774040222168,
          1.8860774040222168,
          1.8860774040222168,
          1.8860774040222168,
          1.8860774040222168,
          1.8860774040222168,
          1.8860774040222168,
          1.8860774040222168,
          1.8860774040222168,
          1.8860774040222168,
          1.8860774040222168,
          1.8860774040222168,
          1.8860774040222168,
          1.8860774040222168,
          1.8860774040222168,
          1.8860774040222168,
          1.8860774040222168,
          1.8860774040222168,
          1.8860774040222168,
          1.8860774040222168,
          1.8860774040222168,
          1.8860774040222168,
          1.8860774040222168,
          1.8860774040222168,
          1.8860774040222168,
          1.8860774040222168,
          1.8860774040222168,
          1.8860774040222168,
          1.8860774040222168,
          1.8860774040222168,
          1.8860774040222168,
          1.8860774040222168,
          1.8860774040222168,
          1.8860774040222168,
          1.8860774040222168,
          1.8860774040222168,
          1.8860774040222168,
          1.8860774040222168,
          1.8860774040222168,
          1.8860774040222168,
          1.8860774040222168,
          1.8860774040222168,
          1.8860774040222168,
          1.8860774040222168,
          1.8860774040222168,
          1.8860774040222168,
          1.8860774040222168,
          1.8860774040222168,
          1.8860774040222168,
          1.8860774040222168,
          1.8860774040222168,
          1.8860774040222168,
          1.8860774040222168,
          1.8860774040222168,
          1.8860774040222168,
          1.8860774040222168,
          1.8860774040222168,
          1.8860774040222168,
          1.8860774040222168,
          1.8860774040222168,
          1.8860774040222168,
          1.8860774040222168,
          1.8860774040222168,
          1.8860774040222168,
          1.8860774040222168,
          1.8860774040222168,
          1.8860774040222168,
          1.8860774040222168,
          1.8860774040222168,
          1.8860774040222168,
          1.8860774040222168,
          1.8860774040222168,
          1.8860774040222168,
          1.8860774040222168,
          1.8860774040222168,
          1.8860774040222168,
          1.8860774040222168,
          1.8860774040222168,
          1.8860774040222168,
          1.8860774040222168,
          1.8860774040222168,
          1.8860774040222168,
          1.8860774040222168,
          1.8860774040222168,
          1.8860774040222168,
          1.8860774040222168,
          1.8860774040222168,
          1.8860774040222168,
          1.8860774040222168,
          1.8860774040222168,
          1.8860774040222168,
          1.8860774040222168,
          1.8860774040222168,
          1.8860774040222168,
          1.8860774040222168,
          1.8860774040222168,
          1.8860774040222168,
          1.8860774040222168,
          1.8860774040222168,
          1.8860774040222168,
          1.8860774040222168,
          1.8860774040222168,
          1.8860774040222168,
          1.8860774040222168,
          1.8860774040222168,
          1.8860774040222168,
          1.8860774040222168,
          1.8860774040222168,
          1.8860774040222168,
          1.8860774040222168,
          1.8860774040222168,
          1.8860774040222168,
          1.8860774040222168,
          1.8860774040222168,
          1.8860774040222168,
          1.8860774040222168,
          1.8860774040222168,
          1.8860774040222168,
          1.8860774040222168,
          1.8860774040222168,
          1.8860774040222168,
          1.8860774040222168,
          1.8860774040222168,
          1.8860774040222168,
          1.8860774040222168,
          1.8860774040222168,
          1.8860774040222168,
          1.8860774040222168,
          1.8860774040222168,
          1.8860774040222168,
          1.8860774040222168,
          1.8860774040222168,
          1.8860774040222168,
          1.8860774040222168,
          1.8860774040222168,
          1.8860774040222168,
          1.8860774040222168,
          1.8860774040222168,
          1.8860774040222168,
          1.8860774040222168,
          1.8860774040222168,
          1.8860774040222168,
          1.8860774040222168,
          1.8860774040222168,
          1.8860774040222168,
          1.8860774040222168,
          1.8860774040222168,
          1.8860774040222168,
          1.8860774040222168,
          1.8860774040222168,
          1.8860774040222168,
          1.8860774040222168,
          1.8860774040222168,
          1.8860774040222168,
          1.8860774040222168,
          1.8860774040222168,
          1.8860774040222168,
          1.8860774040222168,
          1.8860774040222168,
          1.8860774040222168,
          1.8860774040222168,
          1.8860774040222168,
          1.8860774040222168,
          1.8860774040222168,
          1.8860774040222168,
          1.8860774040222168,
          1.8860774040222168,
          1.8860774040222168,
          1.8860774040222168,
          1.8860774040222168,
          1.8860774040222168,
          1.8860774040222168,
          1.8860774040222168,
          1.8860774040222168,
          1.8860774040222168,
          1.8860774040222168,
          1.8860774040222168,
          1.8860774040222168,
          1.8860774040222168,
          1.8860774040222168,
          1.8860774040222168,
          1.8860774040222168,
          1.8860774040222168,
          1.8860774040222168,
          1.8860774040222168,
          1.8860774040222168,
          1.8860774040222168,
          1.8860774040222168,
          1.8860774040222168,
          1.8860774040222168,
          1.8860774040222168,
          1.8860774040222168,
          1.8860774040222168,
          1.8860774040222168,
          1.8860774040222168,
          1.8860774040222168,
          1.8860774040222168,
          1.8860774040222168,
          1.8860774040222168,
          1.8860774040222168,
          1.8860774040222168,
          1.8860774040222168,
          1.8860774040222168,
          1.8860774040222168,
          1.8860774040222168,
          1.8860774040222168,
          1.8860774040222168,
          1.8860774040222168,
          1.8860774040222168,
          1.8860774040222168,
          1.8860774040222168,
          1.8860774040222168,
          1.8860774040222168,
          1.8860774040222168,
          1.8860774040222168,
          1.8860774040222168,
          1.8860774040222168,
          1.8860774040222168,
          1.8860774040222168,
          1.8860774040222168,
          1.8860774040222168,
          1.8860774040222168,
          1.8860774040222168,
          1.8860774040222168,
          1.8860774040222168,
          1.8860774040222168,
          1.8860774040222168,
          1.8860774040222168,
          1.8860774040222168,
          1.8860774040222168,
          1.8860774040222168,
          1.8860774040222168,
          1.8860774040222168,
          1.8860774040222168,
          1.8860774040222168,
          1.8860774040222168,
          1.8860774040222168,
          1.8860774040222168,
          1.8860774040222168,
          1.8860774040222168,
          1.8860774040222168,
          1.8860774040222168,
          1.8860774040222168,
          1.8860774040222168,
          1.8860774040222168,
          1.8860774040222168,
          1.8860774040222168,
          1.8860774040222168,
          1.8860774040222168,
          1.8860774040222168,
          1.8860774040222168,
          1.8860774040222168,
          1.8860774040222168,
          1.8860774040222168,
          1.8860774040222168,
          1.8860774040222168,
          1.8860774040222168,
          1.8860774040222168,
          1.8860774040222168,
          1.8860774040222168,
          1.8860774040222168,
          1.8860774040222168,
          1.8860774040222168,
          1.8860774040222168,
          1.8860774040222168,
          1.8860774040222168,
          1.8860774040222168,
          1.8860774040222168,
          1.8860774040222168,
          1.8860774040222168,
          1.8860774040222168,
          1.8860774040222168,
          1.8860774040222168,
          1.8860774040222168,
          1.8860774040222168,
          1.8860774040222168,
          1.8860774040222168,
          1.8860774040222168,
          1.8860774040222168,
          1.8860774040222168,
          1.8860774040222168,
          1.8860774040222168,
          1.8860774040222168,
          1.8860774040222168,
          1.8860774040222168,
          1.8860774040222168,
          1.8860774040222168,
          1.8860774040222168,
          1.8860774040222168,
          1.8860774040222168,
          1.8860774040222168,
          1.8860774040222168,
          1.8860774040222168,
          1.8860774040222168,
          1.8860774040222168,
          1.8860774040222168,
          1.8860774040222168,
          1.8860774040222168,
          1.8860774040222168,
          1.8860774040222168,
          1.8860774040222168,
          1.8860774040222168,
          1.8860774040222168,
          1.8860774040222168,
          1.8860774040222168,
          1.8860774040222168,
          1.8860774040222168,
          1.8860774040222168,
          1.8860774040222168,
          1.8860774040222168,
          1.8860774040222168,
          1.8860774040222168,
          1.8860774040222168,
          1.8860774040222168,
          1.8860774040222168,
          1.8860774040222168,
          1.8860774040222168,
          1.8860774040222168,
          1.8860774040222168,
          1.8860774040222168,
          1.8860774040222168,
          1.8860774040222168,
          1.8860774040222168,
          1.8860774040222168,
          1.8860774040222168,
          1.8860774040222168,
          1.8860774040222168,
          1.8860774040222168,
          1.8860774040222168,
          1.8860774040222168,
          1.8860774040222168,
          1.8860774040222168,
          1.8860774040222168,
          1.8860774040222168,
          1.8860774040222168,
          1.8860774040222168,
          1.8860774040222168,
          1.8860774040222168,
          1.8860774040222168,
          1.8860774040222168,
          1.8860774040222168,
          1.8860774040222168,
          1.8860774040222168,
          1.8860774040222168,
          1.8860774040222168,
          1.8860774040222168,
          1.8860774040222168,
          1.8860774040222168,
          1.8860774040222168,
          1.8860774040222168,
          1.8860774040222168,
          1.8860774040222168,
          1.8860774040222168,
          1.8860774040222168,
          1.8860774040222168,
          1.8860774040222168,
          1.8860774040222168,
          1.8860774040222168,
          1.8860774040222168,
          1.8860774040222168,
          1.8860774040222168,
          1.8860774040222168,
          1.8860774040222168,
          1.8860774040222168,
          1.8860774040222168,
          1.8860774040222168,
          1.8860774040222168,
          1.8860774040222168,
          1.8860774040222168,
          1.8860774040222168,
          1.8860774040222168,
          1.8860774040222168,
          1.8860774040222168,
          1.8860774040222168,
          1.8860774040222168,
          1.8860774040222168,
          1.8860774040222168,
          1.8860774040222168
         ],
         "xaxis": "x3",
         "y": [
          1.8860774040222168,
          1.8860774040222168,
          1.8860774040222168,
          1.8860774040222168,
          1.8860774040222168,
          1.8860774040222168,
          1.8860774040222168,
          1.8860774040222168,
          1.8860774040222168,
          1.8860774040222168,
          1.8860774040222168,
          1.8860774040222168,
          1.8860774040222168,
          1.8860774040222168,
          1.8860774040222168,
          1.8860774040222168,
          1.8860774040222168,
          1.8860774040222168,
          1.8860774040222168,
          1.8860774040222168,
          1.8860774040222168,
          1.8860774040222168,
          1.8860774040222168,
          1.8860774040222168,
          1.8860774040222168,
          1.8860774040222168,
          1.8860774040222168,
          1.8860774040222168,
          1.8860774040222168,
          1.8860774040222168,
          1.8860774040222168,
          1.8860774040222168,
          1.8860774040222168,
          1.8860774040222168,
          1.8860774040222168,
          1.8860774040222168,
          1.8860774040222168,
          1.8860774040222168,
          1.8860774040222168,
          1.8860774040222168,
          1.8860774040222168,
          1.8860774040222168,
          1.8860774040222168,
          1.8860774040222168,
          1.8860774040222168,
          1.8860774040222168,
          1.8860774040222168,
          1.8860774040222168,
          1.8860774040222168,
          1.8860774040222168,
          1.8860774040222168,
          1.8860774040222168,
          1.8860774040222168,
          1.8860774040222168,
          1.8860774040222168,
          1.8860774040222168,
          1.8860774040222168,
          1.8860774040222168,
          1.8860774040222168,
          1.8860774040222168,
          1.8860774040222168,
          1.8860774040222168,
          1.8860774040222168,
          1.8860774040222168,
          1.8860774040222168,
          1.8860774040222168,
          1.8860774040222168,
          1.8860774040222168,
          1.8860774040222168,
          1.8860774040222168,
          1.8860774040222168,
          1.8860774040222168,
          1.8860774040222168,
          1.8860774040222168,
          1.8860774040222168,
          1.8860774040222168,
          1.8860774040222168,
          1.8860774040222168,
          1.8860774040222168,
          1.8860774040222168,
          1.8860774040222168,
          1.8860774040222168,
          1.8860774040222168,
          1.8860774040222168,
          1.8860774040222168,
          1.8860774040222168,
          1.8860774040222168,
          1.8860774040222168,
          1.8860774040222168,
          1.8860774040222168,
          1.8860774040222168,
          1.8860774040222168,
          1.8860774040222168,
          1.8860774040222168,
          1.8860774040222168,
          1.8860774040222168,
          1.8860774040222168,
          1.8860774040222168,
          1.8860774040222168,
          1.8860774040222168,
          1.8860774040222168,
          1.8860774040222168,
          1.8860774040222168,
          1.8860774040222168,
          1.8860774040222168,
          1.8860774040222168,
          1.8860774040222168,
          1.8860774040222168,
          1.8860774040222168,
          1.8860774040222168,
          1.8860774040222168,
          1.8860774040222168,
          1.8860774040222168,
          1.8860774040222168,
          1.8860774040222168,
          1.8860774040222168,
          1.8860774040222168,
          1.8860774040222168,
          1.8860774040222168,
          1.8860774040222168,
          1.8860774040222168,
          1.8860774040222168,
          1.8860774040222168,
          1.8860774040222168,
          1.8860774040222168,
          1.8860774040222168,
          1.8860774040222168,
          1.8860774040222168,
          1.8860774040222168,
          1.8860774040222168,
          1.8860774040222168,
          1.8860774040222168,
          1.8860774040222168,
          1.8860774040222168,
          1.8860774040222168,
          1.8860774040222168,
          1.8860774040222168,
          1.8860774040222168,
          1.8860774040222168,
          1.8860774040222168,
          1.8860774040222168,
          1.8860774040222168,
          1.8860774040222168,
          1.8860774040222168,
          1.8860774040222168,
          1.8860774040222168,
          1.8860774040222168,
          1.8860774040222168,
          1.8860774040222168,
          1.8860774040222168,
          1.8860774040222168,
          1.8860774040222168,
          1.8860774040222168,
          1.8860774040222168,
          1.8860774040222168,
          1.8860774040222168,
          1.8860774040222168,
          1.8860774040222168,
          1.8860774040222168,
          1.8860774040222168,
          1.8860774040222168,
          1.8860774040222168,
          1.8860774040222168,
          1.8860774040222168,
          1.8860774040222168,
          1.8860774040222168,
          1.8860774040222168,
          1.8860774040222168,
          1.8860774040222168,
          1.8860774040222168,
          1.8860774040222168,
          1.8860774040222168,
          1.8860774040222168,
          1.8860774040222168,
          1.8860774040222168,
          1.8860774040222168,
          1.8860774040222168,
          1.8860774040222168,
          1.8860774040222168,
          1.8860774040222168,
          1.8860774040222168,
          1.8860774040222168,
          1.8860774040222168,
          1.8860774040222168,
          1.8860774040222168,
          1.8860774040222168,
          1.8860774040222168,
          1.8860774040222168,
          1.8860774040222168,
          1.8860774040222168,
          1.8860774040222168,
          1.8860774040222168,
          1.8860774040222168,
          1.8860774040222168,
          1.8860774040222168,
          1.8860774040222168,
          1.8860774040222168,
          1.8860774040222168,
          1.8860774040222168,
          1.8860774040222168,
          1.8860774040222168,
          1.8860774040222168,
          1.8860774040222168,
          1.8860774040222168,
          1.8860774040222168,
          1.8860774040222168,
          1.8860774040222168,
          1.8860774040222168,
          1.8860774040222168,
          1.8860774040222168,
          1.8860774040222168,
          1.8860774040222168,
          1.8860774040222168,
          1.8860774040222168,
          1.8860774040222168,
          1.8860774040222168,
          1.8860774040222168,
          1.8860774040222168,
          1.8860774040222168,
          1.8860774040222168,
          1.8860774040222168,
          1.8860774040222168,
          1.8860774040222168,
          1.8860774040222168,
          1.8860774040222168,
          1.8860774040222168,
          1.8860774040222168,
          1.8860774040222168,
          1.8860774040222168,
          1.8860774040222168,
          1.8860774040222168,
          1.8860774040222168,
          1.8860774040222168,
          1.8860774040222168,
          1.8860774040222168,
          1.8860774040222168,
          1.8860774040222168,
          1.8860774040222168,
          1.8860774040222168,
          1.8860774040222168,
          1.8860774040222168,
          1.8860774040222168,
          1.8860774040222168,
          1.8860774040222168,
          1.8860774040222168,
          1.8860774040222168,
          1.8860774040222168,
          1.8860774040222168,
          1.8860774040222168,
          1.8860774040222168,
          1.8860774040222168,
          1.8860774040222168,
          1.8860774040222168,
          1.8860774040222168,
          1.8860774040222168,
          1.8860774040222168,
          1.8860774040222168,
          1.8860774040222168,
          1.8860774040222168,
          1.8860774040222168,
          1.8860774040222168,
          1.8860774040222168,
          1.8860774040222168,
          1.8860774040222168,
          1.8860774040222168,
          1.8860774040222168,
          1.8860774040222168,
          1.8860774040222168,
          1.8860774040222168,
          1.8860774040222168,
          1.8860774040222168,
          1.8860774040222168,
          1.8860774040222168,
          1.8860774040222168,
          1.8860774040222168,
          1.8860774040222168,
          1.8860774040222168,
          1.8860774040222168,
          1.8860774040222168,
          1.8860774040222168,
          1.8860774040222168,
          1.8860774040222168,
          1.8860774040222168,
          1.8860774040222168,
          1.8860774040222168,
          1.8860774040222168,
          1.8860774040222168,
          1.8860774040222168,
          1.8860774040222168,
          1.8860774040222168,
          1.8860774040222168,
          1.8860774040222168,
          1.8860774040222168,
          1.8860774040222168,
          1.8860774040222168,
          1.8860774040222168,
          1.8860774040222168,
          1.8860774040222168,
          1.8860774040222168,
          1.8860774040222168,
          1.8860774040222168,
          1.8860774040222168,
          1.8860774040222168,
          1.8860774040222168,
          1.8860774040222168,
          1.8860774040222168,
          1.8860774040222168,
          1.8860774040222168,
          1.8860774040222168,
          1.8860774040222168,
          1.8860774040222168,
          1.8860774040222168,
          1.8860774040222168,
          1.8860774040222168,
          1.8860774040222168,
          1.8860774040222168,
          1.8860774040222168,
          1.8860774040222168,
          1.8860774040222168,
          1.8860774040222168,
          1.8860774040222168,
          1.8860774040222168,
          1.8860774040222168,
          1.8860774040222168,
          1.8860774040222168,
          1.8860774040222168,
          1.8860774040222168,
          1.8860774040222168,
          1.8860774040222168,
          1.8860774040222168,
          1.8860774040222168,
          1.8860774040222168,
          1.8860774040222168,
          1.8860774040222168,
          1.8860774040222168,
          1.8860774040222168,
          1.8860774040222168,
          1.8860774040222168,
          1.8860774040222168,
          1.8860774040222168,
          1.8860774040222168,
          1.8860774040222168,
          1.8860774040222168,
          1.8860774040222168,
          1.8860774040222168,
          1.8860774040222168,
          1.8860774040222168,
          1.8860774040222168,
          1.8860774040222168,
          1.8860774040222168,
          1.8860774040222168,
          1.8860774040222168,
          1.8860774040222168,
          1.8860774040222168,
          1.8860774040222168,
          1.8860774040222168,
          1.8860774040222168,
          1.8860774040222168,
          1.8860774040222168,
          1.8860774040222168,
          1.8860774040222168,
          1.8860774040222168,
          1.8860774040222168,
          1.8860774040222168,
          1.8860774040222168,
          1.8860774040222168,
          1.8860774040222168,
          1.8860774040222168,
          1.8860774040222168,
          1.8860774040222168,
          1.8860774040222168,
          1.8860774040222168,
          1.8860774040222168,
          1.8860774040222168,
          1.8860774040222168,
          1.8860774040222168,
          1.8860774040222168,
          1.8860774040222168,
          1.8860774040222168,
          1.8860774040222168,
          1.8860774040222168,
          1.8860774040222168,
          1.8860774040222168,
          1.8860774040222168,
          1.8860774040222168,
          1.8860774040222168,
          1.8860774040222168,
          1.8860774040222168,
          1.8860774040222168,
          1.8860774040222168,
          1.8860774040222168,
          1.8860774040222168
         ],
         "yaxis": "y3"
        },
        {
         "marker": {
          "color": "rgb(133.33333333333334, 90.66666666666667, 255.0)"
         },
         "mode": "markers",
         "name": "(b,d)",
         "showlegend": false,
         "type": "scatter",
         "x": [
          1.2178874015808105,
          1.8703222274780273,
          1.8703222274780273,
          1.8703222274780273,
          1.8703222274780273,
          1.8703222274780273,
          1.8703222274780273,
          1.8703222274780273,
          1.8703222274780273,
          1.8703222274780273,
          1.8703222274780273,
          1.8703222274780273,
          1.8703222274780273,
          1.8703222274780273,
          1.8703222274780273,
          1.8703222274780273,
          1.8703222274780273,
          1.8703222274780273,
          1.8703222274780273,
          1.8703222274780273,
          1.8703222274780273,
          1.8703222274780273,
          1.8703222274780273,
          1.8703222274780273,
          1.8703222274780273,
          1.8703222274780273,
          1.8703222274780273,
          1.8703222274780273,
          1.8703222274780273,
          1.8703222274780273,
          1.8703222274780273,
          1.8703222274780273,
          1.8703222274780273,
          1.8703222274780273,
          1.8703222274780273,
          1.8703222274780273,
          1.8703222274780273,
          1.8703222274780273,
          1.8703222274780273,
          1.8703222274780273,
          1.8703222274780273,
          1.8703222274780273,
          1.8703222274780273,
          1.8703222274780273,
          1.8703222274780273,
          1.8703222274780273,
          1.8703222274780273,
          1.8703222274780273,
          1.8703222274780273,
          1.8703222274780273,
          1.8703222274780273,
          1.8703222274780273,
          1.8703222274780273,
          1.8703222274780273,
          1.8703222274780273,
          1.8703222274780273,
          1.8703222274780273,
          1.8703222274780273,
          1.8703222274780273,
          1.8703222274780273,
          1.8703222274780273,
          1.8703222274780273,
          1.8703222274780273,
          1.8703222274780273,
          1.8703222274780273,
          1.8703222274780273,
          1.8703222274780273,
          1.8703222274780273,
          1.8703222274780273,
          1.8703222274780273,
          1.8703222274780273,
          1.8703222274780273,
          1.8703222274780273,
          1.8703222274780273,
          1.8703222274780273,
          1.8703222274780273,
          1.8703222274780273,
          1.8703222274780273,
          1.8703222274780273,
          1.8703222274780273,
          1.8703222274780273,
          1.8703222274780273,
          1.8703222274780273,
          1.8703222274780273,
          1.8703222274780273,
          1.8703222274780273,
          1.8703222274780273,
          1.8703222274780273,
          1.8703222274780273,
          1.8703222274780273,
          1.8703222274780273,
          1.8703222274780273,
          1.8703222274780273,
          1.8703222274780273,
          1.8703222274780273,
          1.8703222274780273,
          1.8703222274780273,
          1.8703222274780273,
          1.8703222274780273,
          1.8703222274780273,
          1.8703222274780273,
          1.8703222274780273,
          1.8703222274780273,
          1.8703222274780273,
          1.8703222274780273,
          1.8703222274780273,
          1.8703222274780273,
          1.8703222274780273,
          1.8703222274780273,
          1.8703222274780273,
          1.8703222274780273,
          1.8703222274780273,
          1.8703222274780273,
          1.8703222274780273,
          1.8703222274780273,
          1.8703222274780273,
          1.8703222274780273,
          1.8703222274780273,
          1.8703222274780273,
          1.8703222274780273,
          1.8703222274780273,
          1.8703222274780273,
          1.8703222274780273,
          1.8703222274780273,
          1.8703222274780273,
          1.8703222274780273,
          1.8703222274780273,
          1.8703222274780273,
          1.8703222274780273,
          1.8703222274780273,
          1.8703222274780273,
          1.8703222274780273,
          1.8703222274780273,
          1.8703222274780273,
          1.8703222274780273,
          1.8703222274780273,
          1.8703222274780273,
          1.8703222274780273,
          1.8703222274780273,
          1.8703222274780273,
          1.8703222274780273,
          1.8703222274780273,
          1.8703222274780273,
          1.8703222274780273,
          1.8703222274780273,
          1.8703222274780273,
          1.8703222274780273,
          1.8703222274780273,
          1.8703222274780273,
          1.8703222274780273,
          1.8703222274780273,
          1.8703222274780273,
          1.8703222274780273,
          1.8703222274780273,
          1.8703222274780273,
          1.8703222274780273,
          1.8703222274780273,
          1.8703222274780273,
          1.8703222274780273,
          1.8703222274780273,
          1.8703222274780273,
          1.8703222274780273,
          1.8703222274780273,
          1.8703222274780273,
          1.8703222274780273,
          1.8703222274780273,
          1.8703222274780273,
          1.8703222274780273,
          1.8703222274780273,
          1.8703222274780273,
          1.8703222274780273,
          1.8703222274780273,
          1.8703222274780273,
          1.8703222274780273,
          1.8703222274780273,
          1.8703222274780273,
          1.8703222274780273,
          1.8703222274780273,
          1.8703222274780273,
          1.8703222274780273,
          1.8703222274780273,
          1.8703222274780273,
          1.8703222274780273,
          1.8703222274780273,
          1.8703222274780273,
          1.8703222274780273,
          1.8703222274780273,
          1.8703222274780273,
          1.8703222274780273,
          1.8703222274780273,
          1.8703222274780273,
          1.8703222274780273,
          1.8703222274780273,
          1.8703222274780273,
          1.8703222274780273,
          1.8703222274780273,
          1.8703222274780273,
          1.8703222274780273,
          1.8703222274780273,
          1.8703222274780273,
          1.8703222274780273,
          1.8703222274780273,
          1.8703222274780273,
          1.8703222274780273,
          1.8703222274780273,
          1.8703222274780273,
          1.8703222274780273,
          1.8703222274780273,
          1.8703222274780273,
          1.8703222274780273,
          1.8703222274780273,
          1.8703222274780273,
          1.8703222274780273,
          1.8703222274780273,
          1.8703222274780273,
          1.8703222274780273,
          1.8703222274780273,
          1.8703222274780273,
          1.8703222274780273,
          1.8703222274780273,
          1.8703222274780273,
          1.8703222274780273,
          1.8703222274780273,
          1.8703222274780273,
          1.8703222274780273,
          1.8703222274780273,
          1.8703222274780273,
          1.8703222274780273,
          1.8703222274780273,
          1.8703222274780273,
          1.8703222274780273,
          1.8703222274780273,
          1.8703222274780273,
          1.8703222274780273,
          1.8703222274780273,
          1.8703222274780273,
          1.8703222274780273,
          1.8703222274780273,
          1.8703222274780273,
          1.8703222274780273,
          1.8703222274780273,
          1.8703222274780273,
          1.8703222274780273,
          1.8703222274780273,
          1.8703222274780273,
          1.8703222274780273,
          1.8703222274780273,
          1.8703222274780273,
          1.8703222274780273,
          1.8703222274780273,
          1.8703222274780273,
          1.8703222274780273,
          1.8703222274780273,
          1.8703222274780273,
          1.8703222274780273,
          1.8703222274780273,
          1.8703222274780273,
          1.8703222274780273,
          1.8703222274780273,
          1.8703222274780273,
          1.8703222274780273,
          1.8703222274780273,
          1.8703222274780273,
          1.8703222274780273,
          1.8703222274780273,
          1.8703222274780273,
          1.8703222274780273,
          1.8703222274780273,
          1.8703222274780273,
          1.8703222274780273,
          1.8703222274780273,
          1.8703222274780273,
          1.8703222274780273,
          1.8703222274780273,
          1.8703222274780273,
          1.8703222274780273,
          1.8703222274780273,
          1.8703222274780273,
          1.8703222274780273,
          1.8703222274780273,
          1.8703222274780273,
          1.8703222274780273,
          1.8703222274780273,
          1.8703222274780273,
          1.8703222274780273,
          1.8703222274780273,
          1.8703222274780273,
          1.8703222274780273,
          1.8703222274780273,
          1.8703222274780273,
          1.8703222274780273,
          1.8703222274780273,
          1.8703222274780273,
          1.8703222274780273,
          1.8703222274780273,
          1.8703222274780273,
          1.8703222274780273,
          1.8703222274780273,
          1.8703222274780273,
          1.8703222274780273,
          1.8703222274780273,
          1.8703222274780273,
          1.8703222274780273,
          1.8703222274780273,
          1.8703222274780273,
          1.8703222274780273,
          1.8703222274780273,
          1.8703222274780273,
          1.8703222274780273,
          1.8703222274780273,
          1.8703222274780273,
          1.8703222274780273,
          1.8703222274780273,
          1.8703222274780273,
          1.8703222274780273,
          1.8703222274780273,
          1.8703222274780273,
          1.8703222274780273,
          1.8703222274780273,
          1.8703222274780273,
          1.8703222274780273,
          1.8703222274780273,
          1.8703222274780273,
          1.8703222274780273,
          1.8703222274780273,
          1.8703222274780273,
          1.8703222274780273,
          1.8703222274780273,
          1.8703222274780273,
          1.8703222274780273,
          1.8703222274780273,
          1.8703222274780273,
          1.8703222274780273,
          1.8703222274780273,
          1.8703222274780273,
          1.8703222274780273,
          1.8703222274780273,
          1.8703222274780273,
          1.8703222274780273,
          1.8703222274780273,
          1.8703222274780273,
          1.8703222274780273,
          1.8703222274780273,
          1.8703222274780273,
          1.8703222274780273,
          1.8703222274780273,
          1.8703222274780273,
          1.8703222274780273,
          1.8703222274780273,
          1.8703222274780273,
          1.8703222274780273,
          1.8703222274780273,
          1.8703222274780273,
          1.8703222274780273,
          1.8703222274780273,
          1.8703222274780273,
          1.8703222274780273,
          1.8703222274780273,
          1.8703222274780273,
          1.8703222274780273,
          1.8703222274780273,
          1.8703222274780273,
          1.8703222274780273,
          1.8703222274780273,
          1.8703222274780273,
          1.8703222274780273,
          1.8703222274780273,
          1.8703222274780273,
          1.8703222274780273,
          1.8703222274780273,
          1.8703222274780273,
          1.8703222274780273,
          1.8703222274780273,
          1.8703222274780273,
          1.8703222274780273,
          1.8703222274780273,
          1.8703222274780273,
          1.8703222274780273,
          1.8703222274780273,
          1.8703222274780273,
          1.8703222274780273,
          1.8703222274780273,
          1.8703222274780273,
          1.8703222274780273,
          1.8703222274780273,
          1.8703222274780273,
          1.8703222274780273,
          1.8703222274780273,
          1.8703222274780273,
          1.8703222274780273,
          1.8703222274780273,
          1.8703222274780273
         ],
         "xaxis": "x3",
         "y": [
          1.8703222274780273,
          1.8703222274780273,
          1.8703222274780273,
          1.8703222274780273,
          1.8703222274780273,
          1.8703222274780273,
          1.8703222274780273,
          1.8703222274780273,
          1.8703222274780273,
          1.8703222274780273,
          1.8703222274780273,
          1.8703222274780273,
          1.8703222274780273,
          1.8703222274780273,
          1.8703222274780273,
          1.8703222274780273,
          1.8703222274780273,
          1.8703222274780273,
          1.8703222274780273,
          1.8703222274780273,
          1.8703222274780273,
          1.8703222274780273,
          1.8703222274780273,
          1.8703222274780273,
          1.8703222274780273,
          1.8703222274780273,
          1.8703222274780273,
          1.8703222274780273,
          1.8703222274780273,
          1.8703222274780273,
          1.8703222274780273,
          1.8703222274780273,
          1.8703222274780273,
          1.8703222274780273,
          1.8703222274780273,
          1.8703222274780273,
          1.8703222274780273,
          1.8703222274780273,
          1.8703222274780273,
          1.8703222274780273,
          1.8703222274780273,
          1.8703222274780273,
          1.8703222274780273,
          1.8703222274780273,
          1.8703222274780273,
          1.8703222274780273,
          1.8703222274780273,
          1.8703222274780273,
          1.8703222274780273,
          1.8703222274780273,
          1.8703222274780273,
          1.8703222274780273,
          1.8703222274780273,
          1.8703222274780273,
          1.8703222274780273,
          1.8703222274780273,
          1.8703222274780273,
          1.8703222274780273,
          1.8703222274780273,
          1.8703222274780273,
          1.8703222274780273,
          1.8703222274780273,
          1.8703222274780273,
          1.8703222274780273,
          1.8703222274780273,
          1.8703222274780273,
          1.8703222274780273,
          1.8703222274780273,
          1.8703222274780273,
          1.8703222274780273,
          1.8703222274780273,
          1.8703222274780273,
          1.8703222274780273,
          1.8703222274780273,
          1.8703222274780273,
          1.8703222274780273,
          1.8703222274780273,
          1.8703222274780273,
          1.8703222274780273,
          1.8703222274780273,
          1.8703222274780273,
          1.8703222274780273,
          1.8703222274780273,
          1.8703222274780273,
          1.8703222274780273,
          1.8703222274780273,
          1.8703222274780273,
          1.8703222274780273,
          1.8703222274780273,
          1.8703222274780273,
          1.8703222274780273,
          1.8703222274780273,
          1.8703222274780273,
          1.8703222274780273,
          1.8703222274780273,
          1.8703222274780273,
          1.8703222274780273,
          1.8703222274780273,
          1.8703222274780273,
          1.8703222274780273,
          1.8703222274780273,
          1.8703222274780273,
          1.8703222274780273,
          1.8703222274780273,
          1.8703222274780273,
          1.8703222274780273,
          1.8703222274780273,
          1.8703222274780273,
          1.8703222274780273,
          1.8703222274780273,
          1.8703222274780273,
          1.8703222274780273,
          1.8703222274780273,
          1.8703222274780273,
          1.8703222274780273,
          1.8703222274780273,
          1.8703222274780273,
          1.8703222274780273,
          1.8703222274780273,
          1.8703222274780273,
          1.8703222274780273,
          1.8703222274780273,
          1.8703222274780273,
          1.8703222274780273,
          1.8703222274780273,
          1.8703222274780273,
          1.8703222274780273,
          1.8703222274780273,
          1.8703222274780273,
          1.8703222274780273,
          1.8703222274780273,
          1.8703222274780273,
          1.8703222274780273,
          1.8703222274780273,
          1.8703222274780273,
          1.8703222274780273,
          1.8703222274780273,
          1.8703222274780273,
          1.8703222274780273,
          1.8703222274780273,
          1.8703222274780273,
          1.8703222274780273,
          1.8703222274780273,
          1.8703222274780273,
          1.8703222274780273,
          1.8703222274780273,
          1.8703222274780273,
          1.8703222274780273,
          1.8703222274780273,
          1.8703222274780273,
          1.8703222274780273,
          1.8703222274780273,
          1.8703222274780273,
          1.8703222274780273,
          1.8703222274780273,
          1.8703222274780273,
          1.8703222274780273,
          1.8703222274780273,
          1.8703222274780273,
          1.8703222274780273,
          1.8703222274780273,
          1.8703222274780273,
          1.8703222274780273,
          1.8703222274780273,
          1.8703222274780273,
          1.8703222274780273,
          1.8703222274780273,
          1.8703222274780273,
          1.8703222274780273,
          1.8703222274780273,
          1.8703222274780273,
          1.8703222274780273,
          1.8703222274780273,
          1.8703222274780273,
          1.8703222274780273,
          1.8703222274780273,
          1.8703222274780273,
          1.8703222274780273,
          1.8703222274780273,
          1.8703222274780273,
          1.8703222274780273,
          1.8703222274780273,
          1.8703222274780273,
          1.8703222274780273,
          1.8703222274780273,
          1.8703222274780273,
          1.8703222274780273,
          1.8703222274780273,
          1.8703222274780273,
          1.8703222274780273,
          1.8703222274780273,
          1.8703222274780273,
          1.8703222274780273,
          1.8703222274780273,
          1.8703222274780273,
          1.8703222274780273,
          1.8703222274780273,
          1.8703222274780273,
          1.8703222274780273,
          1.8703222274780273,
          1.8703222274780273,
          1.8703222274780273,
          1.8703222274780273,
          1.8703222274780273,
          1.8703222274780273,
          1.8703222274780273,
          1.8703222274780273,
          1.8703222274780273,
          1.8703222274780273,
          1.8703222274780273,
          1.8703222274780273,
          1.8703222274780273,
          1.8703222274780273,
          1.8703222274780273,
          1.8703222274780273,
          1.8703222274780273,
          1.8703222274780273,
          1.8703222274780273,
          1.8703222274780273,
          1.8703222274780273,
          1.8703222274780273,
          1.8703222274780273,
          1.8703222274780273,
          1.8703222274780273,
          1.8703222274780273,
          1.8703222274780273,
          1.8703222274780273,
          1.8703222274780273,
          1.8703222274780273,
          1.8703222274780273,
          1.8703222274780273,
          1.8703222274780273,
          1.8703222274780273,
          1.8703222274780273,
          1.8703222274780273,
          1.8703222274780273,
          1.8703222274780273,
          1.8703222274780273,
          1.8703222274780273,
          1.8703222274780273,
          1.8703222274780273,
          1.8703222274780273,
          1.8703222274780273,
          1.8703222274780273,
          1.8703222274780273,
          1.8703222274780273,
          1.8703222274780273,
          1.8703222274780273,
          1.8703222274780273,
          1.8703222274780273,
          1.8703222274780273,
          1.8703222274780273,
          1.8703222274780273,
          1.8703222274780273,
          1.8703222274780273,
          1.8703222274780273,
          1.8703222274780273,
          1.8703222274780273,
          1.8703222274780273,
          1.8703222274780273,
          1.8703222274780273,
          1.8703222274780273,
          1.8703222274780273,
          1.8703222274780273,
          1.8703222274780273,
          1.8703222274780273,
          1.8703222274780273,
          1.8703222274780273,
          1.8703222274780273,
          1.8703222274780273,
          1.8703222274780273,
          1.8703222274780273,
          1.8703222274780273,
          1.8703222274780273,
          1.8703222274780273,
          1.8703222274780273,
          1.8703222274780273,
          1.8703222274780273,
          1.8703222274780273,
          1.8703222274780273,
          1.8703222274780273,
          1.8703222274780273,
          1.8703222274780273,
          1.8703222274780273,
          1.8703222274780273,
          1.8703222274780273,
          1.8703222274780273,
          1.8703222274780273,
          1.8703222274780273,
          1.8703222274780273,
          1.8703222274780273,
          1.8703222274780273,
          1.8703222274780273,
          1.8703222274780273,
          1.8703222274780273,
          1.8703222274780273,
          1.8703222274780273,
          1.8703222274780273,
          1.8703222274780273,
          1.8703222274780273,
          1.8703222274780273,
          1.8703222274780273,
          1.8703222274780273,
          1.8703222274780273,
          1.8703222274780273,
          1.8703222274780273,
          1.8703222274780273,
          1.8703222274780273,
          1.8703222274780273,
          1.8703222274780273,
          1.8703222274780273,
          1.8703222274780273,
          1.8703222274780273,
          1.8703222274780273,
          1.8703222274780273,
          1.8703222274780273,
          1.8703222274780273,
          1.8703222274780273,
          1.8703222274780273,
          1.8703222274780273,
          1.8703222274780273,
          1.8703222274780273,
          1.8703222274780273,
          1.8703222274780273,
          1.8703222274780273,
          1.8703222274780273,
          1.8703222274780273,
          1.8703222274780273,
          1.8703222274780273,
          1.8703222274780273,
          1.8703222274780273,
          1.8703222274780273,
          1.8703222274780273,
          1.8703222274780273,
          1.8703222274780273,
          1.8703222274780273,
          1.8703222274780273,
          1.8703222274780273,
          1.8703222274780273,
          1.8703222274780273,
          1.8703222274780273,
          1.8703222274780273,
          1.8703222274780273,
          1.8703222274780273,
          1.8703222274780273,
          1.8703222274780273,
          1.8703222274780273,
          1.8703222274780273,
          1.8703222274780273,
          1.8703222274780273,
          1.8703222274780273,
          1.8703222274780273,
          1.8703222274780273,
          1.8703222274780273,
          1.8703222274780273,
          1.8703222274780273,
          1.8703222274780273,
          1.8703222274780273,
          1.8703222274780273,
          1.8703222274780273,
          1.8703222274780273,
          1.8703222274780273,
          1.8703222274780273,
          1.8703222274780273,
          1.8703222274780273,
          1.8703222274780273,
          1.8703222274780273,
          1.8703222274780273,
          1.8703222274780273,
          1.8703222274780273,
          1.8703222274780273,
          1.8703222274780273,
          1.8703222274780273,
          1.8703222274780273,
          1.8703222274780273,
          1.8703222274780273,
          1.8703222274780273,
          1.8703222274780273,
          1.8703222274780273,
          1.8703222274780273,
          1.8703222274780273,
          1.8703222274780273,
          1.8703222274780273,
          1.8703222274780273,
          1.8703222274780273,
          1.8703222274780273,
          1.8703222274780273,
          1.8703222274780273,
          1.8703222274780273,
          1.8703222274780273,
          1.8703222274780273,
          1.8703222274780273
         ],
         "yaxis": "y3"
        },
        {
         "marker": {
          "color": "rgb(146.66666666666669, 61.33333333333334, 255.0)"
         },
         "mode": "markers",
         "name": "(b,d)",
         "showlegend": false,
         "type": "scatter",
         "x": [
          1.2190885543823242,
          1.866584062576294,
          1.866584062576294,
          1.866584062576294,
          1.866584062576294,
          1.866584062576294,
          1.866584062576294,
          1.866584062576294,
          1.866584062576294,
          1.866584062576294,
          1.866584062576294,
          1.866584062576294,
          1.866584062576294,
          1.866584062576294,
          1.866584062576294,
          1.866584062576294,
          1.866584062576294,
          1.866584062576294,
          1.866584062576294,
          1.866584062576294,
          1.866584062576294,
          1.866584062576294,
          1.866584062576294,
          1.866584062576294,
          1.866584062576294,
          1.866584062576294,
          1.866584062576294,
          1.866584062576294,
          1.866584062576294,
          1.866584062576294,
          1.866584062576294,
          1.866584062576294,
          1.866584062576294,
          1.866584062576294,
          1.866584062576294,
          1.866584062576294,
          1.866584062576294,
          1.866584062576294,
          1.866584062576294,
          1.866584062576294,
          1.866584062576294,
          1.866584062576294,
          1.866584062576294,
          1.866584062576294,
          1.866584062576294,
          1.866584062576294,
          1.866584062576294,
          1.866584062576294,
          1.866584062576294,
          1.866584062576294,
          1.866584062576294,
          1.866584062576294,
          1.866584062576294,
          1.866584062576294,
          1.866584062576294,
          1.866584062576294,
          1.866584062576294,
          1.866584062576294,
          1.866584062576294,
          1.866584062576294,
          1.866584062576294,
          1.866584062576294,
          1.866584062576294,
          1.866584062576294,
          1.866584062576294,
          1.866584062576294,
          1.866584062576294,
          1.866584062576294,
          1.866584062576294,
          1.866584062576294,
          1.866584062576294,
          1.866584062576294,
          1.866584062576294,
          1.866584062576294,
          1.866584062576294,
          1.866584062576294,
          1.866584062576294,
          1.866584062576294,
          1.866584062576294,
          1.866584062576294,
          1.866584062576294,
          1.866584062576294,
          1.866584062576294,
          1.866584062576294,
          1.866584062576294,
          1.866584062576294,
          1.866584062576294,
          1.866584062576294,
          1.866584062576294,
          1.866584062576294,
          1.866584062576294,
          1.866584062576294,
          1.866584062576294,
          1.866584062576294,
          1.866584062576294,
          1.866584062576294,
          1.866584062576294,
          1.866584062576294,
          1.866584062576294,
          1.866584062576294,
          1.866584062576294,
          1.866584062576294,
          1.866584062576294,
          1.866584062576294,
          1.866584062576294,
          1.866584062576294,
          1.866584062576294,
          1.866584062576294,
          1.866584062576294,
          1.866584062576294,
          1.866584062576294,
          1.866584062576294,
          1.866584062576294,
          1.866584062576294,
          1.866584062576294,
          1.866584062576294,
          1.866584062576294,
          1.866584062576294,
          1.866584062576294,
          1.866584062576294,
          1.866584062576294,
          1.866584062576294,
          1.866584062576294,
          1.866584062576294,
          1.866584062576294,
          1.866584062576294,
          1.866584062576294,
          1.866584062576294,
          1.866584062576294,
          1.866584062576294,
          1.866584062576294,
          1.866584062576294,
          1.866584062576294,
          1.866584062576294,
          1.866584062576294,
          1.866584062576294,
          1.866584062576294,
          1.866584062576294,
          1.866584062576294,
          1.866584062576294,
          1.866584062576294,
          1.866584062576294,
          1.866584062576294,
          1.866584062576294,
          1.866584062576294,
          1.866584062576294,
          1.866584062576294,
          1.866584062576294,
          1.866584062576294,
          1.866584062576294,
          1.866584062576294,
          1.866584062576294,
          1.866584062576294,
          1.866584062576294,
          1.866584062576294,
          1.866584062576294,
          1.866584062576294,
          1.866584062576294,
          1.866584062576294,
          1.866584062576294,
          1.866584062576294,
          1.866584062576294,
          1.866584062576294,
          1.866584062576294,
          1.866584062576294,
          1.866584062576294,
          1.866584062576294,
          1.866584062576294,
          1.866584062576294,
          1.866584062576294,
          1.866584062576294,
          1.866584062576294,
          1.866584062576294,
          1.866584062576294,
          1.866584062576294,
          1.866584062576294,
          1.866584062576294,
          1.866584062576294,
          1.866584062576294,
          1.866584062576294,
          1.866584062576294,
          1.866584062576294,
          1.866584062576294,
          1.866584062576294,
          1.866584062576294,
          1.866584062576294,
          1.866584062576294,
          1.866584062576294,
          1.866584062576294,
          1.866584062576294,
          1.866584062576294,
          1.866584062576294,
          1.866584062576294,
          1.866584062576294,
          1.866584062576294,
          1.866584062576294,
          1.866584062576294,
          1.866584062576294,
          1.866584062576294,
          1.866584062576294,
          1.866584062576294,
          1.866584062576294,
          1.866584062576294,
          1.866584062576294,
          1.866584062576294,
          1.866584062576294,
          1.866584062576294,
          1.866584062576294,
          1.866584062576294,
          1.866584062576294,
          1.866584062576294,
          1.866584062576294,
          1.866584062576294,
          1.866584062576294,
          1.866584062576294,
          1.866584062576294,
          1.866584062576294,
          1.866584062576294,
          1.866584062576294,
          1.866584062576294,
          1.866584062576294,
          1.866584062576294,
          1.866584062576294,
          1.866584062576294,
          1.866584062576294,
          1.866584062576294,
          1.866584062576294,
          1.866584062576294,
          1.866584062576294,
          1.866584062576294,
          1.866584062576294,
          1.866584062576294,
          1.866584062576294,
          1.866584062576294,
          1.866584062576294,
          1.866584062576294,
          1.866584062576294,
          1.866584062576294,
          1.866584062576294,
          1.866584062576294,
          1.866584062576294,
          1.866584062576294,
          1.866584062576294,
          1.866584062576294,
          1.866584062576294,
          1.866584062576294,
          1.866584062576294,
          1.866584062576294,
          1.866584062576294,
          1.866584062576294,
          1.866584062576294,
          1.866584062576294,
          1.866584062576294,
          1.866584062576294,
          1.866584062576294,
          1.866584062576294,
          1.866584062576294,
          1.866584062576294,
          1.866584062576294,
          1.866584062576294,
          1.866584062576294,
          1.866584062576294,
          1.866584062576294,
          1.866584062576294,
          1.866584062576294,
          1.866584062576294,
          1.866584062576294,
          1.866584062576294,
          1.866584062576294,
          1.866584062576294,
          1.866584062576294,
          1.866584062576294,
          1.866584062576294,
          1.866584062576294,
          1.866584062576294,
          1.866584062576294,
          1.866584062576294,
          1.866584062576294,
          1.866584062576294,
          1.866584062576294,
          1.866584062576294,
          1.866584062576294,
          1.866584062576294,
          1.866584062576294,
          1.866584062576294,
          1.866584062576294,
          1.866584062576294,
          1.866584062576294,
          1.866584062576294,
          1.866584062576294,
          1.866584062576294,
          1.866584062576294,
          1.866584062576294,
          1.866584062576294,
          1.866584062576294,
          1.866584062576294,
          1.866584062576294,
          1.866584062576294,
          1.866584062576294,
          1.866584062576294,
          1.866584062576294,
          1.866584062576294,
          1.866584062576294,
          1.866584062576294,
          1.866584062576294,
          1.866584062576294,
          1.866584062576294,
          1.866584062576294,
          1.866584062576294,
          1.866584062576294,
          1.866584062576294,
          1.866584062576294,
          1.866584062576294,
          1.866584062576294,
          1.866584062576294,
          1.866584062576294,
          1.866584062576294,
          1.866584062576294,
          1.866584062576294,
          1.866584062576294,
          1.866584062576294,
          1.866584062576294,
          1.866584062576294,
          1.866584062576294,
          1.866584062576294,
          1.866584062576294,
          1.866584062576294,
          1.866584062576294,
          1.866584062576294,
          1.866584062576294,
          1.866584062576294,
          1.866584062576294,
          1.866584062576294,
          1.866584062576294,
          1.866584062576294,
          1.866584062576294,
          1.866584062576294,
          1.866584062576294,
          1.866584062576294,
          1.866584062576294,
          1.866584062576294,
          1.866584062576294,
          1.866584062576294,
          1.866584062576294,
          1.866584062576294,
          1.866584062576294,
          1.866584062576294,
          1.866584062576294,
          1.866584062576294,
          1.866584062576294,
          1.866584062576294,
          1.866584062576294,
          1.866584062576294,
          1.866584062576294,
          1.866584062576294,
          1.866584062576294,
          1.866584062576294,
          1.866584062576294,
          1.866584062576294,
          1.866584062576294,
          1.866584062576294,
          1.866584062576294,
          1.866584062576294,
          1.866584062576294,
          1.866584062576294,
          1.866584062576294,
          1.866584062576294,
          1.866584062576294,
          1.866584062576294,
          1.866584062576294,
          1.866584062576294,
          1.866584062576294,
          1.866584062576294,
          1.866584062576294,
          1.866584062576294,
          1.866584062576294,
          1.866584062576294,
          1.866584062576294,
          1.866584062576294,
          1.866584062576294,
          1.866584062576294,
          1.866584062576294,
          1.866584062576294,
          1.866584062576294,
          1.866584062576294,
          1.866584062576294,
          1.866584062576294,
          1.866584062576294,
          1.866584062576294,
          1.866584062576294,
          1.866584062576294,
          1.866584062576294
         ],
         "xaxis": "x3",
         "y": [
          1.866584062576294,
          1.866584062576294,
          1.866584062576294,
          1.866584062576294,
          1.866584062576294,
          1.866584062576294,
          1.866584062576294,
          1.866584062576294,
          1.866584062576294,
          1.866584062576294,
          1.866584062576294,
          1.866584062576294,
          1.866584062576294,
          1.866584062576294,
          1.866584062576294,
          1.866584062576294,
          1.866584062576294,
          1.866584062576294,
          1.866584062576294,
          1.866584062576294,
          1.866584062576294,
          1.866584062576294,
          1.866584062576294,
          1.866584062576294,
          1.866584062576294,
          1.866584062576294,
          1.866584062576294,
          1.866584062576294,
          1.866584062576294,
          1.866584062576294,
          1.866584062576294,
          1.866584062576294,
          1.866584062576294,
          1.866584062576294,
          1.866584062576294,
          1.866584062576294,
          1.866584062576294,
          1.866584062576294,
          1.866584062576294,
          1.866584062576294,
          1.866584062576294,
          1.866584062576294,
          1.866584062576294,
          1.866584062576294,
          1.866584062576294,
          1.866584062576294,
          1.866584062576294,
          1.866584062576294,
          1.866584062576294,
          1.866584062576294,
          1.866584062576294,
          1.866584062576294,
          1.866584062576294,
          1.866584062576294,
          1.866584062576294,
          1.866584062576294,
          1.866584062576294,
          1.866584062576294,
          1.866584062576294,
          1.866584062576294,
          1.866584062576294,
          1.866584062576294,
          1.866584062576294,
          1.866584062576294,
          1.866584062576294,
          1.866584062576294,
          1.866584062576294,
          1.866584062576294,
          1.866584062576294,
          1.866584062576294,
          1.866584062576294,
          1.866584062576294,
          1.866584062576294,
          1.866584062576294,
          1.866584062576294,
          1.866584062576294,
          1.866584062576294,
          1.866584062576294,
          1.866584062576294,
          1.866584062576294,
          1.866584062576294,
          1.866584062576294,
          1.866584062576294,
          1.866584062576294,
          1.866584062576294,
          1.866584062576294,
          1.866584062576294,
          1.866584062576294,
          1.866584062576294,
          1.866584062576294,
          1.866584062576294,
          1.866584062576294,
          1.866584062576294,
          1.866584062576294,
          1.866584062576294,
          1.866584062576294,
          1.866584062576294,
          1.866584062576294,
          1.866584062576294,
          1.866584062576294,
          1.866584062576294,
          1.866584062576294,
          1.866584062576294,
          1.866584062576294,
          1.866584062576294,
          1.866584062576294,
          1.866584062576294,
          1.866584062576294,
          1.866584062576294,
          1.866584062576294,
          1.866584062576294,
          1.866584062576294,
          1.866584062576294,
          1.866584062576294,
          1.866584062576294,
          1.866584062576294,
          1.866584062576294,
          1.866584062576294,
          1.866584062576294,
          1.866584062576294,
          1.866584062576294,
          1.866584062576294,
          1.866584062576294,
          1.866584062576294,
          1.866584062576294,
          1.866584062576294,
          1.866584062576294,
          1.866584062576294,
          1.866584062576294,
          1.866584062576294,
          1.866584062576294,
          1.866584062576294,
          1.866584062576294,
          1.866584062576294,
          1.866584062576294,
          1.866584062576294,
          1.866584062576294,
          1.866584062576294,
          1.866584062576294,
          1.866584062576294,
          1.866584062576294,
          1.866584062576294,
          1.866584062576294,
          1.866584062576294,
          1.866584062576294,
          1.866584062576294,
          1.866584062576294,
          1.866584062576294,
          1.866584062576294,
          1.866584062576294,
          1.866584062576294,
          1.866584062576294,
          1.866584062576294,
          1.866584062576294,
          1.866584062576294,
          1.866584062576294,
          1.866584062576294,
          1.866584062576294,
          1.866584062576294,
          1.866584062576294,
          1.866584062576294,
          1.866584062576294,
          1.866584062576294,
          1.866584062576294,
          1.866584062576294,
          1.866584062576294,
          1.866584062576294,
          1.866584062576294,
          1.866584062576294,
          1.866584062576294,
          1.866584062576294,
          1.866584062576294,
          1.866584062576294,
          1.866584062576294,
          1.866584062576294,
          1.866584062576294,
          1.866584062576294,
          1.866584062576294,
          1.866584062576294,
          1.866584062576294,
          1.866584062576294,
          1.866584062576294,
          1.866584062576294,
          1.866584062576294,
          1.866584062576294,
          1.866584062576294,
          1.866584062576294,
          1.866584062576294,
          1.866584062576294,
          1.866584062576294,
          1.866584062576294,
          1.866584062576294,
          1.866584062576294,
          1.866584062576294,
          1.866584062576294,
          1.866584062576294,
          1.866584062576294,
          1.866584062576294,
          1.866584062576294,
          1.866584062576294,
          1.866584062576294,
          1.866584062576294,
          1.866584062576294,
          1.866584062576294,
          1.866584062576294,
          1.866584062576294,
          1.866584062576294,
          1.866584062576294,
          1.866584062576294,
          1.866584062576294,
          1.866584062576294,
          1.866584062576294,
          1.866584062576294,
          1.866584062576294,
          1.866584062576294,
          1.866584062576294,
          1.866584062576294,
          1.866584062576294,
          1.866584062576294,
          1.866584062576294,
          1.866584062576294,
          1.866584062576294,
          1.866584062576294,
          1.866584062576294,
          1.866584062576294,
          1.866584062576294,
          1.866584062576294,
          1.866584062576294,
          1.866584062576294,
          1.866584062576294,
          1.866584062576294,
          1.866584062576294,
          1.866584062576294,
          1.866584062576294,
          1.866584062576294,
          1.866584062576294,
          1.866584062576294,
          1.866584062576294,
          1.866584062576294,
          1.866584062576294,
          1.866584062576294,
          1.866584062576294,
          1.866584062576294,
          1.866584062576294,
          1.866584062576294,
          1.866584062576294,
          1.866584062576294,
          1.866584062576294,
          1.866584062576294,
          1.866584062576294,
          1.866584062576294,
          1.866584062576294,
          1.866584062576294,
          1.866584062576294,
          1.866584062576294,
          1.866584062576294,
          1.866584062576294,
          1.866584062576294,
          1.866584062576294,
          1.866584062576294,
          1.866584062576294,
          1.866584062576294,
          1.866584062576294,
          1.866584062576294,
          1.866584062576294,
          1.866584062576294,
          1.866584062576294,
          1.866584062576294,
          1.866584062576294,
          1.866584062576294,
          1.866584062576294,
          1.866584062576294,
          1.866584062576294,
          1.866584062576294,
          1.866584062576294,
          1.866584062576294,
          1.866584062576294,
          1.866584062576294,
          1.866584062576294,
          1.866584062576294,
          1.866584062576294,
          1.866584062576294,
          1.866584062576294,
          1.866584062576294,
          1.866584062576294,
          1.866584062576294,
          1.866584062576294,
          1.866584062576294,
          1.866584062576294,
          1.866584062576294,
          1.866584062576294,
          1.866584062576294,
          1.866584062576294,
          1.866584062576294,
          1.866584062576294,
          1.866584062576294,
          1.866584062576294,
          1.866584062576294,
          1.866584062576294,
          1.866584062576294,
          1.866584062576294,
          1.866584062576294,
          1.866584062576294,
          1.866584062576294,
          1.866584062576294,
          1.866584062576294,
          1.866584062576294,
          1.866584062576294,
          1.866584062576294,
          1.866584062576294,
          1.866584062576294,
          1.866584062576294,
          1.866584062576294,
          1.866584062576294,
          1.866584062576294,
          1.866584062576294,
          1.866584062576294,
          1.866584062576294,
          1.866584062576294,
          1.866584062576294,
          1.866584062576294,
          1.866584062576294,
          1.866584062576294,
          1.866584062576294,
          1.866584062576294,
          1.866584062576294,
          1.866584062576294,
          1.866584062576294,
          1.866584062576294,
          1.866584062576294,
          1.866584062576294,
          1.866584062576294,
          1.866584062576294,
          1.866584062576294,
          1.866584062576294,
          1.866584062576294,
          1.866584062576294,
          1.866584062576294,
          1.866584062576294,
          1.866584062576294,
          1.866584062576294,
          1.866584062576294,
          1.866584062576294,
          1.866584062576294,
          1.866584062576294,
          1.866584062576294,
          1.866584062576294,
          1.866584062576294,
          1.866584062576294,
          1.866584062576294,
          1.866584062576294,
          1.866584062576294,
          1.866584062576294,
          1.866584062576294,
          1.866584062576294,
          1.866584062576294,
          1.866584062576294,
          1.866584062576294,
          1.866584062576294,
          1.866584062576294,
          1.866584062576294,
          1.866584062576294,
          1.866584062576294,
          1.866584062576294,
          1.866584062576294,
          1.866584062576294,
          1.866584062576294,
          1.866584062576294,
          1.866584062576294,
          1.866584062576294,
          1.866584062576294,
          1.866584062576294,
          1.866584062576294,
          1.866584062576294,
          1.866584062576294,
          1.866584062576294,
          1.866584062576294,
          1.866584062576294,
          1.866584062576294,
          1.866584062576294,
          1.866584062576294,
          1.866584062576294,
          1.866584062576294,
          1.866584062576294,
          1.866584062576294,
          1.866584062576294,
          1.866584062576294,
          1.866584062576294,
          1.866584062576294,
          1.866584062576294,
          1.866584062576294,
          1.866584062576294
         ],
         "yaxis": "y3"
        },
        {
         "marker": {
          "color": "rgb(160.0, 32.0, 255.0)"
         },
         "mode": "markers",
         "name": "(b,d)",
         "showlegend": false,
         "type": "scatter",
         "x": [
          1.0839521884918213,
          1.6547150611877441,
          1.6547150611877441,
          1.6547150611877441,
          1.6547150611877441,
          1.6547150611877441,
          1.6547150611877441,
          1.6547150611877441,
          1.6547150611877441,
          1.6547150611877441,
          1.6547150611877441,
          1.6547150611877441,
          1.6547150611877441,
          1.6547150611877441,
          1.6547150611877441,
          1.6547150611877441,
          1.6547150611877441,
          1.6547150611877441,
          1.6547150611877441,
          1.6547150611877441,
          1.6547150611877441,
          1.6547150611877441,
          1.6547150611877441,
          1.6547150611877441,
          1.6547150611877441,
          1.6547150611877441,
          1.6547150611877441,
          1.6547150611877441,
          1.6547150611877441,
          1.6547150611877441,
          1.6547150611877441,
          1.6547150611877441,
          1.6547150611877441,
          1.6547150611877441,
          1.6547150611877441,
          1.6547150611877441,
          1.6547150611877441,
          1.6547150611877441,
          1.6547150611877441,
          1.6547150611877441,
          1.6547150611877441,
          1.6547150611877441,
          1.6547150611877441,
          1.6547150611877441,
          1.6547150611877441,
          1.6547150611877441,
          1.6547150611877441,
          1.6547150611877441,
          1.6547150611877441,
          1.6547150611877441,
          1.6547150611877441,
          1.6547150611877441,
          1.6547150611877441,
          1.6547150611877441,
          1.6547150611877441,
          1.6547150611877441,
          1.6547150611877441,
          1.6547150611877441,
          1.6547150611877441,
          1.6547150611877441,
          1.6547150611877441,
          1.6547150611877441,
          1.6547150611877441,
          1.6547150611877441,
          1.6547150611877441,
          1.6547150611877441,
          1.6547150611877441,
          1.6547150611877441,
          1.6547150611877441,
          1.6547150611877441,
          1.6547150611877441,
          1.6547150611877441,
          1.6547150611877441,
          1.6547150611877441,
          1.6547150611877441,
          1.6547150611877441,
          1.6547150611877441,
          1.6547150611877441,
          1.6547150611877441,
          1.6547150611877441,
          1.6547150611877441,
          1.6547150611877441,
          1.6547150611877441,
          1.6547150611877441,
          1.6547150611877441,
          1.6547150611877441,
          1.6547150611877441,
          1.6547150611877441,
          1.6547150611877441,
          1.6547150611877441,
          1.6547150611877441,
          1.6547150611877441,
          1.6547150611877441,
          1.6547150611877441,
          1.6547150611877441,
          1.6547150611877441,
          1.6547150611877441,
          1.6547150611877441,
          1.6547150611877441,
          1.6547150611877441,
          1.6547150611877441,
          1.6547150611877441,
          1.6547150611877441,
          1.6547150611877441,
          1.6547150611877441,
          1.6547150611877441,
          1.6547150611877441,
          1.6547150611877441,
          1.6547150611877441,
          1.6547150611877441,
          1.6547150611877441,
          1.6547150611877441,
          1.6547150611877441,
          1.6547150611877441,
          1.6547150611877441,
          1.6547150611877441,
          1.6547150611877441,
          1.6547150611877441,
          1.6547150611877441,
          1.6547150611877441,
          1.6547150611877441,
          1.6547150611877441,
          1.6547150611877441,
          1.6547150611877441,
          1.6547150611877441,
          1.6547150611877441,
          1.6547150611877441,
          1.6547150611877441,
          1.6547150611877441,
          1.6547150611877441,
          1.6547150611877441,
          1.6547150611877441,
          1.6547150611877441,
          1.6547150611877441,
          1.6547150611877441,
          1.6547150611877441,
          1.6547150611877441,
          1.6547150611877441,
          1.6547150611877441,
          1.6547150611877441,
          1.6547150611877441,
          1.6547150611877441,
          1.6547150611877441,
          1.6547150611877441,
          1.6547150611877441,
          1.6547150611877441,
          1.6547150611877441,
          1.6547150611877441,
          1.6547150611877441,
          1.6547150611877441,
          1.6547150611877441,
          1.6547150611877441,
          1.6547150611877441,
          1.6547150611877441,
          1.6547150611877441,
          1.6547150611877441,
          1.6547150611877441,
          1.6547150611877441,
          1.6547150611877441,
          1.6547150611877441,
          1.6547150611877441,
          1.6547150611877441,
          1.6547150611877441,
          1.6547150611877441,
          1.6547150611877441,
          1.6547150611877441,
          1.6547150611877441,
          1.6547150611877441,
          1.6547150611877441,
          1.6547150611877441,
          1.6547150611877441,
          1.6547150611877441,
          1.6547150611877441,
          1.6547150611877441,
          1.6547150611877441,
          1.6547150611877441,
          1.6547150611877441,
          1.6547150611877441,
          1.6547150611877441,
          1.6547150611877441,
          1.6547150611877441,
          1.6547150611877441,
          1.6547150611877441,
          1.6547150611877441,
          1.6547150611877441,
          1.6547150611877441,
          1.6547150611877441,
          1.6547150611877441,
          1.6547150611877441,
          1.6547150611877441,
          1.6547150611877441,
          1.6547150611877441,
          1.6547150611877441,
          1.6547150611877441,
          1.6547150611877441,
          1.6547150611877441,
          1.6547150611877441,
          1.6547150611877441,
          1.6547150611877441,
          1.6547150611877441,
          1.6547150611877441,
          1.6547150611877441,
          1.6547150611877441,
          1.6547150611877441,
          1.6547150611877441,
          1.6547150611877441,
          1.6547150611877441,
          1.6547150611877441,
          1.6547150611877441,
          1.6547150611877441,
          1.6547150611877441,
          1.6547150611877441,
          1.6547150611877441,
          1.6547150611877441,
          1.6547150611877441,
          1.6547150611877441,
          1.6547150611877441,
          1.6547150611877441,
          1.6547150611877441,
          1.6547150611877441,
          1.6547150611877441,
          1.6547150611877441,
          1.6547150611877441,
          1.6547150611877441,
          1.6547150611877441,
          1.6547150611877441,
          1.6547150611877441,
          1.6547150611877441,
          1.6547150611877441,
          1.6547150611877441,
          1.6547150611877441,
          1.6547150611877441,
          1.6547150611877441,
          1.6547150611877441,
          1.6547150611877441,
          1.6547150611877441,
          1.6547150611877441,
          1.6547150611877441,
          1.6547150611877441,
          1.6547150611877441,
          1.6547150611877441,
          1.6547150611877441,
          1.6547150611877441,
          1.6547150611877441,
          1.6547150611877441,
          1.6547150611877441,
          1.6547150611877441,
          1.6547150611877441,
          1.6547150611877441,
          1.6547150611877441,
          1.6547150611877441,
          1.6547150611877441,
          1.6547150611877441,
          1.6547150611877441,
          1.6547150611877441,
          1.6547150611877441,
          1.6547150611877441,
          1.6547150611877441,
          1.6547150611877441,
          1.6547150611877441,
          1.6547150611877441,
          1.6547150611877441,
          1.6547150611877441,
          1.6547150611877441,
          1.6547150611877441,
          1.6547150611877441,
          1.6547150611877441,
          1.6547150611877441,
          1.6547150611877441,
          1.6547150611877441,
          1.6547150611877441,
          1.6547150611877441,
          1.6547150611877441,
          1.6547150611877441,
          1.6547150611877441,
          1.6547150611877441,
          1.6547150611877441,
          1.6547150611877441,
          1.6547150611877441,
          1.6547150611877441,
          1.6547150611877441,
          1.6547150611877441,
          1.6547150611877441,
          1.6547150611877441,
          1.6547150611877441,
          1.6547150611877441,
          1.6547150611877441,
          1.6547150611877441,
          1.6547150611877441,
          1.6547150611877441,
          1.6547150611877441,
          1.6547150611877441,
          1.6547150611877441,
          1.6547150611877441,
          1.6547150611877441,
          1.6547150611877441,
          1.6547150611877441,
          1.6547150611877441,
          1.6547150611877441,
          1.6547150611877441,
          1.6547150611877441,
          1.6547150611877441,
          1.6547150611877441,
          1.6547150611877441,
          1.6547150611877441,
          1.6547150611877441,
          1.6547150611877441,
          1.6547150611877441,
          1.6547150611877441,
          1.6547150611877441,
          1.6547150611877441,
          1.6547150611877441,
          1.6547150611877441,
          1.6547150611877441,
          1.6547150611877441,
          1.6547150611877441,
          1.6547150611877441,
          1.6547150611877441,
          1.6547150611877441,
          1.6547150611877441,
          1.6547150611877441,
          1.6547150611877441,
          1.6547150611877441,
          1.6547150611877441,
          1.6547150611877441,
          1.6547150611877441,
          1.6547150611877441,
          1.6547150611877441,
          1.6547150611877441,
          1.6547150611877441,
          1.6547150611877441,
          1.6547150611877441,
          1.6547150611877441,
          1.6547150611877441,
          1.6547150611877441,
          1.6547150611877441,
          1.6547150611877441,
          1.6547150611877441,
          1.6547150611877441,
          1.6547150611877441,
          1.6547150611877441,
          1.6547150611877441,
          1.6547150611877441,
          1.6547150611877441,
          1.6547150611877441,
          1.6547150611877441,
          1.6547150611877441,
          1.6547150611877441,
          1.6547150611877441,
          1.6547150611877441,
          1.6547150611877441,
          1.6547150611877441,
          1.6547150611877441,
          1.6547150611877441,
          1.6547150611877441,
          1.6547150611877441,
          1.6547150611877441,
          1.6547150611877441,
          1.6547150611877441,
          1.6547150611877441,
          1.6547150611877441,
          1.6547150611877441,
          1.6547150611877441,
          1.6547150611877441,
          1.6547150611877441,
          1.6547150611877441,
          1.6547150611877441,
          1.6547150611877441,
          1.6547150611877441,
          1.6547150611877441,
          1.6547150611877441,
          1.6547150611877441,
          1.6547150611877441,
          1.6547150611877441,
          1.6547150611877441,
          1.6547150611877441,
          1.6547150611877441,
          1.6547150611877441,
          1.6547150611877441,
          1.6547150611877441,
          1.6547150611877441,
          1.6547150611877441,
          1.6547150611877441,
          1.6547150611877441,
          1.6547150611877441,
          1.6547150611877441,
          1.6547150611877441,
          1.6547150611877441,
          1.6547150611877441,
          1.6547150611877441,
          1.6547150611877441,
          1.6547150611877441
         ],
         "xaxis": "x3",
         "y": [
          1.6547150611877441,
          1.6547150611877441,
          1.6547150611877441,
          1.6547150611877441,
          1.6547150611877441,
          1.6547150611877441,
          1.6547150611877441,
          1.6547150611877441,
          1.6547150611877441,
          1.6547150611877441,
          1.6547150611877441,
          1.6547150611877441,
          1.6547150611877441,
          1.6547150611877441,
          1.6547150611877441,
          1.6547150611877441,
          1.6547150611877441,
          1.6547150611877441,
          1.6547150611877441,
          1.6547150611877441,
          1.6547150611877441,
          1.6547150611877441,
          1.6547150611877441,
          1.6547150611877441,
          1.6547150611877441,
          1.6547150611877441,
          1.6547150611877441,
          1.6547150611877441,
          1.6547150611877441,
          1.6547150611877441,
          1.6547150611877441,
          1.6547150611877441,
          1.6547150611877441,
          1.6547150611877441,
          1.6547150611877441,
          1.6547150611877441,
          1.6547150611877441,
          1.6547150611877441,
          1.6547150611877441,
          1.6547150611877441,
          1.6547150611877441,
          1.6547150611877441,
          1.6547150611877441,
          1.6547150611877441,
          1.6547150611877441,
          1.6547150611877441,
          1.6547150611877441,
          1.6547150611877441,
          1.6547150611877441,
          1.6547150611877441,
          1.6547150611877441,
          1.6547150611877441,
          1.6547150611877441,
          1.6547150611877441,
          1.6547150611877441,
          1.6547150611877441,
          1.6547150611877441,
          1.6547150611877441,
          1.6547150611877441,
          1.6547150611877441,
          1.6547150611877441,
          1.6547150611877441,
          1.6547150611877441,
          1.6547150611877441,
          1.6547150611877441,
          1.6547150611877441,
          1.6547150611877441,
          1.6547150611877441,
          1.6547150611877441,
          1.6547150611877441,
          1.6547150611877441,
          1.6547150611877441,
          1.6547150611877441,
          1.6547150611877441,
          1.6547150611877441,
          1.6547150611877441,
          1.6547150611877441,
          1.6547150611877441,
          1.6547150611877441,
          1.6547150611877441,
          1.6547150611877441,
          1.6547150611877441,
          1.6547150611877441,
          1.6547150611877441,
          1.6547150611877441,
          1.6547150611877441,
          1.6547150611877441,
          1.6547150611877441,
          1.6547150611877441,
          1.6547150611877441,
          1.6547150611877441,
          1.6547150611877441,
          1.6547150611877441,
          1.6547150611877441,
          1.6547150611877441,
          1.6547150611877441,
          1.6547150611877441,
          1.6547150611877441,
          1.6547150611877441,
          1.6547150611877441,
          1.6547150611877441,
          1.6547150611877441,
          1.6547150611877441,
          1.6547150611877441,
          1.6547150611877441,
          1.6547150611877441,
          1.6547150611877441,
          1.6547150611877441,
          1.6547150611877441,
          1.6547150611877441,
          1.6547150611877441,
          1.6547150611877441,
          1.6547150611877441,
          1.6547150611877441,
          1.6547150611877441,
          1.6547150611877441,
          1.6547150611877441,
          1.6547150611877441,
          1.6547150611877441,
          1.6547150611877441,
          1.6547150611877441,
          1.6547150611877441,
          1.6547150611877441,
          1.6547150611877441,
          1.6547150611877441,
          1.6547150611877441,
          1.6547150611877441,
          1.6547150611877441,
          1.6547150611877441,
          1.6547150611877441,
          1.6547150611877441,
          1.6547150611877441,
          1.6547150611877441,
          1.6547150611877441,
          1.6547150611877441,
          1.6547150611877441,
          1.6547150611877441,
          1.6547150611877441,
          1.6547150611877441,
          1.6547150611877441,
          1.6547150611877441,
          1.6547150611877441,
          1.6547150611877441,
          1.6547150611877441,
          1.6547150611877441,
          1.6547150611877441,
          1.6547150611877441,
          1.6547150611877441,
          1.6547150611877441,
          1.6547150611877441,
          1.6547150611877441,
          1.6547150611877441,
          1.6547150611877441,
          1.6547150611877441,
          1.6547150611877441,
          1.6547150611877441,
          1.6547150611877441,
          1.6547150611877441,
          1.6547150611877441,
          1.6547150611877441,
          1.6547150611877441,
          1.6547150611877441,
          1.6547150611877441,
          1.6547150611877441,
          1.6547150611877441,
          1.6547150611877441,
          1.6547150611877441,
          1.6547150611877441,
          1.6547150611877441,
          1.6547150611877441,
          1.6547150611877441,
          1.6547150611877441,
          1.6547150611877441,
          1.6547150611877441,
          1.6547150611877441,
          1.6547150611877441,
          1.6547150611877441,
          1.6547150611877441,
          1.6547150611877441,
          1.6547150611877441,
          1.6547150611877441,
          1.6547150611877441,
          1.6547150611877441,
          1.6547150611877441,
          1.6547150611877441,
          1.6547150611877441,
          1.6547150611877441,
          1.6547150611877441,
          1.6547150611877441,
          1.6547150611877441,
          1.6547150611877441,
          1.6547150611877441,
          1.6547150611877441,
          1.6547150611877441,
          1.6547150611877441,
          1.6547150611877441,
          1.6547150611877441,
          1.6547150611877441,
          1.6547150611877441,
          1.6547150611877441,
          1.6547150611877441,
          1.6547150611877441,
          1.6547150611877441,
          1.6547150611877441,
          1.6547150611877441,
          1.6547150611877441,
          1.6547150611877441,
          1.6547150611877441,
          1.6547150611877441,
          1.6547150611877441,
          1.6547150611877441,
          1.6547150611877441,
          1.6547150611877441,
          1.6547150611877441,
          1.6547150611877441,
          1.6547150611877441,
          1.6547150611877441,
          1.6547150611877441,
          1.6547150611877441,
          1.6547150611877441,
          1.6547150611877441,
          1.6547150611877441,
          1.6547150611877441,
          1.6547150611877441,
          1.6547150611877441,
          1.6547150611877441,
          1.6547150611877441,
          1.6547150611877441,
          1.6547150611877441,
          1.6547150611877441,
          1.6547150611877441,
          1.6547150611877441,
          1.6547150611877441,
          1.6547150611877441,
          1.6547150611877441,
          1.6547150611877441,
          1.6547150611877441,
          1.6547150611877441,
          1.6547150611877441,
          1.6547150611877441,
          1.6547150611877441,
          1.6547150611877441,
          1.6547150611877441,
          1.6547150611877441,
          1.6547150611877441,
          1.6547150611877441,
          1.6547150611877441,
          1.6547150611877441,
          1.6547150611877441,
          1.6547150611877441,
          1.6547150611877441,
          1.6547150611877441,
          1.6547150611877441,
          1.6547150611877441,
          1.6547150611877441,
          1.6547150611877441,
          1.6547150611877441,
          1.6547150611877441,
          1.6547150611877441,
          1.6547150611877441,
          1.6547150611877441,
          1.6547150611877441,
          1.6547150611877441,
          1.6547150611877441,
          1.6547150611877441,
          1.6547150611877441,
          1.6547150611877441,
          1.6547150611877441,
          1.6547150611877441,
          1.6547150611877441,
          1.6547150611877441,
          1.6547150611877441,
          1.6547150611877441,
          1.6547150611877441,
          1.6547150611877441,
          1.6547150611877441,
          1.6547150611877441,
          1.6547150611877441,
          1.6547150611877441,
          1.6547150611877441,
          1.6547150611877441,
          1.6547150611877441,
          1.6547150611877441,
          1.6547150611877441,
          1.6547150611877441,
          1.6547150611877441,
          1.6547150611877441,
          1.6547150611877441,
          1.6547150611877441,
          1.6547150611877441,
          1.6547150611877441,
          1.6547150611877441,
          1.6547150611877441,
          1.6547150611877441,
          1.6547150611877441,
          1.6547150611877441,
          1.6547150611877441,
          1.6547150611877441,
          1.6547150611877441,
          1.6547150611877441,
          1.6547150611877441,
          1.6547150611877441,
          1.6547150611877441,
          1.6547150611877441,
          1.6547150611877441,
          1.6547150611877441,
          1.6547150611877441,
          1.6547150611877441,
          1.6547150611877441,
          1.6547150611877441,
          1.6547150611877441,
          1.6547150611877441,
          1.6547150611877441,
          1.6547150611877441,
          1.6547150611877441,
          1.6547150611877441,
          1.6547150611877441,
          1.6547150611877441,
          1.6547150611877441,
          1.6547150611877441,
          1.6547150611877441,
          1.6547150611877441,
          1.6547150611877441,
          1.6547150611877441,
          1.6547150611877441,
          1.6547150611877441,
          1.6547150611877441,
          1.6547150611877441,
          1.6547150611877441,
          1.6547150611877441,
          1.6547150611877441,
          1.6547150611877441,
          1.6547150611877441,
          1.6547150611877441,
          1.6547150611877441,
          1.6547150611877441,
          1.6547150611877441,
          1.6547150611877441,
          1.6547150611877441,
          1.6547150611877441,
          1.6547150611877441,
          1.6547150611877441,
          1.6547150611877441,
          1.6547150611877441,
          1.6547150611877441,
          1.6547150611877441,
          1.6547150611877441,
          1.6547150611877441,
          1.6547150611877441,
          1.6547150611877441,
          1.6547150611877441,
          1.6547150611877441,
          1.6547150611877441,
          1.6547150611877441,
          1.6547150611877441,
          1.6547150611877441,
          1.6547150611877441,
          1.6547150611877441,
          1.6547150611877441,
          1.6547150611877441,
          1.6547150611877441,
          1.6547150611877441,
          1.6547150611877441,
          1.6547150611877441,
          1.6547150611877441,
          1.6547150611877441,
          1.6547150611877441,
          1.6547150611877441,
          1.6547150611877441,
          1.6547150611877441,
          1.6547150611877441,
          1.6547150611877441,
          1.6547150611877441,
          1.6547150611877441,
          1.6547150611877441,
          1.6547150611877441,
          1.6547150611877441,
          1.6547150611877441,
          1.6547150611877441,
          1.6547150611877441,
          1.6547150611877441,
          1.6547150611877441,
          1.6547150611877441,
          1.6547150611877441,
          1.6547150611877441,
          1.6547150611877441,
          1.6547150611877441,
          1.6547150611877441,
          1.6547150611877441,
          1.6547150611877441,
          1.6547150611877441,
          1.6547150611877441
         ],
         "yaxis": "y3"
        }
       ],
       "layout": {
        "height": 400,
        "legend": {
         "title": {
          "text": "Curves"
         }
        },
        "scene": {
         "domain": {
          "x": [
           0.2625,
           0.475
          ],
          "y": [
           0,
           1
          ]
         }
        },
        "template": {
         "data": {
          "bar": [
           {
            "error_x": {
             "color": "#2a3f5f"
            },
            "error_y": {
             "color": "#2a3f5f"
            },
            "marker": {
             "line": {
              "color": "#E5ECF6",
              "width": 0.5
             },
             "pattern": {
              "fillmode": "overlay",
              "size": 10,
              "solidity": 0.2
             }
            },
            "type": "bar"
           }
          ],
          "barpolar": [
           {
            "marker": {
             "line": {
              "color": "#E5ECF6",
              "width": 0.5
             },
             "pattern": {
              "fillmode": "overlay",
              "size": 10,
              "solidity": 0.2
             }
            },
            "type": "barpolar"
           }
          ],
          "carpet": [
           {
            "aaxis": {
             "endlinecolor": "#2a3f5f",
             "gridcolor": "white",
             "linecolor": "white",
             "minorgridcolor": "white",
             "startlinecolor": "#2a3f5f"
            },
            "baxis": {
             "endlinecolor": "#2a3f5f",
             "gridcolor": "white",
             "linecolor": "white",
             "minorgridcolor": "white",
             "startlinecolor": "#2a3f5f"
            },
            "type": "carpet"
           }
          ],
          "choropleth": [
           {
            "colorbar": {
             "outlinewidth": 0,
             "ticks": ""
            },
            "type": "choropleth"
           }
          ],
          "contour": [
           {
            "colorbar": {
             "outlinewidth": 0,
             "ticks": ""
            },
            "colorscale": [
             [
              0,
              "#0d0887"
             ],
             [
              0.1111111111111111,
              "#46039f"
             ],
             [
              0.2222222222222222,
              "#7201a8"
             ],
             [
              0.3333333333333333,
              "#9c179e"
             ],
             [
              0.4444444444444444,
              "#bd3786"
             ],
             [
              0.5555555555555556,
              "#d8576b"
             ],
             [
              0.6666666666666666,
              "#ed7953"
             ],
             [
              0.7777777777777778,
              "#fb9f3a"
             ],
             [
              0.8888888888888888,
              "#fdca26"
             ],
             [
              1,
              "#f0f921"
             ]
            ],
            "type": "contour"
           }
          ],
          "contourcarpet": [
           {
            "colorbar": {
             "outlinewidth": 0,
             "ticks": ""
            },
            "type": "contourcarpet"
           }
          ],
          "heatmap": [
           {
            "colorbar": {
             "outlinewidth": 0,
             "ticks": ""
            },
            "colorscale": [
             [
              0,
              "#0d0887"
             ],
             [
              0.1111111111111111,
              "#46039f"
             ],
             [
              0.2222222222222222,
              "#7201a8"
             ],
             [
              0.3333333333333333,
              "#9c179e"
             ],
             [
              0.4444444444444444,
              "#bd3786"
             ],
             [
              0.5555555555555556,
              "#d8576b"
             ],
             [
              0.6666666666666666,
              "#ed7953"
             ],
             [
              0.7777777777777778,
              "#fb9f3a"
             ],
             [
              0.8888888888888888,
              "#fdca26"
             ],
             [
              1,
              "#f0f921"
             ]
            ],
            "type": "heatmap"
           }
          ],
          "heatmapgl": [
           {
            "colorbar": {
             "outlinewidth": 0,
             "ticks": ""
            },
            "colorscale": [
             [
              0,
              "#0d0887"
             ],
             [
              0.1111111111111111,
              "#46039f"
             ],
             [
              0.2222222222222222,
              "#7201a8"
             ],
             [
              0.3333333333333333,
              "#9c179e"
             ],
             [
              0.4444444444444444,
              "#bd3786"
             ],
             [
              0.5555555555555556,
              "#d8576b"
             ],
             [
              0.6666666666666666,
              "#ed7953"
             ],
             [
              0.7777777777777778,
              "#fb9f3a"
             ],
             [
              0.8888888888888888,
              "#fdca26"
             ],
             [
              1,
              "#f0f921"
             ]
            ],
            "type": "heatmapgl"
           }
          ],
          "histogram": [
           {
            "marker": {
             "pattern": {
              "fillmode": "overlay",
              "size": 10,
              "solidity": 0.2
             }
            },
            "type": "histogram"
           }
          ],
          "histogram2d": [
           {
            "colorbar": {
             "outlinewidth": 0,
             "ticks": ""
            },
            "colorscale": [
             [
              0,
              "#0d0887"
             ],
             [
              0.1111111111111111,
              "#46039f"
             ],
             [
              0.2222222222222222,
              "#7201a8"
             ],
             [
              0.3333333333333333,
              "#9c179e"
             ],
             [
              0.4444444444444444,
              "#bd3786"
             ],
             [
              0.5555555555555556,
              "#d8576b"
             ],
             [
              0.6666666666666666,
              "#ed7953"
             ],
             [
              0.7777777777777778,
              "#fb9f3a"
             ],
             [
              0.8888888888888888,
              "#fdca26"
             ],
             [
              1,
              "#f0f921"
             ]
            ],
            "type": "histogram2d"
           }
          ],
          "histogram2dcontour": [
           {
            "colorbar": {
             "outlinewidth": 0,
             "ticks": ""
            },
            "colorscale": [
             [
              0,
              "#0d0887"
             ],
             [
              0.1111111111111111,
              "#46039f"
             ],
             [
              0.2222222222222222,
              "#7201a8"
             ],
             [
              0.3333333333333333,
              "#9c179e"
             ],
             [
              0.4444444444444444,
              "#bd3786"
             ],
             [
              0.5555555555555556,
              "#d8576b"
             ],
             [
              0.6666666666666666,
              "#ed7953"
             ],
             [
              0.7777777777777778,
              "#fb9f3a"
             ],
             [
              0.8888888888888888,
              "#fdca26"
             ],
             [
              1,
              "#f0f921"
             ]
            ],
            "type": "histogram2dcontour"
           }
          ],
          "mesh3d": [
           {
            "colorbar": {
             "outlinewidth": 0,
             "ticks": ""
            },
            "type": "mesh3d"
           }
          ],
          "parcoords": [
           {
            "line": {
             "colorbar": {
              "outlinewidth": 0,
              "ticks": ""
             }
            },
            "type": "parcoords"
           }
          ],
          "pie": [
           {
            "automargin": true,
            "type": "pie"
           }
          ],
          "scatter": [
           {
            "marker": {
             "colorbar": {
              "outlinewidth": 0,
              "ticks": ""
             }
            },
            "type": "scatter"
           }
          ],
          "scatter3d": [
           {
            "line": {
             "colorbar": {
              "outlinewidth": 0,
              "ticks": ""
             }
            },
            "marker": {
             "colorbar": {
              "outlinewidth": 0,
              "ticks": ""
             }
            },
            "type": "scatter3d"
           }
          ],
          "scattercarpet": [
           {
            "marker": {
             "colorbar": {
              "outlinewidth": 0,
              "ticks": ""
             }
            },
            "type": "scattercarpet"
           }
          ],
          "scattergeo": [
           {
            "marker": {
             "colorbar": {
              "outlinewidth": 0,
              "ticks": ""
             }
            },
            "type": "scattergeo"
           }
          ],
          "scattergl": [
           {
            "marker": {
             "colorbar": {
              "outlinewidth": 0,
              "ticks": ""
             }
            },
            "type": "scattergl"
           }
          ],
          "scattermapbox": [
           {
            "marker": {
             "colorbar": {
              "outlinewidth": 0,
              "ticks": ""
             }
            },
            "type": "scattermapbox"
           }
          ],
          "scatterpolar": [
           {
            "marker": {
             "colorbar": {
              "outlinewidth": 0,
              "ticks": ""
             }
            },
            "type": "scatterpolar"
           }
          ],
          "scatterpolargl": [
           {
            "marker": {
             "colorbar": {
              "outlinewidth": 0,
              "ticks": ""
             }
            },
            "type": "scatterpolargl"
           }
          ],
          "scatterternary": [
           {
            "marker": {
             "colorbar": {
              "outlinewidth": 0,
              "ticks": ""
             }
            },
            "type": "scatterternary"
           }
          ],
          "surface": [
           {
            "colorbar": {
             "outlinewidth": 0,
             "ticks": ""
            },
            "colorscale": [
             [
              0,
              "#0d0887"
             ],
             [
              0.1111111111111111,
              "#46039f"
             ],
             [
              0.2222222222222222,
              "#7201a8"
             ],
             [
              0.3333333333333333,
              "#9c179e"
             ],
             [
              0.4444444444444444,
              "#bd3786"
             ],
             [
              0.5555555555555556,
              "#d8576b"
             ],
             [
              0.6666666666666666,
              "#ed7953"
             ],
             [
              0.7777777777777778,
              "#fb9f3a"
             ],
             [
              0.8888888888888888,
              "#fdca26"
             ],
             [
              1,
              "#f0f921"
             ]
            ],
            "type": "surface"
           }
          ],
          "table": [
           {
            "cells": {
             "fill": {
              "color": "#EBF0F8"
             },
             "line": {
              "color": "white"
             }
            },
            "header": {
             "fill": {
              "color": "#C8D4E3"
             },
             "line": {
              "color": "white"
             }
            },
            "type": "table"
           }
          ]
         },
         "layout": {
          "annotationdefaults": {
           "arrowcolor": "#2a3f5f",
           "arrowhead": 0,
           "arrowwidth": 1
          },
          "autotypenumbers": "strict",
          "coloraxis": {
           "colorbar": {
            "outlinewidth": 0,
            "ticks": ""
           }
          },
          "colorscale": {
           "diverging": [
            [
             0,
             "#8e0152"
            ],
            [
             0.1,
             "#c51b7d"
            ],
            [
             0.2,
             "#de77ae"
            ],
            [
             0.3,
             "#f1b6da"
            ],
            [
             0.4,
             "#fde0ef"
            ],
            [
             0.5,
             "#f7f7f7"
            ],
            [
             0.6,
             "#e6f5d0"
            ],
            [
             0.7,
             "#b8e186"
            ],
            [
             0.8,
             "#7fbc41"
            ],
            [
             0.9,
             "#4d9221"
            ],
            [
             1,
             "#276419"
            ]
           ],
           "sequential": [
            [
             0,
             "#0d0887"
            ],
            [
             0.1111111111111111,
             "#46039f"
            ],
            [
             0.2222222222222222,
             "#7201a8"
            ],
            [
             0.3333333333333333,
             "#9c179e"
            ],
            [
             0.4444444444444444,
             "#bd3786"
            ],
            [
             0.5555555555555556,
             "#d8576b"
            ],
            [
             0.6666666666666666,
             "#ed7953"
            ],
            [
             0.7777777777777778,
             "#fb9f3a"
            ],
            [
             0.8888888888888888,
             "#fdca26"
            ],
            [
             1,
             "#f0f921"
            ]
           ],
           "sequentialminus": [
            [
             0,
             "#0d0887"
            ],
            [
             0.1111111111111111,
             "#46039f"
            ],
            [
             0.2222222222222222,
             "#7201a8"
            ],
            [
             0.3333333333333333,
             "#9c179e"
            ],
            [
             0.4444444444444444,
             "#bd3786"
            ],
            [
             0.5555555555555556,
             "#d8576b"
            ],
            [
             0.6666666666666666,
             "#ed7953"
            ],
            [
             0.7777777777777778,
             "#fb9f3a"
            ],
            [
             0.8888888888888888,
             "#fdca26"
            ],
            [
             1,
             "#f0f921"
            ]
           ]
          },
          "colorway": [
           "#636efa",
           "#EF553B",
           "#00cc96",
           "#ab63fa",
           "#FFA15A",
           "#19d3f3",
           "#FF6692",
           "#B6E880",
           "#FF97FF",
           "#FECB52"
          ],
          "font": {
           "color": "#2a3f5f"
          },
          "geo": {
           "bgcolor": "white",
           "lakecolor": "white",
           "landcolor": "#E5ECF6",
           "showlakes": true,
           "showland": true,
           "subunitcolor": "white"
          },
          "hoverlabel": {
           "align": "left"
          },
          "hovermode": "closest",
          "mapbox": {
           "style": "light"
          },
          "paper_bgcolor": "white",
          "plot_bgcolor": "#E5ECF6",
          "polar": {
           "angularaxis": {
            "gridcolor": "white",
            "linecolor": "white",
            "ticks": ""
           },
           "bgcolor": "#E5ECF6",
           "radialaxis": {
            "gridcolor": "white",
            "linecolor": "white",
            "ticks": ""
           }
          },
          "scene": {
           "xaxis": {
            "backgroundcolor": "#E5ECF6",
            "gridcolor": "white",
            "gridwidth": 2,
            "linecolor": "white",
            "showbackground": true,
            "ticks": "",
            "zerolinecolor": "white"
           },
           "yaxis": {
            "backgroundcolor": "#E5ECF6",
            "gridcolor": "white",
            "gridwidth": 2,
            "linecolor": "white",
            "showbackground": true,
            "ticks": "",
            "zerolinecolor": "white"
           },
           "zaxis": {
            "backgroundcolor": "#E5ECF6",
            "gridcolor": "white",
            "gridwidth": 2,
            "linecolor": "white",
            "showbackground": true,
            "ticks": "",
            "zerolinecolor": "white"
           }
          },
          "shapedefaults": {
           "line": {
            "color": "#2a3f5f"
           }
          },
          "ternary": {
           "aaxis": {
            "gridcolor": "white",
            "linecolor": "white",
            "ticks": ""
           },
           "baxis": {
            "gridcolor": "white",
            "linecolor": "white",
            "ticks": ""
           },
           "bgcolor": "#E5ECF6",
           "caxis": {
            "gridcolor": "white",
            "linecolor": "white",
            "ticks": ""
           }
          },
          "title": {
           "x": 0.05
          },
          "xaxis": {
           "automargin": true,
           "gridcolor": "white",
           "linecolor": "white",
           "ticks": "",
           "title": {
            "standoff": 15
           },
           "zerolinecolor": "white",
           "zerolinewidth": 2
          },
          "yaxis": {
           "automargin": true,
           "gridcolor": "white",
           "linecolor": "white",
           "ticks": "",
           "title": {
            "standoff": 15
           },
           "zerolinecolor": "white",
           "zerolinewidth": 2
          }
         }
        },
        "title": {
         "text": "Optimization summary for integral sheaf metric computation"
        },
        "width": 1000,
        "xaxis": {
         "anchor": "y",
         "domain": [
          0,
          0.2125
         ],
         "title": {
          "text": "epoch"
         }
        },
        "xaxis2": {
         "anchor": "y2",
         "domain": [
          0.525,
          0.7375
         ],
         "title": {
          "text": "epoch"
         }
        },
        "xaxis3": {
         "anchor": "y3",
         "domain": [
          0.7875,
          1
         ],
         "title": {
          "text": "birth"
         }
        },
        "yaxis": {
         "anchor": "x",
         "domain": [
          0,
          1
         ],
         "title": {
          "text": "amplitude"
         }
        },
        "yaxis2": {
         "anchor": "x2",
         "domain": [
          0,
          1
         ]
        },
        "yaxis3": {
         "anchor": "x3",
         "domain": [
          0,
          1
         ]
        }
       }
      }
     },
     "metadata": {},
     "output_type": "display_data"
    }
   ],
   "source": [
    "plot_optim(opt,True)"
   ]
  },
  {
   "cell_type": "markdown",
   "metadata": {},
   "source": [
    "### Estimating the LISM with a grid search"
   ]
  },
  {
   "cell_type": "code",
   "execution_count": 359,
   "metadata": {},
   "outputs": [],
   "source": [
    "from LISM import grid_search, fast_grid_search\n",
    "\n",
    "filtrations = [RadialFiltration(center=np.array([13,0])),\n",
    "               HeightFiltration(direction=np.array([0,1]))]\n",
    "\n",
    "I = multifiltration(images[0],filtrations)\n",
    "J = multifiltration(images[1],filtrations)"
   ]
  },
  {
   "cell_type": "code",
   "execution_count": 360,
   "metadata": {},
   "outputs": [],
   "source": [
    "p_opt = opt['projections'][-1]"
   ]
  },
  {
   "cell_type": "code",
   "execution_count": 361,
   "metadata": {},
   "outputs": [],
   "source": [
    "dist, angle, fig = grid_search(I,J,0.1,True,1)"
   ]
  },
  {
   "cell_type": "code",
   "execution_count": 362,
   "metadata": {},
   "outputs": [
    {
     "data": {
      "application/vnd.plotly.v1+json": {
       "config": {
        "plotlyServerURL": "https://plot.ly"
       },
       "data": [
        {
         "type": "scatter",
         "x": [
          0,
          0.1,
          0.2,
          0.30000000000000004,
          0.4,
          0.5,
          0.6000000000000001,
          0.7000000000000001,
          0.8,
          0.9,
          1,
          1.1,
          1.2000000000000002,
          1.3,
          1.4000000000000001,
          1.5
         ],
         "y": [
          0.40293756127357483,
          0.417165070772171,
          0.42890092730522156,
          0.4382319152355194,
          0.4452185332775116,
          0.4499014914035797,
          0.45230600237846375,
          0.452444463968277,
          0.45031750202178955,
          0.4459143579006195,
          0.439211368560791,
          0.430169939994812,
          0.4187323749065399,
          0.4048154652118683,
          0.38829997181892395,
          0.3690144419670105
         ]
        },
        {
         "line": {
          "dash": "dot",
          "width": 1
         },
         "showlegend": false,
         "type": "scatter",
         "x": [
          0.7000000000000001,
          0.7000000000000001
         ],
         "y": [
          0,
          0.452444463968277
         ]
        },
        {
         "line": {
          "dash": "dot",
          "width": 1
         },
         "showlegend": false,
         "type": "scatter",
         "x": [
          0,
          0.7000000000000001
         ],
         "y": [
          0.452444463968277,
          0.452444463968277
         ]
        },
        {
         "mode": "markers",
         "name": "maximum",
         "type": "scatter",
         "x": [
          0.7000000000000001
         ],
         "y": [
          0.452444463968277
         ]
        }
       ],
       "layout": {
        "height": 400,
        "legend": {
         "title": {
          "text": "Curves"
         }
        },
        "template": {
         "data": {
          "bar": [
           {
            "error_x": {
             "color": "#2a3f5f"
            },
            "error_y": {
             "color": "#2a3f5f"
            },
            "marker": {
             "line": {
              "color": "#E5ECF6",
              "width": 0.5
             },
             "pattern": {
              "fillmode": "overlay",
              "size": 10,
              "solidity": 0.2
             }
            },
            "type": "bar"
           }
          ],
          "barpolar": [
           {
            "marker": {
             "line": {
              "color": "#E5ECF6",
              "width": 0.5
             },
             "pattern": {
              "fillmode": "overlay",
              "size": 10,
              "solidity": 0.2
             }
            },
            "type": "barpolar"
           }
          ],
          "carpet": [
           {
            "aaxis": {
             "endlinecolor": "#2a3f5f",
             "gridcolor": "white",
             "linecolor": "white",
             "minorgridcolor": "white",
             "startlinecolor": "#2a3f5f"
            },
            "baxis": {
             "endlinecolor": "#2a3f5f",
             "gridcolor": "white",
             "linecolor": "white",
             "minorgridcolor": "white",
             "startlinecolor": "#2a3f5f"
            },
            "type": "carpet"
           }
          ],
          "choropleth": [
           {
            "colorbar": {
             "outlinewidth": 0,
             "ticks": ""
            },
            "type": "choropleth"
           }
          ],
          "contour": [
           {
            "colorbar": {
             "outlinewidth": 0,
             "ticks": ""
            },
            "colorscale": [
             [
              0,
              "#0d0887"
             ],
             [
              0.1111111111111111,
              "#46039f"
             ],
             [
              0.2222222222222222,
              "#7201a8"
             ],
             [
              0.3333333333333333,
              "#9c179e"
             ],
             [
              0.4444444444444444,
              "#bd3786"
             ],
             [
              0.5555555555555556,
              "#d8576b"
             ],
             [
              0.6666666666666666,
              "#ed7953"
             ],
             [
              0.7777777777777778,
              "#fb9f3a"
             ],
             [
              0.8888888888888888,
              "#fdca26"
             ],
             [
              1,
              "#f0f921"
             ]
            ],
            "type": "contour"
           }
          ],
          "contourcarpet": [
           {
            "colorbar": {
             "outlinewidth": 0,
             "ticks": ""
            },
            "type": "contourcarpet"
           }
          ],
          "heatmap": [
           {
            "colorbar": {
             "outlinewidth": 0,
             "ticks": ""
            },
            "colorscale": [
             [
              0,
              "#0d0887"
             ],
             [
              0.1111111111111111,
              "#46039f"
             ],
             [
              0.2222222222222222,
              "#7201a8"
             ],
             [
              0.3333333333333333,
              "#9c179e"
             ],
             [
              0.4444444444444444,
              "#bd3786"
             ],
             [
              0.5555555555555556,
              "#d8576b"
             ],
             [
              0.6666666666666666,
              "#ed7953"
             ],
             [
              0.7777777777777778,
              "#fb9f3a"
             ],
             [
              0.8888888888888888,
              "#fdca26"
             ],
             [
              1,
              "#f0f921"
             ]
            ],
            "type": "heatmap"
           }
          ],
          "heatmapgl": [
           {
            "colorbar": {
             "outlinewidth": 0,
             "ticks": ""
            },
            "colorscale": [
             [
              0,
              "#0d0887"
             ],
             [
              0.1111111111111111,
              "#46039f"
             ],
             [
              0.2222222222222222,
              "#7201a8"
             ],
             [
              0.3333333333333333,
              "#9c179e"
             ],
             [
              0.4444444444444444,
              "#bd3786"
             ],
             [
              0.5555555555555556,
              "#d8576b"
             ],
             [
              0.6666666666666666,
              "#ed7953"
             ],
             [
              0.7777777777777778,
              "#fb9f3a"
             ],
             [
              0.8888888888888888,
              "#fdca26"
             ],
             [
              1,
              "#f0f921"
             ]
            ],
            "type": "heatmapgl"
           }
          ],
          "histogram": [
           {
            "marker": {
             "pattern": {
              "fillmode": "overlay",
              "size": 10,
              "solidity": 0.2
             }
            },
            "type": "histogram"
           }
          ],
          "histogram2d": [
           {
            "colorbar": {
             "outlinewidth": 0,
             "ticks": ""
            },
            "colorscale": [
             [
              0,
              "#0d0887"
             ],
             [
              0.1111111111111111,
              "#46039f"
             ],
             [
              0.2222222222222222,
              "#7201a8"
             ],
             [
              0.3333333333333333,
              "#9c179e"
             ],
             [
              0.4444444444444444,
              "#bd3786"
             ],
             [
              0.5555555555555556,
              "#d8576b"
             ],
             [
              0.6666666666666666,
              "#ed7953"
             ],
             [
              0.7777777777777778,
              "#fb9f3a"
             ],
             [
              0.8888888888888888,
              "#fdca26"
             ],
             [
              1,
              "#f0f921"
             ]
            ],
            "type": "histogram2d"
           }
          ],
          "histogram2dcontour": [
           {
            "colorbar": {
             "outlinewidth": 0,
             "ticks": ""
            },
            "colorscale": [
             [
              0,
              "#0d0887"
             ],
             [
              0.1111111111111111,
              "#46039f"
             ],
             [
              0.2222222222222222,
              "#7201a8"
             ],
             [
              0.3333333333333333,
              "#9c179e"
             ],
             [
              0.4444444444444444,
              "#bd3786"
             ],
             [
              0.5555555555555556,
              "#d8576b"
             ],
             [
              0.6666666666666666,
              "#ed7953"
             ],
             [
              0.7777777777777778,
              "#fb9f3a"
             ],
             [
              0.8888888888888888,
              "#fdca26"
             ],
             [
              1,
              "#f0f921"
             ]
            ],
            "type": "histogram2dcontour"
           }
          ],
          "mesh3d": [
           {
            "colorbar": {
             "outlinewidth": 0,
             "ticks": ""
            },
            "type": "mesh3d"
           }
          ],
          "parcoords": [
           {
            "line": {
             "colorbar": {
              "outlinewidth": 0,
              "ticks": ""
             }
            },
            "type": "parcoords"
           }
          ],
          "pie": [
           {
            "automargin": true,
            "type": "pie"
           }
          ],
          "scatter": [
           {
            "marker": {
             "colorbar": {
              "outlinewidth": 0,
              "ticks": ""
             }
            },
            "type": "scatter"
           }
          ],
          "scatter3d": [
           {
            "line": {
             "colorbar": {
              "outlinewidth": 0,
              "ticks": ""
             }
            },
            "marker": {
             "colorbar": {
              "outlinewidth": 0,
              "ticks": ""
             }
            },
            "type": "scatter3d"
           }
          ],
          "scattercarpet": [
           {
            "marker": {
             "colorbar": {
              "outlinewidth": 0,
              "ticks": ""
             }
            },
            "type": "scattercarpet"
           }
          ],
          "scattergeo": [
           {
            "marker": {
             "colorbar": {
              "outlinewidth": 0,
              "ticks": ""
             }
            },
            "type": "scattergeo"
           }
          ],
          "scattergl": [
           {
            "marker": {
             "colorbar": {
              "outlinewidth": 0,
              "ticks": ""
             }
            },
            "type": "scattergl"
           }
          ],
          "scattermapbox": [
           {
            "marker": {
             "colorbar": {
              "outlinewidth": 0,
              "ticks": ""
             }
            },
            "type": "scattermapbox"
           }
          ],
          "scatterpolar": [
           {
            "marker": {
             "colorbar": {
              "outlinewidth": 0,
              "ticks": ""
             }
            },
            "type": "scatterpolar"
           }
          ],
          "scatterpolargl": [
           {
            "marker": {
             "colorbar": {
              "outlinewidth": 0,
              "ticks": ""
             }
            },
            "type": "scatterpolargl"
           }
          ],
          "scatterternary": [
           {
            "marker": {
             "colorbar": {
              "outlinewidth": 0,
              "ticks": ""
             }
            },
            "type": "scatterternary"
           }
          ],
          "surface": [
           {
            "colorbar": {
             "outlinewidth": 0,
             "ticks": ""
            },
            "colorscale": [
             [
              0,
              "#0d0887"
             ],
             [
              0.1111111111111111,
              "#46039f"
             ],
             [
              0.2222222222222222,
              "#7201a8"
             ],
             [
              0.3333333333333333,
              "#9c179e"
             ],
             [
              0.4444444444444444,
              "#bd3786"
             ],
             [
              0.5555555555555556,
              "#d8576b"
             ],
             [
              0.6666666666666666,
              "#ed7953"
             ],
             [
              0.7777777777777778,
              "#fb9f3a"
             ],
             [
              0.8888888888888888,
              "#fdca26"
             ],
             [
              1,
              "#f0f921"
             ]
            ],
            "type": "surface"
           }
          ],
          "table": [
           {
            "cells": {
             "fill": {
              "color": "#EBF0F8"
             },
             "line": {
              "color": "white"
             }
            },
            "header": {
             "fill": {
              "color": "#C8D4E3"
             },
             "line": {
              "color": "white"
             }
            },
            "type": "table"
           }
          ]
         },
         "layout": {
          "annotationdefaults": {
           "arrowcolor": "#2a3f5f",
           "arrowhead": 0,
           "arrowwidth": 1
          },
          "autotypenumbers": "strict",
          "coloraxis": {
           "colorbar": {
            "outlinewidth": 0,
            "ticks": ""
           }
          },
          "colorscale": {
           "diverging": [
            [
             0,
             "#8e0152"
            ],
            [
             0.1,
             "#c51b7d"
            ],
            [
             0.2,
             "#de77ae"
            ],
            [
             0.3,
             "#f1b6da"
            ],
            [
             0.4,
             "#fde0ef"
            ],
            [
             0.5,
             "#f7f7f7"
            ],
            [
             0.6,
             "#e6f5d0"
            ],
            [
             0.7,
             "#b8e186"
            ],
            [
             0.8,
             "#7fbc41"
            ],
            [
             0.9,
             "#4d9221"
            ],
            [
             1,
             "#276419"
            ]
           ],
           "sequential": [
            [
             0,
             "#0d0887"
            ],
            [
             0.1111111111111111,
             "#46039f"
            ],
            [
             0.2222222222222222,
             "#7201a8"
            ],
            [
             0.3333333333333333,
             "#9c179e"
            ],
            [
             0.4444444444444444,
             "#bd3786"
            ],
            [
             0.5555555555555556,
             "#d8576b"
            ],
            [
             0.6666666666666666,
             "#ed7953"
            ],
            [
             0.7777777777777778,
             "#fb9f3a"
            ],
            [
             0.8888888888888888,
             "#fdca26"
            ],
            [
             1,
             "#f0f921"
            ]
           ],
           "sequentialminus": [
            [
             0,
             "#0d0887"
            ],
            [
             0.1111111111111111,
             "#46039f"
            ],
            [
             0.2222222222222222,
             "#7201a8"
            ],
            [
             0.3333333333333333,
             "#9c179e"
            ],
            [
             0.4444444444444444,
             "#bd3786"
            ],
            [
             0.5555555555555556,
             "#d8576b"
            ],
            [
             0.6666666666666666,
             "#ed7953"
            ],
            [
             0.7777777777777778,
             "#fb9f3a"
            ],
            [
             0.8888888888888888,
             "#fdca26"
            ],
            [
             1,
             "#f0f921"
            ]
           ]
          },
          "colorway": [
           "#636efa",
           "#EF553B",
           "#00cc96",
           "#ab63fa",
           "#FFA15A",
           "#19d3f3",
           "#FF6692",
           "#B6E880",
           "#FF97FF",
           "#FECB52"
          ],
          "font": {
           "color": "#2a3f5f"
          },
          "geo": {
           "bgcolor": "white",
           "lakecolor": "white",
           "landcolor": "#E5ECF6",
           "showlakes": true,
           "showland": true,
           "subunitcolor": "white"
          },
          "hoverlabel": {
           "align": "left"
          },
          "hovermode": "closest",
          "mapbox": {
           "style": "light"
          },
          "paper_bgcolor": "white",
          "plot_bgcolor": "#E5ECF6",
          "polar": {
           "angularaxis": {
            "gridcolor": "white",
            "linecolor": "white",
            "ticks": ""
           },
           "bgcolor": "#E5ECF6",
           "radialaxis": {
            "gridcolor": "white",
            "linecolor": "white",
            "ticks": ""
           }
          },
          "scene": {
           "xaxis": {
            "backgroundcolor": "#E5ECF6",
            "gridcolor": "white",
            "gridwidth": 2,
            "linecolor": "white",
            "showbackground": true,
            "ticks": "",
            "zerolinecolor": "white"
           },
           "yaxis": {
            "backgroundcolor": "#E5ECF6",
            "gridcolor": "white",
            "gridwidth": 2,
            "linecolor": "white",
            "showbackground": true,
            "ticks": "",
            "zerolinecolor": "white"
           },
           "zaxis": {
            "backgroundcolor": "#E5ECF6",
            "gridcolor": "white",
            "gridwidth": 2,
            "linecolor": "white",
            "showbackground": true,
            "ticks": "",
            "zerolinecolor": "white"
           }
          },
          "shapedefaults": {
           "line": {
            "color": "#2a3f5f"
           }
          },
          "ternary": {
           "aaxis": {
            "gridcolor": "white",
            "linecolor": "white",
            "ticks": ""
           },
           "baxis": {
            "gridcolor": "white",
            "linecolor": "white",
            "ticks": ""
           },
           "bgcolor": "#E5ECF6",
           "caxis": {
            "gridcolor": "white",
            "linecolor": "white",
            "ticks": ""
           }
          },
          "title": {
           "x": 0.05
          },
          "xaxis": {
           "automargin": true,
           "gridcolor": "white",
           "linecolor": "white",
           "ticks": "",
           "title": {
            "standoff": 15
           },
           "zerolinecolor": "white",
           "zerolinewidth": 2
          },
          "yaxis": {
           "automargin": true,
           "gridcolor": "white",
           "linecolor": "white",
           "ticks": "",
           "title": {
            "standoff": 15
           },
           "zerolinecolor": "white",
           "zerolinewidth": 2
          }
         }
        },
        "title": {
         "text": "Computing the LISM with a grid search"
        },
        "width": 600,
        "xaxis": {
         "title": {
          "text": "angle of projection"
         }
        },
        "yaxis": {
         "title": {
          "text": "sqrt of Wasserstein distance"
         }
        }
       }
      }
     },
     "metadata": {},
     "output_type": "display_data"
    }
   ],
   "source": [
    "fig.show()"
   ]
  },
  {
   "cell_type": "code",
   "execution_count": 365,
   "metadata": {},
   "outputs": [
    {
     "data": {
      "text/plain": [
       "array([[-0.00328686, -0.12391136],\n",
       "       [ 0.1245471 ,  0.0039226 ]])"
      ]
     },
     "execution_count": 365,
     "metadata": {},
     "output_type": "execute_result"
    }
   ],
   "source": [
    "np.array([[np.cos(angle), np.sin(angle)]])-p_opt"
   ]
  },
  {
   "cell_type": "markdown",
   "metadata": {},
   "source": [
    "## Classification of MNIST data using the LISM method\n",
    "\n",
    "For an image $I=(I_1,...,I_d)\\in\\mathbb{R}^{n\\times n\\times d}$ and a projection $p\\in S^{d-1}$, one can obtain a projected image $I_p:=\\sum_{i=1}^d p_iI_i\\in\\mathbb{R}^{n\\times n}$. \n",
    "\n",
    "**Definition. (LISA)** One defines the *linear integral sheaf amplitude (LISA)* of $I$ as the maximum $$A_W(I):=\\max_{p\\in S^{d-1}}A_W(I_p).$$ \n",
    "\n",
    "For example, take $d=2$, with $I_1$ the $(3,7)$-radial filtration of an orginal image $M\\in\\mathbb{R}^{n\\times n}$ and $I_2$ the $(1,0)$-height filtration of the image $M\\in\\mathbb{R}^{n\\times n}$. \n",
    "\n",
    "**Definition. (LISM)** One defines the *linear integral sheaf metric (LISM)* between two images $I, J\\in\\mathbb{R}^{n\\times n\\times d}$ as the maximum\n",
    "$$d_{\\mathrm{ISM}}(I,J):=\\max_{p\\in S^{d-1}}d_W(I_p, J_p)$$ \n",
    "\n",
    "**Task.** We try to classify $N$ images given by a family of multifiltrations $\\{I^i\\}_{i=1}^{100}\\subset\\mathbb{R}^{n\\times n\\times d}$. \n"
   ]
  },
  {
   "cell_type": "markdown",
   "metadata": {},
   "source": [
    "### Method 2 : LISM distance matrix\n",
    "\n",
    "**Method 2.** We compute a distance matrix $D=(d_{ij})_{i,j=1}^{100}$ where $d_{ij}=d_{\\mathrm{ISM}}(I^i,I^j)$."
   ]
  },
  {
   "cell_type": "markdown",
   "metadata": {},
   "source": [
    "For the case of $2$-filtrations, we compute the LISM distance matrix via grid search."
   ]
  },
  {
   "cell_type": "markdown",
   "metadata": {},
   "source": [
    "### Method 3 : Wasserstein distance matrix \n",
    "\n",
    "**Method 3.** What about $1$-filtrations and standard persistent homology? One can compute a distance matrix $D=(d_{ij})_{i,j=1}^{100}$, where $d_{ij}=d_W(I^i,I^j)$, where each of the $N$ images $\\mathrm{Im}\\in\\mathbb{R}^{n\\times n}$ is assigned a filtration $\\mathrm{Im}_\\mathrm{filt}\\in\\mathbb{R}^{n\\times n}$ (and not a multifiltration in $\\mathbb{R}^{n\\times n\\times d}$) and $d_W$ is the $2$-Wasserstein distance."
   ]
  },
  {
   "cell_type": "markdown",
   "metadata": {},
   "source": [
    "### Results"
   ]
  },
  {
   "cell_type": "code",
   "execution_count": 73,
   "metadata": {},
   "outputs": [],
   "source": [
    "multifilt = [RadialFiltration(center=np.array([13,0])),\n",
    "             HeightFiltration(direction=np.array([0,1]))]"
   ]
  },
  {
   "cell_type": "code",
   "execution_count": 74,
   "metadata": {},
   "outputs": [
    {
     "name": "stderr",
     "output_type": "stream",
     "text": [
      "0it [00:00, ?it/s]"
     ]
    },
    {
     "name": "stdout",
     "output_type": "stream",
     "text": [
      "Computing Wasserstein matrix for filtration no.1...\n"
     ]
    },
    {
     "name": "stderr",
     "output_type": "stream",
     "text": [
      "50it [00:40,  1.23it/s]\n",
      "50it [00:38,  1.31it/s]\n",
      "0it [00:00, ?it/s]"
     ]
    },
    {
     "name": "stdout",
     "output_type": "stream",
     "text": [
      "Computing Wasserstein matrix for filtration no.2...\n"
     ]
    },
    {
     "name": "stderr",
     "output_type": "stream",
     "text": [
      "50it [00:38,  1.32it/s]\n",
      "50it [00:40,  1.24it/s]\n",
      "0it [00:00, ?it/s]"
     ]
    },
    {
     "name": "stdout",
     "output_type": "stream",
     "text": [
      "Computing LISM matrix...\n"
     ]
    },
    {
     "name": "stderr",
     "output_type": "stream",
     "text": [
      "50it [03:08,  3.77s/it]\n",
      "50it [02:29,  2.99s/it]\n"
     ]
    }
   ],
   "source": [
    "(D1, D2), D_sheaf, labels_bb = run_experiment(multifilt, images, labels)"
   ]
  },
  {
   "cell_type": "code",
   "execution_count": 46,
   "metadata": {},
   "outputs": [
    {
     "data": {
      "text/plain": [
       "array([0, 0, 0, 0, 0, 0, 0, 0, 0, 0, 0, 0, 0, 0, 0, 0, 0, 0, 0, 0, 0, 0,\n",
       "       0, 0, 0, 0, 0, 0, 0, 0, 3, 3, 3, 3, 3, 3, 3, 3, 3, 3, 3, 3, 3, 3,\n",
       "       3, 3, 3, 3, 3, 3, 3, 3, 3, 3, 3, 3, 3, 6, 6, 6, 6, 6, 6, 6, 6, 6,\n",
       "       6, 6, 6, 6, 6, 6, 6, 6, 6, 6, 6, 6, 6, 6, 6, 8, 8, 8, 8, 8, 8, 8,\n",
       "       8, 8, 8, 8, 8, 8, 8, 8, 8, 8, 8, 8], dtype=uint8)"
      ]
     },
     "execution_count": 46,
     "metadata": {},
     "output_type": "execute_result"
    }
   ],
   "source": [
    "labels_bb"
   ]
  },
  {
   "cell_type": "code",
   "execution_count": 64,
   "metadata": {},
   "outputs": [
    {
     "data": {
      "text/plain": [
       "array([0, 0, 0, 0, 0, 0, 0, 0, 0, 0, 0, 2, 0, 0, 0, 0, 0, 1, 0, 0, 1, 0,\n",
       "       0, 0, 0, 0, 3, 1, 0, 0, 1, 1, 1, 1, 0, 1, 3, 1, 1, 1, 1, 1, 1, 1,\n",
       "       1, 1, 1, 1, 1, 1, 1, 1, 1, 1, 1, 1, 1, 0, 1, 1, 0, 0, 0, 0, 0, 0,\n",
       "       0, 0, 0, 0, 0, 0, 2, 0, 0, 0, 1, 0, 0, 0, 0, 3, 3, 2, 2, 3, 3, 3,\n",
       "       2, 3, 0, 0, 0, 0, 3, 0, 3, 3, 1, 3], dtype=int32)"
      ]
     },
     "execution_count": 64,
     "metadata": {},
     "output_type": "execute_result"
    }
   ],
   "source": [
    "kmeans = KMeans(n_clusters=4, random_state=0)\n",
    "kmeans.fit(D_sheaf)\n",
    "pred = kmeans.labels_\n",
    "pred"
   ]
  },
  {
   "cell_type": "code",
   "execution_count": 68,
   "metadata": {},
   "outputs": [],
   "source": [
    "L = np.zeros_like(labels_bb)\n",
    "\n",
    "for i in range(N):\n",
    "    if labels_bb[i] == 0:\n",
    "        L[i] = 0\n",
    "    elif labels_bb[i] == 3:\n",
    "        L[i] = 1\n",
    "    elif labels_bb[i] == 6:\n",
    "        L[i] = 2\n",
    "    elif labels_bb[i] == 8:\n",
    "        L[i] = 3"
   ]
  },
  {
   "cell_type": "code",
   "execution_count": 69,
   "metadata": {},
   "outputs": [
    {
     "data": {
      "text/plain": [
       "array([0, 0, 0, 0, 0, 0, 0, 0, 0, 0, 0, 0, 0, 0, 0, 0, 0, 0, 0, 0, 0, 0,\n",
       "       0, 0, 0, 0, 0, 0, 0, 0, 1, 1, 1, 1, 1, 1, 1, 1, 1, 1, 1, 1, 1, 1,\n",
       "       1, 1, 1, 1, 1, 1, 1, 1, 1, 1, 1, 1, 1, 2, 2, 2, 2, 2, 2, 2, 2, 2,\n",
       "       2, 2, 2, 2, 2, 2, 2, 2, 2, 2, 2, 2, 2, 2, 2, 3, 3, 3, 3, 3, 3, 3,\n",
       "       3, 3, 3, 3, 3, 3, 3, 3, 3, 3, 3, 3], dtype=uint8)"
      ]
     },
     "execution_count": 69,
     "metadata": {},
     "output_type": "execute_result"
    }
   ],
   "source": [
    "L"
   ]
  },
  {
   "cell_type": "code",
   "execution_count": 70,
   "metadata": {},
   "outputs": [
    {
     "data": {
      "text/plain": [
       "0.61"
      ]
     },
     "execution_count": 70,
     "metadata": {},
     "output_type": "execute_result"
    }
   ],
   "source": [
    "res = L - pred\n",
    "nb = np.count_nonzero(res==0)\n",
    "nb/N"
   ]
  },
  {
   "cell_type": "markdown",
   "metadata": {},
   "source": [
    "### Multi-dimensional Scaling (MDS)"
   ]
  },
  {
   "cell_type": "code",
   "execution_count": 75,
   "metadata": {},
   "outputs": [
    {
     "data": {
      "application/vnd.plotly.v1+json": {
       "config": {
        "plotlyServerURL": "https://plot.ly"
       },
       "data": [
        {
         "marker": {
          "color": "mediumslateblue"
         },
         "mode": "markers",
         "name": "9",
         "showlegend": true,
         "type": "scatter",
         "x": [
          -0.033116743285353134,
          -0.05739237954253364,
          -0.2079519621449438,
          -0.059141508761205275,
          -0.058408757977487465,
          -0.03663527249614631,
          -0.04977414926581327,
          0.1863642459301316,
          -0.040824768753462956,
          0.06541683275780334,
          -0.02403455432367109,
          -0.036642348427825135,
          -0.039188694780630126,
          -0.2778219949489382,
          -0.05427890271479398,
          0.16151602770369708,
          -0.05340572674723604,
          -0.047179003890719065,
          -0.03663948869592841,
          -0.03337948012880278,
          -0.05937422826874841,
          -0.0508902048096147,
          -0.06127848376028497,
          -0.05304211068399838,
          0.20313926729858278,
          0.24405921759129498
         ],
         "xaxis": "x",
         "y": [
          0.04733313958399316,
          0.1150900993421981,
          -0.03025991514149289,
          0.1396138935625944,
          0.11860674063163992,
          0.052843580405762744,
          0.15319943209120304,
          -0.0625817432171024,
          0.059196710460300984,
          -0.13266987675155123,
          0.03678108686881172,
          0.05284006070772906,
          0.0568417101774993,
          0.038966135247921356,
          0.08616777810235103,
          -0.12374582718545597,
          0.0828017517381287,
          0.08541341793923023,
          0.052841483089086316,
          0.10797706779428518,
          0.11422566022945445,
          0.07781734693750517,
          0.1389561905571699,
          0.08296494866860846,
          0.16687871920530736,
          0.15682550350792737
         ],
         "yaxis": "y"
        },
        {
         "marker": {
          "color": "mediumturquoise"
         },
         "mode": "markers",
         "name": "6",
         "showlegend": true,
         "type": "scatter",
         "x": [
          -0.06167896784115989,
          0.17423763524582292,
          0.17958034334530837,
          0.042454507258547707,
          -0.03802903566249666,
          0.05541559527235536,
          0.04060282865417257,
          -0.028298804574085158,
          -0.04745334032461089,
          0.023177353906025704,
          -0.05981915127473528,
          0.04939349856132923,
          0.054931627528266226,
          0.041411116328865676,
          0.013692113436028807,
          -0.20624276921334858,
          -0.025270053582863022,
          0.03952301565053061,
          0.0420158204813391,
          0.19013594170025439,
          0.038093718428935275,
          -0.022555904859878746,
          0.021186370407840403,
          -0.006598285745816945
         ],
         "xaxis": "x",
         "y": [
          -0.0616340911955386,
          -0.10221709398625173,
          -0.08781120609614597,
          -0.04253139096374716,
          -0.05593607738902285,
          -0.10285521141062808,
          -0.03858331419114316,
          -0.05050640286142544,
          -0.06851494049719535,
          -0.05082932376408205,
          -0.0983303959582085,
          -0.0743523342965393,
          -0.11079952552552681,
          -0.032860291389972214,
          0.009976114943220791,
          -0.1862171915213392,
          -0.07589664847042993,
          -0.03435115213745987,
          -0.12267908330146837,
          -0.042036758967213164,
          -0.06396606375277236,
          -0.04786621592548757,
          -0.09707781860606049,
          -0.037048677288668
         ],
         "yaxis": "y"
        },
        {
         "marker": {
          "color": "mediumslateblue"
         },
         "mode": "markers",
         "name": "9",
         "showlegend": false,
         "type": "scatter",
         "x": [
          -0.012591741408730968,
          -0.0008505655359185556,
          0.149810088999974,
          0.018727727031334875,
          -0.0008246533116012529,
          -0.02041984187829602,
          0.013284715945902827,
          -0.16129850275386176,
          -0.020419524002247925,
          -0.09018319021294238,
          -0.04124780611207772,
          -0.020421146164443,
          -0.02042080123153024,
          0.20702697468402317,
          0.0005439806896732779,
          -0.156179042854499,
          0.0005432604220508059,
          -0.007730144749966488,
          -0.02041932063764435,
          0.02810586660990788,
          0.0045056928861770965,
          0.0005446226576640631,
          0.004060913979948854,
          0.0005409893000686728,
          0.26975310312877554,
          0.27331534859838164
         ],
         "xaxis": "x2",
         "y": [
          -0.07820455907498275,
          -0.14009770884554512,
          -0.04825817314243594,
          -0.16993350757006076,
          -0.14009393677651036,
          -0.07976429768770445,
          -0.17176046552816854,
          0.0942425229433511,
          -0.07976421149670813,
          0.1454179069665368,
          -0.054380209443495316,
          -0.07976465134461105,
          -0.07976455781546837,
          -0.14411929412486912,
          -0.10560080480788642,
          0.0980588947222571,
          -0.10560100589034592,
          -0.1078248440964227,
          -0.07976415635530666,
          -0.13346247630248878,
          -0.13907902365879302,
          -0.10560062558255442,
          -0.17246526504208823,
          -0.1056016399179775,
          0.19157263081721193,
          0.18636572628707085
         ],
         "yaxis": "y2"
        },
        {
         "marker": {
          "color": "mediumturquoise"
         },
         "mode": "markers",
         "name": "6",
         "showlegend": false,
         "type": "scatter",
         "x": [
          0.06247063687104567,
          0.04184810295947094,
          -0.03842193721663953,
          -0.08705440013204463,
          0.034109053026053625,
          -0.08777775996057832,
          -0.08705242244274333,
          0.01131221064481734,
          0.04913127725937299,
          -0.04462086423521823,
          0.08460271452060285,
          -0.08589738663439377,
          -0.0808144255019582,
          -0.0886525383464227,
          -0.06444082196323196,
          0.2184490365312745,
          0.02285145771528521,
          -0.08443976116581615,
          -0.05726848543797379,
          -0.024575965922294066,
          -0.06693099129977952,
          -0.0012741007772006689,
          -0.031248086827600448,
          0.00793845425584889
         ],
         "xaxis": "x2",
         "y": [
          0.04449926605065231,
          0.16412379000522187,
          0.16973566046746286,
          0.03957180603597148,
          0.03749236910650303,
          0.11584365243365563,
          0.03957294580255398,
          0.033244681960540395,
          0.04458695248591135,
          0.05719426097149987,
          0.06831972354998504,
          0.08146591510373945,
          0.11728187485816427,
          0.04133082993203591,
          -0.024619299417817996,
          0.005766517225466972,
          0.06431563542717995,
          0.042650778155446906,
          0.1204075802595564,
          0.16825438124394831,
          0.05130261616940238,
          0.028041690560321544,
          0.09201911285892278,
          0.0028449915216712984
         ],
         "yaxis": "y2"
        },
        {
         "marker": {
          "color": "mediumslateblue"
         },
         "mode": "markers",
         "name": "9",
         "showlegend": false,
         "type": "scatter",
         "x": [
          -0.0973625655839897,
          -0.19236963109063648,
          -0.0709039999774712,
          -0.2325422728972108,
          -0.19492605882171485,
          -0.1016077761653364,
          -0.239347204428889,
          0.22858185604094344,
          -0.10691131609285323,
          0.22096845450444502,
          -0.06642067645536437,
          -0.10160602776667987,
          -0.10490381476523011,
          -0.2223673381036608,
          -0.14945691813708797,
          0.22322159125113647,
          -0.1471327748159458,
          -0.1463433578821406,
          -0.10160758103193908,
          -0.17848624413620626,
          -0.19234711922516465,
          -0.14337483153695468,
          -0.2324636266727047,
          -0.14714710211098678,
          0.15942380483426458,
          0.1403180685583136
         ],
         "xaxis": "x3",
         "y": [
          -0.028390829099089132,
          -0.021946035367284063,
          0.2302392691804403,
          -0.02304365679729755,
          -0.021145450749119162,
          -0.020981165135501113,
          -0.003829948325066441,
          -0.16025930999416313,
          -0.022888371120611938,
          -0.04547558551189644,
          -0.017263104092320118,
          -0.020955753958024435,
          -0.02197926593102928,
          0.295214021555534,
          -0.027611427239141024,
          -0.16649781237789418,
          -0.027097871815236464,
          -0.015545819063235702,
          -0.020978340512641972,
          0.01808904414382398,
          -0.028881937950789284,
          -0.0269895511167658,
          -0.020012750503104196,
          -0.027598582216831126,
          0.39742391052833037,
          0.420819801403972
         ],
         "yaxis": "y3"
        },
        {
         "marker": {
          "color": "mediumturquoise"
         },
         "mode": "markers",
         "name": "6",
         "showlegend": false,
         "type": "scatter",
         "x": [
          0.033334529892428404,
          0.1634353019948864,
          0.27372397831754697,
          0.09538455023888881,
          0.01764235412428961,
          0.17460869530338363,
          0.09219032789480106,
          0.022797478101998784,
          0.015604285405951946,
          0.07904336468928203,
          0.07317668860606308,
          0.137095395793959,
          0.17686500857925835,
          0.08991452675741089,
          -0.009508272752254932,
          -0.0720353022191276,
          0.051117096244465206,
          0.08832034715069165,
          0.178532149723986,
          0.2633966448471693,
          0.09914357215707043,
          0.0253749635240218,
          0.12000433866989803,
          0.007952439462995224
         ],
         "xaxis": "x3",
         "y": [
          0.06460392401871809,
          -0.2203781681150995,
          -0.02699374379168563,
          -0.002687052236123792,
          -0.11002403551653299,
          -0.04272803084447448,
          -0.0029797948555427053,
          -0.09396448462742557,
          -0.13391130165690543,
          -0.04996379877705447,
          0.10525516794877746,
          -0.01278280751002064,
          -0.051758245996308655,
          0.003929066505883357,
          -0.000942683340370302,
          0.3344893862516456,
          -0.11000851956994724,
          -0.0010534827693396405,
          -0.03051970741110786,
          0.039562428717641304,
          -0.04585246337285587,
          -0.07485055181274237,
          -0.0786738581014506,
          -0.05018072107273582
         ],
         "yaxis": "y3"
        }
       ],
       "layout": {
        "height": 900,
        "legend": {
         "title": {
          "text": "Digits"
         }
        },
        "template": {
         "data": {
          "bar": [
           {
            "error_x": {
             "color": "#2a3f5f"
            },
            "error_y": {
             "color": "#2a3f5f"
            },
            "marker": {
             "line": {
              "color": "#E5ECF6",
              "width": 0.5
             },
             "pattern": {
              "fillmode": "overlay",
              "size": 10,
              "solidity": 0.2
             }
            },
            "type": "bar"
           }
          ],
          "barpolar": [
           {
            "marker": {
             "line": {
              "color": "#E5ECF6",
              "width": 0.5
             },
             "pattern": {
              "fillmode": "overlay",
              "size": 10,
              "solidity": 0.2
             }
            },
            "type": "barpolar"
           }
          ],
          "carpet": [
           {
            "aaxis": {
             "endlinecolor": "#2a3f5f",
             "gridcolor": "white",
             "linecolor": "white",
             "minorgridcolor": "white",
             "startlinecolor": "#2a3f5f"
            },
            "baxis": {
             "endlinecolor": "#2a3f5f",
             "gridcolor": "white",
             "linecolor": "white",
             "minorgridcolor": "white",
             "startlinecolor": "#2a3f5f"
            },
            "type": "carpet"
           }
          ],
          "choropleth": [
           {
            "colorbar": {
             "outlinewidth": 0,
             "ticks": ""
            },
            "type": "choropleth"
           }
          ],
          "contour": [
           {
            "colorbar": {
             "outlinewidth": 0,
             "ticks": ""
            },
            "colorscale": [
             [
              0,
              "#0d0887"
             ],
             [
              0.1111111111111111,
              "#46039f"
             ],
             [
              0.2222222222222222,
              "#7201a8"
             ],
             [
              0.3333333333333333,
              "#9c179e"
             ],
             [
              0.4444444444444444,
              "#bd3786"
             ],
             [
              0.5555555555555556,
              "#d8576b"
             ],
             [
              0.6666666666666666,
              "#ed7953"
             ],
             [
              0.7777777777777778,
              "#fb9f3a"
             ],
             [
              0.8888888888888888,
              "#fdca26"
             ],
             [
              1,
              "#f0f921"
             ]
            ],
            "type": "contour"
           }
          ],
          "contourcarpet": [
           {
            "colorbar": {
             "outlinewidth": 0,
             "ticks": ""
            },
            "type": "contourcarpet"
           }
          ],
          "heatmap": [
           {
            "colorbar": {
             "outlinewidth": 0,
             "ticks": ""
            },
            "colorscale": [
             [
              0,
              "#0d0887"
             ],
             [
              0.1111111111111111,
              "#46039f"
             ],
             [
              0.2222222222222222,
              "#7201a8"
             ],
             [
              0.3333333333333333,
              "#9c179e"
             ],
             [
              0.4444444444444444,
              "#bd3786"
             ],
             [
              0.5555555555555556,
              "#d8576b"
             ],
             [
              0.6666666666666666,
              "#ed7953"
             ],
             [
              0.7777777777777778,
              "#fb9f3a"
             ],
             [
              0.8888888888888888,
              "#fdca26"
             ],
             [
              1,
              "#f0f921"
             ]
            ],
            "type": "heatmap"
           }
          ],
          "heatmapgl": [
           {
            "colorbar": {
             "outlinewidth": 0,
             "ticks": ""
            },
            "colorscale": [
             [
              0,
              "#0d0887"
             ],
             [
              0.1111111111111111,
              "#46039f"
             ],
             [
              0.2222222222222222,
              "#7201a8"
             ],
             [
              0.3333333333333333,
              "#9c179e"
             ],
             [
              0.4444444444444444,
              "#bd3786"
             ],
             [
              0.5555555555555556,
              "#d8576b"
             ],
             [
              0.6666666666666666,
              "#ed7953"
             ],
             [
              0.7777777777777778,
              "#fb9f3a"
             ],
             [
              0.8888888888888888,
              "#fdca26"
             ],
             [
              1,
              "#f0f921"
             ]
            ],
            "type": "heatmapgl"
           }
          ],
          "histogram": [
           {
            "marker": {
             "pattern": {
              "fillmode": "overlay",
              "size": 10,
              "solidity": 0.2
             }
            },
            "type": "histogram"
           }
          ],
          "histogram2d": [
           {
            "colorbar": {
             "outlinewidth": 0,
             "ticks": ""
            },
            "colorscale": [
             [
              0,
              "#0d0887"
             ],
             [
              0.1111111111111111,
              "#46039f"
             ],
             [
              0.2222222222222222,
              "#7201a8"
             ],
             [
              0.3333333333333333,
              "#9c179e"
             ],
             [
              0.4444444444444444,
              "#bd3786"
             ],
             [
              0.5555555555555556,
              "#d8576b"
             ],
             [
              0.6666666666666666,
              "#ed7953"
             ],
             [
              0.7777777777777778,
              "#fb9f3a"
             ],
             [
              0.8888888888888888,
              "#fdca26"
             ],
             [
              1,
              "#f0f921"
             ]
            ],
            "type": "histogram2d"
           }
          ],
          "histogram2dcontour": [
           {
            "colorbar": {
             "outlinewidth": 0,
             "ticks": ""
            },
            "colorscale": [
             [
              0,
              "#0d0887"
             ],
             [
              0.1111111111111111,
              "#46039f"
             ],
             [
              0.2222222222222222,
              "#7201a8"
             ],
             [
              0.3333333333333333,
              "#9c179e"
             ],
             [
              0.4444444444444444,
              "#bd3786"
             ],
             [
              0.5555555555555556,
              "#d8576b"
             ],
             [
              0.6666666666666666,
              "#ed7953"
             ],
             [
              0.7777777777777778,
              "#fb9f3a"
             ],
             [
              0.8888888888888888,
              "#fdca26"
             ],
             [
              1,
              "#f0f921"
             ]
            ],
            "type": "histogram2dcontour"
           }
          ],
          "mesh3d": [
           {
            "colorbar": {
             "outlinewidth": 0,
             "ticks": ""
            },
            "type": "mesh3d"
           }
          ],
          "parcoords": [
           {
            "line": {
             "colorbar": {
              "outlinewidth": 0,
              "ticks": ""
             }
            },
            "type": "parcoords"
           }
          ],
          "pie": [
           {
            "automargin": true,
            "type": "pie"
           }
          ],
          "scatter": [
           {
            "marker": {
             "colorbar": {
              "outlinewidth": 0,
              "ticks": ""
             }
            },
            "type": "scatter"
           }
          ],
          "scatter3d": [
           {
            "line": {
             "colorbar": {
              "outlinewidth": 0,
              "ticks": ""
             }
            },
            "marker": {
             "colorbar": {
              "outlinewidth": 0,
              "ticks": ""
             }
            },
            "type": "scatter3d"
           }
          ],
          "scattercarpet": [
           {
            "marker": {
             "colorbar": {
              "outlinewidth": 0,
              "ticks": ""
             }
            },
            "type": "scattercarpet"
           }
          ],
          "scattergeo": [
           {
            "marker": {
             "colorbar": {
              "outlinewidth": 0,
              "ticks": ""
             }
            },
            "type": "scattergeo"
           }
          ],
          "scattergl": [
           {
            "marker": {
             "colorbar": {
              "outlinewidth": 0,
              "ticks": ""
             }
            },
            "type": "scattergl"
           }
          ],
          "scattermapbox": [
           {
            "marker": {
             "colorbar": {
              "outlinewidth": 0,
              "ticks": ""
             }
            },
            "type": "scattermapbox"
           }
          ],
          "scatterpolar": [
           {
            "marker": {
             "colorbar": {
              "outlinewidth": 0,
              "ticks": ""
             }
            },
            "type": "scatterpolar"
           }
          ],
          "scatterpolargl": [
           {
            "marker": {
             "colorbar": {
              "outlinewidth": 0,
              "ticks": ""
             }
            },
            "type": "scatterpolargl"
           }
          ],
          "scatterternary": [
           {
            "marker": {
             "colorbar": {
              "outlinewidth": 0,
              "ticks": ""
             }
            },
            "type": "scatterternary"
           }
          ],
          "surface": [
           {
            "colorbar": {
             "outlinewidth": 0,
             "ticks": ""
            },
            "colorscale": [
             [
              0,
              "#0d0887"
             ],
             [
              0.1111111111111111,
              "#46039f"
             ],
             [
              0.2222222222222222,
              "#7201a8"
             ],
             [
              0.3333333333333333,
              "#9c179e"
             ],
             [
              0.4444444444444444,
              "#bd3786"
             ],
             [
              0.5555555555555556,
              "#d8576b"
             ],
             [
              0.6666666666666666,
              "#ed7953"
             ],
             [
              0.7777777777777778,
              "#fb9f3a"
             ],
             [
              0.8888888888888888,
              "#fdca26"
             ],
             [
              1,
              "#f0f921"
             ]
            ],
            "type": "surface"
           }
          ],
          "table": [
           {
            "cells": {
             "fill": {
              "color": "#EBF0F8"
             },
             "line": {
              "color": "white"
             }
            },
            "header": {
             "fill": {
              "color": "#C8D4E3"
             },
             "line": {
              "color": "white"
             }
            },
            "type": "table"
           }
          ]
         },
         "layout": {
          "annotationdefaults": {
           "arrowcolor": "#2a3f5f",
           "arrowhead": 0,
           "arrowwidth": 1
          },
          "autotypenumbers": "strict",
          "coloraxis": {
           "colorbar": {
            "outlinewidth": 0,
            "ticks": ""
           }
          },
          "colorscale": {
           "diverging": [
            [
             0,
             "#8e0152"
            ],
            [
             0.1,
             "#c51b7d"
            ],
            [
             0.2,
             "#de77ae"
            ],
            [
             0.3,
             "#f1b6da"
            ],
            [
             0.4,
             "#fde0ef"
            ],
            [
             0.5,
             "#f7f7f7"
            ],
            [
             0.6,
             "#e6f5d0"
            ],
            [
             0.7,
             "#b8e186"
            ],
            [
             0.8,
             "#7fbc41"
            ],
            [
             0.9,
             "#4d9221"
            ],
            [
             1,
             "#276419"
            ]
           ],
           "sequential": [
            [
             0,
             "#0d0887"
            ],
            [
             0.1111111111111111,
             "#46039f"
            ],
            [
             0.2222222222222222,
             "#7201a8"
            ],
            [
             0.3333333333333333,
             "#9c179e"
            ],
            [
             0.4444444444444444,
             "#bd3786"
            ],
            [
             0.5555555555555556,
             "#d8576b"
            ],
            [
             0.6666666666666666,
             "#ed7953"
            ],
            [
             0.7777777777777778,
             "#fb9f3a"
            ],
            [
             0.8888888888888888,
             "#fdca26"
            ],
            [
             1,
             "#f0f921"
            ]
           ],
           "sequentialminus": [
            [
             0,
             "#0d0887"
            ],
            [
             0.1111111111111111,
             "#46039f"
            ],
            [
             0.2222222222222222,
             "#7201a8"
            ],
            [
             0.3333333333333333,
             "#9c179e"
            ],
            [
             0.4444444444444444,
             "#bd3786"
            ],
            [
             0.5555555555555556,
             "#d8576b"
            ],
            [
             0.6666666666666666,
             "#ed7953"
            ],
            [
             0.7777777777777778,
             "#fb9f3a"
            ],
            [
             0.8888888888888888,
             "#fdca26"
            ],
            [
             1,
             "#f0f921"
            ]
           ]
          },
          "colorway": [
           "#636efa",
           "#EF553B",
           "#00cc96",
           "#ab63fa",
           "#FFA15A",
           "#19d3f3",
           "#FF6692",
           "#B6E880",
           "#FF97FF",
           "#FECB52"
          ],
          "font": {
           "color": "#2a3f5f"
          },
          "geo": {
           "bgcolor": "white",
           "lakecolor": "white",
           "landcolor": "#E5ECF6",
           "showlakes": true,
           "showland": true,
           "subunitcolor": "white"
          },
          "hoverlabel": {
           "align": "left"
          },
          "hovermode": "closest",
          "mapbox": {
           "style": "light"
          },
          "paper_bgcolor": "white",
          "plot_bgcolor": "#E5ECF6",
          "polar": {
           "angularaxis": {
            "gridcolor": "white",
            "linecolor": "white",
            "ticks": ""
           },
           "bgcolor": "#E5ECF6",
           "radialaxis": {
            "gridcolor": "white",
            "linecolor": "white",
            "ticks": ""
           }
          },
          "scene": {
           "xaxis": {
            "backgroundcolor": "#E5ECF6",
            "gridcolor": "white",
            "gridwidth": 2,
            "linecolor": "white",
            "showbackground": true,
            "ticks": "",
            "zerolinecolor": "white"
           },
           "yaxis": {
            "backgroundcolor": "#E5ECF6",
            "gridcolor": "white",
            "gridwidth": 2,
            "linecolor": "white",
            "showbackground": true,
            "ticks": "",
            "zerolinecolor": "white"
           },
           "zaxis": {
            "backgroundcolor": "#E5ECF6",
            "gridcolor": "white",
            "gridwidth": 2,
            "linecolor": "white",
            "showbackground": true,
            "ticks": "",
            "zerolinecolor": "white"
           }
          },
          "shapedefaults": {
           "line": {
            "color": "#2a3f5f"
           }
          },
          "ternary": {
           "aaxis": {
            "gridcolor": "white",
            "linecolor": "white",
            "ticks": ""
           },
           "baxis": {
            "gridcolor": "white",
            "linecolor": "white",
            "ticks": ""
           },
           "bgcolor": "#E5ECF6",
           "caxis": {
            "gridcolor": "white",
            "linecolor": "white",
            "ticks": ""
           }
          },
          "title": {
           "x": 0.05
          },
          "xaxis": {
           "automargin": true,
           "gridcolor": "white",
           "linecolor": "white",
           "ticks": "",
           "title": {
            "standoff": 15
           },
           "zerolinecolor": "white",
           "zerolinewidth": 2
          },
          "yaxis": {
           "automargin": true,
           "gridcolor": "white",
           "linecolor": "white",
           "ticks": "",
           "title": {
            "standoff": 15
           },
           "zerolinecolor": "white",
           "zerolinewidth": 2
          }
         }
        },
        "title": {
         "text": "Multi-dimensional scaling (MDS) of distance matrices"
        },
        "xaxis": {
         "anchor": "y",
         "domain": [
          0,
          1
         ]
        },
        "xaxis2": {
         "anchor": "y2",
         "domain": [
          0,
          1
         ]
        },
        "xaxis3": {
         "anchor": "y3",
         "domain": [
          0,
          1
         ]
        },
        "yaxis": {
         "anchor": "x",
         "domain": [
          0.7333333333333333,
          1
         ]
        },
        "yaxis2": {
         "anchor": "x2",
         "domain": [
          0.36666666666666664,
          0.6333333333333333
         ]
        },
        "yaxis3": {
         "anchor": "x3",
         "domain": [
          0,
          0.26666666666666666
         ]
        }
       }
      }
     },
     "metadata": {},
     "output_type": "display_data"
    }
   ],
   "source": [
    "MDS_analysis([D1, D2, D_sheaf], labels_bb)"
   ]
  },
  {
   "cell_type": "code",
   "execution_count": 77,
   "metadata": {},
   "outputs": [
    {
     "data": {
      "application/vnd.plotly.v1+json": {
       "config": {
        "plotlyServerURL": "https://plot.ly"
       },
       "data": [
        {
         "coloraxis": "coloraxis",
         "hovertemplate": "x: %{x}<br>y: %{y}<br>color: %{z}<extra></extra>",
         "name": "0",
         "type": "heatmap",
         "xaxis": "x",
         "yaxis": "y",
         "z": [
          [
           0,
           0.2095499336719513,
           0.2095499336719513,
           0.13563278696597664,
           0.038256359313803966,
           0.13635854451429322,
           0.13567706946100555,
           0.06726270914077759,
           0.03199491940125454,
           0.13216607628369573,
           0.03718745708465576,
           0.13684620103291978,
           0.13638258632822683,
           0.1362484415683333,
           0.1434281504992901,
           0.2837320256320511,
           0.035887465228975936,
           0.13644259972610462,
           0.13358960687811866,
           0.2095499336719513,
           0.14812161804393162,
           0.06751874292134777,
           0.09918789127265204,
           0.06974050863841849,
           0.13568797243547975,
           0.1622006595134735,
           0.22395008184192022,
           0.18714606761932373,
           0.16584688425064087,
           0.13563278696597664,
           0.19757848978042603,
           0.2095499336719513,
           0.1356364067531728,
           0.1374736095409949,
           0.13584052108409211,
           0.13563278696597664,
           0.13564503912368667,
           0.3083261918072569,
           0.13565463185654142,
           0.2095499336719513,
           0.13564503912368667,
           0.13683185166237102,
           0.13563278696597664,
           0.14792275428771973,
           0.1622006595134735,
           0.1356339751146717,
           0.18714606761932373,
           0.1356339751146717,
           0.32239300667920745,
           0.3461983532355872
          ],
          [
           0.2095499336719513,
           0,
           0.05943294300702947,
           0.19383874535560608,
           0.20651304721832275,
           0.16537338495254517,
           0.19591444730758667,
           0.20651304721832275,
           0.20265403389930725,
           0.19591444730758667,
           0.1909562051296234,
           0.18008100986480713,
           0.16235867142677307,
           0.19716668128967285,
           0.22202914953231812,
           0.3573886849714679,
           0.19383874535560608,
           0.19716668128967285,
           0.15974268317222595,
           0.15192800858343122,
           0.1909562051296234,
           0.20651304721832275,
           0.17536449432373047,
           0.20737749338150024,
           0.25290845334529877,
           0.29065026342868805,
           0.32373407902983714,
           0.30312296748161316,
           0.29247337579727173,
           0.25652337074279785,
           0.3083391785621643,
           0.1500711412432398,
           0.2607215493917465,
           0.14947402477264404,
           0.2453349530696869,
           0.25652337074279785,
           0.25913865864276886,
           0.3912179152222189,
           0.27660036087036133,
           0.15369393916959392,
           0.2749057710170746,
           0.2749057710170746,
           0.25652337074279785,
           0.28351131081581116,
           0.29065026342868805,
           0.2721094638109207,
           0.30312296748161316,
           0.2749057710170746,
           0.2967836922397973,
           0.2967831492424011
          ],
          [
           0.2095499336719513,
           0.05943294300702947,
           0,
           0.19383874535560608,
           0.20651304721832275,
           0.16537338495254517,
           0.19591444730758667,
           0.20651304721832275,
           0.20265403389930725,
           0.19591444730758667,
           0.1909562051296234,
           0.18008100986480713,
           0.16235867142677307,
           0.19716668128967285,
           0.22202914953231812,
           0.3573886849714679,
           0.19383874535560608,
           0.19716668128967285,
           0.15974268317222595,
           0.1047409767932118,
           0.1909562051296234,
           0.20651304721832275,
           0.17536449432373047,
           0.20737749338150024,
           0.25290845334529877,
           0.29065026342868805,
           0.32373407902983714,
           0.30312296748161316,
           0.29247337579727173,
           0.25652337074279785,
           0.3083391785621643,
           0.10202891679086579,
           0.2607215493917465,
           0.14947402477264404,
           0.2453349530696869,
           0.25652337074279785,
           0.25913865864276886,
           0.3912179152222189,
           0.27660036087036133,
           0.10728643607155482,
           0.2749057710170746,
           0.2749057710170746,
           0.25652337074279785,
           0.28351131081581116,
           0.29065026342868805,
           0.2721094638109207,
           0.30312296748161316,
           0.2749057710170746,
           0.30605078798166174,
           0.3310334331326202
          ],
          [
           0.13563278696597664,
           0.19383874535560608,
           0.19383874535560608,
           0,
           0.11051273345947266,
           0.056930720806121826,
           0.004151403903961182,
           0.10201422171971082,
           0.12829929360087616,
           0.04518868976268816,
           0.15314984321594238,
           0.0275154709815979,
           0.06296014785766602,
           0.012937732785983914,
           0.05638080835342407,
           0.287311678374188,
           0.10279905219385194,
           0.014843521140888426,
           0.06819212436676025,
           0.19383874535560608,
           0.05952949547740483,
           0.09151538216875506,
           0.059314982994323515,
           0.06716442405720263,
           0.11813941597938538,
           0.19362303614616394,
           0.23535018171464892,
           0.21856844425201416,
           0.1972692608833313,
           0.12536925077438354,
           0.22900086641311646,
           0.19383874535560608,
           0.13376560807228088,
           0.08872944116592407,
           0.10299241542816162,
           0.12536925077438354,
           0.13059982657432556,
           0.3208659026585556,
           0.1655232310295105,
           0.19383874535560608,
           0.162134051322937,
           0.162134051322937,
           0.12536925077438354,
           0.17934513092041016,
           0.19362303614616394,
           0.15654143691062927,
           0.21856844425201416,
           0.162134051322937,
           0.2924739267960505,
           0.31852322816848755
          ],
          [
           0.038256359313803966,
           0.20651304721832275,
           0.20651304721832275,
           0.11051273345947266,
           0,
           0.1114022621789294,
           0.11056707708017323,
           0.029324057459313664,
           0.02913770697774871,
           0.09466824316450834,
           0.06358659267425537,
           0.11199863433840938,
           0.11143168853653204,
           0.11126746688195059,
           0.11995184747294832,
           0.2841566845804566,
           0.02534860372543335,
           0.11150513161529585,
           0.09546711041507576,
           0.20651304721832275,
           0.12401345750461933,
           0.02955277238293937,
           0.06229710578918457,
           0.05762577665928853,
           0.11058045586891906,
           0.1682744324207306,
           0.22585787757871242,
           0.1932198405265808,
           0.17192065715789795,
           0.11051273345947266,
           0.2036522626876831,
           0.20651304721832275,
           0.11051717601096482,
           0.11407804489135742,
           0.11076758788077004,
           0.11051273345947266,
           0.11052777024527786,
           0.3114103927277202,
           0.14017462730407715,
           0.20651304721832275,
           0.13678544759750366,
           0.13678544759750366,
           0.11051273345947266,
           0.1539965271949768,
           0.1682744324207306,
           0.13119283318519592,
           0.1932198405265808,
           0.13678544759750366,
           0.3126564602118209,
           0.3371499831522446
          ],
          [
           0.13635854451429322,
           0.16537338495254517,
           0.16537338495254517,
           0.056930720806121826,
           0.1114022621789294,
           0,
           0.06108212471008301,
           0.10297718774066805,
           0.12906629498200642,
           0.06108212471008301,
           0.15379295900322032,
           0.029415249824523926,
           0.02003388917102004,
           0.06358659267425537,
           0.1133115291595459,
           0.3021283723486069,
           0.10375473432018788,
           0.06358659267425537,
           0.06015196176389947,
           0.16537338495254517,
           0.05590028969141279,
           0.09258760681317865,
           0.06078692539842428,
           0.08400821685791016,
           0.1750701367855072,
           0.25055375695228577,
           0.2616985139412965,
           0.275499165058136,
           0.2541999816894531,
           0.18229997158050537,
           0.2859315872192383,
           0.16537338495254517,
           0.1906963288784027,
           0.031798720359802246,
           0.15992313623428345,
           0.18229997158050537,
           0.1875305473804474,
           0.3479458564036307,
           0.22245395183563232,
           0.16537338495254517,
           0.21906477212905884,
           0.21906477212905884,
           0.18229997158050537,
           0.23627585172653198,
           0.25055375695228577,
           0.2134721577167511,
           0.275499165058136,
           0.21906477212905884,
           0.29281119790301735,
           0.31883294472932505
          ],
          [
           0.13567706946100555,
           0.19591444730758667,
           0.19591444730758667,
           0.004151403903961182,
           0.11056707708017323,
           0.06108212471008301,
           0,
           0.10207309004065097,
           0.12834610635251986,
           0.045321429366658325,
           0.15318906212401803,
           0.03166687488555908,
           0.0671115517616272,
           0.013393998917800642,
           0.05222940444946289,
           0.28664389756711317,
           0.10285747133447729,
           0.014662104664984677,
           0.07234352827072144,
           0.19591444730758667,
           0.05963032038453998,
           0.09158099939868429,
           0.059416171914600906,
           0.06725380387981233,
           0.1139880120754242,
           0.18947163224220276,
           0.23363374300287904,
           0.21441704034805298,
           0.19311785697937012,
           0.12121784687042236,
           0.22484946250915527,
           0.19591444730758667,
           0.1296142041683197,
           0.09288084506988525,
           0.09884101152420044,
           0.12121784687042236,
           0.12644842267036438,
           0.3191987098712476,
           0.16137182712554932,
           0.19591444730758667,
           0.15798264741897583,
           0.15798264741897583,
           0.12121784687042236,
           0.17519372701644897,
           0.18947163224220276,
           0.1523900330066681,
           0.21441704034805298,
           0.15798264741897583,
           0.2924944651320261,
           0.3185420869527964
          ],
          [
           0.06726270914077759,
           0.20651304721832275,
           0.20651304721832275,
           0.10201422171971082,
           0.029324057459313664,
           0.10297718774066805,
           0.10207309004065097,
           0,
           0.03626858327136765,
           0.06661628040236438,
           0.0927874140165138,
           0.10362205976558565,
           0.09803341450439097,
           0.10283134912428137,
           0.09917872091823941,
           0.2841566845804566,
           0.0319558457710675,
           0.10308846469386534,
           0.0935407280921936,
           0.20651304721832275,
           0.09494612109550471,
           0.021957220653808424,
           0.06229710578918457,
           0.06974050863841849,
           0.10208758199003358,
           0.1682744324207306,
           0.22585787757871242,
           0.1932198405265808,
           0.17192065715789795,
           0.10201422171971082,
           0.2036522626876831,
           0.20651304721832275,
           0.10841700434684753,
           0.11407804489135742,
           0.10229025223020025,
           0.10201422171971082,
           0.10525122284889221,
           0.3114103927277202,
           0.14017462730407715,
           0.20651304721832275,
           0.13678544759750366,
           0.13678544759750366,
           0.10201422171971082,
           0.1539965271949768,
           0.1682744324207306,
           0.13119283318519592,
           0.1932198405265808,
           0.13678544759750366,
           0.3097545791244737,
           0.33446068276548246
          ],
          [
           0.03199491940125454,
           0.20265403389930725,
           0.20265403389930725,
           0.12829929360087616,
           0.02913770697774871,
           0.12906629498200642,
           0.12834610635251986,
           0.03626858327136765,
           0,
           0.10128805780013797,
           0.057134553702323246,
           0.12958139749002595,
           0.12909169489902153,
           0.12894996575464976,
           0.13498523484790745,
           0.28488227559730234,
           0.047099438578063715,
           0.1291550961377205,
           0.10222865734463611,
           0.20265403389930725,
           0.13075472722063408,
           0.03846782769618378,
           0.07168341404053388,
           0.08648728421594659,
           0.1283576320363434,
           0.1759924590587616,
           0.22849218540716218,
           0.20093786716461182,
           0.17963868379592896,
           0.12829929360087616,
           0.2113702893257141,
           0.20265403389930725,
           0.12830312028644492,
           0.13024380660344562,
           0.12561635585886305,
           0.12829929360087616,
           0.12831224601413657,
           0.3141029514622307,
           0.14789265394210815,
           0.20265403389930725,
           0.14450347423553467,
           0.14450347423553467,
           0.12829929360087616,
           0.1617145538330078,
           0.1759924590587616,
           0.13891085982322693,
           0.20093786716461182,
           0.14450347423553467,
           0.3193770602187723,
           0.34339154855843235
          ],
          [
           0.13216607628369573,
           0.19591444730758667,
           0.19591444730758667,
           0.04518868976268816,
           0.09466824316450834,
           0.06108212471008301,
           0.045321429366658325,
           0.06661628040236438,
           0.10128805780013797,
           0,
           0.15732984032921588,
           0.048709829803159486,
           0.0671115517616272,
           0.0470042829124113,
           0.052778377125608955,
           0.28664389756711317,
           0.09715997445566278,
           0.04756414408279076,
           0.07234352827072144,
           0.19591444730758667,
           0.0731430573428713,
           0.06671727530622883,
           0.0410999059677124,
           0.06619622058288178,
           0.1139880120754242,
           0.18947163224220276,
           0.23363374300287904,
           0.21441704034805298,
           0.19311785697937012,
           0.12121784687042236,
           0.22484946250915527,
           0.19591444730758667,
           0.1296142041683197,
           0.09288084506988525,
           0.09884101152420044,
           0.12121784687042236,
           0.12644842267036438,
           0.3191987098712476,
           0.16137182712554932,
           0.19591444730758667,
           0.15798264741897583,
           0.15798264741897583,
           0.12121784687042236,
           0.17519372701644897,
           0.18947163224220276,
           0.1523900330066681,
           0.21441704034805298,
           0.15798264741897583,
           0.29594427775844895,
           0.321712705010764
          ],
          [
           0.03718745708465576,
           0.1909562051296234,
           0.1909562051296234,
           0.15314984321594238,
           0.06358659267425537,
           0.15379295900322032,
           0.15318906212401803,
           0.0927874140165138,
           0.057134553702323246,
           0.15732984032921588,
           0,
           0.15422549826164292,
           0.15381427576946807,
           0.15369534608018962,
           0.16009452186929055,
           0.2883356175485648,
           0.061155934799830246,
           0.15386749038353661,
           0.15900398055577092,
           0.1909562051296234,
           0.1643126145761855,
           0.09285994943737928,
           0.12455274278178738,
           0.09274746000763423,
           0.15319871879543,
           0.19938811659812927,
           0.23783347347749945,
           0.2243335247039795,
           0.20303434133529663,
           0.15314984321594238,
           0.2347659468650818,
           0.1909562051296234,
           0.15315304898637136,
           0.15478247606605747,
           0.15333384735702488,
           0.15314984321594238,
           0.1531606940953723,
           0.32325531806288155,
           0.17128831148147583,
           0.1909562051296234,
           0.16789913177490234,
           0.16789913177490234,
           0.15314984321594238,
           0.1851102113723755,
           0.19938811659812927,
           0.1623065173625946,
           0.2243335247039795,
           0.16789913177490234,
           0.3301452291531247,
           0.33074676990509033
          ],
          [
           0.13684620103291978,
           0.18008100986480713,
           0.18008100986480713,
           0.0275154709815979,
           0.11199863433840938,
           0.029415249824523926,
           0.03166687488555908,
           0.10362205976558565,
           0.12958139749002595,
           0.048709829803159486,
           0.15422549826164292,
           0,
           0.035444676876068115,
           0.034171342849731445,
           0.08389627933502197,
           0.2931888182025023,
           0.10439480336175064,
           0.034171342849731445,
           0.06033370174877978,
           0.18008100986480713,
           0.051047788114919335,
           0.09330431399714365,
           0.06203947972542302,
           0.06958225129959526,
           0.14565488696098328,
           0.22113850712776184,
           0.24818632552849026,
           0.24608391523361206,
           0.2247847318649292,
           0.15288472175598145,
           0.25651633739471436,
           0.18008100986480713,
           0.16128107905387878,
           0.06121397018432617,
           0.13050788640975952,
           0.15288472175598145,
           0.15811529755592346,
           0.33301510492595376,
           0.1930387020111084,
           0.18008100986480713,
           0.1896495223045349,
           0.1896495223045349,
           0.15288472175598145,
           0.20686060190200806,
           0.22113850712776184,
           0.18405690789222717,
           0.24608391523361206,
           0.1896495223045349,
           0.2930386112656245,
           0.3190418103005602
          ],
          [
           0.13638258632822683,
           0.16235867142677307,
           0.16235867142677307,
           0.06296014785766602,
           0.11143168853653204,
           0.02003388917102004,
           0.0671115517616272,
           0.09803341450439097,
           0.12909169489902153,
           0.0671115517616272,
           0.15381427576946807,
           0.035444676876068115,
           0,
           0.06961601972579956,
           0.11934095621109009,
           0.30427967625316527,
           0.10378632899073237,
           0.06961601972579956,
           0.05666863060822126,
           0.16235867142677307,
           0.061218606527857204,
           0.09262301078517977,
           0.061005429386833454,
           0.09003764390945435,
           0.1810995638370514,
           0.25658318400382996,
           0.26397578208265965,
           0.2815285921096802,
           0.2602294087409973,
           0.18832939863204956,
           0.29196101427078247,
           0.16235867142677307,
           0.1967257559299469,
           0.026583780270874977,
           0.16595256328582764,
           0.18832939863204956,
           0.19355997443199158,
           0.3512322258702339,
           0.2284833788871765,
           0.16235867142677307,
           0.22509419918060303,
           0.22509419918060303,
           0.18832939863204956,
           0.24230527877807617,
           0.25658318400382996,
           0.2195015847682953,
           0.2815285921096802,
           0.22509419918060303,
           0.29282239465061366,
           0.31884322767826295
          ],
          [
           0.1362484415683333,
           0.19716668128967285,
           0.19716668128967285,
           0.012937732785983914,
           0.11126746688195059,
           0.06358659267425537,
           0.013393998917800642,
           0.10283134912428137,
           0.12894996575464976,
           0.0470042829124113,
           0.15369534608018962,
           0.034171342849731445,
           0.06961601972579956,
           0,
           0.04972493648529053,
           0.28626940028621456,
           0.10360999016309103,
           0.01969048119019758,
           0.0748479962348938,
           0.19716668128967285,
           0.06091917400487211,
           0.0924253758614744,
           0.06070957203982261,
           0.06839915780605244,
           0.11148354411125183,
           0.1869671642780304,
           0.2326279516724242,
           0.21191257238388062,
           0.19061338901519775,
           0.11871337890625,
           0.2223449945449829,
           0.19716668128967285,
           0.12710973620414734,
           0.09538531303405762,
           0.09633654356002808,
           0.11871337890625,
           0.12394395470619202,
           0.31821489075129145,
           0.15886735916137695,
           0.19716668128967285,
           0.15547817945480347,
           0.15547817945480347,
           0.11871337890625,
           0.1726892590522766,
           0.1869671642780304,
           0.14988556504249573,
           0.21191257238388062,
           0.15547817945480347,
           0.29275994054027105,
           0.31878587141295317
          ],
          [
           0.1434281504992901,
           0.22202914953231812,
           0.22202914953231812,
           0.05638080835342407,
           0.11995184747294832,
           0.1133115291595459,
           0.05222940444946289,
           0.09917872091823941,
           0.13498523484790745,
           0.052778377125608955,
           0.16009452186929055,
           0.08389627933502197,
           0.11934095621109009,
           0.04972493648529053,
           0,
           0.2833503194556179,
           0.11288501489322357,
           0.04972493648529053,
           0.12457293272018433,
           0.22202914953231812,
           0.062145888805389404,
           0.09924658529450127,
           0.09332931041717529,
           0.08177066292029649,
           0.061758607625961304,
           0.13724222779273987,
           0.2177196971628206,
           0.1621876358985901,
           0.14088845252990723,
           0.06898844242095947,
           0.17262005805969238,
           0.22202914953231812,
           0.07738479971885681,
           0.14511024951934814,
           0.04724167359153018,
           0.06898844242095947,
           0.07421901822090149,
           0.2955475963194665,
           0.10914242267608643,
           0.22202914953231812,
           0.10575324296951294,
           0.10575324296951294,
           0.06898844242095947,
           0.12296432256698608,
           0.13724222779273987,
           0.1001606285572052,
           0.1621876358985901,
           0.10575324296951294,
           0.2961695111097537,
           0.32191990981976154
          ],
          [
           0.2837320256320511,
           0.3573886849714679,
           0.3573886849714679,
           0.287311678374188,
           0.2841566845804566,
           0.3021283723486069,
           0.28664389756711317,
           0.2841566845804566,
           0.28488227559730234,
           0.28664389756711317,
           0.2883356175485648,
           0.2931888182025023,
           0.30427967625316527,
           0.28626940028621456,
           0.2833503194556179,
           0,
           0.287311678374188,
           0.28626940028621456,
           0.3062304147833522,
           0.3573886849714679,
           0.2883356175485648,
           0.2841566845804566,
           0.2957665202464008,
           0.2840226468584395,
           0.29173156960912866,
           0.3183675746586104,
           0.20086943132945437,
           0.33050501527967946,
           0.320049091124153,
           0.2935478340822807,
           0.33600047498386454,
           0.3573886849714679,
           0.29586495760172427,
           0.3130912433687931,
           0.2884772887696222,
           0.2935478340822807,
           0.2949653737990444,
           0.26688479395640313,
           0.3065565659375068,
           0.3573886849714679,
           0.305275962154173,
           0.305275962154173,
           0.2935478340822807,
           0.31210604455707236,
           0.3183675746586104,
           0.3032337988723767,
           0.33050501527967946,
           0.305275962154173,
           0.3053100200648187,
           0.3303486905973034
          ],
          [
           0.035887465228975936,
           0.19383874535560608,
           0.19383874535560608,
           0.10279905219385194,
           0.02534860372543335,
           0.10375473432018788,
           0.10285747133447729,
           0.0319558457710675,
           0.047099438578063715,
           0.09715997445566278,
           0.061155934799830246,
           0.10439480336175064,
           0.10378632899073237,
           0.10360999016309103,
           0.11288501489322357,
           0.287311678374188,
           0,
           0.10386517824475293,
           0.09801443610789655,
           0.19383874535560608,
           0.11758678433671621,
           0.03216585283472128,
           0.06372875653874495,
           0.03973213502696417,
           0.11813941597938538,
           0.19362303614616394,
           0.23535018171464892,
           0.21856844425201416,
           0.1972692608833313,
           0.12536925077438354,
           0.22900086641311646,
           0.19383874535560608,
           0.13376560807228088,
           0.10521589971114735,
           0.10307298094163166,
           0.12536925077438354,
           0.13059982657432556,
           0.3208659026585556,
           0.1655232310295105,
           0.19383874535560608,
           0.162134051322937,
           0.162134051322937,
           0.12536925077438354,
           0.17934513092041016,
           0.19362303614616394,
           0.15654143691062927,
           0.21856844425201416,
           0.162134051322937,
           0.3100139399889234,
           0.3347008993337614
          ],
          [
           0.13644259972610462,
           0.19716668128967285,
           0.19716668128967285,
           0.014843521140888426,
           0.11150513161529585,
           0.06358659267425537,
           0.014662104664984677,
           0.10308846469386534,
           0.1291550961377205,
           0.04756414408279076,
           0.15386749038353661,
           0.034171342849731445,
           0.06961601972579956,
           0.01969048119019758,
           0.04972493648529053,
           0.28626940028621456,
           0.10386517824475293,
           0,
           0.0748479962348938,
           0.19716668128967285,
           0.061352187831033085,
           0.09271135471641698,
           0.061144070256050904,
           0.0687850999766355,
           0.11148354411125183,
           0.1869671642780304,
           0.2326279516724242,
           0.21191257238388062,
           0.19061338901519775,
           0.11871337890625,
           0.2223449945449829,
           0.19716668128967285,
           0.12710973620414734,
           0.09538531303405762,
           0.09633654356002808,
           0.11871337890625,
           0.12394395470619202,
           0.31821489075129145,
           0.15886735916137695,
           0.19716668128967285,
           0.15547817945480347,
           0.15547817945480347,
           0.11871337890625,
           0.1726892590522766,
           0.1869671642780304,
           0.14988556504249573,
           0.21191257238388062,
           0.15547817945480347,
           0.29285035081993926,
           0.31886890253321093
          ],
          [
           0.13358960687811866,
           0.15974268317222595,
           0.15974268317222595,
           0.06819212436676025,
           0.09546711041507576,
           0.06015196176389947,
           0.07234352827072144,
           0.0935407280921936,
           0.10222865734463611,
           0.07234352827072144,
           0.15900398055577092,
           0.06033370174877978,
           0.05666863060822126,
           0.0748479962348938,
           0.12457293272018433,
           0.3062304147833522,
           0.09801443610789655,
           0.0748479962348938,
           0,
           0.15974268317222595,
           0.06242704391479492,
           0.0935407280921936,
           0.035601084354246644,
           0.09526962041854858,
           0.18633154034614563,
           0.2618151605129242,
           0.26604681152818466,
           0.2867605686187744,
           0.26546138525009155,
           0.1935613751411438,
           0.2971929907798767,
           0.15974268317222595,
           0.20195773243904114,
           0.06263863953039746,
           0.17118453979492188,
           0.1935613751411438,
           0.19879195094108582,
           0.3541424184514033,
           0.23371535539627075,
           0.15974268317222595,
           0.23032617568969727,
           0.23032617568969727,
           0.1935613751411438,
           0.2475372552871704,
           0.2618151605129242,
           0.22473356127738953,
           0.2867605686187744,
           0.23032617568969727,
           0.29826474246489254,
           0.32384858441102
          ],
          [
           0.2095499336719513,
           0.15192800858343122,
           0.1047409767932118,
           0.19383874535560608,
           0.20651304721832275,
           0.16537338495254517,
           0.19591444730758667,
           0.20651304721832275,
           0.20265403389930725,
           0.19591444730758667,
           0.1909562051296234,
           0.18008100986480713,
           0.16235867142677307,
           0.19716668128967285,
           0.22202914953231812,
           0.3573886849714679,
           0.19383874535560608,
           0.19716668128967285,
           0.15974268317222595,
           0,
           0.1909562051296234,
           0.20651304721832275,
           0.17536449432373047,
           0.20737749338150024,
           0.25290845334529877,
           0.29065026342868805,
           0.32373407902983714,
           0.30312296748161316,
           0.29247337579727173,
           0.25652337074279785,
           0.3083391785621643,
           0.07161283504878477,
           0.2607215493917465,
           0.14947402477264404,
           0.2453349530696869,
           0.25652337074279785,
           0.25913865864276886,
           0.3912179152222189,
           0.27660036087036133,
           0.07519192450668788,
           0.2749057710170746,
           0.2749057710170746,
           0.25652337074279785,
           0.28351131081581116,
           0.29065026342868805,
           0.2721094638109207,
           0.30312296748161316,
           0.2749057710170746,
           0.29729712932755187,
           0.3229576321033085
          ],
          [
           0.14812161804393162,
           0.1909562051296234,
           0.1909562051296234,
           0.05952949547740483,
           0.12401345750461933,
           0.05590028969141279,
           0.05963032038453998,
           0.09494612109550471,
           0.13075472722063408,
           0.0731430573428713,
           0.1643126145761855,
           0.051047788114919335,
           0.061218606527857204,
           0.06091917400487211,
           0.062145888805389404,
           0.2883356175485648,
           0.11758678433671621,
           0.061352187831033085,
           0.06242704391479492,
           0.1909562051296234,
           0,
           0.09501700858647856,
           0.0644365771515883,
           0.08974865286303801,
           0.12390449643135071,
           0.19938811659812927,
           0.23783347347749945,
           0.2243335247039795,
           0.20303434133529663,
           0.13113433122634888,
           0.2347659468650818,
           0.1909562051296234,
           0.13953068852424622,
           0.08296436071395874,
           0.10875749588012695,
           0.13113433122634888,
           0.1363649070262909,
           0.32325531806288155,
           0.17128831148147583,
           0.1909562051296234,
           0.16789913177490234,
           0.16789913177490234,
           0.13113433122634888,
           0.1851102113723755,
           0.19938811659812927,
           0.1623065173625946,
           0.2243335247039795,
           0.16789913177490234,
           0.29847069988073516,
           0.3240382812487882
          ],
          [
           0.06751874292134777,
           0.20651304721832275,
           0.20651304721832275,
           0.09151538216875506,
           0.02955277238293937,
           0.09258760681317865,
           0.09158099939868429,
           0.021957220653808424,
           0.03846782769618378,
           0.06671727530622883,
           0.09285994943737928,
           0.09330431399714365,
           0.09262301078517977,
           0.0924253758614744,
           0.09924658529450127,
           0.2841566845804566,
           0.03216585283472128,
           0.09271135471641698,
           0.0935407280921936,
           0.20651304721832275,
           0.09501700858647856,
           0,
           0.06229710578918457,
           0.04876452316792465,
           0.09279081225395203,
           0.1682744324207306,
           0.22585787757871242,
           0.1932198405265808,
           0.17192065715789795,
           0.1000206470489502,
           0.2036522626876831,
           0.20651304721832275,
           0.10841700434684753,
           0.11407804489135742,
           0.08991891407932494,
           0.1000206470489502,
           0.10525122284889221,
           0.3114103927277202,
           0.14017462730407715,
           0.20651304721832275,
           0.13678544759750366,
           0.13678544759750366,
           0.1000206470489502,
           0.1539965271949768,
           0.1682744324207306,
           0.13119283318519592,
           0.1932198405265808,
           0.13678544759750366,
           0.3064572776570901,
           0.33140928178970436
          ],
          [
           0.09918789127265204,
           0.17536449432373047,
           0.17536449432373047,
           0.059314982994323515,
           0.06229710578918457,
           0.06078692539842428,
           0.059416171914600906,
           0.06229710578918457,
           0.07168341404053388,
           0.0410999059677124,
           0.12455274278178738,
           0.06203947972542302,
           0.061005429386833454,
           0.06070957203982261,
           0.09332931041717529,
           0.2957665202464008,
           0.06372875653874495,
           0.061144070256050904,
           0.035601084354246644,
           0.17536449432373047,
           0.0644365771515883,
           0.06229710578918457,
           0,
           0.06402599811553955,
           0.1550879180431366,
           0.23057153820991516,
           0.2531261040955359,
           0.2555169463157654,
           0.23421776294708252,
           0.16231775283813477,
           0.2659493684768677,
           0.17536449432373047,
           0.1707141101360321,
           0.06341141559442441,
           0.13994091749191284,
           0.16231775283813477,
           0.16754832863807678,
           0.3375959940773272,
           0.20247173309326172,
           0.17536449432373047,
           0.19908255338668823,
           0.19908255338668823,
           0.16231775283813477,
           0.21629363298416138,
           0.23057153820991516,
           0.1934899389743805,
           0.2555169463157654,
           0.19908255338668823,
           0.29842798974479323,
           0.32399894149594266
          ],
          [
           0.06974050863841849,
           0.20737749338150024,
           0.20737749338150024,
           0.06716442405720263,
           0.05762577665928853,
           0.08400821685791016,
           0.06725380387981233,
           0.06974050863841849,
           0.08648728421594659,
           0.06619622058288178,
           0.09274746000763423,
           0.06958225129959526,
           0.09003764390945435,
           0.06839915780605244,
           0.08177066292029649,
           0.2840226468584395,
           0.03973213502696417,
           0.0687850999766355,
           0.09526962041854858,
           0.20737749338150024,
           0.08974865286303801,
           0.04876452316792465,
           0.06402599811553955,
           0,
           0.09106191992759705,
           0.1665455400943756,
           0.2252998002757167,
           0.19149094820022583,
           0.17019176483154297,
           0.09829175472259521,
           0.20192337036132812,
           0.20737749338150024,
           0.10668811202049255,
           0.1158069372177124,
           0.07591491937637329,
           0.09829175472259521,
           0.10352233052253723,
           0.3107019665696611,
           0.13844573497772217,
           0.20737749338150024,
           0.13505655527114868,
           0.13505655527114868,
           0.09829175472259521,
           0.15226763486862183,
           0.1665455400943756,
           0.12946394085884094,
           0.19149094820022583,
           0.13505655527114868,
           0.3000867503147002,
           0.32552742855527567
          ],
          [
           0.13568797243547975,
           0.25290845334529877,
           0.25290845334529877,
           0.11813941597938538,
           0.11058045586891906,
           0.1750701367855072,
           0.1139880120754242,
           0.10208758199003358,
           0.1283576320363434,
           0.1139880120754242,
           0.15319871879543,
           0.14565488696098328,
           0.1810995638370514,
           0.11148354411125183,
           0.061758607625961304,
           0.29173156960912866,
           0.11813941597938538,
           0.11148354411125183,
           0.18633154034614563,
           0.25290845334529877,
           0.12390449643135071,
           0.09279081225395203,
           0.1550879180431366,
           0.09106191992759705,
           0,
           0.07548362016677856,
           0.2143554117042659,
           0.10042902827262878,
           0.07912984490394592,
           0.007229834794998169,
           0.11086145043373108,
           0.25290845334529877,
           0.015626192092895508,
           0.20686885714530945,
           0.015147000551223755,
           0.007229834794998169,
           0.012460410594940186,
           0.27131043457564197,
           0.04738381505012512,
           0.25290845334529877,
           0.043994635343551636,
           0.043994635343551636,
           0.007229834794998169,
           0.06120571494102478,
           0.07548362016677856,
           0.038402020931243896,
           0.10042902827262878,
           0.043994635343551636,
           0.29249952276712354,
           0.3185467310244572
          ],
          [
           0.1622006595134735,
           0.29065026342868805,
           0.29065026342868805,
           0.19362303614616394,
           0.1682744324207306,
           0.25055375695228577,
           0.18947163224220276,
           0.1682744324207306,
           0.1759924590587616,
           0.18947163224220276,
           0.19938811659812927,
           0.22113850712776184,
           0.25658318400382996,
           0.1869671642780304,
           0.13724222779273987,
           0.3183675746586104,
           0.19362303614616394,
           0.1869671642780304,
           0.2618151605129242,
           0.29065026342868805,
           0.19938811659812927,
           0.1682744324207306,
           0.23057153820991516,
           0.1665455400943756,
           0.07548362016677856,
           0,
           0.23351897247047898,
           0.02494540810585022,
           0.0044533610343933105,
           0.0682537853717804,
           0.035377830266952515,
           0.29065026342868805,
           0.05985742807388306,
           0.282352477312088,
           0.09063062071800232,
           0.0682537853717804,
           0.06302320957183838,
           0.25918439262246595,
           0.028099805116653442,
           0.29065026342868805,
           0.03148898482322693,
           0.03148898482322693,
           0.0682537853717804,
           0.05098199406916507,
           0.008867176349205638,
           0.03708159923553467,
           0.02494540810585022,
           0.03148898482322693,
           0.29250782943368225,
           0.3185543584812128
          ],
          [
           0.22395008184192022,
           0.32373407902983714,
           0.32373407902983714,
           0.23535018171464892,
           0.22585787757871242,
           0.2616985139412965,
           0.23363374300287904,
           0.22585787757871242,
           0.22849218540716218,
           0.23363374300287904,
           0.23783347347749945,
           0.24818632552849026,
           0.26397578208265965,
           0.2326279516724242,
           0.2177196971628206,
           0.20086943132945437,
           0.23535018171464892,
           0.2326279516724242,
           0.26604681152818466,
           0.32373407902983714,
           0.23783347347749945,
           0.22585787757871242,
           0.2531261040955359,
           0.2252998002757167,
           0.2143554117042659,
           0.23351897247047898,
           0,
           0.24468913380401086,
           0.23501963711068163,
           0.21512054198062766,
           0.2499515666111373,
           0.32373407902983714,
           0.21630921302469036,
           0.27498901844267687,
           0.21353860142864067,
           0.21512054198062766,
           0.21582344388779082,
           0.13499554339827644,
           0.22361696066647194,
           0.32373407902983714,
           0.22263267471525724,
           0.22263267471525724,
           0.21512054198062766,
           0.22810907771411798,
           0.23351897247047898,
           0.2211124995686572,
           0.24468913380401086,
           0.22263267471525724,
           0.2924756054652347,
           0.31852476955431347
          ],
          [
           0.18714606761932373,
           0.30312296748161316,
           0.30312296748161316,
           0.21856844425201416,
           0.1932198405265808,
           0.275499165058136,
           0.21441704034805298,
           0.1932198405265808,
           0.20093786716461182,
           0.21441704034805298,
           0.2243335247039795,
           0.24608391523361206,
           0.2815285921096802,
           0.21191257238388062,
           0.1621876358985901,
           0.33050501527967946,
           0.21856844425201416,
           0.21191257238388062,
           0.2867605686187744,
           0.30312296748161316,
           0.2243335247039795,
           0.1932198405265808,
           0.2555169463157654,
           0.19149094820022583,
           0.10042902827262878,
           0.02494540810585022,
           0.24468913380401086,
           0,
           0.02129918336868286,
           0.09319919347763062,
           0.03285078998562566,
           0.30312296748161316,
           0.08480283617973328,
           0.30729788541793823,
           0.11557602882385254,
           0.09319919347763062,
           0.0879686176776886,
           0.2599152084347918,
           0.05304521322250366,
           0.30312296748161316,
           0.05643439292907715,
           0.05643439292907715,
           0.09319919347763062,
           0.05079678367298327,
           0.02494540810585022,
           0.06202700734138489,
           0.0075869253508546374,
           0.05643439292907715,
           0.2924756054652347,
           0.31852476955431347
          ],
          [
           0.16584688425064087,
           0.29247337579727173,
           0.29247337579727173,
           0.1972692608833313,
           0.17192065715789795,
           0.2541999816894531,
           0.19311785697937012,
           0.17192065715789795,
           0.17963868379592896,
           0.19311785697937012,
           0.20303434133529663,
           0.2247847318649292,
           0.2602294087409973,
           0.19061338901519775,
           0.14088845252990723,
           0.320049091124153,
           0.1972692608833313,
           0.19061338901519775,
           0.26546138525009155,
           0.29247337579727173,
           0.20303434133529663,
           0.17192065715789795,
           0.23421776294708252,
           0.17019176483154297,
           0.07912984490394592,
           0.0044533610343933105,
           0.23501963711068163,
           0.02129918336868286,
           0,
           0.07190001010894775,
           0.03283584117889404,
           0.29247337579727173,
           0.06350365281105042,
           0.28599870204925537,
           0.09427684545516968,
           0.07190001010894775,
           0.06666943430900574,
           0.25914154247013493,
           0.0317460298538208,
           0.29247337579727173,
           0.03513520956039429,
           0.03513520956039429,
           0.07190001010894775,
           0.050787117409494015,
           0.007667750120162964,
           0.040727823972702026,
           0.02129918336868286,
           0.03513520956039429,
           0.2924739267960505,
           0.31852322816848755
          ],
          [
           0.13563278696597664,
           0.25652337074279785,
           0.25652337074279785,
           0.12536925077438354,
           0.11051273345947266,
           0.18229997158050537,
           0.12121784687042236,
           0.10201422171971082,
           0.12829929360087616,
           0.12121784687042236,
           0.15314984321594238,
           0.15288472175598145,
           0.18832939863204956,
           0.11871337890625,
           0.06898844242095947,
           0.2935478340822807,
           0.12536925077438354,
           0.11871337890625,
           0.1935613751411438,
           0.25652337074279785,
           0.13113433122634888,
           0.1000206470489502,
           0.16231775283813477,
           0.09829175472259521,
           0.007229834794998169,
           0.0682537853717804,
           0.21512054198062766,
           0.09319919347763062,
           0.07190001010894775,
           0,
           0.10363161563873291,
           0.25652337074279785,
           0.008396357297897339,
           0.21409869194030762,
           0.022376835346221924,
           0,
           0.005230575799942017,
           0.26925778229634406,
           0.04015398025512695,
           0.25652337074279785,
           0.03676480054855347,
           0.03676480054855347,
           0,
           0.05397588014602661,
           0.0682537853717804,
           0.031172186136245728,
           0.09319919347763062,
           0.03676480054855347,
           0.2924739267960505,
           0.31852322816848755
          ],
          [
           0.19757848978042603,
           0.3083391785621643,
           0.3083391785621643,
           0.22900086641311646,
           0.2036522626876831,
           0.2859315872192383,
           0.22484946250915527,
           0.2036522626876831,
           0.2113702893257141,
           0.22484946250915527,
           0.2347659468650818,
           0.25651633739471436,
           0.29196101427078247,
           0.2223449945449829,
           0.17262005805969238,
           0.33600047498386454,
           0.22900086641311646,
           0.2223449945449829,
           0.2971929907798767,
           0.3083391785621643,
           0.2347659468650818,
           0.2036522626876831,
           0.2659493684768677,
           0.20192337036132812,
           0.11086145043373108,
           0.035377830266952515,
           0.2499515666111373,
           0.03285078998562566,
           0.03283584117889404,
           0.10363161563873291,
           0,
           0.3083391785621643,
           0.09523525834083557,
           0.3177303075790405,
           0.12600845098495483,
           0.10363161563873291,
           0.0984010398387909,
           0.26092843237077284,
           0.06347763538360596,
           0.3083391785621643,
           0.06686681509017944,
           0.06686681509017944,
           0.10363161563873291,
           0.06047746489967386,
           0.035377830266952515,
           0.07245942950248718,
           0.033686376555676995,
           0.06686681509017944,
           0.2650756954974547,
           0.30629968643188477
          ],
          [
           0.2095499336719513,
           0.1500711412432398,
           0.10202891679086579,
           0.19383874535560608,
           0.20651304721832275,
           0.16537338495254517,
           0.19591444730758667,
           0.20651304721832275,
           0.20265403389930725,
           0.19591444730758667,
           0.1909562051296234,
           0.18008100986480713,
           0.16235867142677307,
           0.19716668128967285,
           0.22202914953231812,
           0.3573886849714679,
           0.19383874535560608,
           0.19716668128967285,
           0.15974268317222595,
           0.07161283504878477,
           0.1909562051296234,
           0.20651304721832275,
           0.17536449432373047,
           0.20737749338150024,
           0.25290845334529877,
           0.29065026342868805,
           0.32373407902983714,
           0.30312296748161316,
           0.29247337579727173,
           0.25652337074279785,
           0.3083391785621643,
           0,
           0.2607215493917465,
           0.14947402477264404,
           0.2453349530696869,
           0.25652337074279785,
           0.25913865864276886,
           0.3912179152222189,
           0.27660036087036133,
           0.014197675882581308,
           0.2749057710170746,
           0.2749057710170746,
           0.25652337074279785,
           0.28351131081581116,
           0.29065026342868805,
           0.2721094638109207,
           0.30312296748161316,
           0.2749057710170746,
           0.2963525109532976,
           0.32208827947582513
          ],
          [
           0.1356364067531728,
           0.2607215493917465,
           0.2607215493917465,
           0.13376560807228088,
           0.11051717601096482,
           0.1906963288784027,
           0.1296142041683197,
           0.10841700434684753,
           0.12830312028644492,
           0.1296142041683197,
           0.15315304898637136,
           0.16128107905387878,
           0.1967257559299469,
           0.12710973620414734,
           0.07738479971885681,
           0.29586495760172427,
           0.13376560807228088,
           0.12710973620414734,
           0.20195773243904114,
           0.2607215493917465,
           0.13953068852424622,
           0.10841700434684753,
           0.1707141101360321,
           0.10668811202049255,
           0.015626192092895508,
           0.05985742807388306,
           0.21630921302469036,
           0.08480283617973328,
           0.06350365281105042,
           0.008396357297897339,
           0.09523525834083557,
           0.2607215493917465,
           0,
           0.22249504923820496,
           0.030773192644119263,
           0.008396357297897339,
           0.0031657814979553223,
           0.2670998424672005,
           0.031757622957229614,
           0.2607215493917465,
           0.028368443250656128,
           0.028368443250656128,
           0.008396357297897339,
           0.05079678367298327,
           0.05985742807388306,
           0.02277582883834839,
           0.08480283617973328,
           0.028368443250656128,
           0.2924756054652347,
           0.31852476955431347
          ],
          [
           0.1374736095409949,
           0.14947402477264404,
           0.14947402477264404,
           0.08872944116592407,
           0.11407804489135742,
           0.031798720359802246,
           0.09288084506988525,
           0.11407804489135742,
           0.13024380660344562,
           0.09288084506988525,
           0.15478247606605747,
           0.06121397018432617,
           0.026583780270874977,
           0.09538531303405762,
           0.14511024951934814,
           0.3130912433687931,
           0.10521589971114735,
           0.09538531303405762,
           0.06263863953039746,
           0.14947402477264404,
           0.08296436071395874,
           0.11407804489135742,
           0.06341141559442441,
           0.1158069372177124,
           0.20686885714530945,
           0.282352477312088,
           0.27498901844267687,
           0.30729788541793823,
           0.28599870204925537,
           0.21409869194030762,
           0.3177303075790405,
           0.14947402477264404,
           0.22249504923820496,
           0,
           0.1917218565940857,
           0.21409869194030762,
           0.21932926774024963,
           0.36606548659375127,
           0.25425267219543457,
           0.14947402477264404,
           0.2508634924888611,
           0.2508634924888611,
           0.21409869194030762,
           0.26807457208633423,
           0.282352477312088,
           0.24527087807655334,
           0.30729788541793823,
           0.2508634924888611,
           0.2933321296339244,
           0.3193114268280205
          ],
          [
           0.13584052108409211,
           0.2453349530696869,
           0.2453349530696869,
           0.10299241542816162,
           0.11076758788077004,
           0.15992313623428345,
           0.09884101152420044,
           0.10229025223020025,
           0.12561635585886305,
           0.09884101152420044,
           0.15333384735702488,
           0.13050788640975952,
           0.16595256328582764,
           0.09633654356002808,
           0.04724167359153018,
           0.2884772887696222,
           0.10307298094163166,
           0.09633654356002808,
           0.17118453979492188,
           0.2453349530696869,
           0.10875749588012695,
           0.08991891407932494,
           0.13994091749191284,
           0.07591491937637329,
           0.015147000551223755,
           0.09063062071800232,
           0.21353860142864067,
           0.11557602882385254,
           0.09427684545516968,
           0.022376835346221924,
           0.12600845098495483,
           0.2453349530696869,
           0.030773192644119263,
           0.1917218565940857,
           0,
           0.022376835346221924,
           0.02760741114616394,
           0.2761756308971739,
           0.06253081560134888,
           0.2453349530696869,
           0.05914163589477539,
           0.05914163589477539,
           0.022376835346221924,
           0.07635271549224854,
           0.09063062071800232,
           0.05354902148246765,
           0.11557602882385254,
           0.05914163589477539,
           0.29257031996383565,
           0.31861174044770235
          ],
          [
           0.13563278696597664,
           0.25652337074279785,
           0.25652337074279785,
           0.12536925077438354,
           0.11051273345947266,
           0.18229997158050537,
           0.12121784687042236,
           0.10201422171971082,
           0.12829929360087616,
           0.12121784687042236,
           0.15314984321594238,
           0.15288472175598145,
           0.18832939863204956,
           0.11871337890625,
           0.06898844242095947,
           0.2935478340822807,
           0.12536925077438354,
           0.11871337890625,
           0.1935613751411438,
           0.25652337074279785,
           0.13113433122634888,
           0.1000206470489502,
           0.16231775283813477,
           0.09829175472259521,
           0.007229834794998169,
           0.0682537853717804,
           0.21512054198062766,
           0.09319919347763062,
           0.07190001010894775,
           0,
           0.10363161563873291,
           0.25652337074279785,
           0.008396357297897339,
           0.21409869194030762,
           0.022376835346221924,
           0,
           0.005230575799942017,
           0.26925778229634406,
           0.04015398025512695,
           0.25652337074279785,
           0.03676480054855347,
           0.03676480054855347,
           0,
           0.05397588014602661,
           0.0682537853717804,
           0.031172186136245728,
           0.09319919347763062,
           0.03676480054855347,
           0.2924739267960505,
           0.31852322816848755
          ],
          [
           0.13564503912368667,
           0.25913865864276886,
           0.25913865864276886,
           0.13059982657432556,
           0.11052777024527786,
           0.1875305473804474,
           0.12644842267036438,
           0.10525122284889221,
           0.12831224601413657,
           0.12644842267036438,
           0.1531606940953723,
           0.15811529755592346,
           0.19355997443199158,
           0.12394395470619202,
           0.07421901822090149,
           0.2949653737990444,
           0.13059982657432556,
           0.12394395470619202,
           0.19879195094108582,
           0.25913865864276886,
           0.1363649070262909,
           0.10525122284889221,
           0.16754832863807678,
           0.10352233052253723,
           0.012460410594940186,
           0.06302320957183838,
           0.21582344388779082,
           0.0879686176776886,
           0.06666943430900574,
           0.005230575799942017,
           0.0984010398387909,
           0.25913865864276886,
           0.0031657814979553223,
           0.21932926774024963,
           0.02760741114616394,
           0.005230575799942017,
           0,
           0.2678846133218226,
           0.034923404455184937,
           0.25913865864276886,
           0.03153422474861145,
           0.03153422474861145,
           0.005230575799942017,
           0.05081982913660978,
           0.06302320957183838,
           0.02594161033630371,
           0.0879686176776886,
           0.03153422474861145,
           0.29247960885198476,
           0.318528445545422
          ],
          [
           0.3083261918072569,
           0.3912179152222189,
           0.3912179152222189,
           0.3208659026585556,
           0.3114103927277202,
           0.3479458564036307,
           0.3191987098712476,
           0.3114103927277202,
           0.3141029514622307,
           0.3191987098712476,
           0.32325531806288155,
           0.33301510492595376,
           0.3512322258702339,
           0.31821489075129145,
           0.2955475963194665,
           0.26688479395640313,
           0.3208659026585556,
           0.31821489075129145,
           0.3541424184514033,
           0.3912179152222189,
           0.32325531806288155,
           0.3114103927277202,
           0.3375959940773272,
           0.3107019665696611,
           0.27131043457564197,
           0.25918439262246595,
           0.13499554339827644,
           0.2599152084347918,
           0.25914154247013493,
           0.26925778229634406,
           0.26092843237077284,
           0.3912179152222189,
           0.2670998424672005,
           0.36606548659375127,
           0.2761756308971739,
           0.26925778229634406,
           0.2678846133218226,
           0,
           0.26122743293545925,
           0.3912179152222189,
           0.2616767684503419,
           0.2616767684503419,
           0.26925778229634406,
           0.25984503033549144,
           0.25918439262246595,
           0.2625122441954504,
           0.2599152084347918,
           0.2616767684503419,
           0.29248057855714993,
           0.3185293359496077
          ],
          [
           0.13565463185654142,
           0.27660036087036133,
           0.27660036087036133,
           0.1655232310295105,
           0.14017462730407715,
           0.22245395183563232,
           0.16137182712554932,
           0.14017462730407715,
           0.14789265394210815,
           0.16137182712554932,
           0.17128831148147583,
           0.1930387020111084,
           0.2284833788871765,
           0.15886735916137695,
           0.10914242267608643,
           0.3065565659375068,
           0.1655232310295105,
           0.15886735916137695,
           0.23371535539627075,
           0.27660036087036133,
           0.17128831148147583,
           0.14017462730407715,
           0.20247173309326172,
           0.13844573497772217,
           0.04738381505012512,
           0.028099805116653442,
           0.22361696066647194,
           0.05304521322250366,
           0.0317460298538208,
           0.04015398025512695,
           0.06347763538360596,
           0.27660036087036133,
           0.031757622957229614,
           0.25425267219543457,
           0.06253081560134888,
           0.04015398025512695,
           0.034923404455184937,
           0.26122743293545925,
           0,
           0.27660036087036133,
           0.0033891797065734863,
           0.018238118685074915,
           0.04015398025512695,
           0.050845427904006306,
           0.028099805116653442,
           0.008981794118881226,
           0.05304521322250366,
           0.0033891797065734863,
           0.29248405785525694,
           0.318532530719941
          ],
          [
           0.2095499336719513,
           0.15369393916959392,
           0.10728643607155482,
           0.19383874535560608,
           0.20651304721832275,
           0.16537338495254517,
           0.19591444730758667,
           0.20651304721832275,
           0.20265403389930725,
           0.19591444730758667,
           0.1909562051296234,
           0.18008100986480713,
           0.16235867142677307,
           0.19716668128967285,
           0.22202914953231812,
           0.3573886849714679,
           0.19383874535560608,
           0.19716668128967285,
           0.15974268317222595,
           0.07519192450668788,
           0.1909562051296234,
           0.20651304721832275,
           0.17536449432373047,
           0.20737749338150024,
           0.25290845334529877,
           0.29065026342868805,
           0.32373407902983714,
           0.30312296748161316,
           0.29247337579727173,
           0.25652337074279785,
           0.3083391785621643,
           0.014197675882581308,
           0.2607215493917465,
           0.14947402477264404,
           0.2453349530696869,
           0.25652337074279785,
           0.25913865864276886,
           0.3912179152222189,
           0.27660036087036133,
           0,
           0.2749057710170746,
           0.2749057710170746,
           0.25652337074279785,
           0.28351131081581116,
           0.29065026342868805,
           0.2721094638109207,
           0.30312296748161316,
           0.2749057710170746,
           0.2982034376926979,
           0.3237921235594153
          ],
          [
           0.13564503912368667,
           0.2749057710170746,
           0.2749057710170746,
           0.162134051322937,
           0.13678544759750366,
           0.21906477212905884,
           0.15798264741897583,
           0.13678544759750366,
           0.14450347423553467,
           0.15798264741897583,
           0.16789913177490234,
           0.1896495223045349,
           0.22509419918060303,
           0.15547817945480347,
           0.10575324296951294,
           0.305275962154173,
           0.162134051322937,
           0.15547817945480347,
           0.23032617568969727,
           0.2749057710170746,
           0.16789913177490234,
           0.13678544759750366,
           0.19908255338668823,
           0.13505655527114868,
           0.043994635343551636,
           0.03148898482322693,
           0.22263267471525724,
           0.05643439292907715,
           0.03513520956039429,
           0.03676480054855347,
           0.06686681509017944,
           0.2749057710170746,
           0.028368443250656128,
           0.2508634924888611,
           0.05914163589477539,
           0.03676480054855347,
           0.03153422474861145,
           0.2616767684503419,
           0.0033891797065734863,
           0.2749057710170746,
           0,
           0.01816663061504769,
           0.03676480054855347,
           0.05081982913660978,
           0.03148898482322693,
           0.005592614412307739,
           0.05643439292907715,
           0.0019094616932164852,
           0.29247960885198476,
           0.318528445545422
          ],
          [
           0.13683185166237102,
           0.2749057710170746,
           0.2749057710170746,
           0.162134051322937,
           0.13678544759750366,
           0.21906477212905884,
           0.15798264741897583,
           0.13678544759750366,
           0.14450347423553467,
           0.15798264741897583,
           0.16789913177490234,
           0.1896495223045349,
           0.22509419918060303,
           0.15547817945480347,
           0.10575324296951294,
           0.305275962154173,
           0.162134051322937,
           0.15547817945480347,
           0.23032617568969727,
           0.2749057710170746,
           0.16789913177490234,
           0.13678544759750366,
           0.19908255338668823,
           0.13505655527114868,
           0.043994635343551636,
           0.03148898482322693,
           0.22263267471525724,
           0.05643439292907715,
           0.03513520956039429,
           0.03676480054855347,
           0.06686681509017944,
           0.2749057710170746,
           0.028368443250656128,
           0.2508634924888611,
           0.05914163589477539,
           0.03676480054855347,
           0.03153422474861145,
           0.2616767684503419,
           0.018238118685074915,
           0.2749057710170746,
           0.01816663061504769,
           0,
           0.03676480054855347,
           0.053907643465104606,
           0.03148898482322693,
           0.018083833510748864,
           0.05643439292907715,
           0.018083833510748864,
           0.29303191052289274,
           0.3190356557064892
          ],
          [
           0.13563278696597664,
           0.25652337074279785,
           0.25652337074279785,
           0.12536925077438354,
           0.11051273345947266,
           0.18229997158050537,
           0.12121784687042236,
           0.10201422171971082,
           0.12829929360087616,
           0.12121784687042236,
           0.15314984321594238,
           0.15288472175598145,
           0.18832939863204956,
           0.11871337890625,
           0.06898844242095947,
           0.2935478340822807,
           0.12536925077438354,
           0.11871337890625,
           0.1935613751411438,
           0.25652337074279785,
           0.13113433122634888,
           0.1000206470489502,
           0.16231775283813477,
           0.09829175472259521,
           0.007229834794998169,
           0.0682537853717804,
           0.21512054198062766,
           0.09319919347763062,
           0.07190001010894775,
           0,
           0.10363161563873291,
           0.25652337074279785,
           0.008396357297897339,
           0.21409869194030762,
           0.022376835346221924,
           0,
           0.005230575799942017,
           0.26925778229634406,
           0.04015398025512695,
           0.25652337074279785,
           0.03676480054855347,
           0.03676480054855347,
           0,
           0.05397588014602661,
           0.0682537853717804,
           0.031172186136245728,
           0.09319919347763062,
           0.03676480054855347,
           0.2924739267960505,
           0.31852322816848755
          ],
          [
           0.14792275428771973,
           0.28351131081581116,
           0.28351131081581116,
           0.17934513092041016,
           0.1539965271949768,
           0.23627585172653198,
           0.17519372701644897,
           0.1539965271949768,
           0.1617145538330078,
           0.17519372701644897,
           0.1851102113723755,
           0.20686060190200806,
           0.24230527877807617,
           0.1726892590522766,
           0.12296432256698608,
           0.31210604455707236,
           0.17934513092041016,
           0.1726892590522766,
           0.2475372552871704,
           0.28351131081581116,
           0.1851102113723755,
           0.1539965271949768,
           0.21629363298416138,
           0.15226763486862183,
           0.06120571494102478,
           0.05098199406916507,
           0.22810907771411798,
           0.05079678367298327,
           0.050787117409494015,
           0.05397588014602661,
           0.06047746489967386,
           0.28351131081581116,
           0.05079678367298327,
           0.26807457208633423,
           0.07635271549224854,
           0.05397588014602661,
           0.05081982913660978,
           0.25984503033549144,
           0.050845427904006306,
           0.28351131081581116,
           0.05081982913660978,
           0.053907643465104606,
           0.05397588014602661,
           0,
           0.051362687689323554,
           0.05079029041081679,
           0.05134112186435977,
           0.05079029041081679,
           0.29685068494154976,
           0.3225467069706961
          ],
          [
           0.1622006595134735,
           0.29065026342868805,
           0.29065026342868805,
           0.19362303614616394,
           0.1682744324207306,
           0.25055375695228577,
           0.18947163224220276,
           0.1682744324207306,
           0.1759924590587616,
           0.18947163224220276,
           0.19938811659812927,
           0.22113850712776184,
           0.25658318400382996,
           0.1869671642780304,
           0.13724222779273987,
           0.3183675746586104,
           0.19362303614616394,
           0.1869671642780304,
           0.2618151605129242,
           0.29065026342868805,
           0.19938811659812927,
           0.1682744324207306,
           0.23057153820991516,
           0.1665455400943756,
           0.07548362016677856,
           0.008867176349205638,
           0.23351897247047898,
           0.02494540810585022,
           0.007667750120162964,
           0.0682537853717804,
           0.035377830266952515,
           0.29065026342868805,
           0.05985742807388306,
           0.282352477312088,
           0.09063062071800232,
           0.0682537853717804,
           0.06302320957183838,
           0.25918439262246595,
           0.028099805116653442,
           0.29065026342868805,
           0.03148898482322693,
           0.03148898482322693,
           0.0682537853717804,
           0.051362687689323554,
           0,
           0.03708159923553467,
           0.02494540810585022,
           0.03148898482322693,
           0.29257442172446785,
           0.3186155069590613
          ],
          [
           0.1356339751146717,
           0.2721094638109207,
           0.2721094638109207,
           0.15654143691062927,
           0.13119283318519592,
           0.2134721577167511,
           0.1523900330066681,
           0.13119283318519592,
           0.13891085982322693,
           0.1523900330066681,
           0.1623065173625946,
           0.18405690789222717,
           0.2195015847682953,
           0.14988556504249573,
           0.1001606285572052,
           0.3032337988723767,
           0.15654143691062927,
           0.14988556504249573,
           0.22473356127738953,
           0.2721094638109207,
           0.1623065173625946,
           0.13119283318519592,
           0.1934899389743805,
           0.12946394085884094,
           0.038402020931243896,
           0.03708159923553467,
           0.2211124995686572,
           0.06202700734138489,
           0.040727823972702026,
           0.031172186136245728,
           0.07245942950248718,
           0.2721094638109207,
           0.02277582883834839,
           0.24527087807655334,
           0.05354902148246765,
           0.031172186136245728,
           0.02594161033630371,
           0.2625122441954504,
           0.008981794118881226,
           0.2721094638109207,
           0.005592614412307739,
           0.018083833510748864,
           0.031172186136245728,
           0.05079029041081679,
           0.03708159923553467,
           0,
           0.06202700734138489,
           0.005592614412307739,
           0.29247337579727173,
           0.3185237341048917
          ],
          [
           0.18714606761932373,
           0.30312296748161316,
           0.30312296748161316,
           0.21856844425201416,
           0.1932198405265808,
           0.275499165058136,
           0.21441704034805298,
           0.1932198405265808,
           0.20093786716461182,
           0.21441704034805298,
           0.2243335247039795,
           0.24608391523361206,
           0.2815285921096802,
           0.21191257238388062,
           0.1621876358985901,
           0.33050501527967946,
           0.21856844425201416,
           0.21191257238388062,
           0.2867605686187744,
           0.30312296748161316,
           0.2243335247039795,
           0.1932198405265808,
           0.2555169463157654,
           0.19149094820022583,
           0.10042902827262878,
           0.02494540810585022,
           0.24468913380401086,
           0.0075869253508546374,
           0.02129918336868286,
           0.09319919347763062,
           0.033686376555676995,
           0.30312296748161316,
           0.08480283617973328,
           0.30729788541793823,
           0.11557602882385254,
           0.09319919347763062,
           0.0879686176776886,
           0.2599152084347918,
           0.05304521322250366,
           0.30312296748161316,
           0.05643439292907715,
           0.05643439292907715,
           0.09319919347763062,
           0.05134112186435977,
           0.02494540810585022,
           0.06202700734138489,
           0,
           0.05643439292907715,
           0.29257063652223686,
           0.3186120311325354
          ],
          [
           0.1356339751146717,
           0.2749057710170746,
           0.2749057710170746,
           0.162134051322937,
           0.13678544759750366,
           0.21906477212905884,
           0.15798264741897583,
           0.13678544759750366,
           0.14450347423553467,
           0.15798264741897583,
           0.16789913177490234,
           0.1896495223045349,
           0.22509419918060303,
           0.15547817945480347,
           0.10575324296951294,
           0.305275962154173,
           0.162134051322937,
           0.15547817945480347,
           0.23032617568969727,
           0.2749057710170746,
           0.16789913177490234,
           0.13678544759750366,
           0.19908255338668823,
           0.13505655527114868,
           0.043994635343551636,
           0.03148898482322693,
           0.22263267471525724,
           0.05643439292907715,
           0.03513520956039429,
           0.03676480054855347,
           0.06686681509017944,
           0.2749057710170746,
           0.028368443250656128,
           0.2508634924888611,
           0.05914163589477539,
           0.03676480054855347,
           0.03153422474861145,
           0.2616767684503419,
           0.0033891797065734863,
           0.2749057710170746,
           0.0019094616932164852,
           0.018083833510748864,
           0.03676480054855347,
           0.05079029041081679,
           0.03148898482322693,
           0.005592614412307739,
           0.05643439292907715,
           0,
           0.29247337579727173,
           0.3185237341048917
          ],
          [
           0.32239300667920745,
           0.2967836922397973,
           0.30605078798166174,
           0.2924739267960505,
           0.3126564602118209,
           0.29281119790301735,
           0.2924944651320261,
           0.3097545791244737,
           0.3193770602187723,
           0.29594427775844895,
           0.3301452291531247,
           0.2930386112656245,
           0.29282239465061366,
           0.29275994054027105,
           0.2961695111097537,
           0.3053100200648187,
           0.3100139399889234,
           0.29285035081993926,
           0.29826474246489254,
           0.29729712932755187,
           0.29847069988073516,
           0.3064572776570901,
           0.29842798974479323,
           0.3000867503147002,
           0.29249952276712354,
           0.29250782943368225,
           0.2924756054652347,
           0.2924756054652347,
           0.2924739267960505,
           0.2924739267960505,
           0.2650756954974547,
           0.2963525109532976,
           0.2924756054652347,
           0.2933321296339244,
           0.29257031996383565,
           0.2924739267960505,
           0.29247960885198476,
           0.29248057855714993,
           0.29248405785525694,
           0.2982034376926979,
           0.29247960885198476,
           0.29303191052289274,
           0.2924739267960505,
           0.29685068494154976,
           0.29257442172446785,
           0.29247337579727173,
           0.29257063652223686,
           0.29247337579727173,
           0,
           0.05210279780873511
          ],
          [
           0.3461983532355872,
           0.2967831492424011,
           0.3310334331326202,
           0.31852322816848755,
           0.3371499831522446,
           0.31883294472932505,
           0.3185420869527964,
           0.33446068276548246,
           0.34339154855843235,
           0.321712705010764,
           0.33074676990509033,
           0.3190418103005602,
           0.31884322767826295,
           0.31878587141295317,
           0.32191990981976154,
           0.3303486905973034,
           0.3347008993337614,
           0.31886890253321093,
           0.32384858441102,
           0.3229576321033085,
           0.3240382812487882,
           0.33140928178970436,
           0.32399894149594266,
           0.32552742855527567,
           0.3185467310244572,
           0.3185543584812128,
           0.31852476955431347,
           0.31852476955431347,
           0.31852322816848755,
           0.31852322816848755,
           0.30629968643188477,
           0.32208827947582513,
           0.31852476955431347,
           0.3193114268280205,
           0.31861174044770235,
           0.31852322816848755,
           0.318528445545422,
           0.3185293359496077,
           0.318532530719941,
           0.3237921235594153,
           0.318528445545422,
           0.3190356557064892,
           0.31852322816848755,
           0.3225467069706961,
           0.3186155069590613,
           0.3185237341048917,
           0.3186120311325354,
           0.3185237341048917,
           0.05210279780873511,
           0
          ]
         ]
        },
        {
         "coloraxis": "coloraxis",
         "hovertemplate": "x: %{x}<br>y: %{y}<br>color: %{z}<extra></extra>",
         "name": "1",
         "type": "heatmap",
         "xaxis": "x2",
         "yaxis": "y2",
         "z": [
          [
           0,
           0.1785714328289032,
           0.1785714328289032,
           0.1607142984867096,
           0.03571432828903198,
           0.1617033194377117,
           0.1607142984867096,
           0.07142859697341919,
           0.03571432828903198,
           0.14396887885712906,
           0.03571426868438721,
           0.1617033194377117,
           0.16170331779215397,
           0.1617033194377117,
           0.17587247068882347,
           0.2428834110191622,
           0.03571432828903198,
           0.16170331779215397,
           0.1428571343421936,
           0.1785714328289032,
           0.17587247068882347,
           0.07142859697341919,
           0.1071428656578064,
           0.07142859697341919,
           0.1617033194377117,
           0.1785714328289032,
           0.19232730584399577,
           0.2142857015132904,
           0.1785714328289032,
           0.1607142984867096,
           0.2142857015132904,
           0.19315453969900873,
           0.1607142984867096,
           0.1694077405458912,
           0.1607142984867096,
           0.1607142984867096,
           0.1607142984867096,
           0.2884909809025987,
           0.1607142984867096,
           0.18385054319418143,
           0.1607142984867096,
           0.1617033194377117,
           0.1607142984867096,
           0.1785714328289032,
           0.1785714328289032,
           0.1607142984867096,
           0.2142857015132904,
           0.1607142984867096,
           0.2857142686843872,
           0.2857142686843872
          ],
          [
           0.1785714328289032,
           0,
           0.07142853736877441,
           0.1607142984867096,
           0.1785714328289032,
           0.16170330462769003,
           0.1607142984867096,
           0.1785714328289032,
           0.1785714328289032,
           0.1607142984867096,
           0.1607142984867096,
           0.16170330462769003,
           0.16170330298213212,
           0.16170330462769003,
           0.1964285671710968,
           0.31032406345872177,
           0.1607142984867096,
           0.16170330298213212,
           0.17587246312390512,
           0.17587246312390512,
           0.17587245707197008,
           0.1785714328289032,
           0.1785714030265808,
           0.1964285671710968,
           0.2321428656578064,
           0.2678571492433548,
           0.2789374813387589,
           0.2857142835855484,
           0.2678571492433548,
           0.2321428656578064,
           0.2857142835855484,
           0.1931545273004928,
           0.2321428656578064,
           0.1694077264094081,
           0.2142857015132904,
           0.2321428656578064,
           0.2321428656578064,
           0.3544541754255339,
           0.25,
           0.18385053016822242,
           0.25,
           0.25,
           0.2321428656578064,
           0.2678571492433548,
           0.2678571492433548,
           0.25,
           0.2857142835855484,
           0.25,
           0.25,
           0.25
          ],
          [
           0.1785714328289032,
           0.07142853736877441,
           0,
           0.1607142984867096,
           0.1785714328289032,
           0.125,
           0.1607142984867096,
           0.1785714328289032,
           0.1785714328289032,
           0.1607142984867096,
           0.1607142984867096,
           0.1428571343421936,
           0.125,
           0.1607142984867096,
           0.1964285671710968,
           0.31032406345872177,
           0.1607142984867096,
           0.1607142984867096,
           0.1287697013983493,
           0.1287697013983493,
           0.1607142984867096,
           0.1785714328289032,
           0.1428571343421936,
           0.1964285671710968,
           0.2321428656578064,
           0.2678571492433548,
           0.2789374813387589,
           0.2857142835855484,
           0.2678571492433548,
           0.2321428656578064,
           0.2857142835855484,
           0.15152288318807658,
           0.2321428656578064,
           0.11978935879349027,
           0.2142857015132904,
           0.2321428656578064,
           0.2321428656578064,
           0.3544541754255339,
           0.25,
           0.13946874257727837,
           0.25,
           0.25,
           0.2321428656578064,
           0.2678571492433548,
           0.2678571492433548,
           0.25,
           0.2857142835855484,
           0.25,
           0.2857142686843872,
           0.2857142686843872
          ],
          [
           0.1607142984867096,
           0.1607142984867096,
           0.1607142984867096,
           0,
           0.1428571343421936,
           0.07142859697341919,
           0,
           0.125,
           0.1607142686843872,
           0.0736268944324589,
           0.1785714328289032,
           0.03571432828903198,
           0.07142859697341919,
           0.017857149243354797,
           0.0714285671710968,
           0.25063694522413305,
           0.1249999850988388,
           0.017857134342193604,
           0.07142859697341919,
           0.1607142984867096,
           0.0714285671710968,
           0.1071428507566452,
           0.0892857164144516,
           0.1071428507566452,
           0.1428571343421936,
           0.2142857015132904,
           0.2082482593240887,
           0.2499999701976776,
           0.2142857015132904,
           0.1428571343421936,
           0.2499999701976776,
           0.1607142984867096,
           0.1428571343421936,
           0.1071428656578064,
           0.10714280605316162,
           0.1428571343421936,
           0.1428571343421936,
           0.3035714301992867,
           0.1785714030265808,
           0.1607142984867096,
           0.1785714030265808,
           0.1785714030265808,
           0.1428571343421936,
           0.2142857015132904,
           0.2142857015132904,
           0.1785714030265808,
           0.2499999701976776,
           0.1785714030265808,
           0.375,
           0.375
          ],
          [
           0.03571432828903198,
           0.1785714328289032,
           0.1785714328289032,
           0.1428571343421936,
           0,
           0.14396888070539063,
           0.1428571343421936,
           0.03571426868438721,
           0.03571426868438721,
           0.1086207076751968,
           0.07142859697341919,
           0.14396888070539063,
           0.1428571343421936,
           0.14396888070539063,
           0.1428571343421936,
           0.2428834110191622,
           0.035714298486709595,
           0.14396887885712906,
           0.1071428656578064,
           0.1785714328289032,
           0.1428571343421936,
           0.035714298486709595,
           0.07142859697341919,
           0.035714298486709595,
           0.14396888070539063,
           0.1785714328289032,
           0.19232730584399577,
           0.2142857015132904,
           0.1785714328289032,
           0.1428571343421936,
           0.2142857015132904,
           0.1785714328289032,
           0.1428571343421936,
           0.15257148374205565,
           0.1428571343421936,
           0.1428571343421936,
           0.1428571343421936,
           0.2884909809025987,
           0.1428571343421936,
           0.1785714328289032,
           0.1428571343421936,
           0.14396888070539063,
           0.1428571343421936,
           0.1785714328289032,
           0.1785714328289032,
           0.1428571343421936,
           0.2142857015132904,
           0.1428571343421936,
           0.3214285969734192,
           0.3214285969734192
          ],
          [
           0.1617033194377117,
           0.16170330462769003,
           0.125,
           0.07142859697341919,
           0.14396888070539063,
           0,
           0.07142859697341919,
           0.12626906897217324,
           0.16170328981766838,
           0.07362690888870929,
           0.17946206953467056,
           0.03571426868438721,
           0.025253812108562878,
           0.07142859697341919,
           0.1428571343421936,
           0.27490722633108194,
           0.1262690542207764,
           0.07142859697341919,
           0.07142859697341919,
           0.125,
           0.07142859697341919,
           0.10862075422017743,
           0.09105392322542351,
           0.1428571343421936,
           0.2142857313156128,
           0.2857142984867096,
           0.2395787042589757,
           0.31186159084568776,
           0.2857142984867096,
           0.2142857313156128,
           0.31186159084568776,
           0.125,
           0.2142857313156128,
           0.056469235853588845,
           0.1785714030265808,
           0.2142857313156128,
           0.2142857313156128,
           0.343024528344904,
           0.25,
           0.125,
           0.25,
           0.25,
           0.2142857313156128,
           0.2857142984867096,
           0.2857142984867096,
           0.25,
           0.31186159084568776,
           0.25,
           0.3754249296185583,
           0.3754249296185583
          ],
          [
           0.1607142984867096,
           0.1607142984867096,
           0.1607142984867096,
           0,
           0.1428571343421936,
           0.07142859697341919,
           0,
           0.125,
           0.1607142686843872,
           0.0736268944324589,
           0.1785714328289032,
           0.03571432828903198,
           0.07142859697341919,
           0.017857149243354797,
           0.0714285671710968,
           0.25063694522413305,
           0.1249999850988388,
           0.017857134342193604,
           0.07142859697341919,
           0.1607142984867096,
           0.0714285671710968,
           0.1071428507566452,
           0.0892857164144516,
           0.1071428507566452,
           0.1428571343421936,
           0.2142857015132904,
           0.2082482593240887,
           0.2499999701976776,
           0.2142857015132904,
           0.1428571343421936,
           0.2499999701976776,
           0.1607142984867096,
           0.1428571343421936,
           0.1071428656578064,
           0.10714280605316162,
           0.1428571343421936,
           0.1428571343421936,
           0.3035714301992867,
           0.1785714030265808,
           0.1607142984867096,
           0.1785714030265808,
           0.1785714030265808,
           0.1428571343421936,
           0.2142857015132904,
           0.2142857015132904,
           0.1785714030265808,
           0.2499999701976776,
           0.1785714030265808,
           0.375,
           0.375
          ],
          [
           0.07142859697341919,
           0.1785714328289032,
           0.1785714328289032,
           0.125,
           0.03571426868438721,
           0.12626906897217324,
           0.125,
           0,
           0.03571426868438721,
           0.07362685106370877,
           0.1071428656578064,
           0.12626906897217324,
           0.1071428656578064,
           0.12626906897217324,
           0.1071428656578064,
           0.2428834110191622,
           0.035714298486709595,
           0.12626906686483094,
           0.1071428656578064,
           0.1785714328289032,
           0.1071428656578064,
           0.035714298486709595,
           0.07142859697341919,
           0.035714298486709595,
           0.12626906897217324,
           0.1785714328289032,
           0.19232730584399577,
           0.2142857015132904,
           0.1785714328289032,
           0.125,
           0.2142857015132904,
           0.1785714328289032,
           0.125,
           0.1428571343421936,
           0.125,
           0.125,
           0.125,
           0.2884909809025987,
           0.1428571343421936,
           0.1785714328289032,
           0.1428571343421936,
           0.1428571343421936,
           0.125,
           0.1785714328289032,
           0.1785714328289032,
           0.1428571343421936,
           0.2142857015132904,
           0.1428571343421936,
           0.3571428656578064,
           0.3571428656578064
          ],
          [
           0.03571432828903198,
           0.1785714328289032,
           0.1785714328289032,
           0.1607142686843872,
           0.03571426868438721,
           0.16170328981766838,
           0.1607142686843872,
           0.03571426868438721,
           0,
           0.1086207076751968,
           0.07142859697341919,
           0.16170328981766838,
           0.1428571343421936,
           0.16170328981766838,
           0.1428571343421936,
           0.2428834110191622,
           0.0714285671710968,
           0.16170328817211033,
           0.1071428656578064,
           0.1785714328289032,
           0.1428571343421936,
           0.0714285671710968,
           0.07142859697341919,
           0.0714285671710968,
           0.16170328981766838,
           0.1785714328289032,
           0.19232730584399577,
           0.2142857015132904,
           0.1785714328289032,
           0.1607142686843872,
           0.2142857015132904,
           0.19315451490197724,
           0.1607142686843872,
           0.16940771227292517,
           0.1607142686843872,
           0.1607142686843872,
           0.1607142686843872,
           0.2884909809025987,
           0.1607142686843872,
           0.1838505171422637,
           0.1607142686843872,
           0.16170328981766838,
           0.1607142686843872,
           0.1785714328289032,
           0.1785714328289032,
           0.1607142686843872,
           0.2142857015132904,
           0.1607142686843872,
           0.3214285969734192,
           0.3214285969734192
          ],
          [
           0.14396887885712906,
           0.1607142984867096,
           0.1607142984867096,
           0.0736268944324589,
           0.1086207076751968,
           0.07362690888870929,
           0.0736268944324589,
           0.07362685106370877,
           0.1086207076751968,
           0,
           0.17946203839753047,
           0.07362690888870929,
           0.07362687997620868,
           0.07576145037463243,
           0.07142853736877441,
           0.25063694522413305,
           0.1086207076751968,
           0.07576144686239564,
           0.07142859697341919,
           0.1607142984867096,
           0.03992981958451478,
           0.07362685106370877,
           0.03992976627249089,
           0.07362685106370877,
           0.1428571343421936,
           0.2142857015132904,
           0.2082482593240887,
           0.2499999701976776,
           0.2142857015132904,
           0.1428571343421936,
           0.2499999701976776,
           0.1607142984867096,
           0.1428571343421936,
           0.1071428656578064,
           0.10714280605316162,
           0.1428571343421936,
           0.1428571343421936,
           0.3035714301992867,
           0.1785714030265808,
           0.1607142984867096,
           0.1785714030265808,
           0.1785714030265808,
           0.1428571343421936,
           0.2142857015132904,
           0.2142857015132904,
           0.1785714030265808,
           0.2499999701976776,
           0.1785714030265808,
           0.36421568997933523,
           0.36421568997933523
          ],
          [
           0.03571426868438721,
           0.1607142984867096,
           0.1607142984867096,
           0.1785714328289032,
           0.07142859697341919,
           0.17946206953467056,
           0.1785714328289032,
           0.1071428656578064,
           0.07142859697341919,
           0.17946203839753047,
           0,
           0.17946206953467056,
           0.17946206805194972,
           0.17946206953467056,
           0.19232731691229765,
           0.25063694522413305,
           0.07142859697341919,
           0.17946206805194972,
           0.1785714030265808,
           0.1785714030265808,
           0.19232731691229765,
           0.1071428656578064,
           0.1428571343421936,
           0.1071428656578064,
           0.17946206953467056,
           0.2142857015132904,
           0.2082482593240887,
           0.2499999701976776,
           0.2142857015132904,
           0.1785714328289032,
           0.2499999701976776,
           0.2082482823238363,
           0.1785714328289032,
           0.18643404582145473,
           0.1785714328289032,
           0.1785714328289032,
           0.1785714328289032,
           0.3035714301992867,
           0.1785714328289032,
           0.19964892465848114,
           0.1785714328289032,
           0.17946206953467056,
           0.1785714328289032,
           0.2142857015132904,
           0.2142857015132904,
           0.1785714328289032,
           0.2499999701976776,
           0.1785714328289032,
           0.25,
           0.25
          ],
          [
           0.1617033194377117,
           0.16170330462769003,
           0.1428571343421936,
           0.03571432828903198,
           0.14396888070539063,
           0.03571426868438721,
           0.03571432828903198,
           0.12626906897217324,
           0.16170328981766838,
           0.07362690888870929,
           0.17946206953467056,
           0,
           0.03571426868438721,
           0.03571432828903198,
           0.1071428656578064,
           0.26305215456637004,
           0.1262690542207764,
           0.03571432828903198,
           0.07142859697341919,
           0.1428571343421936,
           0.0714285671710968,
           0.10862075422017743,
           0.09105392322542351,
           0.10862075422017743,
           0.17857146263122559,
           0.2500000298023224,
           0.22587697168731952,
           0.2857142984867096,
           0.2500000298023224,
           0.17857146263122559,
           0.2857142984867096,
           0.1428571343421936,
           0.17857146263122559,
           0.07142853736877441,
           0.1428571343421936,
           0.17857146263122559,
           0.17857146263122559,
           0.321924245230197,
           0.2142857313156128,
           0.1428571343421936,
           0.2142857313156128,
           0.2142857313156128,
           0.17857146263122559,
           0.2500000298023224,
           0.2500000298023224,
           0.2142857313156128,
           0.2857142984867096,
           0.2142857313156128,
           0.3754249296185583,
           0.3754249296185583
          ],
          [
           0.16170331779215397,
           0.16170330298213212,
           0.125,
           0.07142859697341919,
           0.1428571343421936,
           0.025253812108562878,
           0.07142859697341919,
           0.1071428656578064,
           0.1428571343421936,
           0.07362687997620868,
           0.17946206805194972,
           0.03571426868438721,
           0,
           0.07142859697341919,
           0.1428571343421936,
           0.27490722633108194,
           0.12626905211343384,
           0.07142859697341919,
           0.0714285671710968,
           0.125,
           0.07362687997620868,
           0.1071428656578064,
           0.07142859697341919,
           0.1428571343421936,
           0.2142857313156128,
           0.2857142984867096,
           0.2395787042589757,
           0.31186159084568776,
           0.2857142984867096,
           0.2142857313156128,
           0.31186159084568776,
           0.125,
           0.2142857313156128,
           0.056469231141427344,
           0.1785714030265808,
           0.2142857313156128,
           0.2142857313156128,
           0.343024528344904,
           0.25,
           0.125,
           0.25,
           0.25,
           0.2142857313156128,
           0.2857142984867096,
           0.2857142984867096,
           0.25,
           0.31186159084568776,
           0.25,
           0.37542492890978235,
           0.37542492890978235
          ],
          [
           0.1617033194377117,
           0.16170330462769003,
           0.1607142984867096,
           0.017857149243354797,
           0.14396888070539063,
           0.07142859697341919,
           0.017857149243354797,
           0.12626906897217324,
           0.16170328981766838,
           0.07576145037463243,
           0.17946206953467056,
           0.03571432828903198,
           0.07142859697341919,
           0,
           0.07362688359027111,
           0.25063694522413305,
           0.1262690542207764,
           0.025253812108562878,
           0.07362689804652063,
           0.1607142984867096,
           0.07362688359027111,
           0.10862075422017743,
           0.09105392322542351,
           0.10862075422017743,
           0.1428571343421936,
           0.2142857015132904,
           0.2082482593240887,
           0.2499999701976776,
           0.2142857015132904,
           0.1428571343421936,
           0.2499999701976776,
           0.1607142984867096,
           0.1428571343421936,
           0.1071428656578064,
           0.10714280605316162,
           0.1428571343421936,
           0.1428571343421936,
           0.3035714301992867,
           0.1785714030265808,
           0.1607142984867096,
           0.1785714030265808,
           0.1785714030265808,
           0.1428571343421936,
           0.2142857015132904,
           0.2142857015132904,
           0.1785714030265808,
           0.2499999701976776,
           0.1785714030265808,
           0.3754249296185583,
           0.3754249296185583
          ],
          [
           0.17587247068882347,
           0.1964285671710968,
           0.1964285671710968,
           0.0714285671710968,
           0.1428571343421936,
           0.1428571343421936,
           0.0714285671710968,
           0.1071428656578064,
           0.1428571343421936,
           0.07142853736877441,
           0.19232731691229765,
           0.1071428656578064,
           0.1428571343421936,
           0.07362688359027111,
           0,
           0.24024329826374485,
           0.1428571343421936,
           0.0714285671710968,
           0.1428571343421936,
           0.1964285671710968,
           0.07142853736877441,
           0.1071428656578064,
           0.1071428656578064,
           0.1071428656578064,
           0.07362688359027111,
           0.142857164144516,
           0.1821078406061312,
           0.1785714328289032,
           0.142857164144516,
           0.07142859697341919,
           0.1785714328289032,
           0.1964285671710968,
           0.07142859697341919,
           0.1785714030265808,
           0.0714285671710968,
           0.07142859697341919,
           0.07142859697341919,
           0.27257747416694494,
           0.1071428656578064,
           0.1964285671710968,
           0.1071428656578064,
           0.1071428656578064,
           0.07142859697341919,
           0.142857164144516,
           0.142857164144516,
           0.1071428656578064,
           0.1785714328289032,
           0.1071428656578064,
           0.38174211217537407,
           0.38174211217537407
          ],
          [
           0.2428834110191622,
           0.31032406345872177,
           0.31032406345872177,
           0.25063694522413305,
           0.2428834110191622,
           0.27490722633108194,
           0.25063694522413305,
           0.2428834110191622,
           0.2428834110191622,
           0.25063694522413305,
           0.25063694522413305,
           0.26305215456637004,
           0.27490722633108194,
           0.25063694522413305,
           0.24024329826374485,
           0,
           0.25063694522413305,
           0.25063694522413305,
           0.27490722633108194,
           0.31032406345872177,
           0.25063694522413305,
           0.2428834110191622,
           0.26305215456637004,
           0.24024329826374485,
           0.25063696221075177,
           0.27950851813148,
           0.16463473122563108,
           0.2993402729056185,
           0.27950851813148,
           0.25063696221075177,
           0.2993402729056185,
           0.31032406345872177,
           0.25063696221075177,
           0.28627178045491025,
           0.2428834110191622,
           0.25063696221075177,
           0.25063696221075177,
           0.24024331155487996,
           0.26305215456637004,
           0.31032406345872177,
           0.26305215456637004,
           0.26305215456637004,
           0.25063696221075177,
           0.27950851813148,
           0.27950851813148,
           0.26305215456637004,
           0.2993402729056185,
           0.26305215456637004,
           0.3214285969734192,
           0.3214285969734192
          ],
          [
           0.03571432828903198,
           0.1607142984867096,
           0.1607142984867096,
           0.1249999850988388,
           0.035714298486709595,
           0.1262690542207764,
           0.1249999850988388,
           0.035714298486709595,
           0.0714285671710968,
           0.1086207076751968,
           0.07142859697341919,
           0.1262690542207764,
           0.12626905211343384,
           0.1262690542207764,
           0.1428571343421936,
           0.25063694522413305,
           0,
           0.12626905211343384,
           0.10714280605316162,
           0.1607142984867096,
           0.1428571343421936,
           0.03571426868438721,
           0.07142853736877441,
           0.07142853736877441,
           0.1428571343421936,
           0.2142857015132904,
           0.2082482593240887,
           0.2499999701976776,
           0.2142857015132904,
           0.1428571343421936,
           0.2499999701976776,
           0.1646347069817621,
           0.1428571343421936,
           0.13599593042991662,
           0.1249999850988388,
           0.1428571343421936,
           0.1428571343421936,
           0.3035714301992867,
           0.1785714030265808,
           0.1607142984867096,
           0.1785714030265808,
           0.1785714030265808,
           0.1428571343421936,
           0.2142857015132904,
           0.2142857015132904,
           0.1785714030265808,
           0.2499999701976776,
           0.1785714030265808,
           0.3214285969734192,
           0.3214285969734192
          ],
          [
           0.16170331779215397,
           0.16170330298213212,
           0.1607142984867096,
           0.017857134342193604,
           0.14396887885712906,
           0.07142859697341919,
           0.017857134342193604,
           0.12626906686483094,
           0.16170328817211033,
           0.07576144686239564,
           0.17946206805194972,
           0.03571432828903198,
           0.07142859697341919,
           0.025253812108562878,
           0.0714285671710968,
           0.25063694522413305,
           0.12626905211343384,
           0,
           0.0736268944324589,
           0.1607142984867096,
           0.0714285671710968,
           0.10862075177044163,
           0.0910539203030656,
           0.10862075177044163,
           0.1428571343421936,
           0.2142857015132904,
           0.2082482593240887,
           0.2499999701976776,
           0.2142857015132904,
           0.1428571343421936,
           0.2499999701976776,
           0.1607142984867096,
           0.1428571343421936,
           0.1071428656578064,
           0.10714280605316162,
           0.1428571343421936,
           0.1428571343421936,
           0.3035714301992867,
           0.1785714030265808,
           0.1607142984867096,
           0.1785714030265808,
           0.1785714030265808,
           0.1428571343421936,
           0.2142857015132904,
           0.2142857015132904,
           0.1785714030265808,
           0.2499999701976776,
           0.1785714030265808,
           0.37542492890978235,
           0.37542492890978235
          ],
          [
           0.1428571343421936,
           0.17587246312390512,
           0.1287697013983493,
           0.07142859697341919,
           0.1071428656578064,
           0.07142859697341919,
           0.07142859697341919,
           0.1071428656578064,
           0.1071428656578064,
           0.07142859697341919,
           0.1785714030265808,
           0.07142859697341919,
           0.0714285671710968,
           0.07362689804652063,
           0.1428571343421936,
           0.27490722633108194,
           0.10714280605316162,
           0.0736268944324589,
           0,
           0.125,
           0.07142859697341919,
           0.1071428656578064,
           0.03571426868438721,
           0.1428571343421936,
           0.2142857313156128,
           0.2857142984867096,
           0.2395787042589757,
           0.31186159084568776,
           0.2857142984867096,
           0.2142857313156128,
           0.31186159084568776,
           0.1287696889998343,
           0.2142857313156128,
           0.08928571641445285,
           0.1785714030265808,
           0.2142857313156128,
           0.2142857313156128,
           0.343024528344904,
           0.25,
           0.125,
           0.25,
           0.25,
           0.2142857313156128,
           0.2857142984867096,
           0.2857142984867096,
           0.25,
           0.31186159084568776,
           0.25,
           0.38174211496356186,
           0.38174211496356186
          ],
          [
           0.1785714328289032,
           0.17587246312390512,
           0.1287697013983493,
           0.1607142984867096,
           0.1785714328289032,
           0.125,
           0.1607142984867096,
           0.1785714328289032,
           0.1785714328289032,
           0.1607142984867096,
           0.1785714030265808,
           0.1428571343421936,
           0.125,
           0.1607142984867096,
           0.1964285671710968,
           0.31032406345872177,
           0.1607142984867096,
           0.1607142984867096,
           0.125,
           0,
           0.1607142984867096,
           0.1785714328289032,
           0.1428571343421936,
           0.1964285671710968,
           0.2321428656578064,
           0.2678571492433548,
           0.2789374813387589,
           0.2857142835855484,
           0.2678571492433548,
           0.2321428656578064,
           0.2857142835855484,
           0.1287696889998343,
           0.2321428656578064,
           0.1071428656578064,
           0.2142857015132904,
           0.2321428656578064,
           0.2321428656578064,
           0.3544541754255339,
           0.25,
           0.11434150091534431,
           0.25,
           0.25,
           0.2321428656578064,
           0.2678571492433548,
           0.2678571492433548,
           0.25,
           0.2857142835855484,
           0.25,
           0.38174211496356186,
           0.38174211496356186
          ],
          [
           0.17587247068882347,
           0.17587245707197008,
           0.1607142984867096,
           0.0714285671710968,
           0.1428571343421936,
           0.07142859697341919,
           0.0714285671710968,
           0.1071428656578064,
           0.1428571343421936,
           0.03992981958451478,
           0.19232731691229765,
           0.0714285671710968,
           0.07362687997620868,
           0.07362688359027111,
           0.07142853736877441,
           0.25063694522413305,
           0.1428571343421936,
           0.0714285671710968,
           0.07142859697341919,
           0.1607142984867096,
           0,
           0.1071428656578064,
           0.07142859697341919,
           0.1071428656578064,
           0.1428571343421936,
           0.2142857015132904,
           0.2082482593240887,
           0.2499999701976776,
           0.2142857015132904,
           0.1428571343421936,
           0.2499999701976776,
           0.1607142984867096,
           0.1428571343421936,
           0.1071428656578064,
           0.10714280605316162,
           0.1428571343421936,
           0.1428571343421936,
           0.3035714301992867,
           0.1785714030265808,
           0.1607142984867096,
           0.1785714030265808,
           0.1785714030265808,
           0.1428571343421936,
           0.2142857015132904,
           0.2142857015132904,
           0.1785714030265808,
           0.2499999701976776,
           0.1785714030265808,
           0.38174211217537407,
           0.38174211217537407
          ],
          [
           0.07142859697341919,
           0.1785714328289032,
           0.1785714328289032,
           0.1071428507566452,
           0.035714298486709595,
           0.10862075422017743,
           0.1071428507566452,
           0.035714298486709595,
           0.0714285671710968,
           0.07362685106370877,
           0.1071428656578064,
           0.10862075422017743,
           0.1071428656578064,
           0.10862075422017743,
           0.1071428656578064,
           0.2428834110191622,
           0.03571426868438721,
           0.10862075177044163,
           0.1071428656578064,
           0.1785714328289032,
           0.1071428656578064,
           0,
           0.07142859697341919,
           0.03571426868438721,
           0.10862075422017743,
           0.1785714328289032,
           0.19232730584399577,
           0.2142857015132904,
           0.1785714328289032,
           0.1071428656578064,
           0.2142857015132904,
           0.1785714328289032,
           0.1071428656578064,
           0.1428571343421936,
           0.1071428507566452,
           0.1071428656578064,
           0.1071428656578064,
           0.2884909809025987,
           0.1428571343421936,
           0.1785714328289032,
           0.1428571343421936,
           0.1428571343421936,
           0.1071428656578064,
           0.1785714328289032,
           0.1785714328289032,
           0.1428571343421936,
           0.2142857015132904,
           0.1428571343421936,
           0.3571428656578064,
           0.3571428656578064
          ],
          [
           0.1071428656578064,
           0.1785714030265808,
           0.1428571343421936,
           0.0892857164144516,
           0.07142859697341919,
           0.09105392322542351,
           0.0892857164144516,
           0.07142859697341919,
           0.07142859697341919,
           0.03992976627249089,
           0.1428571343421936,
           0.09105392322542351,
           0.07142859697341919,
           0.09105392322542351,
           0.1071428656578064,
           0.26305215456637004,
           0.07142853736877441,
           0.0910539203030656,
           0.03571426868438721,
           0.1428571343421936,
           0.07142859697341919,
           0.07142859697341919,
           0,
           0.1071428656578064,
           0.17857146263122559,
           0.2500000298023224,
           0.22587697168731952,
           0.2857142984867096,
           0.2500000298023224,
           0.17857146263122559,
           0.2857142984867096,
           0.1428571343421936,
           0.17857146263122559,
           0.10412413732862649,
           0.1428571343421936,
           0.17857146263122559,
           0.17857146263122559,
           0.321924245230197,
           0.2142857313156128,
           0.1428571343421936,
           0.2142857313156128,
           0.2142857313156128,
           0.17857146263122559,
           0.2500000298023224,
           0.2500000298023224,
           0.2142857313156128,
           0.2857142984867096,
           0.2142857313156128,
           0.38548273522382537,
           0.38548273522382537
          ],
          [
           0.07142859697341919,
           0.1964285671710968,
           0.1964285671710968,
           0.1071428507566452,
           0.035714298486709595,
           0.1428571343421936,
           0.1071428507566452,
           0.035714298486709595,
           0.0714285671710968,
           0.07362685106370877,
           0.1071428656578064,
           0.10862075422017743,
           0.1428571343421936,
           0.10862075422017743,
           0.1071428656578064,
           0.24024329826374485,
           0.07142853736877441,
           0.10862075177044163,
           0.1428571343421936,
           0.1964285671710968,
           0.1071428656578064,
           0.03571426868438721,
           0.1071428656578064,
           0,
           0.10862075422017743,
           0.142857164144516,
           0.1821078406061312,
           0.1785714328289032,
           0.142857164144516,
           0.1071428507566452,
           0.1785714328289032,
           0.1964285671710968,
           0.1071428507566452,
           0.1785714030265808,
           0.1071428507566452,
           0.1071428507566452,
           0.1071428507566452,
           0.27257747416694494,
           0.1071428656578064,
           0.1964285671710968,
           0.1071428656578064,
           0.10862075422017743,
           0.1071428507566452,
           0.142857164144516,
           0.142857164144516,
           0.1071428656578064,
           0.1785714328289032,
           0.1071428656578064,
           0.3571428656578064,
           0.3571428656578064
          ],
          [
           0.1617033194377117,
           0.2321428656578064,
           0.2321428656578064,
           0.1428571343421936,
           0.14396888070539063,
           0.2142857313156128,
           0.1428571343421936,
           0.12626906897217324,
           0.16170328981766838,
           0.1428571343421936,
           0.17946206953467056,
           0.17857146263122559,
           0.2142857313156128,
           0.1428571343421936,
           0.07362688359027111,
           0.25063696221075177,
           0.1428571343421936,
           0.1428571343421936,
           0.2142857313156128,
           0.2321428656578064,
           0.1428571343421936,
           0.10862075422017743,
           0.17857146263122559,
           0.10862075422017743,
           0,
           0.0714285671710968,
           0.18210785229556753,
           0.10714283585548401,
           0.0714285671710968,
           0.017857149243354797,
           0.10714283585548401,
           0.2321428656578064,
           0.017857149243354797,
           0.25,
           0.03571432828903198,
           0.017857149243354797,
           0.017857149243354797,
           0.24288340882805115,
           0.03571426868438721,
           0.2321428656578064,
           0.03571426868438721,
           0.03571426868438721,
           0.017857149243354797,
           0.0714285671710968,
           0.0714285671710968,
           0.03571426868438721,
           0.10714283585548401,
           0.03571426868438721,
           0.3754249296185583,
           0.3754249296185583
          ],
          [
           0.1785714328289032,
           0.2678571492433548,
           0.2678571492433548,
           0.2142857015132904,
           0.1785714328289032,
           0.2857142984867096,
           0.2142857015132904,
           0.1785714328289032,
           0.1785714328289032,
           0.2142857015132904,
           0.2142857015132904,
           0.2500000298023224,
           0.2857142984867096,
           0.2142857015132904,
           0.142857164144516,
           0.27950851813148,
           0.2142857015132904,
           0.2142857015132904,
           0.2857142984867096,
           0.2678571492433548,
           0.2142857015132904,
           0.1785714328289032,
           0.2500000298023224,
           0.142857164144516,
           0.0714285671710968,
           0,
           0.20824830532359098,
           0.03571426868438721,
           0,
           0.0714285671710968,
           0.035714298486709595,
           0.2678571492433548,
           0.0714285671710968,
           0.2884909809025987,
           0.10714289546012878,
           0.0714285671710968,
           0.0714285671710968,
           0.2321428656578064,
           0.035714298486709595,
           0.2678571492433548,
           0.035714298486709595,
           0.035714298486709595,
           0.0714285671710968,
           0.0535714328289032,
           0.017857149243354797,
           0.035714298486709595,
           0.03571426868438721,
           0.035714298486709595,
           0.375,
           0.375
          ],
          [
           0.19232730584399577,
           0.2789374813387589,
           0.2789374813387589,
           0.2082482593240887,
           0.19232730584399577,
           0.2395787042589757,
           0.2082482593240887,
           0.19232730584399577,
           0.19232730584399577,
           0.2082482593240887,
           0.2082482593240887,
           0.22587697168731952,
           0.2395787042589757,
           0.2082482593240887,
           0.1821078406061312,
           0.16463473122563108,
           0.2082482593240887,
           0.2082482593240887,
           0.2395787042589757,
           0.2789374813387589,
           0.2082482593240887,
           0.19232730584399577,
           0.22587697168731952,
           0.1821078406061312,
           0.18210785229556753,
           0.20824830532359098,
           0,
           0.22868302510239075,
           0.20824830532359098,
           0.18210785229556753,
           0.22868302510239075,
           0.2789374813387589,
           0.18210785229556753,
           0.2575393614683133,
           0.1785714328289032,
           0.18210785229556753,
           0.18210785229556753,
           0.15152291479821406,
           0.1923273279806035,
           0.2789374813387589,
           0.1923273279806035,
           0.1923273279806035,
           0.18210785229556753,
           0.20824830532359098,
           0.20824830532359098,
           0.1923273279806035,
           0.22868302510239075,
           0.1923273279806035,
           0.375,
           0.375
          ],
          [
           0.2142857015132904,
           0.2857142835855484,
           0.2857142835855484,
           0.2499999701976776,
           0.2142857015132904,
           0.31186159084568776,
           0.2499999701976776,
           0.2142857015132904,
           0.2142857015132904,
           0.2499999701976776,
           0.2499999701976776,
           0.2857142984867096,
           0.31186159084568776,
           0.2499999701976776,
           0.1785714328289032,
           0.2993402729056185,
           0.2499999701976776,
           0.2499999701976776,
           0.31186159084568776,
           0.2857142835855484,
           0.2499999701976776,
           0.2142857015132904,
           0.2857142984867096,
           0.1785714328289032,
           0.10714283585548401,
           0.03571426868438721,
           0.22868302510239075,
           0,
           0.03571426868438721,
           0.10714283585548401,
           0.035714298486709595,
           0.2857142835855484,
           0.10714283585548401,
           0.3051429919007971,
           0.142857164144516,
           0.10714283585548401,
           0.10714283585548401,
           0.2348740493615226,
           0.0714285671710968,
           0.2857142835855484,
           0.0714285671710968,
           0.0714285671710968,
           0.10714283585548401,
           0.0535714328289032,
           0.03571426868438721,
           0.0714285671710968,
           0,
           0.0714285671710968,
           0.375,
           0.375
          ],
          [
           0.1785714328289032,
           0.2678571492433548,
           0.2678571492433548,
           0.2142857015132904,
           0.1785714328289032,
           0.2857142984867096,
           0.2142857015132904,
           0.1785714328289032,
           0.1785714328289032,
           0.2142857015132904,
           0.2142857015132904,
           0.2500000298023224,
           0.2857142984867096,
           0.2142857015132904,
           0.142857164144516,
           0.27950851813148,
           0.2142857015132904,
           0.2142857015132904,
           0.2857142984867096,
           0.2678571492433548,
           0.2142857015132904,
           0.1785714328289032,
           0.2500000298023224,
           0.142857164144516,
           0.0714285671710968,
           0,
           0.20824830532359098,
           0.03571426868438721,
           0,
           0.0714285671710968,
           0.035714298486709595,
           0.2678571492433548,
           0.0714285671710968,
           0.2884909809025987,
           0.10714289546012878,
           0.0714285671710968,
           0.0714285671710968,
           0.2321428656578064,
           0.035714298486709595,
           0.2678571492433548,
           0.035714298486709595,
           0.035714298486709595,
           0.0714285671710968,
           0.0535714328289032,
           0.017857149243354797,
           0.035714298486709595,
           0.03571426868438721,
           0.035714298486709595,
           0.375,
           0.375
          ],
          [
           0.1607142984867096,
           0.2321428656578064,
           0.2321428656578064,
           0.1428571343421936,
           0.1428571343421936,
           0.2142857313156128,
           0.1428571343421936,
           0.125,
           0.1607142686843872,
           0.1428571343421936,
           0.1785714328289032,
           0.17857146263122559,
           0.2142857313156128,
           0.1428571343421936,
           0.07142859697341919,
           0.25063696221075177,
           0.1428571343421936,
           0.1428571343421936,
           0.2142857313156128,
           0.2321428656578064,
           0.1428571343421936,
           0.1071428656578064,
           0.17857146263122559,
           0.1071428507566452,
           0.017857149243354797,
           0.0714285671710968,
           0.18210785229556753,
           0.10714283585548401,
           0.0714285671710968,
           0,
           0.10714283585548401,
           0.2321428656578064,
           0,
           0.25,
           0.03571432828903198,
           0,
           0,
           0.24288340882805115,
           0.03571426868438721,
           0.2321428656578064,
           0.03571426868438721,
           0.03571426868438721,
           0,
           0.0714285671710968,
           0.0714285671710968,
           0.03571426868438721,
           0.10714283585548401,
           0.03571426868438721,
           0.375,
           0.375
          ],
          [
           0.2142857015132904,
           0.2857142835855484,
           0.2857142835855484,
           0.2499999701976776,
           0.2142857015132904,
           0.31186159084568776,
           0.2499999701976776,
           0.2142857015132904,
           0.2142857015132904,
           0.2499999701976776,
           0.2499999701976776,
           0.2857142984867096,
           0.31186159084568776,
           0.2499999701976776,
           0.1785714328289032,
           0.2993402729056185,
           0.2499999701976776,
           0.2499999701976776,
           0.31186159084568776,
           0.2857142835855484,
           0.2499999701976776,
           0.2142857015132904,
           0.2857142984867096,
           0.1785714328289032,
           0.10714283585548401,
           0.035714298486709595,
           0.22868302510239075,
           0.035714298486709595,
           0.035714298486709595,
           0.10714283585548401,
           0,
           0.2857142835855484,
           0.10714283585548401,
           0.3051429919007971,
           0.142857164144516,
           0.10714283585548401,
           0.10714283585548401,
           0.2348740493615226,
           0.0714285671710968,
           0.2857142835855484,
           0.0714285671710968,
           0.0714285671710968,
           0.10714283585548401,
           0.06438485483201367,
           0.03992979959250026,
           0.0714285671710968,
           0.035714298486709595,
           0.0714285671710968,
           0.37669684245610263,
           0.37669684245610263
          ],
          [
           0.19315453969900873,
           0.1931545273004928,
           0.15152288318807658,
           0.1607142984867096,
           0.1785714328289032,
           0.125,
           0.1607142984867096,
           0.1785714328289032,
           0.19315451490197724,
           0.1607142984867096,
           0.2082482823238363,
           0.1428571343421936,
           0.125,
           0.1607142984867096,
           0.1964285671710968,
           0.31032406345872177,
           0.1646347069817621,
           0.1607142984867096,
           0.1287696889998343,
           0.1287696889998343,
           0.1607142984867096,
           0.1785714328289032,
           0.1428571343421936,
           0.1964285671710968,
           0.2321428656578064,
           0.2678571492433548,
           0.2789374813387589,
           0.2857142835855484,
           0.2678571492433548,
           0.2321428656578064,
           0.2857142835855484,
           0,
           0.2321428656578064,
           0.1071428656578064,
           0.2142857015132904,
           0.2321428656578064,
           0.2321428656578064,
           0.3544541754255339,
           0.25,
           0.035714298486709595,
           0.25,
           0.25,
           0.2321428656578064,
           0.2678571492433548,
           0.2678571492433548,
           0.25,
           0.2857142835855484,
           0.25,
           0.39000588517131474,
           0.39000588517131474
          ],
          [
           0.1607142984867096,
           0.2321428656578064,
           0.2321428656578064,
           0.1428571343421936,
           0.1428571343421936,
           0.2142857313156128,
           0.1428571343421936,
           0.125,
           0.1607142686843872,
           0.1428571343421936,
           0.1785714328289032,
           0.17857146263122559,
           0.2142857313156128,
           0.1428571343421936,
           0.07142859697341919,
           0.25063696221075177,
           0.1428571343421936,
           0.1428571343421936,
           0.2142857313156128,
           0.2321428656578064,
           0.1428571343421936,
           0.1071428656578064,
           0.17857146263122559,
           0.1071428507566452,
           0.017857149243354797,
           0.0714285671710968,
           0.18210785229556753,
           0.10714283585548401,
           0.0714285671710968,
           0,
           0.10714283585548401,
           0.2321428656578064,
           0,
           0.25,
           0.03571432828903198,
           0,
           0,
           0.24288340882805115,
           0.03571426868438721,
           0.2321428656578064,
           0.03571426868438721,
           0.03571426868438721,
           0,
           0.0714285671710968,
           0.0714285671710968,
           0.03571426868438721,
           0.10714283585548401,
           0.03571426868438721,
           0.375,
           0.375
          ],
          [
           0.1694077405458912,
           0.1694077264094081,
           0.11978935879349027,
           0.1071428656578064,
           0.15257148374205565,
           0.056469235853588845,
           0.1071428656578064,
           0.1428571343421936,
           0.16940771227292517,
           0.1071428656578064,
           0.18643404582145473,
           0.07142853736877441,
           0.056469231141427344,
           0.1071428656578064,
           0.1785714030265808,
           0.28627178045491025,
           0.13599593042991662,
           0.1071428656578064,
           0.08928571641445285,
           0.1071428656578064,
           0.1071428656578064,
           0.1428571343421936,
           0.10412413732862649,
           0.1785714030265808,
           0.25,
           0.2884909809025987,
           0.2575393614683133,
           0.3051429919007971,
           0.2884909809025987,
           0.25,
           0.3051429919007971,
           0.1071428656578064,
           0.25,
           0,
           0.21428567171096802,
           0.25,
           0.25,
           0.3663979426808737,
           0.2719918999921997,
           0.1071428656578064,
           0.2719918999921997,
           0.2719918999921997,
           0.25,
           0.2884909809025987,
           0.2884909809025987,
           0.2719918999921997,
           0.3051429919007971,
           0.2719918999921997,
           0.3788072027018346,
           0.3788072027018346
          ],
          [
           0.1607142984867096,
           0.2142857015132904,
           0.2142857015132904,
           0.10714280605316162,
           0.1428571343421936,
           0.1785714030265808,
           0.10714280605316162,
           0.125,
           0.1607142686843872,
           0.10714280605316162,
           0.1785714328289032,
           0.1428571343421936,
           0.1785714030265808,
           0.10714280605316162,
           0.0714285671710968,
           0.2428834110191622,
           0.1249999850988388,
           0.10714280605316162,
           0.1785714030265808,
           0.2142857015132904,
           0.10714280605316162,
           0.1071428507566452,
           0.1428571343421936,
           0.1071428507566452,
           0.03571432828903198,
           0.10714289546012878,
           0.1785714328289032,
           0.142857164144516,
           0.10714289546012878,
           0.03571432828903198,
           0.142857164144516,
           0.2142857015132904,
           0.03571432828903198,
           0.21428567171096802,
           0,
           0.03571432828903198,
           0.03571432828903198,
           0.2556753999183309,
           0.07142859697341919,
           0.2142857015132904,
           0.07142859697341919,
           0.07142859697341919,
           0.03571432828903198,
           0.10714289546012878,
           0.10714289546012878,
           0.07142859697341919,
           0.142857164144516,
           0.07142859697341919,
           0.375,
           0.375
          ],
          [
           0.1607142984867096,
           0.2321428656578064,
           0.2321428656578064,
           0.1428571343421936,
           0.1428571343421936,
           0.2142857313156128,
           0.1428571343421936,
           0.125,
           0.1607142686843872,
           0.1428571343421936,
           0.1785714328289032,
           0.17857146263122559,
           0.2142857313156128,
           0.1428571343421936,
           0.07142859697341919,
           0.25063696221075177,
           0.1428571343421936,
           0.1428571343421936,
           0.2142857313156128,
           0.2321428656578064,
           0.1428571343421936,
           0.1071428656578064,
           0.17857146263122559,
           0.1071428507566452,
           0.017857149243354797,
           0.0714285671710968,
           0.18210785229556753,
           0.10714283585548401,
           0.0714285671710968,
           0,
           0.10714283585548401,
           0.2321428656578064,
           0,
           0.25,
           0.03571432828903198,
           0,
           0,
           0.24288340882805115,
           0.03571426868438721,
           0.2321428656578064,
           0.03571426868438721,
           0.03571426868438721,
           0,
           0.0714285671710968,
           0.0714285671710968,
           0.03571426868438721,
           0.10714283585548401,
           0.03571426868438721,
           0.375,
           0.375
          ],
          [
           0.1607142984867096,
           0.2321428656578064,
           0.2321428656578064,
           0.1428571343421936,
           0.1428571343421936,
           0.2142857313156128,
           0.1428571343421936,
           0.125,
           0.1607142686843872,
           0.1428571343421936,
           0.1785714328289032,
           0.17857146263122559,
           0.2142857313156128,
           0.1428571343421936,
           0.07142859697341919,
           0.25063696221075177,
           0.1428571343421936,
           0.1428571343421936,
           0.2142857313156128,
           0.2321428656578064,
           0.1428571343421936,
           0.1071428656578064,
           0.17857146263122559,
           0.1071428507566452,
           0.017857149243354797,
           0.0714285671710968,
           0.18210785229556753,
           0.10714283585548401,
           0.0714285671710968,
           0,
           0.10714283585548401,
           0.2321428656578064,
           0,
           0.25,
           0.03571432828903198,
           0,
           0,
           0.24288340882805115,
           0.03571426868438721,
           0.2321428656578064,
           0.03571426868438721,
           0.03571426868438721,
           0,
           0.0714285671710968,
           0.0714285671710968,
           0.03571426868438721,
           0.10714283585548401,
           0.03571426868438721,
           0.375,
           0.375
          ],
          [
           0.2884909809025987,
           0.3544541754255339,
           0.3544541754255339,
           0.3035714301992867,
           0.2884909809025987,
           0.343024528344904,
           0.3035714301992867,
           0.2884909809025987,
           0.2884909809025987,
           0.3035714301992867,
           0.3035714301992867,
           0.321924245230197,
           0.343024528344904,
           0.3035714301992867,
           0.27257747416694494,
           0.24024331155487996,
           0.3035714301992867,
           0.3035714301992867,
           0.343024528344904,
           0.3544541754255339,
           0.3035714301992867,
           0.2884909809025987,
           0.321924245230197,
           0.27257747416694494,
           0.24288340882805115,
           0.2321428656578064,
           0.15152291479821406,
           0.2348740493615226,
           0.2321428656578064,
           0.24288340882805115,
           0.2348740493615226,
           0.3544541754255339,
           0.24288340882805115,
           0.3663979426808737,
           0.2556753999183309,
           0.24288340882805115,
           0.24288340882805115,
           0,
           0.2348740538931794,
           0.3544541754255339,
           0.2348740538931794,
           0.2348740538931794,
           0.24288340882805115,
           0.2321428656578064,
           0.2321428656578064,
           0.2348740538931794,
           0.2348740493615226,
           0.2348740538931794,
           0.375,
           0.375
          ],
          [
           0.1607142984867096,
           0.25,
           0.25,
           0.1785714030265808,
           0.1428571343421936,
           0.25,
           0.1785714030265808,
           0.1428571343421936,
           0.1607142686843872,
           0.1785714030265808,
           0.1785714328289032,
           0.2142857313156128,
           0.25,
           0.1785714030265808,
           0.1071428656578064,
           0.26305215456637004,
           0.1785714030265808,
           0.1785714030265808,
           0.25,
           0.25,
           0.1785714030265808,
           0.1428571343421936,
           0.2142857313156128,
           0.1071428656578064,
           0.03571426868438721,
           0.035714298486709595,
           0.1923273279806035,
           0.0714285671710968,
           0.035714298486709595,
           0.03571426868438721,
           0.0714285671710968,
           0.25,
           0.03571426868438721,
           0.2719918999921997,
           0.07142859697341919,
           0.03571426868438721,
           0.03571426868438721,
           0.2348740538931794,
           0,
           0.25,
           0,
           0.017857149243354797,
           0.03571426868438721,
           0.0535714328289032,
           0.035714298486709595,
           0,
           0.0714285671710968,
           0,
           0.375,
           0.375
          ],
          [
           0.18385054319418143,
           0.18385053016822242,
           0.13946874257727837,
           0.1607142984867096,
           0.1785714328289032,
           0.125,
           0.1607142984867096,
           0.1785714328289032,
           0.1838505171422637,
           0.1607142984867096,
           0.19964892465848114,
           0.1428571343421936,
           0.125,
           0.1607142984867096,
           0.1964285671710968,
           0.31032406345872177,
           0.1607142984867096,
           0.1607142984867096,
           0.125,
           0.11434150091534431,
           0.1607142984867096,
           0.1785714328289032,
           0.1428571343421936,
           0.1964285671710968,
           0.2321428656578064,
           0.2678571492433548,
           0.2789374813387589,
           0.2857142835855484,
           0.2678571492433548,
           0.2321428656578064,
           0.2857142835855484,
           0.035714298486709595,
           0.2321428656578064,
           0.1071428656578064,
           0.2142857015132904,
           0.2321428656578064,
           0.2321428656578064,
           0.3544541754255339,
           0.25,
           0,
           0.25,
           0.25,
           0.2321428656578064,
           0.2678571492433548,
           0.2678571492433548,
           0.25,
           0.2857142835855484,
           0.25,
           0.38548273177241077,
           0.38548273177241077
          ],
          [
           0.1607142984867096,
           0.25,
           0.25,
           0.1785714030265808,
           0.1428571343421936,
           0.25,
           0.1785714030265808,
           0.1428571343421936,
           0.1607142686843872,
           0.1785714030265808,
           0.1785714328289032,
           0.2142857313156128,
           0.25,
           0.1785714030265808,
           0.1071428656578064,
           0.26305215456637004,
           0.1785714030265808,
           0.1785714030265808,
           0.25,
           0.25,
           0.1785714030265808,
           0.1428571343421936,
           0.2142857313156128,
           0.1071428656578064,
           0.03571426868438721,
           0.035714298486709595,
           0.1923273279806035,
           0.0714285671710968,
           0.035714298486709595,
           0.03571426868438721,
           0.0714285671710968,
           0.25,
           0.03571426868438721,
           0.2719918999921997,
           0.07142859697341919,
           0.03571426868438721,
           0.03571426868438721,
           0.2348740538931794,
           0,
           0.25,
           0,
           0.017857149243354797,
           0.03571426868438721,
           0.0535714328289032,
           0.035714298486709595,
           0,
           0.0714285671710968,
           0,
           0.375,
           0.375
          ],
          [
           0.1617033194377117,
           0.25,
           0.25,
           0.1785714030265808,
           0.14396888070539063,
           0.25,
           0.1785714030265808,
           0.1428571343421936,
           0.16170328981766838,
           0.1785714030265808,
           0.17946206953467056,
           0.2142857313156128,
           0.25,
           0.1785714030265808,
           0.1071428656578064,
           0.26305215456637004,
           0.1785714030265808,
           0.1785714030265808,
           0.25,
           0.25,
           0.1785714030265808,
           0.1428571343421936,
           0.2142857313156128,
           0.10862075422017743,
           0.03571426868438721,
           0.035714298486709595,
           0.1923273279806035,
           0.0714285671710968,
           0.035714298486709595,
           0.03571426868438721,
           0.0714285671710968,
           0.25,
           0.03571426868438721,
           0.2719918999921997,
           0.07142859697341919,
           0.03571426868438721,
           0.03571426868438721,
           0.2348740538931794,
           0.017857149243354797,
           0.25,
           0.017857149243354797,
           0,
           0.03571426868438721,
           0.056469249990071003,
           0.035714298486709595,
           0.017857149243354797,
           0.0714285671710968,
           0.017857149243354797,
           0.3754249296185583,
           0.3754249296185583
          ],
          [
           0.1607142984867096,
           0.2321428656578064,
           0.2321428656578064,
           0.1428571343421936,
           0.1428571343421936,
           0.2142857313156128,
           0.1428571343421936,
           0.125,
           0.1607142686843872,
           0.1428571343421936,
           0.1785714328289032,
           0.17857146263122559,
           0.2142857313156128,
           0.1428571343421936,
           0.07142859697341919,
           0.25063696221075177,
           0.1428571343421936,
           0.1428571343421936,
           0.2142857313156128,
           0.2321428656578064,
           0.1428571343421936,
           0.1071428656578064,
           0.17857146263122559,
           0.1071428507566452,
           0.017857149243354797,
           0.0714285671710968,
           0.18210785229556753,
           0.10714283585548401,
           0.0714285671710968,
           0,
           0.10714283585548401,
           0.2321428656578064,
           0,
           0.25,
           0.03571432828903198,
           0,
           0,
           0.24288340882805115,
           0.03571426868438721,
           0.2321428656578064,
           0.03571426868438721,
           0.03571426868438721,
           0,
           0.0714285671710968,
           0.0714285671710968,
           0.03571426868438721,
           0.10714283585548401,
           0.03571426868438721,
           0.375,
           0.375
          ],
          [
           0.1785714328289032,
           0.2678571492433548,
           0.2678571492433548,
           0.2142857015132904,
           0.1785714328289032,
           0.2857142984867096,
           0.2142857015132904,
           0.1785714328289032,
           0.1785714328289032,
           0.2142857015132904,
           0.2142857015132904,
           0.2500000298023224,
           0.2857142984867096,
           0.2142857015132904,
           0.142857164144516,
           0.27950851813148,
           0.2142857015132904,
           0.2142857015132904,
           0.2857142984867096,
           0.2678571492433548,
           0.2142857015132904,
           0.1785714328289032,
           0.2500000298023224,
           0.142857164144516,
           0.0714285671710968,
           0.0535714328289032,
           0.20824830532359098,
           0.0535714328289032,
           0.0535714328289032,
           0.0714285671710968,
           0.06438485483201367,
           0.2678571492433548,
           0.0714285671710968,
           0.2884909809025987,
           0.10714289546012878,
           0.0714285671710968,
           0.0714285671710968,
           0.2321428656578064,
           0.0535714328289032,
           0.2678571492433548,
           0.0535714328289032,
           0.056469249990071003,
           0.0714285671710968,
           0,
           0.056469249990071003,
           0.0535714328289032,
           0.0535714328289032,
           0.0535714328289032,
           0.3788072048091769,
           0.3788072048091769
          ],
          [
           0.1785714328289032,
           0.2678571492433548,
           0.2678571492433548,
           0.2142857015132904,
           0.1785714328289032,
           0.2857142984867096,
           0.2142857015132904,
           0.1785714328289032,
           0.1785714328289032,
           0.2142857015132904,
           0.2142857015132904,
           0.2500000298023224,
           0.2857142984867096,
           0.2142857015132904,
           0.142857164144516,
           0.27950851813148,
           0.2142857015132904,
           0.2142857015132904,
           0.2857142984867096,
           0.2678571492433548,
           0.2142857015132904,
           0.1785714328289032,
           0.2500000298023224,
           0.142857164144516,
           0.0714285671710968,
           0.017857149243354797,
           0.20824830532359098,
           0.03571426868438721,
           0.017857149243354797,
           0.0714285671710968,
           0.03992979959250026,
           0.2678571492433548,
           0.0714285671710968,
           0.2884909809025987,
           0.10714289546012878,
           0.0714285671710968,
           0.0714285671710968,
           0.2321428656578064,
           0.035714298486709595,
           0.2678571492433548,
           0.035714298486709595,
           0.035714298486709595,
           0.0714285671710968,
           0.056469249990071003,
           0,
           0.035714298486709595,
           0.03571426868438721,
           0.035714298486709595,
           0.3754249296185583,
           0.3754249296185583
          ],
          [
           0.1607142984867096,
           0.25,
           0.25,
           0.1785714030265808,
           0.1428571343421936,
           0.25,
           0.1785714030265808,
           0.1428571343421936,
           0.1607142686843872,
           0.1785714030265808,
           0.1785714328289032,
           0.2142857313156128,
           0.25,
           0.1785714030265808,
           0.1071428656578064,
           0.26305215456637004,
           0.1785714030265808,
           0.1785714030265808,
           0.25,
           0.25,
           0.1785714030265808,
           0.1428571343421936,
           0.2142857313156128,
           0.1071428656578064,
           0.03571426868438721,
           0.035714298486709595,
           0.1923273279806035,
           0.0714285671710968,
           0.035714298486709595,
           0.03571426868438721,
           0.0714285671710968,
           0.25,
           0.03571426868438721,
           0.2719918999921997,
           0.07142859697341919,
           0.03571426868438721,
           0.03571426868438721,
           0.2348740538931794,
           0,
           0.25,
           0,
           0.017857149243354797,
           0.03571426868438721,
           0.0535714328289032,
           0.035714298486709595,
           0,
           0.0714285671710968,
           0,
           0.375,
           0.375
          ],
          [
           0.2142857015132904,
           0.2857142835855484,
           0.2857142835855484,
           0.2499999701976776,
           0.2142857015132904,
           0.31186159084568776,
           0.2499999701976776,
           0.2142857015132904,
           0.2142857015132904,
           0.2499999701976776,
           0.2499999701976776,
           0.2857142984867096,
           0.31186159084568776,
           0.2499999701976776,
           0.1785714328289032,
           0.2993402729056185,
           0.2499999701976776,
           0.2499999701976776,
           0.31186159084568776,
           0.2857142835855484,
           0.2499999701976776,
           0.2142857015132904,
           0.2857142984867096,
           0.1785714328289032,
           0.10714283585548401,
           0.03571426868438721,
           0.22868302510239075,
           0,
           0.03571426868438721,
           0.10714283585548401,
           0.035714298486709595,
           0.2857142835855484,
           0.10714283585548401,
           0.3051429919007971,
           0.142857164144516,
           0.10714283585548401,
           0.10714283585548401,
           0.2348740493615226,
           0.0714285671710968,
           0.2857142835855484,
           0.0714285671710968,
           0.0714285671710968,
           0.10714283585548401,
           0.0535714328289032,
           0.03571426868438721,
           0.0714285671710968,
           0,
           0.0714285671710968,
           0.375,
           0.375
          ],
          [
           0.1607142984867096,
           0.25,
           0.25,
           0.1785714030265808,
           0.1428571343421936,
           0.25,
           0.1785714030265808,
           0.1428571343421936,
           0.1607142686843872,
           0.1785714030265808,
           0.1785714328289032,
           0.2142857313156128,
           0.25,
           0.1785714030265808,
           0.1071428656578064,
           0.26305215456637004,
           0.1785714030265808,
           0.1785714030265808,
           0.25,
           0.25,
           0.1785714030265808,
           0.1428571343421936,
           0.2142857313156128,
           0.1071428656578064,
           0.03571426868438721,
           0.035714298486709595,
           0.1923273279806035,
           0.0714285671710968,
           0.035714298486709595,
           0.03571426868438721,
           0.0714285671710968,
           0.25,
           0.03571426868438721,
           0.2719918999921997,
           0.07142859697341919,
           0.03571426868438721,
           0.03571426868438721,
           0.2348740538931794,
           0,
           0.25,
           0,
           0.017857149243354797,
           0.03571426868438721,
           0.0535714328289032,
           0.035714298486709595,
           0,
           0.0714285671710968,
           0,
           0.375,
           0.375
          ],
          [
           0.2857142686843872,
           0.25,
           0.2857142686843872,
           0.375,
           0.3214285969734192,
           0.3754249296185583,
           0.375,
           0.3571428656578064,
           0.3214285969734192,
           0.36421568997933523,
           0.25,
           0.3754249296185583,
           0.37542492890978235,
           0.3754249296185583,
           0.38174211217537407,
           0.3214285969734192,
           0.3214285969734192,
           0.37542492890978235,
           0.38174211496356186,
           0.38174211496356186,
           0.38174211217537407,
           0.3571428656578064,
           0.38548273522382537,
           0.3571428656578064,
           0.3754249296185583,
           0.375,
           0.375,
           0.375,
           0.375,
           0.375,
           0.37669684245610263,
           0.39000588517131474,
           0.375,
           0.3788072027018346,
           0.375,
           0.375,
           0.375,
           0.375,
           0.375,
           0.38548273177241077,
           0.375,
           0.3754249296185583,
           0.375,
           0.3788072048091769,
           0.3754249296185583,
           0.375,
           0.375,
           0.375,
           0,
           0
          ],
          [
           0.2857142686843872,
           0.25,
           0.2857142686843872,
           0.375,
           0.3214285969734192,
           0.3754249296185583,
           0.375,
           0.3571428656578064,
           0.3214285969734192,
           0.36421568997933523,
           0.25,
           0.3754249296185583,
           0.37542492890978235,
           0.3754249296185583,
           0.38174211217537407,
           0.3214285969734192,
           0.3214285969734192,
           0.37542492890978235,
           0.38174211496356186,
           0.38174211496356186,
           0.38174211217537407,
           0.3571428656578064,
           0.38548273522382537,
           0.3571428656578064,
           0.3754249296185583,
           0.375,
           0.375,
           0.375,
           0.375,
           0.375,
           0.37669684245610263,
           0.39000588517131474,
           0.375,
           0.3788072027018346,
           0.375,
           0.375,
           0.375,
           0.375,
           0.375,
           0.38548273177241077,
           0.375,
           0.3754249296185583,
           0.375,
           0.3788072048091769,
           0.3754249296185583,
           0.375,
           0.375,
           0.375,
           0,
           0
          ]
         ]
        },
        {
         "coloraxis": "coloraxis",
         "hovertemplate": "x: %{x}<br>y: %{y}<br>color: %{z}<extra></extra>",
         "name": "2",
         "type": "heatmap",
         "xaxis": "x3",
         "yaxis": "y3",
         "z": [
          [
           0,
           0.2753115050787315,
           0.2753115050787315,
           0.21028257816608073,
           0.052794260406892723,
           0.21150657504683962,
           0.21029361612841685,
           0.09835617575299148,
           0.04823249245117758,
           0.19566771940013655,
           0.051528599027206745,
           0.21179781575663278,
           0.21158255162012546,
           0.2115011676140431,
           0.2267586695130179,
           0.37310613047334157,
           0.05101798295436388,
           0.21152107875488382,
           0.19563298506226454,
           0.2753115050787315,
           0.22992645177045273,
           0.09844129110148782,
           0.14605518163884876,
           0.09838980223805978,
           0.21090179274675155,
           0.24110559274404086,
           0.29499114360480244,
           0.28418761749859056,
           0.243645941982213,
           0.21028257816608073,
           0.2913734126259391,
           0.2753115050787315,
           0.21028348032954758,
           0.21757291382319802,
           0.2103343846506256,
           0.21028257816608073,
           0.21028563186611138,
           0.42236391060211154,
           0.2102880228986883,
           0.2753115050787315,
           0.21028563186611138,
           0.21176913647186765,
           0.21028257816608073,
           0.23183006722491517,
           0.24110559274404086,
           0.21028287428743372,
           0.28418761749859056,
           0.21028287428743372,
           0.4565830861103091,
           0.45658287963822963
          ],
          [
           0.2753115050787315,
           0,
           0.09289550710693614,
           0.2517910436553988,
           0.2729887662010036,
           0.21558964278327344,
           0.2533786280765023,
           0.2729887662010036,
           0.2700372300133278,
           0.2533786280765023,
           0.24958635528402268,
           0.2297646461647308,
           0.21568203067032748,
           0.25433638945435305,
           0.2963600176195904,
           0.47319639592472096,
           0.2517910436553988,
           0.25433638945435305,
           0.2333245812069195,
           0.2321063252558912,
           0.24958635528402268,
           0.2729887662010036,
           0.23847011184859843,
           0.285390520093341,
           0.3429855946621574,
           0.39485989641124564,
           0.4272683202127785,
           0.41614668678874933,
           0.3962542896628986,
           0.3457504359913134,
           0.419893006739244,
           0.2424759064742601,
           0.34896138013178635,
           0.2214786783811275,
           0.32568916116015484,
           0.3457504359913134,
           0.3477507185091059,
           0.527559251475607,
           0.3726100468211888,
           0.23768403772899557,
           0.37131395301125086,
           0.37131395301125086,
           0.3457504359913134,
           0.3896731899218884,
           0.39485989641124564,
           0.36917521929137675,
           0.41614668678874933,
           0.37131395301125086,
           0.37131395301125086,
           0.3726100468211888
          ],
          [
           0.2753115050787315,
           0.09289550710693614,
           0,
           0.2517910436553988,
           0.2729887662010036,
           0.20706885353388327,
           0.2533786280765023,
           0.2729887662010036,
           0.2700372300133278,
           0.2533786280765023,
           0.24958635528402268,
           0.2297646461647308,
           0.20470597228336812,
           0.25433638945435305,
           0.2963600176195904,
           0.47319639592472096,
           0.2517910436553988,
           0.25433638945435305,
           0.20270515410484968,
           0.16591939637742717,
           0.24958635528402268,
           0.2729887662010036,
           0.22615725610193244,
           0.285390520093341,
           0.3429855946621574,
           0.39485989641124564,
           0.4272683202127785,
           0.41614668678874933,
           0.3962542896628986,
           0.3457504359913134,
           0.419893006739244,
           0.18079130824420597,
           0.34896138013178635,
           0.1838636488204105,
           0.32568916116015484,
           0.3457504359913134,
           0.3477507185091059,
           0.527559251475607,
           0.3726100468211888,
           0.1736364064982192,
           0.37131395301125086,
           0.37131395301125086,
           0.3457504359913134,
           0.3896731899218884,
           0.39485989641124564,
           0.36917521929137675,
           0.41614668678874933,
           0.37131395301125086,
           0.45651057072457846,
           0.4565103642197014
          ],
          [
           0.21028257816608073,
           0.2517910436553988,
           0.2517910436553988,
           0,
           0.18059965430175595,
           0.09134064568013489,
           0.004151403903961182,
           0.16130945946059785,
           0.20560943571099924,
           0.08385824157033966,
           0.23507927780773563,
           0.04507988545189234,
           0.09510449653721487,
           0.022702183636731994,
           0.0909987679279396,
           0.3805202479086312,
           0.16180025690616634,
           0.02285616060181384,
           0.09874964967424782,
           0.2517910436553988,
           0.09299145414271393,
           0.14076615383053567,
           0.10704769918166185,
           0.12643777683184068,
           0.18534047618096938,
           0.28861762154043713,
           0.31373021743003177,
           0.3316960277583728,
           0.2911579707786093,
           0.1898346135584903,
           0.33888544142233534,
           0.2517910436553988,
           0.19567483207268543,
           0.1390829949521859,
           0.14861505135897246,
           0.1898346135584903,
           0.19346921086273283,
           0.44104207229493575,
           0.24342042923267215,
           0.2517910436553988,
           0.24105916499191904,
           0.24105916499191904,
           0.1898346135584903,
           0.2793384774846974,
           0.28861762154043713,
           0.23718750291171586,
           0.3316960277583728,
           0.24105916499191904,
           0.47555208790055314,
           0.49174480486558936
          ],
          [
           0.052794260406892723,
           0.2729887662010036,
           0.2729887662010036,
           0.18059965430175595,
           0,
           0.18202336042877656,
           0.18061250631699302,
           0.04613629579430419,
           0.04593640062263592,
           0.1441241325977337,
           0.09554094484396847,
           0.18236169338164324,
           0.18211163774954897,
           0.18201707709949488,
           0.19180121240377973,
           0.37358134692569767,
           0.04374842988493466,
           0.18204021317107288,
           0.14332566751589632,
           0.2729887662010036,
           0.1890103461723719,
           0.04619265138137361,
           0.09467644407918474,
           0.06771978575924573,
           0.1813202653801655,
           0.24533723107957794,
           0.2965624754104585,
           0.28833671244709425,
           0.2478775803177501,
           0.18059965430175595,
           0.29560505096147616,
           0.2729887662010036,
           0.18060070474183407,
           0.18903821117238875,
           0.18065997293284758,
           0.18059965430175595,
           0.1806032098913793,
           0.42396414900977086,
           0.20014003877181297,
           0.2729887662010036,
           0.19777877453105985,
           0.19777877453105985,
           0.18059965430175595,
           0.23560558500907858,
           0.24533723107957794,
           0.19388236254721347,
           0.28833671244709425,
           0.19777877453105985,
           0.5053136160585816,
           0.5086727789087061
          ],
          [
           0.21150657504683962,
           0.21558964278327344,
           0.20706885353388327,
           0.09134064568013489,
           0.18202336042877656,
           0,
           0.09392119972915491,
           0.1629018425903796,
           0.20686108542030343,
           0.09392119972915491,
           0.2361747985337917,
           0.04626076022824255,
           0.03262946640353988,
           0.09554094484396847,
           0.18233941360807449,
           0.4084162436291979,
           0.16338785677880707,
           0.09554094484396847,
           0.09498965193718154,
           0.20706885353388327,
           0.09073276765136973,
           0.14258814351871119,
           0.10941096720924365,
           0.1655999668019592,
           0.2766811218611043,
           0.37955441137918466,
           0.35416924608086386,
           0.4230366734385077,
           0.38206172503549407,
           0.2811752592386252,
           0.42978919567922014,
           0.20706885353388327,
           0.28657858632957023,
           0.062015562912030156,
           0.23951880561585726,
           0.2811752592386252,
           0.2844266372956644,
           0.48780709022449237,
           0.33432418348955695,
           0.20706885353388327,
           0.3320045734592354,
           0.3320045734592354,
           0.2811752592386252,
           0.3706791231648323,
           0.37955441137918466,
           0.32852814859185075,
           0.4230366734385077,
           0.3320045734592354,
           0.47609458820117456,
           0.4922694604788795
          ],
          [
           0.21029361612841685,
           0.2533786280765023,
           0.2533786280765023,
           0.004151403903961182,
           0.18061250631699302,
           0.09392119972915491,
           0,
           0.16132384825456633,
           0.20562072453327174,
           0.08387297902260601,
           0.2350891515123542,
           0.0476824151273485,
           0.09799680749031459,
           0.022830262262623812,
           0.08841821387891957,
           0.3798410647443831,
           0.16181460205770526,
           0.022810869307665967,
           0.10164196062734754,
           0.2533786280765023,
           0.09301641171195842,
           0.14078264228389137,
           0.10706407981676988,
           0.1264516456876005,
           0.18275992213194936,
           0.2857253105873374,
           0.31227780385984666,
           0.3291154737093528,
           0.28826565982550956,
           0.18725405950947027,
           0.3359931304692356,
           0.2533786280765023,
           0.19278252111958571,
           0.14166354900120592,
           0.14572274040587274,
           0.18725405950947027,
           0.1905768999096331,
           0.43978100091014516,
           0.24052811827957243,
           0.2533786280765023,
           0.23816685403881932,
           0.23816685403881932,
           0.18725405950947027,
           0.2767579234356774,
           0.2857253105873374,
           0.23460694886269584,
           0.3291154737093528,
           0.23816685403881932,
           0.4755569688384006,
           0.4917495250800845
          ],
          [
           0.09835617575299148,
           0.2729887662010036,
           0.2729887662010036,
           0.16130945946059785,
           0.04613629579430419,
           0.1629018425903796,
           0.16132384825456633,
           0,
           0.050723780862167625,
           0.09957564075746897,
           0.14158457551450362,
           0.16327980215132848,
           0.14525311176262645,
           0.16289482168994804,
           0.1459018719486758,
           0.37358134692569767,
           0.047769022704050056,
           0.16292067330123017,
           0.14207373886576535,
           0.2729887662010036,
           0.14302760868042663,
           0.041604867270505226,
           0.09467644407918474,
           0.07830663909734255,
           0.16211583887791517,
           0.24533723107957794,
           0.2965624754104585,
           0.28833671244709425,
           0.2478775803177501,
           0.16130945946059785,
           0.29560505096147616,
           0.2729887662010036,
           0.16131063551670619,
           0.18281588742780475,
           0.161376988439039,
           0.16130945946059785,
           0.16131344023554303,
           0.42396414900977086,
           0.20014003877181297,
           0.2729887662010036,
           0.19777877453105985,
           0.19777877453105985,
           0.16130945946059785,
           0.23560558500907858,
           0.24533723107957794,
           0.19388236254721347,
           0.28833671244709425,
           0.19777877453105985,
           0.502165839158784,
           0.517526516058614
          ],
          [
           0.04823249245117758,
           0.2700372300133278,
           0.2700372300133278,
           0.20560943571099924,
           0.04593640062263592,
           0.20686108542030343,
           0.20562072453327174,
           0.050723780862167625,
           0,
           0.14870860357112217,
           0.09138981030478711,
           0.20715885723884037,
           0.19579461686747585,
           0.2068555565493111,
           0.1964665342732622,
           0.3742675371523096,
           0.08542237846254465,
           0.20687591481574513,
           0.1479997309461862,
           0.2700372300133278,
           0.19357407215815262,
           0.08088586233353075,
           0.10104672437012872,
           0.1121168028134938,
           0.206242681220487,
           0.25071443202121424,
           0.29865152505939807,
           0.29371391338873054,
           0.2532547812593864,
           0.20560943571099924,
           0.30098225190311245,
           0.2700372300133278,
           0.20561035837897101,
           0.21305973388404115,
           0.2056624193662493,
           0.20560943571099924,
           0.2056125588152421,
           0.4260818545428062,
           0.20561500418953121,
           0.2700372300133278,
           0.2056125588152421,
           0.2071295356419798,
           0.20560943571099924,
           0.24076691965500863,
           0.25071443202121424,
           0.20560973856266226,
           0.29371391338873054,
           0.20560973856266226,
           0.503595778597214,
           0.5035955914001415
          ],
          [
           0.19566771940013655,
           0.2533786280765023,
           0.2533786280765023,
           0.08385824157033966,
           0.1441241325977337,
           0.09392119972915491,
           0.08387297902260601,
           0.09957564075746897,
           0.14870860357112217,
           0,
           0.23850307896488035,
           0.08739993418645672,
           0.09799680749031459,
           0.08674799893630493,
           0.08841821387891957,
           0.3798410647443831,
           0.1458492393993832,
           0.08681567086868108,
           0.10164196062734754,
           0.2533786280765023,
           0.09133929167366599,
           0.09960845665181475,
           0.055870693381442696,
           0.09955757142112852,
           0.18275992213194936,
           0.2857253105873374,
           0.31227780385984666,
           0.3291154737093528,
           0.28826565982550956,
           0.18725405950947027,
           0.3359931304692356,
           0.2533786280765023,
           0.19278252111958571,
           0.14166354900120592,
           0.14572274040587274,
           0.18725405950947027,
           0.1905768999096331,
           0.43978100091014516,
           0.24052811827957243,
           0.2533786280765023,
           0.23816685403881932,
           0.23816685403881932,
           0.18725405950947027,
           0.2767579234356774,
           0.2857253105873374,
           0.23460694886269584,
           0.3291154737093528,
           0.23816685403881932,
           0.4827282251940001,
           0.4986879828155782
          ],
          [
           0.051528599027206745,
           0.24958635528402268,
           0.24958635528402268,
           0.23507927780773563,
           0.09554094484396847,
           0.2361747985337917,
           0.2350891515123542,
           0.14158457551450362,
           0.09138981030478711,
           0.23850307896488035,
           0,
           0.236435654954394,
           0.23624284184820446,
           0.23616995591424464,
           0.24992598579128733,
           0.38150526110174426,
           0.09393975731979654,
           0.2361877874320822,
           0.23885053850595128,
           0.24958635528402268,
           0.2528036340683872,
           0.14160294938892962,
           0.1892733174162273,
           0.14157445991953344,
           0.23563333880889273,
           0.2926341917712476,
           0.3157890679832761,
           0.3356336731387639,
           0.29517454100941976,
           0.23507927780773563,
           0.3429020116531458,
           0.2610042858786282,
           0.2350800848092835,
           0.2416225920810168,
           0.23512562076641078,
           0.23507927780773563,
           0.23508200940046944,
           0.44281870750510266,
           0.24743699946348263,
           0.25655871417213083,
           0.24507573522272952,
           0.24507573522272952,
           0.23507927780773563,
           0.2829221089615215,
           0.2926341917712476,
           0.24117932323888314,
           0.3356336731387639,
           0.24507573522272952,
           0.4141379721335332,
           0.41413770706776654
          ],
          [
           0.21179781575663278,
           0.2297646461647308,
           0.2297646461647308,
           0.04507988545189234,
           0.18236169338164324,
           0.04626076022824255,
           0.0476824151273485,
           0.16327980215132848,
           0.20715885723884037,
           0.08739993418645672,
           0.236435654954394,
           0,
           0.05031439236296609,
           0.04942729476133245,
           0.13607865337983194,
           0.3924807505237491,
           0.16376469465061186,
           0.04942729476133245,
           0.0933821530202661,
           0.2297646461647308,
           0.08771107485218252,
           0.14301979633375494,
           0.1098940273855343,
           0.12885650455100567,
           0.23042036163286173,
           0.3334077257146859,
           0.3363359490313348,
           0.37677591321026516,
           0.33594807495285806,
           0.23491449901038264,
           0.3836755455965841,
           0.2297646461647308,
           0.2404649362469342,
           0.09400310950029356,
           0.19340515553322124,
           0.23491449901038264,
           0.2382593150369816,
           0.46244488880757934,
           0.28821053340692093,
           0.2297646461647308,
           0.2858492691661678,
           0.2858492691661678,
           0.23491449901038264,
           0.32441836293658977,
           0.3334077257146859,
           0.2822673883636082,
           0.37677591321026516,
           0.2858492691661678,
           0.47622404431704424,
           0.49239466405659116
          ],
          [
           0.21158255162012546,
           0.21568203067032748,
           0.20470597228336812,
           0.09510449653721487,
           0.18211163774954897,
           0.03262946640353988,
           0.09799680749031459,
           0.14525311176262645,
           0.19579461686747585,
           0.09799680749031459,
           0.23624284184820446,
           0.05031439236296609,
           0,
           0.09974168712429854,
           0.18608736556627514,
           0.40992941151494877,
           0.16348619698558842,
           0.09974168712429854,
           0.09123790859558087,
           0.20470597228336812,
           0.09589485916088338,
           0.14270081826727984,
           0.09780334259435289,
           0.16885768014097224,
           0.28042907381930493,
           0.383722118077652,
           0.3560516113577973,
           0.42678462539670836,
           0.38626246731582414,
           0.28492953014637923,
           0.4339899379595502,
           0.20470597228336812,
           0.2907793286099003,
           0.0621590029709722,
           0.24371954789618733,
           0.28492953014637923,
           0.2885737073999477,
           0.4902678437190363,
           0.338524925769887,
           0.20470597228336812,
           0.3361636615291339,
           0.3361636615291339,
           0.28492953014637923,
           0.37442707512303297,
           0.383722118077652,
           0.3322761005500514,
           0.42678462539670836,
           0.3361636615291339,
           0.47612834590736625,
           0.4923021090572391
          ],
          [
           0.2115011676140431,
           0.25433638945435305,
           0.25433638945435305,
           0.022702183636731994,
           0.18201707709949488,
           0.09554094484396847,
           0.022830262262623812,
           0.16289482168994804,
           0.2068555565493111,
           0.08674799893630493,
           0.23616995591424464,
           0.04942729476133245,
           0.09974168712429854,
           0,
           0.0881311958748249,
           0.3794435874355733,
           0.16338085676367084,
           0.032192938657190216,
           0.10338684026133149,
           0.25433638945435305,
           0.09571515953863406,
           0.14258012233888614,
           0.10937625006677071,
           0.12841520777836066,
           0.18120311988020532,
           0.2840764093982857,
           0.3114139694477702,
           0.32755867145760875,
           0.2865207801915256,
           0.18569725725772623,
           0.33424825083525167,
           0.25433638945435305,
           0.19103764148560176,
           0.14331517484006417,
           0.1439778607718888,
           0.18569725725772623,
           0.18894863531476547,
           0.4390276823433187,
           0.23878323864558848,
           0.25433638945435305,
           0.23652657147833644,
           0.23652657147833644,
           0.18569725725772623,
           0.27520112118393336,
           0.2840764093982857,
           0.2330501466109518,
           0.32755867145760875,
           0.23652657147833644,
           0.4760921859561498,
           0.4922671371666265
          ],
          [
           0.2267586695130179,
           0.2963600176195904,
           0.2963600176195904,
           0.0909987679279396,
           0.19180121240377973,
           0.18233941360807449,
           0.08841821387891957,
           0.1459018719486758,
           0.1964665342732622,
           0.08841821387891957,
           0.24992598579128733,
           0.13607865337983194,
           0.18608736556627514,
           0.0881311958748249,
           0,
           0.37143018706167186,
           0.1827020926372811,
           0.08819780652177668,
           0.1893396143180861,
           0.2963600176195904,
           0.09458239940476365,
           0.1459242702309103,
           0.1419423195315055,
           0.14588954052001255,
           0.09434170825302979,
           0.19809703773665532,
           0.28383829937619814,
           0.24109651910417162,
           0.20063738697482747,
           0.09930444980538256,
           0.24836485761855354,
           0.2963600176195904,
           0.10520272502439187,
           0.2300817628801255,
           0.08532066861963596,
           0.09930444980538256,
           0.10294862705895103,
           0.40152276006622933,
           0.15289984542889035,
           0.2963600176195904,
           0.15053858118813723,
           0.15053858118813723,
           0.09930444980538256,
           0.18833970955675783,
           0.19809703773665532,
           0.14664216920429085,
           0.24109651910417162,
           0.15053858118813723,
           0.4830636809217969,
           0.49901270988967483
          ],
          [
           0.37310613047334157,
           0.47319639592472096,
           0.47319639592472096,
           0.3805202479086312,
           0.37358134692569767,
           0.4084162436291979,
           0.3798410647443831,
           0.37358134692569767,
           0.3742675371523096,
           0.3798410647443831,
           0.38150526110174426,
           0.3924807505237491,
           0.40992941151494877,
           0.3794435874355733,
           0.37143018706167186,
           0,
           0.3805202479086312,
           0.3794435874355733,
           0.4112798404509144,
           0.47319639592472096,
           0.38150526110174426,
           0.37358134692569767,
           0.39487366262391155,
           0.3717304560076538,
           0.3844706673803933,
           0.4233475039417418,
           0.2594976241232475,
           0.4450853262078659,
           0.42469330576567094,
           0.3859383986356917,
           0.44953245151012944,
           0.47319639592472096,
           0.38773495839074623,
           0.4233842767046721,
           0.3770037449094021,
           0.3859383986356917,
           0.38704604539544696,
           0.3585876250940676,
           0.40387644896188263,
           0.47319639592472096,
           0.4028647412658997,
           0.4028647412658997,
           0.3859383986356917,
           0.4182149319619448,
           0.4233475039417418,
           0.40122632572507916,
           0.4450853262078659,
           0.4028647412658997,
           0.49531632005474374,
           0.5039667811746025
          ],
          [
           0.05101798295436388,
           0.2517910436553988,
           0.2517910436553988,
           0.16180025690616634,
           0.04374842988493466,
           0.16338785677880707,
           0.16181460205770526,
           0.047769022704050056,
           0.08542237846254465,
           0.1458492393993832,
           0.09393975731979654,
           0.16376469465061186,
           0.16348619698558842,
           0.16338085676367084,
           0.1827020926372811,
           0.3805202479086312,
           0,
           0.16340663148219334,
           0.14508515736687608,
           0.2517910436553988,
           0.1858814902014039,
           0.04783739054752037,
           0.09551521291977608,
           0.07638592934734545,
           0.18534047618096938,
           0.28861762154043713,
           0.31373021743003177,
           0.3316960277583728,
           0.2911579707786093,
           0.1898346135584903,
           0.33888544142233534,
           0.2517910436553988,
           0.19567483207268543,
           0.1711681433101508,
           0.16186758113064176,
           0.1898346135584903,
           0.19346921086273283,
           0.44104207229493575,
           0.24342042923267215,
           0.2517910436553988,
           0.24105916499191904,
           0.24105916499191904,
           0.1898346135584903,
           0.2793384774846974,
           0.28861762154043713,
           0.23718750291171586,
           0.3316960277583728,
           0.24105916499191904,
           0.49952681143272487,
           0.5067624637053839
          ],
          [
           0.21152107875488382,
           0.25433638945435305,
           0.25433638945435305,
           0.02285616060181384,
           0.18204021317107288,
           0.09554094484396847,
           0.022810869307665967,
           0.16292067330123017,
           0.20687591481574513,
           0.08681567086868108,
           0.2361877874320822,
           0.04942729476133245,
           0.09974168712429854,
           0.032192938657190216,
           0.08819780652177668,
           0.3794435874355733,
           0.16340663148219334,
           0,
           0.10338684026133149,
           0.25433638945435305,
           0.09575914901998855,
           0.14260965655136382,
           0.10942992948729684,
           0.12846093171733397,
           0.18120311988020532,
           0.2840764093982857,
           0.3114139694477702,
           0.32755867145760875,
           0.2865207801915256,
           0.18569725725772623,
           0.33424825083525167,
           0.25433638945435305,
           0.19103764148560176,
           0.14331517484006417,
           0.1439778607718888,
           0.18569725725772623,
           0.18894863531476547,
           0.4390276823433187,
           0.23878323864558848,
           0.25433638945435305,
           0.23652657147833644,
           0.23652657147833644,
           0.18569725725772623,
           0.27520112118393336,
           0.2840764093982857,
           0.2330501466109518,
           0.32755867145760875,
           0.23652657147833644,
           0.47610103169813794,
           0.49227569225968537
          ],
          [
           0.19563298506226454,
           0.2333245812069195,
           0.20270515410484968,
           0.09874964967424782,
           0.14332566751589632,
           0.09498965193718154,
           0.10164196062734754,
           0.14207373886576535,
           0.1479997309461862,
           0.10164196062734754,
           0.23885053850595128,
           0.0933821530202661,
           0.09123790859558087,
           0.10338684026133149,
           0.1893396143180861,
           0.4112798404509144,
           0.14508515736687608,
           0.10338684026133149,
           0,
           0.20270515410484968,
           0.09475721491332245,
           0.14207373886576535,
           0.05014244901303822,
           0.17168452911308385,
           0.2836813225711159,
           0.38736727121468495,
           0.35772516614920946,
           0.43036675258220125,
           0.3899076204528571,
           0.2885746832834122,
           0.43763509109658316,
           0.20270515410484968,
           0.29442448174693325,
           0.10799325424098563,
           0.24736470103322028,
           0.2885746832834122,
           0.29221886053698065,
           0.4924222135890034,
           0.34217007890691997,
           0.20270515410484968,
           0.33980881466616686,
           0.33980881466616686,
           0.2885746832834122,
           0.37767932387484393,
           0.38736727121468495,
           0.3359124026823205,
           0.43036675258220125,
           0.33980881466616686,
           0.48441361838190694,
           0.5003196163249777
          ],
          [
           0.2753115050787315,
           0.2321063252558912,
           0.16591939637742717,
           0.2517910436553988,
           0.2729887662010036,
           0.20706885353388327,
           0.2533786280765023,
           0.2729887662010036,
           0.2700372300133278,
           0.2533786280765023,
           0.24958635528402268,
           0.2297646461647308,
           0.20470597228336812,
           0.25433638945435305,
           0.2963600176195904,
           0.47319639592472096,
           0.2517910436553988,
           0.25433638945435305,
           0.20270515410484968,
           0,
           0.24958635528402268,
           0.2729887662010036,
           0.22615725610193244,
           0.285390520093341,
           0.3429855946621574,
           0.39485989641124564,
           0.4272683202127785,
           0.41614668678874933,
           0.3962542896628986,
           0.3457504359913134,
           0.419893006739244,
           0.14629408974712135,
           0.34896138013178635,
           0.1838636488204105,
           0.32568916116015484,
           0.3457504359913134,
           0.3477507185091059,
           0.527559251475607,
           0.3726100468211888,
           0.1365572603913666,
           0.37131395301125086,
           0.37131395301125086,
           0.3457504359913134,
           0.3896731899218884,
           0.39485989641124564,
           0.36917521929137675,
           0.41614668678874933,
           0.37131395301125086,
           0.4838280063227644,
           0.4997526433226563
          ],
          [
           0.22992645177045273,
           0.24958635528402268,
           0.24958635528402268,
           0.09299145414271393,
           0.1890103461723719,
           0.09073276765136973,
           0.09301641171195842,
           0.14302760868042663,
           0.19357407215815262,
           0.09133929167366599,
           0.2528036340683872,
           0.08771107485218252,
           0.09589485916088338,
           0.09571515953863406,
           0.09458239940476365,
           0.38150526110174426,
           0.1858814902014039,
           0.09575914901998855,
           0.09475721491332245,
           0.24958635528402268,
           0,
           0.1430504570042934,
           0.09539117195105139,
           0.14301502941947689,
           0.18892410765779344,
           0.2926341917712476,
           0.3157890679832761,
           0.3356336731387639,
           0.29517454100941976,
           0.19384160383997484,
           0.3429020116531458,
           0.24958635528402268,
           0.1996914023034959,
           0.13549936347536184,
           0.15263162158978294,
           0.19384160383997484,
           0.1974857810935433,
           0.44281870750510266,
           0.24743699946348263,
           0.24958635528402268,
           0.24507573522272952,
           0.24507573522272952,
           0.19384160383997484,
           0.2829221089615215,
           0.2926341917712476,
           0.24117932323888314,
           0.3356336731387639,
           0.24507573522272952,
           0.4845587671791234,
           0.5004601519160872
          ],
          [
           0.09844129110148782,
           0.2729887662010036,
           0.2729887662010036,
           0.14076615383053567,
           0.04619265138137361,
           0.14258814351871119,
           0.14078264228389137,
           0.041604867270505226,
           0.08088586233353075,
           0.09960845665181475,
           0.14160294938892962,
           0.14301979633375494,
           0.14270081826727984,
           0.14258012233888614,
           0.1459242702309103,
           0.37358134692569767,
           0.04783739054752037,
           0.14260965655136382,
           0.14207373886576535,
           0.2729887662010036,
           0.1430504570042934,
           0,
           0.09467644407918474,
           0.04876452316792465,
           0.1416894970273447,
           0.24533723107957794,
           0.2965624754104585,
           0.28833671244709425,
           0.2478775803177501,
           0.14654464314830518,
           0.29560505096147616,
           0.2729887662010036,
           0.15239444161182625,
           0.18281588742780475,
           0.13969186357002736,
           0.14654464314830518,
           0.15018882040187365,
           0.42396414900977086,
           0.20014003877181297,
           0.2729887662010036,
           0.19777877453105985,
           0.19777877453105985,
           0.14654464314830518,
           0.23560558500907858,
           0.24533723107957794,
           0.19388236254721347,
           0.28833671244709425,
           0.19777877453105985,
           0.495948483585561,
           0.5114959072920707
          ],
          [
           0.14605518163884876,
           0.23847011184859843,
           0.22615725610193244,
           0.10704769918166185,
           0.09467644407918474,
           0.10941096720924365,
           0.10706407981676988,
           0.09467644407918474,
           0.10104672437012872,
           0.055870693381442696,
           0.1892733174162273,
           0.1098940273855343,
           0.09780334259435289,
           0.10937625006677071,
           0.1419423195315055,
           0.39487366262391155,
           0.09551521291977608,
           0.10942992948729684,
           0.05014244901303822,
           0.22615725610193244,
           0.09539117195105139,
           0.09467644407918474,
           0,
           0.12475100709754972,
           0.23628402778453528,
           0.3399797817591024,
           0.3404386522940593,
           0.3829792631266187,
           0.3425201309972745,
           0.2411871938278296,
           0.3902476016410006,
           0.22615725610193244,
           0.24703699229135068,
           0.1213461908927789,
           0.1999772115776377,
           0.2411871938278296,
           0.24483137108139807,
           0.46586497426610646,
           0.2947825894513374,
           0.22615725610193244,
           0.2924213252105843,
           0.2924213252105843,
           0.2411871938278296,
           0.3302820290882633,
           0.3399797817591024,
           0.2885249132267379,
           0.3829792631266187,
           0.2924213252105843,
           0.48736987558240497,
           0.5031824325539695
          ],
          [
           0.09838980223805978,
           0.285390520093341,
           0.285390520093341,
           0.12643777683184068,
           0.06771978575924573,
           0.1655999668019592,
           0.1264516456876005,
           0.07830663909734255,
           0.1121168028134938,
           0.09955757142112852,
           0.14157445991953344,
           0.12885650455100567,
           0.16885768014097224,
           0.12841520777836066,
           0.14588954052001255,
           0.3717304560076538,
           0.07638592934734545,
           0.12846093171733397,
           0.17168452911308385,
           0.285390520093341,
           0.14301502941947689,
           0.04876452316792465,
           0.12475100709754972,
           0,
           0.12756210764062584,
           0.21941216705877387,
           0.289067383045953,
           0.2615123333908167,
           0.2222009535620798,
           0.12643777683184068,
           0.2694783877147706,
           0.285390520093341,
           0.1283851182041944,
           0.2128334095775617,
           0.12650286319342546,
           0.12643777683184068,
           0.12644161379015245,
           0.41318306123794146,
           0.17491246787866022,
           0.285390520093341,
           0.17232028025878432,
           0.17232028025878432,
           0.12643777683184068,
           0.20856533965709478,
           0.21941216705877387,
           0.1680428128190361,
           0.2615123333908167,
           0.17232028025878432,
           0.4918763273769113,
           0.5075485062922751
          ],
          [
           0.21090179274675155,
           0.3429855946621574,
           0.3429855946621574,
           0.18534047618096938,
           0.1813202653801655,
           0.2766811218611043,
           0.18275992213194936,
           0.16211583887791517,
           0.206242681220487,
           0.18275992213194936,
           0.23563333880889273,
           0.23042036163286173,
           0.28042907381930493,
           0.18120311988020532,
           0.09434170825302979,
           0.3844706673803933,
           0.18534047618096938,
           0.18120311988020532,
           0.2836813225711159,
           0.3429855946621574,
           0.18892410765779344,
           0.1416894970273447,
           0.23628402778453528,
           0.12756210764062584,
           0,
           0.10382966234041957,
           0.28086554539349323,
           0.14682914370793587,
           0.10653739000148243,
           0.018180078052640585,
           0.15409748222231778,
           0.3429855946621574,
           0.01818085820316897,
           0.3244234711331553,
           0.03877578300124118,
           0.018180078052640585,
           0.01817743708773878,
           0.36397924309822327,
           0.059273343136608814,
           0.3429855946621574,
           0.05665671669818695,
           0.05665671669818695,
           0.018180078052640585,
           0.09399800130372804,
           0.10382966234041957,
           0.05237924925843873,
           0.14682914370793587,
           0.05665671669818695,
           0.4758262201793795,
           0.49200991516016873
          ],
          [
           0.24110559274404086,
           0.39485989641124564,
           0.39485989641124564,
           0.28861762154043713,
           0.24533723107957794,
           0.37955441137918466,
           0.2857253105873374,
           0.24533723107957794,
           0.25071443202121424,
           0.2857253105873374,
           0.2926341917712476,
           0.3334077257146859,
           0.383722118077652,
           0.2840764093982857,
           0.19809703773665532,
           0.4233475039417418,
           0.28861762154043713,
           0.2840764093982857,
           0.38736727121468495,
           0.39485989641124564,
           0.2926341917712476,
           0.24533723107957794,
           0.3399797817591024,
           0.21941216705877387,
           0.10382966234041957,
           0,
           0.3121797584354619,
           0.043530582361957726,
           0.0044533610343933105,
           0.09879258793127277,
           0.05026781988189821,
           0.39485989641124564,
           0.0931598927470243,
           0.4272967606512357,
           0.14026481045819117,
           0.09879258793127277,
           0.0951484106777043,
           0.3477706561012075,
           0.04544309003008251,
           0.39485989641124564,
           0.04755845654851809,
           0.04755845654851809,
           0.09879258793127277,
           0.07606695558226971,
           0.019497409245407594,
           0.05145486853236447,
           0.043530582361957726,
           0.04755845654851809,
           0.47556014502335225,
           0.4917525966788106
          ],
          [
           0.29499114360480244,
           0.4272683202127785,
           0.4272683202127785,
           0.31373021743003177,
           0.2965624754104585,
           0.35416924608086386,
           0.31227780385984666,
           0.2965624754104585,
           0.29865152505939807,
           0.31227780385984666,
           0.3157890679832761,
           0.3363359490313348,
           0.3560516113577973,
           0.3114139694477702,
           0.28383829937619814,
           0.2594976241232475,
           0.31373021743003177,
           0.3114139694477702,
           0.35772516614920946,
           0.4272683202127785,
           0.3157890679832761,
           0.2965624754104585,
           0.3404386522940593,
           0.289067383045953,
           0.28086554539349323,
           0.3121797584354619,
           0,
           0.33339559539495583,
           0.31345254440587056,
           0.28165960810004265,
           0.33781483077431684,
           0.4272683202127785,
           0.28271476419049146,
           0.37582945597546086,
           0.2783505772515188,
           0.28165960810004265,
           0.2823002327565232,
           0.20270176947940127,
           0.2947105453450824,
           0.4272683202127785,
           0.2938686730591933,
           0.2938686730591933,
           0.28165960810004265,
           0.30738863030357183,
           0.3121797584354619,
           0.2925243994022778,
           0.33339559539495583,
           0.2938686730591933,
           0.475552486825491,
           0.491745190654296
          ],
          [
           0.28418761749859056,
           0.41614668678874933,
           0.41614668678874933,
           0.3316960277583728,
           0.28833671244709425,
           0.4230366734385077,
           0.3291154737093528,
           0.28833671244709425,
           0.29371391338873054,
           0.3291154737093528,
           0.3356336731387639,
           0.37677591321026516,
           0.42678462539670836,
           0.32755867145760875,
           0.24109651910417162,
           0.4450853262078659,
           0.3316960277583728,
           0.32755867145760875,
           0.43036675258220125,
           0.41614668678874933,
           0.3356336731387639,
           0.28833671244709425,
           0.3829792631266187,
           0.2615123333908167,
           0.14682914370793587,
           0.043530582361957726,
           0.33339559539495583,
           0,
           0.04156051872875277,
           0.14186141419988252,
           0.048501734216670096,
           0.41614668678874933,
           0.13664215480634734,
           0.454523838290831,
           0.1837470725175142,
           0.14186141419988252,
           0.13861003614284328,
           0.3498603990199001,
           0.08892535208940555,
           0.41614668678874933,
           0.09103209997927231,
           0.09103209997927231,
           0.14186141419988252,
           0.0760067871989037,
           0.043530582361957726,
           0.09450852484665695,
           0.0075869253508546374,
           0.09103209997927231,
           0.475552486825491,
           0.491745190654296
          ],
          [
           0.243645941982213,
           0.3962542896628986,
           0.3962542896628986,
           0.2911579707786093,
           0.2478775803177501,
           0.38206172503549407,
           0.28826565982550956,
           0.2478775803177501,
           0.2532547812593864,
           0.28826565982550956,
           0.29517454100941976,
           0.33594807495285806,
           0.38626246731582414,
           0.2865207801915256,
           0.20063738697482747,
           0.42469330576567094,
           0.2911579707786093,
           0.2865207801915256,
           0.3899076204528571,
           0.3962542896628986,
           0.29517454100941976,
           0.2478775803177501,
           0.3425201309972745,
           0.2222009535620798,
           0.10653739000148243,
           0.0044533610343933105,
           0.31345254440587056,
           0.04156051872875277,
           0,
           0.10133293716944491,
           0.048496820408038266,
           0.3962542896628986,
           0.09548313870592384,
           0.4298359550315898,
           0.14254291941963682,
           0.10133293716944491,
           0.09768875991587644,
           0.34775197563487936,
           0.04773754154593712,
           0.3962542896628986,
           0.05009880578669024,
           0.05009880578669024,
           0.10133293716944491,
           0.07600365167519547,
           0.01942202977418725,
           0.0541581407430437,
           0.04156051872875277,
           0.05009880578669024,
           0.47555208790055314,
           0.49174480486558936
          ],
          [
           0.21028257816608073,
           0.3457504359913134,
           0.3457504359913134,
           0.1898346135584903,
           0.18059965430175595,
           0.2811752592386252,
           0.18725405950947027,
           0.16130945946059785,
           0.20560943571099924,
           0.18725405950947027,
           0.23507927780773563,
           0.23491449901038264,
           0.28492953014637923,
           0.18569725725772623,
           0.09930444980538256,
           0.3859383986356917,
           0.1898346135584903,
           0.18569725725772623,
           0.2885746832834122,
           0.3457504359913134,
           0.19384160383997484,
           0.14654464314830518,
           0.2411871938278296,
           0.12643777683184068,
           0.018180078052640585,
           0.09879258793127277,
           0.28165960810004265,
           0.14186141419988252,
           0.10133293716944491,
           0,
           0.14906040781317098,
           0.3457504359913134,
           0.008396357297897339,
           0.3289176085106762,
           0.04214282673271963,
           0,
           0.005230575799942017,
           0.36238500207296187,
           0.05371922165975085,
           0.3457504359913134,
           0.05123413138275468,
           0.05123413138275468,
           0,
           0.08950386392620713,
           0.09879258793127277,
           0.04735288935322557,
           0.14186141419988252,
           0.05123413138275468,
           0.47555208790055314,
           0.49174480486558936
          ],
          [
           0.2913734126259391,
           0.419893006739244,
           0.419893006739244,
           0.33888544142233534,
           0.29560505096147616,
           0.42978919567922014,
           0.3359931304692356,
           0.29560505096147616,
           0.30098225190311245,
           0.3359931304692356,
           0.3429020116531458,
           0.3836755455965841,
           0.4339899379595502,
           0.33424825083525167,
           0.24836485761855354,
           0.44953245151012944,
           0.33888544142233534,
           0.33424825083525167,
           0.43763509109658316,
           0.419893006739244,
           0.3429020116531458,
           0.29560505096147616,
           0.3902476016410006,
           0.2694783877147706,
           0.15409748222231778,
           0.05026781988189821,
           0.33781483077431684,
           0.048501734216670096,
           0.048496820408038266,
           0.14906040781317098,
           0,
           0.419893006739244,
           0.1432106093496499,
           0.45817725269717985,
           0.19027039006336288,
           0.14906040781317098,
           0.1454162305596025,
           0.35082499626811514,
           0.09546501218966319,
           0.419893006739244,
           0.0978262764304163,
           0.0978262764304163,
           0.14906040781317098,
           0.09015817576711477,
           0.05189443522915666,
           0.10172268841426269,
           0.04877914812984212,
           0.0978262764304163,
           0.4780074221353842,
           0.4941196822858168
          ],
          [
           0.2753115050787315,
           0.2424759064742601,
           0.18079130824420597,
           0.2517910436553988,
           0.2729887662010036,
           0.20706885353388327,
           0.2533786280765023,
           0.2729887662010036,
           0.2700372300133278,
           0.2533786280765023,
           0.2610042858786282,
           0.2297646461647308,
           0.20470597228336812,
           0.25433638945435305,
           0.2963600176195904,
           0.47319639592472096,
           0.2517910436553988,
           0.25433638945435305,
           0.20270515410484968,
           0.14629408974712135,
           0.24958635528402268,
           0.2729887662010036,
           0.22615725610193244,
           0.285390520093341,
           0.3429855946621574,
           0.39485989641124564,
           0.4272683202127785,
           0.41614668678874933,
           0.3962542896628986,
           0.3457504359913134,
           0.419893006739244,
           0,
           0.34896138013178635,
           0.1838636488204105,
           0.32568916116015484,
           0.3457504359913134,
           0.3477507185091059,
           0.527559251475607,
           0.3726100468211888,
           0.03563523575956202,
           0.37131395301125086,
           0.37131395301125086,
           0.3457504359913134,
           0.3896731899218884,
           0.39485989641124564,
           0.36917521929137675,
           0.41614668678874933,
           0.37131395301125086,
           0.48888726583843595,
           0.5046522797973895
          ],
          [
           0.21028348032954758,
           0.34896138013178635,
           0.34896138013178635,
           0.19567483207268543,
           0.18060070474183407,
           0.28657858632957023,
           0.19278252111958571,
           0.16131063551670619,
           0.20561035837897101,
           0.19278252111958571,
           0.2350800848092835,
           0.2404649362469342,
           0.2907793286099003,
           0.19103764148560176,
           0.10520272502439187,
           0.38773495839074623,
           0.19567483207268543,
           0.19103764148560176,
           0.29442448174693325,
           0.34896138013178635,
           0.1996914023034959,
           0.15239444161182625,
           0.24703699229135068,
           0.1283851182041944,
           0.01818085820316897,
           0.0931598927470243,
           0.28271476419049146,
           0.13664215480634734,
           0.09548313870592384,
           0.008396357297897339,
           0.1432106093496499,
           0.34896138013178635,
           0,
           0.33435281632566594,
           0.04710491771116687,
           0.008396357297897339,
           0.0031657814979553223,
           0.3606311138409586,
           0.04774559715998672,
           0.34896138013178635,
           0.04561005482707503,
           0.04561005482707503,
           0.008396357297897339,
           0.08473178805609372,
           0.0931598927470243,
           0.04235835368096286,
           0.13664215480634734,
           0.04561005482707503,
           0.475552486825491,
           0.491745190654296
          ],
          [
           0.21757291382319802,
           0.2214786783811275,
           0.1838636488204105,
           0.1390829949521859,
           0.18903821117238875,
           0.062015562912030156,
           0.14166354900120592,
           0.18281588742780475,
           0.21305973388404115,
           0.14166354900120592,
           0.2416225920810168,
           0.09400310950029356,
           0.0621590029709722,
           0.14331517484006417,
           0.2300817628801255,
           0.4233842767046721,
           0.1711681433101508,
           0.14331517484006417,
           0.10799325424098563,
           0.1838636488204105,
           0.13549936347536184,
           0.18281588742780475,
           0.1213461908927789,
           0.2128334095775617,
           0.3244234711331553,
           0.4272967606512357,
           0.37582945597546086,
           0.454523838290831,
           0.4298359550315898,
           0.3289176085106762,
           0.45817725269717985,
           0.1838636488204105,
           0.33435281632566594,
           0,
           0.28729303561195296,
           0.3289176085106762,
           0.33216898656771543,
           0.5171165566925879,
           0.38209841348565265,
           0.1838636488204105,
           0.3797469227312864,
           0.3797469227312864,
           0.3289176085106762,
           0.4184214724368833,
           0.4272967606512357,
           0.37627049786390177,
           0.454523838290831,
           0.3797469227312864,
           0.478820424017103,
           0.49490621663264595
          ],
          [
           0.2103343846506256,
           0.32568916116015484,
           0.32568916116015484,
           0.14861505135897246,
           0.18065997293284758,
           0.23951880561585726,
           0.14572274040587274,
           0.161376988439039,
           0.2056624193662493,
           0.14572274040587274,
           0.23512562076641078,
           0.19340515553322124,
           0.24371954789618733,
           0.1439778607718888,
           0.08532066861963596,
           0.3770037449094021,
           0.16186758113064176,
           0.1439778607718888,
           0.24736470103322028,
           0.32568916116015484,
           0.15263162158978294,
           0.13969186357002736,
           0.1999772115776377,
           0.12650286319342546,
           0.03877578300124118,
           0.14026481045819117,
           0.2783505772515188,
           0.1837470725175142,
           0.14254291941963682,
           0.04214282673271963,
           0.19027039006336288,
           0.32568916116015484,
           0.04710491771116687,
           0.28729303561195296,
           0,
           0.04214282673271963,
           0.045137036374670925,
           0.3756502576703367,
           0.09482172042810866,
           0.32568916116015484,
           0.0927149725382419,
           0.0927149725382419,
           0.04214282673271963,
           0.13141118599776003,
           0.14026481045819117,
           0.08923854767085726,
           0.1837470725175142,
           0.0927149725382419,
           0.47557499828392885,
           0.491766960865083
          ],
          [
           0.21028257816608073,
           0.3457504359913134,
           0.3457504359913134,
           0.1898346135584903,
           0.18059965430175595,
           0.2811752592386252,
           0.18725405950947027,
           0.16130945946059785,
           0.20560943571099924,
           0.18725405950947027,
           0.23507927780773563,
           0.23491449901038264,
           0.28492953014637923,
           0.18569725725772623,
           0.09930444980538256,
           0.3859383986356917,
           0.1898346135584903,
           0.18569725725772623,
           0.2885746832834122,
           0.3457504359913134,
           0.19384160383997484,
           0.14654464314830518,
           0.2411871938278296,
           0.12643777683184068,
           0.018180078052640585,
           0.09879258793127277,
           0.28165960810004265,
           0.14186141419988252,
           0.10133293716944491,
           0,
           0.14906040781317098,
           0.3457504359913134,
           0.008396357297897339,
           0.3289176085106762,
           0.04214282673271963,
           0,
           0.005230575799942017,
           0.36238500207296187,
           0.05371922165975085,
           0.3457504359913134,
           0.05123413138275468,
           0.05123413138275468,
           0,
           0.08950386392620713,
           0.09879258793127277,
           0.04735288935322557,
           0.14186141419988252,
           0.05123413138275468,
           0.47555208790055314,
           0.49174480486558936
          ],
          [
           0.21028563186611138,
           0.3477507185091059,
           0.3477507185091059,
           0.19346921086273283,
           0.1806032098913793,
           0.2844266372956644,
           0.1905768999096331,
           0.16131344023554303,
           0.2056125588152421,
           0.1905768999096331,
           0.23508200940046944,
           0.2382593150369816,
           0.2885737073999477,
           0.18894863531476547,
           0.10294862705895103,
           0.38704604539544696,
           0.19346921086273283,
           0.18894863531476547,
           0.29221886053698065,
           0.3477507185091059,
           0.1974857810935433,
           0.15018882040187365,
           0.24483137108139807,
           0.12644161379015245,
           0.01817743708773878,
           0.0951484106777043,
           0.2823002327565232,
           0.13861003614284328,
           0.09768875991587644,
           0.005230575799942017,
           0.1454162305596025,
           0.3477507185091059,
           0.0031657814979553223,
           0.33216898656771543,
           0.045137036374670925,
           0.005230575799942017,
           0,
           0.36127999795013965,
           0.04995121836993932,
           0.3477507185091059,
           0.04758995412918621,
           0.04758995412918621,
           0.005230575799942017,
           0.08644226709931357,
           0.0951484106777043,
           0.044101511296186335,
           0.13861003614284328,
           0.04758995412918621,
           0.4755534382125013,
           0.4917461107130919
          ],
          [
           0.42236391060211154,
           0.527559251475607,
           0.527559251475607,
           0.44104207229493575,
           0.42396414900977086,
           0.48780709022449237,
           0.43978100091014516,
           0.42396414900977086,
           0.4260818545428062,
           0.43978100091014516,
           0.44281870750510266,
           0.46244488880757934,
           0.4902678437190363,
           0.4390276823433187,
           0.40152276006622933,
           0.3585876250940676,
           0.44104207229493575,
           0.4390276823433187,
           0.4924222135890034,
           0.527559251475607,
           0.44281870750510266,
           0.42396414900977086,
           0.46586497426610646,
           0.41318306123794146,
           0.36397924309822327,
           0.3477706561012075,
           0.20270176947940127,
           0.3498603990199001,
           0.34775197563487936,
           0.36238500207296187,
           0.35082499626811514,
           0.527559251475607,
           0.3606311138409586,
           0.5171165566925879,
           0.3756502576703367,
           0.36238500207296187,
           0.36127999795013965,
           0,
           0.3510784419974381,
           0.527559251475607,
           0.3514438800439449,
           0.3514438800439449,
           0.36238500207296187,
           0.3480589238940628,
           0.3477706561012075,
           0.3520878055603558,
           0.3498603990199001,
           0.3514438800439449,
           0.47555366866028276,
           0.4917463335724783
          ],
          [
           0.2102880228986883,
           0.3726100468211888,
           0.3726100468211888,
           0.24342042923267215,
           0.20014003877181297,
           0.33432418348955695,
           0.24052811827957243,
           0.20014003877181297,
           0.20561500418953121,
           0.24052811827957243,
           0.24743699946348263,
           0.28821053340692093,
           0.338524925769887,
           0.23878323864558848,
           0.15289984542889035,
           0.40387644896188263,
           0.24342042923267215,
           0.23878323864558848,
           0.34217007890691997,
           0.3726100468211888,
           0.24743699946348263,
           0.20014003877181297,
           0.2947825894513374,
           0.17491246787866022,
           0.059273343136608814,
           0.04544309003008251,
           0.2947105453450824,
           0.08892535208940555,
           0.04773754154593712,
           0.05371922165975085,
           0.09546501218966319,
           0.3726100468211888,
           0.04774559715998672,
           0.38209841348565265,
           0.09482172042810866,
           0.05371922165975085,
           0.04995121836993932,
           0.3510784419974381,
           0,
           0.3726100468211888,
           0.0033891797065734863,
           0.02528094516703505,
           0.05371922165975085,
           0.07602257341215017,
           0.04544309003008251,
           0.008981794118881226,
           0.08892535208940555,
           0.0033891797065734863,
           0.4755544955113355,
           0.49174713319628205
          ],
          [
           0.2753115050787315,
           0.23768403772899557,
           0.1736364064982192,
           0.2517910436553988,
           0.2729887662010036,
           0.20706885353388327,
           0.2533786280765023,
           0.2729887662010036,
           0.2700372300133278,
           0.2533786280765023,
           0.25655871417213083,
           0.2297646461647308,
           0.20470597228336812,
           0.25433638945435305,
           0.2963600176195904,
           0.47319639592472096,
           0.2517910436553988,
           0.25433638945435305,
           0.20270515410484968,
           0.1365572603913666,
           0.24958635528402268,
           0.2729887662010036,
           0.22615725610193244,
           0.285390520093341,
           0.3429855946621574,
           0.39485989641124564,
           0.4272683202127785,
           0.41614668678874933,
           0.3962542896628986,
           0.3457504359913134,
           0.419893006739244,
           0.03563523575956202,
           0.34896138013178635,
           0.1838636488204105,
           0.32568916116015484,
           0.3457504359913134,
           0.3477507185091059,
           0.527559251475607,
           0.3726100468211888,
           0,
           0.37131395301125086,
           0.37131395301125086,
           0.3457504359913134,
           0.3896731899218884,
           0.39485989641124564,
           0.36917521929137675,
           0.41614668678874933,
           0.37131395301125086,
           0.48652841157493154,
           0.502367455231076
          ],
          [
           0.21028563186611138,
           0.37131395301125086,
           0.37131395301125086,
           0.24105916499191904,
           0.19777877453105985,
           0.3320045734592354,
           0.23816685403881932,
           0.19777877453105985,
           0.2056125588152421,
           0.23816685403881932,
           0.24507573522272952,
           0.2858492691661678,
           0.3361636615291339,
           0.23652657147833644,
           0.15053858118813723,
           0.4028647412658997,
           0.24105916499191904,
           0.23652657147833644,
           0.33980881466616686,
           0.37131395301125086,
           0.24507573522272952,
           0.19777877453105985,
           0.2924213252105843,
           0.17232028025878432,
           0.05665671669818695,
           0.04755845654851809,
           0.2938686730591933,
           0.09103209997927231,
           0.05009880578669024,
           0.05123413138275468,
           0.0978262764304163,
           0.37131395301125086,
           0.04561005482707503,
           0.3797469227312864,
           0.0927149725382419,
           0.05123413138275468,
           0.04758995412918621,
           0.3514438800439449,
           0.0033891797065734863,
           0.37131395301125086,
           0,
           0.02525594844507494,
           0.05123413138275468,
           0.07601426452664929,
           0.04755845654851809,
           0.005592614412307739,
           0.09103209997927231,
           0.0019094616932164852,
           0.4755534382125013,
           0.4917461107130919
          ],
          [
           0.21176913647186765,
           0.37131395301125086,
           0.37131395301125086,
           0.24105916499191904,
           0.19777877453105985,
           0.3320045734592354,
           0.23816685403881932,
           0.19777877453105985,
           0.2071295356419798,
           0.23816685403881932,
           0.24507573522272952,
           0.2858492691661678,
           0.3361636615291339,
           0.23652657147833644,
           0.15053858118813723,
           0.4028647412658997,
           0.24105916499191904,
           0.23652657147833644,
           0.33980881466616686,
           0.37131395301125086,
           0.24507573522272952,
           0.19777877453105985,
           0.2924213252105843,
           0.17232028025878432,
           0.05665671669818695,
           0.04755845654851809,
           0.2938686730591933,
           0.09103209997927231,
           0.05009880578669024,
           0.05123413138275468,
           0.0978262764304163,
           0.37131395301125086,
           0.04561005482707503,
           0.3797469227312864,
           0.0927149725382419,
           0.05123413138275468,
           0.04758995412918621,
           0.3514438800439449,
           0.02528094516703505,
           0.37131395301125086,
           0.02525594844507494,
           0,
           0.05123413138275468,
           0.0800799891125227,
           0.04755845654851809,
           0.025227089315700762,
           0.09103209997927231,
           0.025227089315700762,
           0.4762112900682239,
           0.49238232867778997
          ],
          [
           0.21028257816608073,
           0.3457504359913134,
           0.3457504359913134,
           0.1898346135584903,
           0.18059965430175595,
           0.2811752592386252,
           0.18725405950947027,
           0.16130945946059785,
           0.20560943571099924,
           0.18725405950947027,
           0.23507927780773563,
           0.23491449901038264,
           0.28492953014637923,
           0.18569725725772623,
           0.09930444980538256,
           0.3859383986356917,
           0.1898346135584903,
           0.18569725725772623,
           0.2885746832834122,
           0.3457504359913134,
           0.19384160383997484,
           0.14654464314830518,
           0.2411871938278296,
           0.12643777683184068,
           0.018180078052640585,
           0.09879258793127277,
           0.28165960810004265,
           0.14186141419988252,
           0.10133293716944491,
           0,
           0.14906040781317098,
           0.3457504359913134,
           0.008396357297897339,
           0.3289176085106762,
           0.04214282673271963,
           0,
           0.005230575799942017,
           0.36238500207296187,
           0.05371922165975085,
           0.3457504359913134,
           0.05123413138275468,
           0.05123413138275468,
           0,
           0.08950386392620713,
           0.09879258793127277,
           0.04735288935322557,
           0.14186141419988252,
           0.05123413138275468,
           0.47555208790055314,
           0.49174480486558936
          ],
          [
           0.23183006722491517,
           0.3896731899218884,
           0.3896731899218884,
           0.2793384774846974,
           0.23560558500907858,
           0.3706791231648323,
           0.2767579234356774,
           0.23560558500907858,
           0.24076691965500863,
           0.2767579234356774,
           0.2829221089615215,
           0.32441836293658977,
           0.37442707512303297,
           0.27520112118393336,
           0.18833970955675783,
           0.4182149319619448,
           0.2793384774846974,
           0.27520112118393336,
           0.37767932387484393,
           0.3896731899218884,
           0.2829221089615215,
           0.23560558500907858,
           0.3302820290882633,
           0.20856533965709478,
           0.09399800130372804,
           0.07606695558226971,
           0.30738863030357183,
           0.0760067871989037,
           0.07600365167519547,
           0.08950386392620713,
           0.09015817576711477,
           0.3896731899218884,
           0.08473178805609372,
           0.4184214724368833,
           0.13141118599776003,
           0.08950386392620713,
           0.08644226709931357,
           0.3480589238940628,
           0.07602257341215017,
           0.3896731899218884,
           0.07601426452664929,
           0.0800799891125227,
           0.08950386392620713,
           0,
           0.07814124444242591,
           0.0760046808756505,
           0.07618411101107636,
           0.0760046808756505,
           0.481503172346199,
           0.49750223093487184
          ],
          [
           0.24110559274404086,
           0.39485989641124564,
           0.39485989641124564,
           0.28861762154043713,
           0.24533723107957794,
           0.37955441137918466,
           0.2857253105873374,
           0.24533723107957794,
           0.25071443202121424,
           0.2857253105873374,
           0.2926341917712476,
           0.3334077257146859,
           0.383722118077652,
           0.2840764093982857,
           0.19809703773665532,
           0.4233475039417418,
           0.28861762154043713,
           0.2840764093982857,
           0.38736727121468495,
           0.39485989641124564,
           0.2926341917712476,
           0.24533723107957794,
           0.3399797817591024,
           0.21941216705877387,
           0.10382966234041957,
           0.019497409245407594,
           0.3121797584354619,
           0.043530582361957726,
           0.01942202977418725,
           0.09879258793127277,
           0.05189443522915666,
           0.39485989641124564,
           0.0931598927470243,
           0.4272967606512357,
           0.14026481045819117,
           0.09879258793127277,
           0.0951484106777043,
           0.3477706561012075,
           0.04544309003008251,
           0.39485989641124564,
           0.04755845654851809,
           0.04755845654851809,
           0.09879258793127277,
           0.07814124444242591,
           0,
           0.05145486853236447,
           0.043530582361957726,
           0.04755845654851809,
           0.47592175134615206,
           0.49210230461775906
          ],
          [
           0.21028287428743372,
           0.36917521929137675,
           0.36917521929137675,
           0.23718750291171586,
           0.19388236254721347,
           0.32852814859185075,
           0.23460694886269584,
           0.19388236254721347,
           0.20560973856266226,
           0.23460694886269584,
           0.24117932323888314,
           0.2822673883636082,
           0.3322761005500514,
           0.2330501466109518,
           0.14664216920429085,
           0.40122632572507916,
           0.23718750291171586,
           0.2330501466109518,
           0.3359124026823205,
           0.36917521929137675,
           0.24117932323888314,
           0.19388236254721347,
           0.2885249132267379,
           0.1680428128190361,
           0.05237924925843873,
           0.05145486853236447,
           0.2925243994022778,
           0.09450852484665695,
           0.0541581407430437,
           0.04735288935322557,
           0.10172268841426269,
           0.36917521929137675,
           0.04235835368096286,
           0.37627049786390177,
           0.08923854767085726,
           0.04735288935322557,
           0.044101511296186335,
           0.3520878055603558,
           0.008981794118881226,
           0.36917521929137675,
           0.005592614412307739,
           0.025227089315700762,
           0.04735288935322557,
           0.0760046808756505,
           0.05145486853236447,
           0,
           0.09450852484665695,
           0.005592614412307739,
           0.4755519569596624,
           0.49174493149467985
          ],
          [
           0.28418761749859056,
           0.41614668678874933,
           0.41614668678874933,
           0.3316960277583728,
           0.28833671244709425,
           0.4230366734385077,
           0.3291154737093528,
           0.28833671244709425,
           0.29371391338873054,
           0.3291154737093528,
           0.3356336731387639,
           0.37677591321026516,
           0.42678462539670836,
           0.32755867145760875,
           0.24109651910417162,
           0.4450853262078659,
           0.3316960277583728,
           0.32755867145760875,
           0.43036675258220125,
           0.41614668678874933,
           0.3356336731387639,
           0.28833671244709425,
           0.3829792631266187,
           0.2615123333908167,
           0.14682914370793587,
           0.043530582361957726,
           0.33339559539495583,
           0.0075869253508546374,
           0.04156051872875277,
           0.14186141419988252,
           0.04877914812984212,
           0.41614668678874933,
           0.13664215480634734,
           0.454523838290831,
           0.1837470725175142,
           0.14186141419988252,
           0.13861003614284328,
           0.3498603990199001,
           0.08892535208940555,
           0.41614668678874933,
           0.09103209997927231,
           0.09103209997927231,
           0.14186141419988252,
           0.07618411101107636,
           0.043530582361957726,
           0.09450852484665695,
           0,
           0.09103209997927231,
           0.47557507353301615,
           0.49176703363651253
          ],
          [
           0.21028287428743372,
           0.37131395301125086,
           0.37131395301125086,
           0.24105916499191904,
           0.19777877453105985,
           0.3320045734592354,
           0.23816685403881932,
           0.19777877453105985,
           0.20560973856266226,
           0.23816685403881932,
           0.24507573522272952,
           0.2858492691661678,
           0.3361636615291339,
           0.23652657147833644,
           0.15053858118813723,
           0.4028647412658997,
           0.24105916499191904,
           0.23652657147833644,
           0.33980881466616686,
           0.37131395301125086,
           0.24507573522272952,
           0.19777877453105985,
           0.2924213252105843,
           0.17232028025878432,
           0.05665671669818695,
           0.04755845654851809,
           0.2938686730591933,
           0.09103209997927231,
           0.05009880578669024,
           0.05123413138275468,
           0.0978262764304163,
           0.37131395301125086,
           0.04561005482707503,
           0.3797469227312864,
           0.0927149725382419,
           0.05123413138275468,
           0.04758995412918621,
           0.3514438800439449,
           0.0033891797065734863,
           0.37131395301125086,
           0.0019094616932164852,
           0.025227089315700762,
           0.05123413138275468,
           0.0760046808756505,
           0.04755845654851809,
           0.005592614412307739,
           0.09103209997927231,
           0,
           0.4755519569596624,
           0.49174493149467985
          ],
          [
           0.4565830861103091,
           0.37131395301125086,
           0.45651057072457846,
           0.47555208790055314,
           0.5053136160585816,
           0.47609458820117456,
           0.4755569688384006,
           0.502165839158784,
           0.503595778597214,
           0.4827282251940001,
           0.4141379721335332,
           0.47622404431704424,
           0.47612834590736625,
           0.4760921859561498,
           0.4830636809217969,
           0.49531632005474374,
           0.49952681143272487,
           0.47610103169813794,
           0.48441361838190694,
           0.4838280063227644,
           0.4845587671791234,
           0.495948483585561,
           0.48736987558240497,
           0.4918763273769113,
           0.4758262201793795,
           0.47556014502335225,
           0.475552486825491,
           0.475552486825491,
           0.47555208790055314,
           0.47555208790055314,
           0.4780074221353842,
           0.48888726583843595,
           0.475552486825491,
           0.478820424017103,
           0.47557499828392885,
           0.47555208790055314,
           0.4755534382125013,
           0.47555366866028276,
           0.4755544955113355,
           0.48652841157493154,
           0.4755534382125013,
           0.4762112900682239,
           0.47555208790055314,
           0.481503172346199,
           0.47592175134615206,
           0.4755519569596624,
           0.47557507353301615,
           0.4755519569596624,
           0,
           0.05210279780873511
          ],
          [
           0.45658287963822963,
           0.3726100468211888,
           0.4565103642197014,
           0.49174480486558936,
           0.5086727789087061,
           0.4922694604788795,
           0.4917495250800845,
           0.517526516058614,
           0.5035955914001415,
           0.4986879828155782,
           0.41413770706776654,
           0.49239466405659116,
           0.4923021090572391,
           0.4922671371666265,
           0.49901270988967483,
           0.5039667811746025,
           0.5067624637053839,
           0.49227569225968537,
           0.5003196163249777,
           0.4997526433226563,
           0.5004601519160872,
           0.5114959072920707,
           0.5031824325539695,
           0.5075485062922751,
           0.49200991516016873,
           0.4917525966788106,
           0.491745190654296,
           0.491745190654296,
           0.49174480486558936,
           0.49174480486558936,
           0.4941196822858168,
           0.5046522797973895,
           0.491745190654296,
           0.49490621663264595,
           0.491766960865083,
           0.49174480486558936,
           0.4917461107130919,
           0.4917463335724783,
           0.49174713319628205,
           0.502367455231076,
           0.4917461107130919,
           0.49238232867778997,
           0.49174480486558936,
           0.49750223093487184,
           0.49210230461775906,
           0.49174493149467985,
           0.49176703363651253,
           0.49174493149467985,
           0.05210279780873511,
           0
          ]
         ]
        }
       ],
       "layout": {
        "annotations": [
         {
          "font": {},
          "showarrow": false,
          "text": "facet_col=0",
          "x": 0.15999999999999998,
          "xanchor": "center",
          "xref": "paper",
          "y": 1,
          "yanchor": "bottom",
          "yref": "paper"
         },
         {
          "font": {},
          "showarrow": false,
          "text": "facet_col=1",
          "x": 0.49999999999999994,
          "xanchor": "center",
          "xref": "paper",
          "y": 1,
          "yanchor": "bottom",
          "yref": "paper"
         },
         {
          "font": {},
          "showarrow": false,
          "text": "facet_col=2",
          "x": 0.8399999999999999,
          "xanchor": "center",
          "xref": "paper",
          "y": 1,
          "yanchor": "bottom",
          "yref": "paper"
         }
        ],
        "coloraxis": {
         "colorscale": [
          [
           0,
           "rgb(165,0,38)"
          ],
          [
           0.1111111111111111,
           "rgb(215,48,39)"
          ],
          [
           0.2222222222222222,
           "rgb(244,109,67)"
          ],
          [
           0.3333333333333333,
           "rgb(253,174,97)"
          ],
          [
           0.4444444444444444,
           "rgb(254,224,144)"
          ],
          [
           0.5555555555555556,
           "rgb(224,243,248)"
          ],
          [
           0.6666666666666666,
           "rgb(171,217,233)"
          ],
          [
           0.7777777777777778,
           "rgb(116,173,209)"
          ],
          [
           0.8888888888888888,
           "rgb(69,117,180)"
          ],
          [
           1,
           "rgb(49,54,149)"
          ]
         ]
        },
        "height": 400,
        "margin": {
         "t": 60
        },
        "template": {
         "data": {
          "bar": [
           {
            "error_x": {
             "color": "#2a3f5f"
            },
            "error_y": {
             "color": "#2a3f5f"
            },
            "marker": {
             "line": {
              "color": "#E5ECF6",
              "width": 0.5
             },
             "pattern": {
              "fillmode": "overlay",
              "size": 10,
              "solidity": 0.2
             }
            },
            "type": "bar"
           }
          ],
          "barpolar": [
           {
            "marker": {
             "line": {
              "color": "#E5ECF6",
              "width": 0.5
             },
             "pattern": {
              "fillmode": "overlay",
              "size": 10,
              "solidity": 0.2
             }
            },
            "type": "barpolar"
           }
          ],
          "carpet": [
           {
            "aaxis": {
             "endlinecolor": "#2a3f5f",
             "gridcolor": "white",
             "linecolor": "white",
             "minorgridcolor": "white",
             "startlinecolor": "#2a3f5f"
            },
            "baxis": {
             "endlinecolor": "#2a3f5f",
             "gridcolor": "white",
             "linecolor": "white",
             "minorgridcolor": "white",
             "startlinecolor": "#2a3f5f"
            },
            "type": "carpet"
           }
          ],
          "choropleth": [
           {
            "colorbar": {
             "outlinewidth": 0,
             "ticks": ""
            },
            "type": "choropleth"
           }
          ],
          "contour": [
           {
            "colorbar": {
             "outlinewidth": 0,
             "ticks": ""
            },
            "colorscale": [
             [
              0,
              "#0d0887"
             ],
             [
              0.1111111111111111,
              "#46039f"
             ],
             [
              0.2222222222222222,
              "#7201a8"
             ],
             [
              0.3333333333333333,
              "#9c179e"
             ],
             [
              0.4444444444444444,
              "#bd3786"
             ],
             [
              0.5555555555555556,
              "#d8576b"
             ],
             [
              0.6666666666666666,
              "#ed7953"
             ],
             [
              0.7777777777777778,
              "#fb9f3a"
             ],
             [
              0.8888888888888888,
              "#fdca26"
             ],
             [
              1,
              "#f0f921"
             ]
            ],
            "type": "contour"
           }
          ],
          "contourcarpet": [
           {
            "colorbar": {
             "outlinewidth": 0,
             "ticks": ""
            },
            "type": "contourcarpet"
           }
          ],
          "heatmap": [
           {
            "colorbar": {
             "outlinewidth": 0,
             "ticks": ""
            },
            "colorscale": [
             [
              0,
              "#0d0887"
             ],
             [
              0.1111111111111111,
              "#46039f"
             ],
             [
              0.2222222222222222,
              "#7201a8"
             ],
             [
              0.3333333333333333,
              "#9c179e"
             ],
             [
              0.4444444444444444,
              "#bd3786"
             ],
             [
              0.5555555555555556,
              "#d8576b"
             ],
             [
              0.6666666666666666,
              "#ed7953"
             ],
             [
              0.7777777777777778,
              "#fb9f3a"
             ],
             [
              0.8888888888888888,
              "#fdca26"
             ],
             [
              1,
              "#f0f921"
             ]
            ],
            "type": "heatmap"
           }
          ],
          "heatmapgl": [
           {
            "colorbar": {
             "outlinewidth": 0,
             "ticks": ""
            },
            "colorscale": [
             [
              0,
              "#0d0887"
             ],
             [
              0.1111111111111111,
              "#46039f"
             ],
             [
              0.2222222222222222,
              "#7201a8"
             ],
             [
              0.3333333333333333,
              "#9c179e"
             ],
             [
              0.4444444444444444,
              "#bd3786"
             ],
             [
              0.5555555555555556,
              "#d8576b"
             ],
             [
              0.6666666666666666,
              "#ed7953"
             ],
             [
              0.7777777777777778,
              "#fb9f3a"
             ],
             [
              0.8888888888888888,
              "#fdca26"
             ],
             [
              1,
              "#f0f921"
             ]
            ],
            "type": "heatmapgl"
           }
          ],
          "histogram": [
           {
            "marker": {
             "pattern": {
              "fillmode": "overlay",
              "size": 10,
              "solidity": 0.2
             }
            },
            "type": "histogram"
           }
          ],
          "histogram2d": [
           {
            "colorbar": {
             "outlinewidth": 0,
             "ticks": ""
            },
            "colorscale": [
             [
              0,
              "#0d0887"
             ],
             [
              0.1111111111111111,
              "#46039f"
             ],
             [
              0.2222222222222222,
              "#7201a8"
             ],
             [
              0.3333333333333333,
              "#9c179e"
             ],
             [
              0.4444444444444444,
              "#bd3786"
             ],
             [
              0.5555555555555556,
              "#d8576b"
             ],
             [
              0.6666666666666666,
              "#ed7953"
             ],
             [
              0.7777777777777778,
              "#fb9f3a"
             ],
             [
              0.8888888888888888,
              "#fdca26"
             ],
             [
              1,
              "#f0f921"
             ]
            ],
            "type": "histogram2d"
           }
          ],
          "histogram2dcontour": [
           {
            "colorbar": {
             "outlinewidth": 0,
             "ticks": ""
            },
            "colorscale": [
             [
              0,
              "#0d0887"
             ],
             [
              0.1111111111111111,
              "#46039f"
             ],
             [
              0.2222222222222222,
              "#7201a8"
             ],
             [
              0.3333333333333333,
              "#9c179e"
             ],
             [
              0.4444444444444444,
              "#bd3786"
             ],
             [
              0.5555555555555556,
              "#d8576b"
             ],
             [
              0.6666666666666666,
              "#ed7953"
             ],
             [
              0.7777777777777778,
              "#fb9f3a"
             ],
             [
              0.8888888888888888,
              "#fdca26"
             ],
             [
              1,
              "#f0f921"
             ]
            ],
            "type": "histogram2dcontour"
           }
          ],
          "mesh3d": [
           {
            "colorbar": {
             "outlinewidth": 0,
             "ticks": ""
            },
            "type": "mesh3d"
           }
          ],
          "parcoords": [
           {
            "line": {
             "colorbar": {
              "outlinewidth": 0,
              "ticks": ""
             }
            },
            "type": "parcoords"
           }
          ],
          "pie": [
           {
            "automargin": true,
            "type": "pie"
           }
          ],
          "scatter": [
           {
            "marker": {
             "colorbar": {
              "outlinewidth": 0,
              "ticks": ""
             }
            },
            "type": "scatter"
           }
          ],
          "scatter3d": [
           {
            "line": {
             "colorbar": {
              "outlinewidth": 0,
              "ticks": ""
             }
            },
            "marker": {
             "colorbar": {
              "outlinewidth": 0,
              "ticks": ""
             }
            },
            "type": "scatter3d"
           }
          ],
          "scattercarpet": [
           {
            "marker": {
             "colorbar": {
              "outlinewidth": 0,
              "ticks": ""
             }
            },
            "type": "scattercarpet"
           }
          ],
          "scattergeo": [
           {
            "marker": {
             "colorbar": {
              "outlinewidth": 0,
              "ticks": ""
             }
            },
            "type": "scattergeo"
           }
          ],
          "scattergl": [
           {
            "marker": {
             "colorbar": {
              "outlinewidth": 0,
              "ticks": ""
             }
            },
            "type": "scattergl"
           }
          ],
          "scattermapbox": [
           {
            "marker": {
             "colorbar": {
              "outlinewidth": 0,
              "ticks": ""
             }
            },
            "type": "scattermapbox"
           }
          ],
          "scatterpolar": [
           {
            "marker": {
             "colorbar": {
              "outlinewidth": 0,
              "ticks": ""
             }
            },
            "type": "scatterpolar"
           }
          ],
          "scatterpolargl": [
           {
            "marker": {
             "colorbar": {
              "outlinewidth": 0,
              "ticks": ""
             }
            },
            "type": "scatterpolargl"
           }
          ],
          "scatterternary": [
           {
            "marker": {
             "colorbar": {
              "outlinewidth": 0,
              "ticks": ""
             }
            },
            "type": "scatterternary"
           }
          ],
          "surface": [
           {
            "colorbar": {
             "outlinewidth": 0,
             "ticks": ""
            },
            "colorscale": [
             [
              0,
              "#0d0887"
             ],
             [
              0.1111111111111111,
              "#46039f"
             ],
             [
              0.2222222222222222,
              "#7201a8"
             ],
             [
              0.3333333333333333,
              "#9c179e"
             ],
             [
              0.4444444444444444,
              "#bd3786"
             ],
             [
              0.5555555555555556,
              "#d8576b"
             ],
             [
              0.6666666666666666,
              "#ed7953"
             ],
             [
              0.7777777777777778,
              "#fb9f3a"
             ],
             [
              0.8888888888888888,
              "#fdca26"
             ],
             [
              1,
              "#f0f921"
             ]
            ],
            "type": "surface"
           }
          ],
          "table": [
           {
            "cells": {
             "fill": {
              "color": "#EBF0F8"
             },
             "line": {
              "color": "white"
             }
            },
            "header": {
             "fill": {
              "color": "#C8D4E3"
             },
             "line": {
              "color": "white"
             }
            },
            "type": "table"
           }
          ]
         },
         "layout": {
          "annotationdefaults": {
           "arrowcolor": "#2a3f5f",
           "arrowhead": 0,
           "arrowwidth": 1
          },
          "autotypenumbers": "strict",
          "coloraxis": {
           "colorbar": {
            "outlinewidth": 0,
            "ticks": ""
           }
          },
          "colorscale": {
           "diverging": [
            [
             0,
             "#8e0152"
            ],
            [
             0.1,
             "#c51b7d"
            ],
            [
             0.2,
             "#de77ae"
            ],
            [
             0.3,
             "#f1b6da"
            ],
            [
             0.4,
             "#fde0ef"
            ],
            [
             0.5,
             "#f7f7f7"
            ],
            [
             0.6,
             "#e6f5d0"
            ],
            [
             0.7,
             "#b8e186"
            ],
            [
             0.8,
             "#7fbc41"
            ],
            [
             0.9,
             "#4d9221"
            ],
            [
             1,
             "#276419"
            ]
           ],
           "sequential": [
            [
             0,
             "#0d0887"
            ],
            [
             0.1111111111111111,
             "#46039f"
            ],
            [
             0.2222222222222222,
             "#7201a8"
            ],
            [
             0.3333333333333333,
             "#9c179e"
            ],
            [
             0.4444444444444444,
             "#bd3786"
            ],
            [
             0.5555555555555556,
             "#d8576b"
            ],
            [
             0.6666666666666666,
             "#ed7953"
            ],
            [
             0.7777777777777778,
             "#fb9f3a"
            ],
            [
             0.8888888888888888,
             "#fdca26"
            ],
            [
             1,
             "#f0f921"
            ]
           ],
           "sequentialminus": [
            [
             0,
             "#0d0887"
            ],
            [
             0.1111111111111111,
             "#46039f"
            ],
            [
             0.2222222222222222,
             "#7201a8"
            ],
            [
             0.3333333333333333,
             "#9c179e"
            ],
            [
             0.4444444444444444,
             "#bd3786"
            ],
            [
             0.5555555555555556,
             "#d8576b"
            ],
            [
             0.6666666666666666,
             "#ed7953"
            ],
            [
             0.7777777777777778,
             "#fb9f3a"
            ],
            [
             0.8888888888888888,
             "#fdca26"
            ],
            [
             1,
             "#f0f921"
            ]
           ]
          },
          "colorway": [
           "#636efa",
           "#EF553B",
           "#00cc96",
           "#ab63fa",
           "#FFA15A",
           "#19d3f3",
           "#FF6692",
           "#B6E880",
           "#FF97FF",
           "#FECB52"
          ],
          "font": {
           "color": "#2a3f5f"
          },
          "geo": {
           "bgcolor": "white",
           "lakecolor": "white",
           "landcolor": "#E5ECF6",
           "showlakes": true,
           "showland": true,
           "subunitcolor": "white"
          },
          "hoverlabel": {
           "align": "left"
          },
          "hovermode": "closest",
          "mapbox": {
           "style": "light"
          },
          "paper_bgcolor": "white",
          "plot_bgcolor": "#E5ECF6",
          "polar": {
           "angularaxis": {
            "gridcolor": "white",
            "linecolor": "white",
            "ticks": ""
           },
           "bgcolor": "#E5ECF6",
           "radialaxis": {
            "gridcolor": "white",
            "linecolor": "white",
            "ticks": ""
           }
          },
          "scene": {
           "xaxis": {
            "backgroundcolor": "#E5ECF6",
            "gridcolor": "white",
            "gridwidth": 2,
            "linecolor": "white",
            "showbackground": true,
            "ticks": "",
            "zerolinecolor": "white"
           },
           "yaxis": {
            "backgroundcolor": "#E5ECF6",
            "gridcolor": "white",
            "gridwidth": 2,
            "linecolor": "white",
            "showbackground": true,
            "ticks": "",
            "zerolinecolor": "white"
           },
           "zaxis": {
            "backgroundcolor": "#E5ECF6",
            "gridcolor": "white",
            "gridwidth": 2,
            "linecolor": "white",
            "showbackground": true,
            "ticks": "",
            "zerolinecolor": "white"
           }
          },
          "shapedefaults": {
           "line": {
            "color": "#2a3f5f"
           }
          },
          "ternary": {
           "aaxis": {
            "gridcolor": "white",
            "linecolor": "white",
            "ticks": ""
           },
           "baxis": {
            "gridcolor": "white",
            "linecolor": "white",
            "ticks": ""
           },
           "bgcolor": "#E5ECF6",
           "caxis": {
            "gridcolor": "white",
            "linecolor": "white",
            "ticks": ""
           }
          },
          "title": {
           "x": 0.05
          },
          "xaxis": {
           "automargin": true,
           "gridcolor": "white",
           "linecolor": "white",
           "ticks": "",
           "title": {
            "standoff": 15
           },
           "zerolinecolor": "white",
           "zerolinewidth": 2
          },
          "yaxis": {
           "automargin": true,
           "gridcolor": "white",
           "linecolor": "white",
           "ticks": "",
           "title": {
            "standoff": 15
           },
           "zerolinecolor": "white",
           "zerolinewidth": 2
          }
         }
        },
        "title": {
         "text": "Heat maps of distance matrices"
        },
        "width": 800,
        "xaxis": {
         "anchor": "y",
         "constrain": "domain",
         "domain": [
          0,
          0.31999999999999995
         ],
         "scaleanchor": "y"
        },
        "xaxis2": {
         "anchor": "y2",
         "domain": [
          0.33999999999999997,
          0.6599999999999999
         ],
         "matches": "x"
        },
        "xaxis3": {
         "anchor": "y3",
         "domain": [
          0.6799999999999999,
          0.9999999999999999
         ],
         "matches": "x"
        },
        "yaxis": {
         "anchor": "x",
         "autorange": "reversed",
         "constrain": "domain",
         "domain": [
          0,
          1
         ]
        },
        "yaxis2": {
         "anchor": "x2",
         "domain": [
          0,
          1
         ],
         "matches": "y",
         "showticklabels": false
        },
        "yaxis3": {
         "anchor": "x3",
         "domain": [
          0,
          1
         ],
         "matches": "y",
         "showticklabels": false
        }
       }
      }
     },
     "metadata": {},
     "output_type": "display_data"
    }
   ],
   "source": [
    "heatmaps((D1,D2,D_sheaf))"
   ]
  },
  {
   "cell_type": "code",
   "execution_count": null,
   "metadata": {},
   "outputs": [],
   "source": []
  }
 ],
 "metadata": {
  "kernelspec": {
   "display_name": "Python 3",
   "language": "python",
   "name": "python3"
  },
  "language_info": {
   "codemirror_mode": {
    "name": "ipython",
    "version": 3
   },
   "file_extension": ".py",
   "mimetype": "text/x-python",
   "name": "python",
   "nbconvert_exporter": "python",
   "pygments_lexer": "ipython3",
   "version": "3.8.3"
  },
  "toc": {
   "base_numbering": 1,
   "nav_menu": {},
   "number_sections": true,
   "sideBar": true,
   "skip_h1_title": false,
   "title_cell": "Table of Contents",
   "title_sidebar": "Contents",
   "toc_cell": false,
   "toc_position": {},
   "toc_section_display": true,
   "toc_window_display": false
  }
 },
 "nbformat": 4,
 "nbformat_minor": 2
}
